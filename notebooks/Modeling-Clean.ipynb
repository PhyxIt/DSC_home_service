{
 "cells": [
  {
   "cell_type": "code",
   "execution_count": 102,
   "metadata": {},
   "outputs": [],
   "source": [
    "%matplotlib inline"
   ]
  },
  {
   "cell_type": "code",
   "execution_count": 1,
   "metadata": {},
   "outputs": [],
   "source": [
    "import datetime\n",
    "import pandas as pd\n",
    "import numpy as np\n",
    "import datetime"
   ]
  },
  {
   "cell_type": "code",
   "execution_count": 2,
   "metadata": {},
   "outputs": [],
   "source": [
    "import catboost\n",
    "from catboost import CatBoostClassifier, Pool, cv\n",
    "import hyperopt"
   ]
  },
  {
   "cell_type": "code",
   "execution_count": 3,
   "metadata": {},
   "outputs": [],
   "source": [
    "import tqdm"
   ]
  },
  {
   "cell_type": "code",
   "execution_count": 4,
   "metadata": {},
   "outputs": [],
   "source": [
    "import sklearn.model_selection\n",
    "from sklearn import model_selection , metrics   #Additional scklearn functions"
   ]
  },
  {
   "cell_type": "code",
   "execution_count": 66,
   "metadata": {},
   "outputs": [],
   "source": [
    "import os\n",
    "import sys\n",
    "\n",
    "module_path = os.path.abspath(os.path.join('..'))\n",
    "\n",
    "if module_path not in sys.path:\n",
    "    sys.path.append(module_path)"
   ]
  },
  {
   "cell_type": "code",
   "execution_count": 67,
   "metadata": {},
   "outputs": [],
   "source": [
    "from importlib import reload\n",
    "import src.home_service\n",
    "reload(src.home_service)\n",
    "from src.home_service import *"
   ]
  },
  {
   "cell_type": "markdown",
   "metadata": {},
   "source": [
    "## import and parameters"
   ]
  },
  {
   "cell_type": "code",
   "execution_count": 17,
   "metadata": {},
   "outputs": [],
   "source": [
    "# methode 4 is the best impute strategy (+1.5 AUC better than methode 3)\n",
    "imput_strategy = 4"
   ]
  },
  {
   "cell_type": "code",
   "execution_count": 15,
   "metadata": {},
   "outputs": [],
   "source": [
    "train = pd.read_pickle('../data/merged_data/train.pkl')\n",
    "test = pd.read_pickle('../data/merged_data/test.pkl')"
   ]
  },
  {
   "cell_type": "code",
   "execution_count": 16,
   "metadata": {},
   "outputs": [],
   "source": [
    "#train = train.sample(frac=0.1)"
   ]
  },
  {
   "cell_type": "code",
   "execution_count": 17,
   "metadata": {},
   "outputs": [],
   "source": [
    "# preprocess\n",
    "y = train['target'].astype(bool)\n",
    "train['target'] = train['target'].astype(bool)"
   ]
  },
  {
   "cell_type": "code",
   "execution_count": 18,
   "metadata": {},
   "outputs": [],
   "source": [
    "#y.to_pickle('target.pickle')"
   ]
  },
  {
   "cell_type": "markdown",
   "metadata": {},
   "source": [
    "## Features : \n",
    "* NLP on COMMENTAIRE_BI\n",
    "* Extract options from OPTION (pas sur que ce soit util, peut être juste check la qualité)\n",
    "* features from history\n",
    "\n",
    "* add combinations of categorical features (see paribas example on catboost site)"
   ]
  },
  {
   "cell_type": "code",
   "execution_count": 21,
   "metadata": {},
   "outputs": [],
   "source": [
    "drop = ['INSTANCE_ID', #460k modalities, not usable as a feature\n",
    "        'INCIDENT_NUMBER']\n",
    "drop_atm = [#'AUTEUR_INCIDENT', # 2088 modalities\n",
    "            'TYPE_VOIE',\n",
    "#            'NATURE_CODE', # 313 modalities, need to be splitted in 5 modalities\n",
    "#            'MARQUE_LIB', # 167 modalities\n",
    "#            'OPTION', # 80 modalities, extract options\n",
    "            #'MODELE_CODE', # 10k modalities\n",
    "#            'COMMENTAIRE_BI', # NLP 400k modalities\n",
    "             #'RESOURCE_ID', # 4033 modalities\n",
    "            'CODE_POSTAL', # 5800 modalities (only get first 2 numbers ?)\n",
    "            'L2_ORGA_CODE_POSTAL', # 147 modalities (might be redondent with L2_ORGANISATION_ID)\n",
    "#            'L2_ORGANISATION_ID' #151 modalities\n",
    "            'L2_ORGA_VILLE', # 146, might be redondent with other organisation variables\n",
    "#            'RACHAT_CODE' # 312 modalities (try binarising ?)         \n",
    "#            'CODE_INSTALLATION' # 17 modalities\n",
    "           ]"
   ]
  },
  {
   "cell_type": "code",
   "execution_count": 22,
   "metadata": {},
   "outputs": [],
   "source": [
    "#train.drop(drop + drop_atm + ['target'], axis=1, inplace=True)\n",
    "train.drop(drop + drop_atm , axis=1, inplace=True)\n",
    "test.drop(drop + drop_atm, axis=1, inplace=True)"
   ]
  },
  {
   "cell_type": "code",
   "execution_count": 23,
   "metadata": {},
   "outputs": [],
   "source": [
    "categoricals = list(train.columns[train.dtypes == 'category'])"
   ]
  },
  {
   "cell_type": "code",
   "execution_count": 24,
   "metadata": {},
   "outputs": [],
   "source": [
    "for cat in categoricals:\n",
    "    train[cat] = train[cat].cat.remove_unused_categories()"
   ]
  },
  {
   "cell_type": "markdown",
   "metadata": {
    "collapsed": true
   },
   "source": [
    "### imputation of missing data\n",
    "\n",
    "TODO: try imputing test based on test values, not train <br>\n",
    "TODO: try diffrent strategy on imputing datas from contract since missing are present only in test set<BR>\n",
    "TODO: try creating data with missing contract in train sample and do not fill the missing in test<br>\n",
    "TODO: try imputing specific na value for categorical variables"
   ]
  },
  {
   "cell_type": "code",
   "execution_count": 25,
   "metadata": {},
   "outputs": [],
   "source": [
    "categoricals = list(train.columns[train.dtypes == 'category'])\n",
    "quantitative = ['NB_PASSAGE', 'POINTS_FIDEL', 'CONTRAT_TARIF', 'PRIX_FACTURE']\n",
    "dates = list(train.columns[train.dtypes == 'datetime64[ns]'])"
   ]
  },
  {
   "cell_type": "code",
   "execution_count": 26,
   "metadata": {},
   "outputs": [],
   "source": [
    "contract_variables = [ 'UPD_DATE', 'DATE_DEBUT', 'DATE_FIN', 'STS_CODE', 'OPTION', 'FORMULE', 'CONTRAT_TARIF', 'PRIX_FACTURE']"
   ]
  },
  {
   "cell_type": "code",
   "execution_count": 27,
   "metadata": {},
   "outputs": [],
   "source": [
    "#impute without contract\n",
    "categ_to_impute = list(set(categoricals) - set(contract_variables))\n",
    "quanti_to_impute = list(set(quantitative) - set(contract_variables))\n",
    "date_to_impute = list(set(dates) - set(contract_variables))\n",
    "\n",
    "#impute contract\n",
    "categ_contract = list(set(categoricals).intersection(set(contract_variables)))\n",
    "quanti_contract = list(set(quantitative).intersection(set(contract_variables)))\n",
    "date_contract = list(set(dates).intersection(set(contract_variables)))\n",
    "\n",
    "#train and test are filled with values taken from train\n",
    "#contract and other variables are imputed together\n",
    "if imput_strategy == 1:\n",
    "    train, test = impute_selected_variables(train, test, categoricals, quantitative, dates)\n",
    "\n",
    "#train and test are filled with values taken on their own values\n",
    "#contract and other variables are imputed together\n",
    "if imput_strategy == 2:\n",
    "    train, _ = impute_selected_variables(train, None, categoricals, quantitative, dates)\n",
    "    test, _ = impute_selected_variables(test, None, categoricals, quantitative, dates)\n",
    "\n",
    "#train and test are filled with values taken from train\n",
    "#contract and other variables are imputed separatly (need to import some NAN in train set)\n",
    "if imput_strategy == 3:\n",
    "    train, test = impute_selected_variables(train, test, categ_to_impute, quanti_to_impute, date_to_impute)\n",
    "    train = impute_contract_variables(train, categ_contract, quanti_contract, date_contract)\n",
    "    test = impute_contract_variables(test, categ_contract, quanti_contract, date_contract)\n",
    "\n",
    "# train and test are filled on their own values\n",
    "# contract and other variables are imputed separatly (need to import some NAN in train set)\n",
    "if imput_strategy == 4:\n",
    "    train, _ = impute_selected_variables(train, None, categ_to_impute, quanti_to_impute, date_to_impute)\n",
    "    test, _ = impute_selected_variables(test, None, categ_to_impute, quanti_to_impute, date_to_impute)\n",
    "    train = impute_contract_variables(train, categ_contract, quanti_contract, date_contract)\n",
    "    test = impute_contract_variables(test, categ_contract, quanti_contract, date_contract)"
   ]
  },
  {
   "cell_type": "markdown",
   "metadata": {
    "collapsed": true
   },
   "source": [
    "### Feature ingineering"
   ]
  },
  {
   "cell_type": "code",
   "execution_count": 28,
   "metadata": {},
   "outputs": [],
   "source": [
    "# feature engineering\n",
    "\n",
    "# (history) temps depuis dernière visite (pas forcément dispo sur le test)\n",
    "# (history) déjà eu une casse sur ce matériel\n",
    "# (history) temps depuis dernière casse\n",
    "# (history) la dernière visite date de moins de 6 mois\n",
    "# (history) nb interventions faires par la ressource\n",
    "# (history) temps depuis la première intervention de la ressource\n",
    "# (contract history) nb de fois que le contrat a été mis à jour sur les X dernières années"
   ]
  },
  {
   "cell_type": "code",
   "execution_count": 29,
   "metadata": {},
   "outputs": [
    {
     "data": {
      "text/plain": [
       "RareModalitiesGrouper(columns=['INCIDENT_TYPE_ID', 'TYPE_BI', 'MILLESIME', 'PROBLEM_CODE', 'AUTEUR_INCIDENT', 'ORIGINE_INCIDENT', 'GRAVITE', 'RESOURCE_ID', 'TYPE_OCC', 'RACHAT_CODE', 'NATURE_CODE', 'MARQUE_LIB', 'MODELE_CODE', 'USAGE_LOCAL', 'PAYS', 'STOP_PHONING', 'CODE_GEN_EQUIPEMENT', 'CODE_FONCTION', 'CODE_ENERGIE', 'CODE_INSTALLATION', 'CODE_SPECIFICATION', 'CODE_EAU_CHAUDE', 'L1_ORGANISATION_ID', 'L2_ORGANISATION_ID', 'STS_CODE', 'FORMULE', 'OPTION', 'COMMENTAIRE_BI'],\n",
       "           min_occurences=200)"
      ]
     },
     "execution_count": 29,
     "metadata": {},
     "output_type": "execute_result"
    }
   ],
   "source": [
    "#try more variables and differents thresholds\n",
    "rmg = RareModalitiesGrouper(categoricals + ['COMMENTAIRE_BI'], 200) #uncomment this line to group on more variables\"\n",
    "#rmg = RareModalitiesGrouper(['COMMENTAIRE_BI'], 200)\n",
    "rmg.fit(train)"
   ]
  },
  {
   "cell_type": "code",
   "execution_count": 30,
   "metadata": {},
   "outputs": [],
   "source": [
    "train = commentaire_bi(train)\n",
    "train = rmg.transform(train)\n",
    "train = nature_code_split(train)\n",
    "train = add_dates_features(train)\n",
    "train = add_features_from_file(train, 'features_canceled_train.csv')"
   ]
  },
  {
   "cell_type": "code",
   "execution_count": 31,
   "metadata": {},
   "outputs": [],
   "source": [
    "test = commentaire_bi(test)\n",
    "test = rmg.transform(test)\n",
    "test = nature_code_split(test)\n",
    "test = add_dates_features(test)\n",
    "test = add_features_from_file(test, 'features_canceled_test.csv')"
   ]
  },
  {
   "cell_type": "code",
   "execution_count": 32,
   "metadata": {},
   "outputs": [],
   "source": [
    "#drop variables\n",
    "#drop = ['joursemaine_appel', 'USAGE_LOCAL', 'nc_4', 'is_empty_commentaire', 'duree_prevue', 'nc_1']\n",
    "\n",
    "#train.drop(drop, axis=1,inplace=True)\n",
    "#test.drop(drop, axis=1,inplace=True)"
   ]
  },
  {
   "cell_type": "markdown",
   "metadata": {},
   "source": [
    "### standard scale numeric variables"
   ]
  },
  {
   "cell_type": "code",
   "execution_count": 33,
   "metadata": {},
   "outputs": [],
   "source": [
    "from sklearn.preprocessing import StandardScaler"
   ]
  },
  {
   "cell_type": "code",
   "execution_count": 34,
   "metadata": {},
   "outputs": [],
   "source": [
    "sc = StandardScaler()\n",
    "\n",
    "nums = train.select_dtypes(include=['number']).columns\n",
    "train.loc[:, nums] = sc.fit_transform(train[nums])\n",
    "test.loc[:, nums] = sc.transform(test[nums])"
   ]
  },
  {
   "cell_type": "markdown",
   "metadata": {},
   "source": [
    "## Get variables where test set has modalities which are not in train set"
   ]
  },
  {
   "cell_type": "code",
   "execution_count": 35,
   "metadata": {},
   "outputs": [],
   "source": [
    "categoricals = list(train.columns[train.dtypes == 'category'])\n",
    "var_with_new_categ = []\n",
    "for cat in categoricals:\n",
    "    if len(set(test[cat]) - set(train[cat])) > 0:\n",
    "        var_with_new_categ.append(cat)"
   ]
  },
  {
   "cell_type": "markdown",
   "metadata": {},
   "source": [
    "# drop categories in test which are not in train"
   ]
  },
  {
   "cell_type": "code",
   "execution_count": 36,
   "metadata": {},
   "outputs": [],
   "source": [
    "cd = CategoriesDroper(categoricals)\n",
    "cd.fit(train)\n",
    "test = cd.transform(test)"
   ]
  },
  {
   "cell_type": "markdown",
   "metadata": {},
   "source": [
    "## save preprocessed file"
   ]
  },
  {
   "cell_type": "code",
   "execution_count": 37,
   "metadata": {},
   "outputs": [],
   "source": [
    "for item in train.select_dtypes(include=['category']).columns:\n",
    "    train[item] = train[item].cat.codes\n",
    "    test[item] = test[item].cat.codes"
   ]
  },
  {
   "cell_type": "code",
   "execution_count": 38,
   "metadata": {},
   "outputs": [],
   "source": [
    "train.to_pickle('train_preproc_rare.pickle')\n",
    "test.to_pickle('test_preproc_rare.pickle')\n",
    "#train = pd.read_pickle('train_preproc_1_.pickle')\n",
    "#test = pd.read_pickle('test_preproc_1_.pickle')"
   ]
  },
  {
   "cell_type": "markdown",
   "metadata": {},
   "source": [
    "### load reworked data"
   ]
  },
  {
   "cell_type": "code",
   "execution_count": 150,
   "metadata": {},
   "outputs": [],
   "source": [
    "train = pd.read_pickle('../data/preproc/trainid.pickle')\n",
    "test = pd.read_pickle('../data/preproc/testid.pickle')\n",
    "y = pd.read_pickle('target.pickle')"
   ]
  },
  {
   "cell_type": "code",
   "execution_count": 88,
   "metadata": {},
   "outputs": [],
   "source": [
    "# variables to drop\n",
    "#[\"duree_prevue\", \"PAYS\"]"
   ]
  },
  {
   "cell_type": "code",
   "execution_count": 151,
   "metadata": {},
   "outputs": [],
   "source": [
    "categoricals = train.select_dtypes(include=['int8', 'int16', 'int32', 'int64']).columns\n",
    "categorical_features_indices = [X_train_train.columns.get_loc(cat) for cat in categoricals]\n",
    "train.loc[:, categoricals] = train.loc[:, categoricals].astype('category')\n",
    "test.loc[:, categoricals] = test.loc[:, categoricals].astype('category')\n",
    "\n",
    "rmg = RareModalitiesGrouper(categoricals, 2000) #uncomment this line to group on more variables\"\n",
    "rmg.fit(train)\n",
    "\n",
    "train = rmg.transform(train)\n",
    "test = rmg.transform(test)\n",
    "\n",
    "cd = CategoriesDroper(categoricals)\n",
    "cd.fit(train)\n",
    "test = cd.transform(test)"
   ]
  },
  {
   "cell_type": "markdown",
   "metadata": {},
   "source": [
    "# Modelisation"
   ]
  },
  {
   "cell_type": "markdown",
   "metadata": {},
   "source": [
    "### split train / val"
   ]
  },
  {
   "cell_type": "code",
   "execution_count": 85,
   "metadata": {},
   "outputs": [],
   "source": [
    "#for item in categoricals:\n",
    "#    train[item] = train[item].cat.codes +1"
   ]
  },
  {
   "cell_type": "code",
   "execution_count": 90,
   "metadata": {},
   "outputs": [],
   "source": [
    "# split train in train, cv (will be replaced by cross validation for parameters tuning)\n",
    "# stratify ?\n",
    "X_train_train, X_train_val, y_train_train, y_train_val = sklearn.model_selection.train_test_split(train, y, random_state=101)"
   ]
  },
  {
   "cell_type": "code",
   "execution_count": 91,
   "metadata": {},
   "outputs": [],
   "source": [
    "pos_neg_ratio =  sum(y==False) / sum(y==True)"
   ]
  },
  {
   "cell_type": "code",
   "execution_count": 92,
   "metadata": {},
   "outputs": [],
   "source": [
    "#combinations_ctr for list of variables ?\n",
    "model = CatBoostClassifier(\n",
    "    iterations=30,\n",
    "#    one_hot_max_size=3,\n",
    "#    learning_rate=0.16,\n",
    "#    depth=8,\n",
    "    eval_metric=\"AUC\",\n",
    "    random_seed=42,\n",
    "    od_type='Iter',\n",
    "    od_wait=40,\n",
    "    use_best_model=True\n",
    "#    scale_pos_weight=pos_neg_ratio\n",
    ")"
   ]
  },
  {
   "cell_type": "code",
   "execution_count": 93,
   "metadata": {},
   "outputs": [
    {
     "name": "stdout",
     "output_type": "stream",
     "text": [
      "Learning rate set to 0.5\n",
      "0:\ttest: 0.7048196\tbest: 0.7048196 (0)\ttotal: 5.9s\tremaining: 2m 51s\n",
      "1:\ttest: 0.7133831\tbest: 0.7133831 (1)\ttotal: 11.5s\tremaining: 2m 40s\n",
      "2:\ttest: 0.7165271\tbest: 0.7165271 (2)\ttotal: 17.3s\tremaining: 2m 35s\n",
      "3:\ttest: 0.7191173\tbest: 0.7191173 (3)\ttotal: 22.7s\tremaining: 2m 27s\n",
      "4:\ttest: 0.7209861\tbest: 0.7209861 (4)\ttotal: 27.7s\tremaining: 2m 18s\n",
      "5:\ttest: 0.7234351\tbest: 0.7234351 (5)\ttotal: 33s\tremaining: 2m 12s\n",
      "6:\ttest: 0.7249254\tbest: 0.7249254 (6)\ttotal: 38.2s\tremaining: 2m 5s\n",
      "7:\ttest: 0.7256874\tbest: 0.7256874 (7)\ttotal: 44s\tremaining: 2m\n",
      "8:\ttest: 0.7262397\tbest: 0.7262397 (8)\ttotal: 49.6s\tremaining: 1m 55s\n",
      "9:\ttest: 0.7270783\tbest: 0.7270783 (9)\ttotal: 55.2s\tremaining: 1m 50s\n",
      "10:\ttest: 0.7274965\tbest: 0.7274965 (10)\ttotal: 1m\tremaining: 1m 45s\n",
      "11:\ttest: 0.7279137\tbest: 0.7279137 (11)\ttotal: 1m 6s\tremaining: 1m 39s\n",
      "12:\ttest: 0.7300162\tbest: 0.7300162 (12)\ttotal: 1m 11s\tremaining: 1m 33s\n",
      "13:\ttest: 0.7303572\tbest: 0.7303572 (13)\ttotal: 1m 16s\tremaining: 1m 26s\n",
      "14:\ttest: 0.7329767\tbest: 0.7329767 (14)\ttotal: 1m 22s\tremaining: 1m 22s\n",
      "15:\ttest: 0.7332973\tbest: 0.7332973 (15)\ttotal: 1m 28s\tremaining: 1m 17s\n",
      "16:\ttest: 0.7334523\tbest: 0.7334523 (16)\ttotal: 1m 34s\tremaining: 1m 11s\n",
      "17:\ttest: 0.7342935\tbest: 0.7342935 (17)\ttotal: 1m 39s\tremaining: 1m 6s\n",
      "18:\ttest: 0.7343322\tbest: 0.7343322 (18)\ttotal: 1m 44s\tremaining: 1m\n",
      "19:\ttest: 0.7350415\tbest: 0.7350415 (19)\ttotal: 1m 50s\tremaining: 55.3s\n",
      "20:\ttest: 0.7352551\tbest: 0.7352551 (20)\ttotal: 1m 56s\tremaining: 49.9s\n",
      "21:\ttest: 0.7353891\tbest: 0.7353891 (21)\ttotal: 2m 2s\tremaining: 44.4s\n",
      "22:\ttest: 0.7357144\tbest: 0.7357144 (22)\ttotal: 2m 8s\tremaining: 39.1s\n",
      "23:\ttest: 0.7358411\tbest: 0.7358411 (23)\ttotal: 2m 14s\tremaining: 33.5s\n",
      "24:\ttest: 0.7359117\tbest: 0.7359117 (24)\ttotal: 2m 19s\tremaining: 27.9s\n",
      "25:\ttest: 0.7359351\tbest: 0.7359351 (25)\ttotal: 2m 24s\tremaining: 22.3s\n",
      "26:\ttest: 0.7360561\tbest: 0.7360561 (26)\ttotal: 2m 29s\tremaining: 16.6s\n",
      "27:\ttest: 0.7374239\tbest: 0.7374239 (27)\ttotal: 2m 34s\tremaining: 11s\n",
      "28:\ttest: 0.7376176\tbest: 0.7376176 (28)\ttotal: 2m 39s\tremaining: 5.51s\n",
      "29:\ttest: 0.7376951\tbest: 0.7376951 (29)\ttotal: 2m 44s\tremaining: 0us\n",
      "\n",
      "bestTest = 0.7376951089\n",
      "bestIteration = 29\n",
      "\n",
      "Shrink model to first 30 iterations.\n"
     ]
    },
    {
     "data": {
      "text/plain": [
       "<catboost.core.CatBoostClassifier at 0x11b347c50>"
      ]
     },
     "execution_count": 93,
     "metadata": {},
     "output_type": "execute_result"
    }
   ],
   "source": [
    "model.fit(\n",
    "    X_train_train, y_train_train,\n",
    "    cat_features=categorical_features_indices,\n",
    "    eval_set=(X_train_val, y_train_val),\n",
    "    logging_level='Verbose'  # you can uncomment this for text output\n",
    ")"
   ]
  },
  {
   "cell_type": "markdown",
   "metadata": {},
   "source": [
    "### Feature importance"
   ]
  },
  {
   "cell_type": "code",
   "execution_count": 75,
   "metadata": {},
   "outputs": [],
   "source": [
    "importances=model.feature_importances_"
   ]
  },
  {
   "cell_type": "code",
   "execution_count": 76,
   "metadata": {},
   "outputs": [
    {
     "name": "stdout",
     "output_type": "stream",
     "text": [
      "Feature ranking:\n",
      "1. canceled_proba_pred (58.033062)\n",
      "2. duree_avant_intervention (10.150283)\n",
      "3. INCIDENT_TYPE_ID (4.351325)\n",
      "4. nb_char_commentaire (3.708904)\n",
      "5. MILLESIME_plus_mois_intervention (3.124811)\n",
      "6. joursemaine_intervention_plus_jour_intervention (2.594554)\n",
      "7. mois_intervention (1.704943)\n",
      "8. CODE_FONCTION (1.413812)\n",
      "9. INCIDENT_TYPE_ID_plus_mois_appel (1.339692)\n",
      "10. COMMENTAIRE_BI (1.288806)\n",
      "11. PRIX_FACTURE (1.198452)\n",
      "12. L2_ORGANISATION_ID (1.182485)\n",
      "13. MODELE_CODE (1.107173)\n",
      "14. NATURE_CODE_plus_MARQUE_LIB (1.079399)\n",
      "15. age_installation (0.780150)\n",
      "16. FORMULE (0.579590)\n",
      "17. STS_CODE_plus_FORMULE (0.564346)\n",
      "18. MARQUE_LIB (0.539566)\n",
      "19. MILLESIME_plus_L2_ORGANISATION_ID (0.479335)\n",
      "20. nb_mots_commentaire (0.405414)\n",
      "21. L1_ORGANISATION_ID_plus_FORMULE (0.384501)\n",
      "22. NB_PASSAGE (0.384143)\n",
      "23. RESOURCE_ID (0.353280)\n",
      "24. CODE_INSTALLATION (0.327919)\n",
      "25. COMMENTAIRE_BI_plus_GRAVITE (0.295492)\n",
      "26. RACHAT_CODE_plus_NATURE_CODE (0.264385)\n",
      "27. STOP_PHONING (0.222612)\n",
      "28. L1_ORGANISATION_ID (0.181661)\n",
      "29. TYPE_OCC (0.164260)\n",
      "30. RACHAT_CODE_plus_STOP_PHONING (0.161596)\n",
      "31. ORIGINE_INCIDENT (0.147586)\n",
      "32. OPTION (0.127581)\n",
      "33. MODELE_CODE_plus_L2_ORGANISATION_ID (0.126319)\n",
      "34. GRAVITE_plus_STS_CODE (0.109900)\n",
      "35. has_number_commentaire (0.107595)\n",
      "36. NATURE_CODE (0.106490)\n",
      "37. MILLESIME_plus_STS_CODE (0.094635)\n",
      "38. CODE_GEN_EQUIPEMENT (0.085301)\n",
      "39. GRAVITE (0.082680)\n",
      "40. STS_CODE (0.074700)\n",
      "41. CODE_GEN_EQUIPEMENT_plus_mois_appel (0.070401)\n",
      "42. AUTEUR_INCIDENT_plus_COMMENTAIRE_BI (0.068599)\n",
      "43. temps_depuis_maj_contrat (0.068142)\n",
      "44. mois_appel_plus_mois_intervention (0.063312)\n",
      "45. TYPE_BI (0.051451)\n",
      "46. MILLESIME (0.047893)\n",
      "47. joursemaine_intervention (0.034649)\n",
      "48. nc_5 (0.031595)\n",
      "49. mois_intervention_plus_jour_intervention (0.030518)\n",
      "50. temps_jusqua_fin_contrat (0.026658)\n",
      "51. INCIDENT_TYPE_ID_plus_L2_ORGANISATION_ID (0.021138)\n",
      "52. NATURE_CODE_plus_L2_ORGANISATION_ID (0.017777)\n",
      "53. INCIDENT_TYPE_ID_plus_NATURE_CODE (0.013362)\n",
      "54. nc_3 (0.012267)\n",
      "55. MILLESIME_plus_mois_appel (0.009103)\n",
      "56. RESOURCE_ID_plus_NATURE_CODE (0.004396)\n",
      "57. RACHAT_CODE (0.000000)\n",
      "58. USAGE_LOCAL (0.000000)\n",
      "59. PROBLEM_CODE (0.000000)\n",
      "60. PAYS (0.000000)\n",
      "61. AUTEUR_INCIDENT (0.000000)\n",
      "62. POINTS_FIDEL (0.000000)\n",
      "63. nc_1 (0.000000)\n",
      "64. CODE_ENERGIE (0.000000)\n",
      "65. jour_intervention (0.000000)\n",
      "66. RESOURCE_ID_plus_MODELE_CODE (0.000000)\n",
      "67. AUTEUR_INCIDENT_plus_MODELE_CODE (0.000000)\n",
      "68. CODE_INSTALLATION_plus_STS_CODE (0.000000)\n",
      "69. INCIDENT_TYPE_ID_plus_COMMENTAIRE_BI (0.000000)\n",
      "70. temps_depuis_debut_contrat (0.000000)\n",
      "71. duree_prevue (0.000000)\n",
      "72. jour_appel (0.000000)\n",
      "73. CODE_SPECIFICATION (0.000000)\n",
      "74. joursemaine_appel (0.000000)\n",
      "75. mois_appel (0.000000)\n",
      "76. nc_2 (0.000000)\n",
      "77. is_empty_commentaire (0.000000)\n",
      "78. CONTRAT_TARIF (0.000000)\n",
      "79. CODE_EAU_CHAUDE (0.000000)\n",
      "80. nc_4 (0.000000)\n"
     ]
    }
   ],
   "source": [
    "indices = np.argsort(model.feature_importances_)[::-1]\n",
    "\n",
    "print(\"Feature ranking:\")\n",
    "\n",
    "for f in range(train.shape[1]):\n",
    "    print(\"%d. %s (%f)\" % (f + 1, train.columns[indices[f]], model.feature_importances_[indices[f]]))"
   ]
  },
  {
   "cell_type": "code",
   "execution_count": null,
   "metadata": {},
   "outputs": [],
   "source": [
    "import matplotlib.pyplot as plt"
   ]
  },
  {
   "cell_type": "code",
   "execution_count": 44,
   "metadata": {},
   "outputs": [
    {
     "data": {
      "image/png": "[encoded data removed]",
      "text/plain": [
       "<Figure size 640x480 with 1 Axes>"
      ]
     },
     "metadata": {},
     "output_type": "display_data"
    }
   ],
   "source": [
    "# Plot the feature importances of the forest\n",
    "plt.figure()\n",
    "plt.title(\"Feature importances\")\n",
    "plt.bar(range(train.shape[1]), importances[indices],\n",
    "       color=\"r\", align=\"center\")\n",
    "plt.xticks(range(train.shape[1]), indices)\n",
    "plt.xlim([-1, train.shape[1]])\n",
    "plt.show()"
   ]
  },
  {
   "cell_type": "markdown",
   "metadata": {},
   "source": [
    "### Hyperparameter tunning"
   ]
  },
  {
   "cell_type": "code",
   "execution_count": null,
   "metadata": {},
   "outputs": [],
   "source": [
    "categoricals = train.select_dtypes(include=['category', 'bool', 'object']).columns\n",
    "categorical_features_indices = [train.columns.get_loc(cat) for cat in categoricals]"
   ]
  },
  {
   "cell_type": "markdown",
   "metadata": {},
   "source": [
    "#### GridSearch"
   ]
  },
  {
   "cell_type": "code",
   "execution_count": null,
   "metadata": {},
   "outputs": [],
   "source": [
    "from sklearn.grid_search import GridSearchCV"
   ]
  },
  {
   "cell_type": "code",
   "execution_count": null,
   "metadata": {},
   "outputs": [],
   "source": [
    "#what to do with cat features\n",
    "params = {'depth': [4, 7, 10],\n",
    "          'learning_rate' : [0.20, 0.31, 0.40],\n",
    "         'l2_leaf_reg': [1, 4, 9],\n",
    "         'iterations': [300]}\n",
    "cb = CatBoostClassifier()\n",
    "cb_model = GridSearchCV(cb, params, scoring=\"roc_auc\")\n",
    "cb_model.fit(train, y_train, cb__cat_features=categorical_features_indices)"
   ]
  },
  {
   "cell_type": "markdown",
   "metadata": {},
   "source": [
    "#### hyperopt"
   ]
  },
  {
   "cell_type": "code",
   "execution_count": null,
   "metadata": {},
   "outputs": [],
   "source": [
    "def hyperopt_objective(params):\n",
    "    model = CatBoostClassifier(\n",
    "        l2_leaf_reg=int(params['l2_leaf_reg']),\n",
    "        learning_rate=params['learning_rate'],\n",
    "        iterations=int(params['iterations']),\n",
    "        border_count=int(params['border_count']),\n",
    "        eval_metric='AUC',\n",
    "        random_seed=42,\n",
    "        logging_level='Silent'\n",
    "        #od_type='Iter',\n",
    "        #od_wait=40\n",
    "    )\n",
    "    \n",
    "    cv_data = cv(\n",
    "        Pool(train, y_train, cat_features=categorical_features_indices),\n",
    "        model.get_params(),\n",
    "        stratified=True,\n",
    "        fold_count=5\n",
    "    )\n",
    "    best_AUC = np.max(cv_data['test-AUC-mean'])\n",
    "    print(params, 'best_AUC: ', best_AUC)\n",
    "    \n",
    "    return 1 - best_AUC # as hyperopt minimises"
   ]
  },
  {
   "cell_type": "code",
   "execution_count": null,
   "metadata": {},
   "outputs": [],
   "source": [
    "#param space example for xgboost\n",
    "#    space = {\n",
    "#             'n_estimators' : hp.quniform('n_estimators', 100, 1000, 1),\n",
    "#             'eta' : hp.quniform('eta', 0.025, 0.5, 0.025),\n",
    "#             'max_depth' : hp.quniform('max_depth', 1, 13, 1),\n",
    "#             'min_child_weight' : hp.quniform('min_child_weight', 1, 6, 1),\n",
    "#             'subsample' : hp.quniform('subsample', 0.5, 1, 0.05),\n",
    "#             'gamma' : hp.quniform('gamma', 0.5, 1, 0.05),\n",
    "#             'colsample_bytree' : hp.quniform('colsample_bytree', 0.5, 1, 0.05),\n",
    "#             'num_class' : 9,\n",
    "#             'eval_metric': 'mlogloss',\n",
    "#             'objective': 'multi:softprob',\n",
    "#             'nthread' : 6,\n",
    "#             'silent' : 1\n",
    "#}"
   ]
  },
  {
   "cell_type": "code",
   "execution_count": null,
   "metadata": {
    "scrolled": true
   },
   "outputs": [],
   "source": [
    "from numpy.random import RandomState\n",
    "\n",
    "params_space = {\n",
    "    #'l2_leaf_reg': hyperopt.hp.loguniform('l2_leaf_reg', -1, np.log(50)),\n",
    "    'l2_leaf_reg': hyperopt.hp.choice('l2_leaf_reg', [11.47871028241772]),\n",
    "    'learning_rate': hyperopt.hp.uniform('learning_rate', 1e-1, 8e-1),\n",
    "     #'learning_rate': hyperopt.hp.choice('learning_rate', [0.31]),\n",
    "    'iterations': hyperopt.hp.quniform('iterations', 250, 1000, 1),\n",
    "    #'iterations': hyperopt.hp.choice('iterations', [250]),\n",
    "    #'depth': hyperopt.hp.quniform('depth', 3, 9, 1),\n",
    "    'depth': hyperopt.hp.choice('depth', [7]),\n",
    "#    'ctr_border_count': hyperopt.hp.quniform('ctr_border_count', 32, 255, 1),\n",
    "    #'border_count': hyperopt.hp.quniform('border_count', 16, 255, 1)\n",
    "    'border_count': hyperopt.hp.choice('border_count', [213])\n",
    "}\n",
    "\n",
    "trials = hyperopt.Trials()\n",
    "\n",
    "best = hyperopt.fmin(\n",
    "    hyperopt_objective,\n",
    "    space=params_space,\n",
    "    algo=hyperopt.tpe.suggest,\n",
    "    max_evals=8,\n",
    "    trials=trials,\n",
    "    rstate=RandomState(123)\n",
    "    \n",
    ")\n",
    "\n",
    "print(best)"
   ]
  },
  {
   "cell_type": "markdown",
   "metadata": {},
   "source": [
    "#round 1\n",
    "{'depth': 7.0, 'l2_leaf_reg': 6.687638927479829} best_AUC:  0.764339203919555\n",
    "{'depth': 8.0, 'l2_leaf_reg': 2.238434810070511} best_AUC:  0.7641940842160905\n",
    "{'depth': 9.0, 'l2_leaf_reg': 15.61615505112418} best_AUC:  0.7656179177534072\n",
    "{'depth': 7.0, 'l2_leaf_reg': 11.47871028241772} best_AUC:  0.766724797438951\n",
    "{'depth': 6.0, 'l2_leaf_reg': 2.0946141383866816} best_AUC:  0.7641940842160905\n",
    "{'depth': 5.0, 'l2_leaf_reg': 3.409700409045487} best_AUC:  0.7656396435014416\n",
    "{'l2_leaf_reg': 11.47871028241772, 'learning_rate': 7.0}\n",
    "\n",
    "#round 2\n",
    "{'border_count': 199.0, 'depth': 7, 'iterations': 250, 'l2_leaf_reg': 11.47871028241772, 'learning_rate': 0.31} best_AUC:  0.7654693707749893\n",
    "{'border_count': 213.0, 'depth': 7, 'iterations': 250, 'l2_leaf_reg': 11.47871028241772, 'learning_rate': 0.31} best_AUC:  0.7662068818039395\n",
    "{'border_count': 105.0, 'depth': 8, 'iterations': 250, 'l2_leaf_reg': 11.47871028241772, 'learning_rate': 0.31} best_AUC:  0.7639026943327258\n",
    "{'border_count': 238.0, 'depth': 7, 'iterations': 250, 'l2_leaf_reg': 11.47871028241772, 'learning_rate': 0.31} best_AUC:  0.764574925126635\n",
    "{'border_count': 22.0, 'depth': 8, 'iterations': 250, 'l2_leaf_reg': 11.47871028241772, 'learning_rate': 0.31} best_AUC:  0.7643064612539859\n",
    "{'border_count': 103.0, 'depth': 8, 'iterations': 250, 'l2_leaf_reg': 11.47871028241772, 'learning_rate': 0.31} best_AUC:  0.7632638136706521\n",
    "{'border_count': 225.0, 'depth': 8, 'iterations': 250, 'l2_leaf_reg': 11.47871028241772, 'learning_rate': 0.31} best_AUC:  0.7653002122083675\n",
    "{'border_count': 212.0, 'depth': 8, 'iterations': 250, 'l2_leaf_reg': 11.47871028241772, 'learning_rate': 0.31} best_AUC:  0.7649391813119792\n",
    "{'border_count': 85.0, 'depth': 8, 'iterations': 250, 'l2_leaf_reg': 11.47871028241772, 'learning_rate': 0.31} best_AUC:  0.7649657537494025\n",
    "{'border_count': 251.0, 'depth': 8, 'iterations': 250, 'l2_leaf_reg': 11.47871028241772, 'learning_rate': 0.31} best_AUC:  0.7649243873489558\n",
    "{'border_count': 213.0, 'depth': 0, 'iterations': 0, 'l2_leaf_reg': 0, 'learning_rate': 0}\n",
    "\n",
    "#round 3\n",
    "{'border_count': 213, 'depth': 7, 'iterations': 693.0, 'l2_leaf_reg': 11.47871028241772, 'learning_rate': 0.6096210638782021} best_AUC:  0.767539056284941\n",
    "{'border_count': 213, 'depth': 7, 'iterations': 526.0, 'l2_leaf_reg': 11.47871028241772, 'learning_rate': 0.701085638831484} best_AUC:  0.767228088670764\n",
    "{'border_count': 213, 'depth': 7, 'iterations': 822.0, 'l2_leaf_reg': 11.47871028241772, 'learning_rate': 0.7947626751796161} best_AUC:  0.7647414699770261\n",
    "{'border_count': 213, 'depth': 7, 'iterations': 775.0, 'l2_leaf_reg': 11.47871028241772, 'learning_rate': 0.571434077994127} best_AUC:  0.7686875566115616\n",
    "{'border_count': 213, 'depth': 7, 'iterations': 516.0, 'l2_leaf_reg': 11.47871028241772, 'learning_rate': 0.4938304425560929} best_AUC:  0.7680238623609622\n"
   ]
  },
  {
   "cell_type": "code",
   "execution_count": null,
   "metadata": {},
   "outputs": [],
   "source": [
    "#check quality to expect\n",
    "model = CatBoostClassifier(\n",
    "    l2_leaf_reg=int(best['l2_leaf_reg']),\n",
    "    learning_rate=best['learning_rate'],\n",
    "    iterations=500,\n",
    "    eval_metric='AUC',\n",
    "    random_seed=42,\n",
    "    logging_level='Silent'\n",
    ")\n",
    "cv_data = cv(Pool(X, y, cat_features=categorical_features_indices), model.get_params())"
   ]
  },
  {
   "cell_type": "code",
   "execution_count": null,
   "metadata": {},
   "outputs": [],
   "source": [
    "print('Precise validation AUC score: {}'.format(np.max(cv_data['test-AUC-mean'])))"
   ]
  },
  {
   "cell_type": "markdown",
   "metadata": {},
   "source": [
    "### Make submission"
   ]
  },
  {
   "cell_type": "code",
   "execution_count": 78,
   "metadata": {},
   "outputs": [],
   "source": [
    "categoricals = train.select_dtypes(include=['category', 'bool', 'object']).columns\n",
    "categorical_features_indices = [train.columns.get_loc(cat) for cat in categoricals]"
   ]
  },
  {
   "cell_type": "code",
   "execution_count": 94,
   "metadata": {},
   "outputs": [],
   "source": [
    "pos_neg_ratio =  sum(y==False) / sum(y==True)"
   ]
  },
  {
   "cell_type": "code",
   "execution_count": 95,
   "metadata": {},
   "outputs": [],
   "source": [
    "params = {\n",
    "          'border_count': 64, \n",
    "#          'one_hot_max_size': 5,\n",
    "#          'depth': 7,\n",
    "#          'depth': 5,\n",
    "          'iterations': 30.0,\n",
    "#          'l2_leaf_reg': 11.47871028241772, \n",
    "          'learning_rate': 0.31,\n",
    "#          'scale_pos_weight': pos_neg_ratio\n",
    "          'thread_count': 3\n",
    "         }\n",
    "\n",
    "#random_strength (default 1)\n",
    "\n",
    "model = CatBoostClassifier(\n",
    "    **params,\n",
    "    eval_metric=\"AUC\",\n",
    "    od_type='Iter',\n",
    "    od_wait=40\n",
    ")\n",
    "\n",
    "model.fit(train, y, cat_features=categorical_features_indices)"
   ]
  },
  {
   "cell_type": "code",
   "execution_count": 97,
   "metadata": {},
   "outputs": [],
   "source": [
    "#save model to disk\n",
    "#model.save_model('catboost_model.dump')\n",
    "#load\n",
    "#model = CatBoostClassifier()\n",
    "#model.load_model('catboost_model.dump')"
   ]
  },
  {
   "cell_type": "code",
   "execution_count": 98,
   "metadata": {},
   "outputs": [],
   "source": [
    "submission = model.predict_proba(test)[:, 1]"
   ]
  },
  {
   "cell_type": "code",
   "execution_count": 99,
   "metadata": {},
   "outputs": [],
   "source": [
    "filename = str(datetime.datetime.now())[:-7] + '_submission.csv'\n",
    "create_submission_file(submission, \"catboost_\", params)"
   ]
  },
  {
   "cell_type": "markdown",
   "metadata": {},
   "source": [
    "30 iteration et tout libre (peut être pas canceled_proba): 0.7267220863\n",
    "30 iterations et 2000 rare: 0.7238"
   ]
  },
  {
   "cell_type": "markdown",
   "metadata": {},
   "source": [
    "### tests on cross validation"
   ]
  },
  {
   "cell_type": "code",
   "execution_count": null,
   "metadata": {},
   "outputs": [],
   "source": [
    "pos_neg_ratio =  sum(y_train==0) / sum(y_train==1)\n",
    "\n",
    "categoricals = train.select_dtypes(include=['category', 'bool', 'object']).columns\n",
    "categorical_features_indices = [train.columns.get_loc(cat) for cat in categoricals]\n",
    "\n",
    "params = {\n",
    "          'border_count': 64, \n",
    "#          'one_hot_max_size': 5,\n",
    "#          'depth': 7,\n",
    "#          'depth': 5,\n",
    "          'iterations': 30.0,\n",
    "#          'l2_leaf_reg': 11.47871028241772, \n",
    "          'learning_rate': 0.31,\n",
    "#          'scale_pos_weight': pos_neg_ratio\n",
    "          'thread_count': 3\n",
    "         }"
   ]
  },
  {
   "cell_type": "code",
   "execution_count": 100,
   "metadata": {},
   "outputs": [
    {
     "name": "stdout",
     "output_type": "stream",
     "text": [
      "0:\tlearn: 0.7044502\ttest: 0.7041395\tbest: 0.7041395 (0)\ttotal: 39.6s\tremaining: 19m 8s\n",
      "1:\tlearn: 0.7099353\ttest: 0.7096423\tbest: 0.7096423 (1)\ttotal: 1m 14s\tremaining: 17m 20s\n",
      "2:\tlearn: 0.7132449\ttest: 0.7128876\tbest: 0.7128876 (2)\ttotal: 1m 47s\tremaining: 16m 8s\n",
      "3:\tlearn: 0.7163935\ttest: 0.7160689\tbest: 0.7160689 (3)\ttotal: 2m 22s\tremaining: 15m 26s\n",
      "4:\tlearn: 0.7187156\ttest: 0.7183820\tbest: 0.7183820 (4)\ttotal: 2m 54s\tremaining: 14m 30s\n",
      "5:\tlearn: 0.7203775\ttest: 0.7200341\tbest: 0.7200341 (5)\ttotal: 3m 26s\tremaining: 13m 45s\n",
      "6:\tlearn: 0.7221576\ttest: 0.7219488\tbest: 0.7219488 (6)\ttotal: 4m 2s\tremaining: 13m 15s\n",
      "7:\tlearn: 0.7236407\ttest: 0.7235785\tbest: 0.7235785 (7)\ttotal: 4m 34s\tremaining: 12m 35s\n",
      "8:\tlearn: 0.7261372\ttest: 0.7267762\tbest: 0.7267762 (8)\ttotal: 5m 6s\tremaining: 11m 55s\n",
      "9:\tlearn: 0.7271506\ttest: 0.7278630\tbest: 0.7278630 (9)\ttotal: 5m 39s\tremaining: 11m 19s\n",
      "10:\tlearn: 0.7279659\ttest: 0.7288522\tbest: 0.7288522 (10)\ttotal: 6m 14s\tremaining: 10m 46s\n",
      "11:\tlearn: 0.7287513\ttest: 0.7296818\tbest: 0.7296818 (11)\ttotal: 6m 46s\tremaining: 10m 9s\n",
      "12:\tlearn: 0.7294136\ttest: 0.7303144\tbest: 0.7303144 (12)\ttotal: 7m 16s\tremaining: 9m 30s\n",
      "13:\tlearn: 0.7299699\ttest: 0.7308335\tbest: 0.7308335 (13)\ttotal: 7m 47s\tremaining: 8m 54s\n",
      "14:\tlearn: 0.7305822\ttest: 0.7316213\tbest: 0.7316213 (14)\ttotal: 8m 20s\tremaining: 8m 20s\n",
      "15:\tlearn: 0.7310169\ttest: 0.7320648\tbest: 0.7320648 (15)\ttotal: 8m 51s\tremaining: 7m 45s\n",
      "16:\tlearn: 0.7313656\ttest: 0.7324050\tbest: 0.7324050 (16)\ttotal: 9m 23s\tremaining: 7m 11s\n",
      "17:\tlearn: 0.7316482\ttest: 0.7325750\tbest: 0.7325750 (17)\ttotal: 9m 58s\tremaining: 6m 38s\n",
      "18:\tlearn: 0.7322738\ttest: 0.7333883\tbest: 0.7333883 (18)\ttotal: 10m 31s\tremaining: 6m 5s\n",
      "19:\tlearn: 0.7325401\ttest: 0.7336103\tbest: 0.7336103 (19)\ttotal: 11m 5s\tremaining: 5m 32s\n",
      "20:\tlearn: 0.7329863\ttest: 0.7341695\tbest: 0.7341695 (20)\ttotal: 11m 42s\tremaining: 5m 1s\n",
      "21:\tlearn: 0.7333681\ttest: 0.7345374\tbest: 0.7345374 (21)\ttotal: 12m 18s\tremaining: 4m 28s\n",
      "22:\tlearn: 0.7336141\ttest: 0.7347858\tbest: 0.7347858 (22)\ttotal: 12m 54s\tremaining: 3m 55s\n",
      "23:\tlearn: 0.7339433\ttest: 0.7351740\tbest: 0.7351740 (23)\ttotal: 13m 27s\tremaining: 3m 21s\n",
      "24:\tlearn: 0.7341378\ttest: 0.7353019\tbest: 0.7353019 (24)\ttotal: 14m 1s\tremaining: 2m 48s\n",
      "25:\tlearn: 0.7343892\ttest: 0.7355888\tbest: 0.7355888 (25)\ttotal: 14m 38s\tremaining: 2m 15s\n",
      "26:\tlearn: 0.7345712\ttest: 0.7357673\tbest: 0.7357673 (26)\ttotal: 15m 17s\tremaining: 1m 41s\n",
      "27:\tlearn: 0.7348052\ttest: 0.7360211\tbest: 0.7360211 (27)\ttotal: 15m 51s\tremaining: 1m 7s\n",
      "28:\tlearn: 0.7350419\ttest: 0.7362690\tbest: 0.7362690 (28)\ttotal: 16m 29s\tremaining: 34.1s\n",
      "29:\tlearn: 0.7352174\ttest: 0.7364030\tbest: 0.7364030 (29)\ttotal: 17m 3s\tremaining: 0us\n"
     ]
    }
   ],
   "source": [
    "cv_data = cv(\n",
    "    Pool(train, y, cat_features=categorical_features_indices),\n",
    "    model.get_params(),\n",
    "    stratified=True,\n",
    "    fold_count=5\n",
    ")\n",
    "\n",
    "#0.707 on test set"
   ]
  },
  {
   "cell_type": "code",
   "execution_count": 105,
   "metadata": {},
   "outputs": [
    {
     "data": {
      "text/html": [
       "<div>\n",
       "<style scoped>\n",
       "    .dataframe tbody tr th:only-of-type {\n",
       "        vertical-align: middle;\n",
       "    }\n",
       "\n",
       "    .dataframe tbody tr th {\n",
       "        vertical-align: top;\n",
       "    }\n",
       "\n",
       "    .dataframe thead th {\n",
       "        text-align: right;\n",
       "    }\n",
       "</style>\n",
       "<table border=\"1\" class=\"dataframe\">\n",
       "  <thead>\n",
       "    <tr style=\"text-align: right;\">\n",
       "      <th></th>\n",
       "      <th>test-AUC-mean</th>\n",
       "      <th>test-AUC-std</th>\n",
       "      <th>train-AUC-mean</th>\n",
       "      <th>train-AUC-std</th>\n",
       "      <th>test-Logloss-mean</th>\n",
       "      <th>test-Logloss-std</th>\n",
       "      <th>train-Logloss-mean</th>\n",
       "      <th>train-Logloss-std</th>\n",
       "    </tr>\n",
       "  </thead>\n",
       "  <tbody>\n",
       "    <tr>\n",
       "      <th>0</th>\n",
       "      <td>0.704139</td>\n",
       "      <td>0.002146</td>\n",
       "      <td>0.704450</td>\n",
       "      <td>0.001620</td>\n",
       "      <td>0.579722</td>\n",
       "      <td>0.001166</td>\n",
       "      <td>0.579642</td>\n",
       "      <td>0.000906</td>\n",
       "    </tr>\n",
       "    <tr>\n",
       "      <th>1</th>\n",
       "      <td>0.709642</td>\n",
       "      <td>0.002370</td>\n",
       "      <td>0.709935</td>\n",
       "      <td>0.000398</td>\n",
       "      <td>0.536618</td>\n",
       "      <td>0.000763</td>\n",
       "      <td>0.536492</td>\n",
       "      <td>0.000288</td>\n",
       "    </tr>\n",
       "    <tr>\n",
       "      <th>2</th>\n",
       "      <td>0.712888</td>\n",
       "      <td>0.002192</td>\n",
       "      <td>0.713245</td>\n",
       "      <td>0.000706</td>\n",
       "      <td>0.518551</td>\n",
       "      <td>0.000737</td>\n",
       "      <td>0.518393</td>\n",
       "      <td>0.000258</td>\n",
       "    </tr>\n",
       "    <tr>\n",
       "      <th>3</th>\n",
       "      <td>0.716069</td>\n",
       "      <td>0.001659</td>\n",
       "      <td>0.716394</td>\n",
       "      <td>0.000788</td>\n",
       "      <td>0.509873</td>\n",
       "      <td>0.000774</td>\n",
       "      <td>0.509709</td>\n",
       "      <td>0.000143</td>\n",
       "    </tr>\n",
       "    <tr>\n",
       "      <th>4</th>\n",
       "      <td>0.718382</td>\n",
       "      <td>0.001644</td>\n",
       "      <td>0.718716</td>\n",
       "      <td>0.000822</td>\n",
       "      <td>0.505179</td>\n",
       "      <td>0.000760</td>\n",
       "      <td>0.505014</td>\n",
       "      <td>0.000245</td>\n",
       "    </tr>\n",
       "    <tr>\n",
       "      <th>5</th>\n",
       "      <td>0.720034</td>\n",
       "      <td>0.001725</td>\n",
       "      <td>0.720378</td>\n",
       "      <td>0.000431</td>\n",
       "      <td>0.502617</td>\n",
       "      <td>0.000806</td>\n",
       "      <td>0.502444</td>\n",
       "      <td>0.000236</td>\n",
       "    </tr>\n",
       "    <tr>\n",
       "      <th>6</th>\n",
       "      <td>0.721949</td>\n",
       "      <td>0.002057</td>\n",
       "      <td>0.722158</td>\n",
       "      <td>0.000854</td>\n",
       "      <td>0.500601</td>\n",
       "      <td>0.000830</td>\n",
       "      <td>0.500468</td>\n",
       "      <td>0.000399</td>\n",
       "    </tr>\n",
       "    <tr>\n",
       "      <th>7</th>\n",
       "      <td>0.723579</td>\n",
       "      <td>0.002796</td>\n",
       "      <td>0.723641</td>\n",
       "      <td>0.000934</td>\n",
       "      <td>0.499046</td>\n",
       "      <td>0.001156</td>\n",
       "      <td>0.498964</td>\n",
       "      <td>0.000280</td>\n",
       "    </tr>\n",
       "    <tr>\n",
       "      <th>8</th>\n",
       "      <td>0.726776</td>\n",
       "      <td>0.002031</td>\n",
       "      <td>0.726137</td>\n",
       "      <td>0.001059</td>\n",
       "      <td>0.497175</td>\n",
       "      <td>0.001079</td>\n",
       "      <td>0.497375</td>\n",
       "      <td>0.000516</td>\n",
       "    </tr>\n",
       "    <tr>\n",
       "      <th>9</th>\n",
       "      <td>0.727863</td>\n",
       "      <td>0.001740</td>\n",
       "      <td>0.727151</td>\n",
       "      <td>0.000782</td>\n",
       "      <td>0.496326</td>\n",
       "      <td>0.000791</td>\n",
       "      <td>0.496567</td>\n",
       "      <td>0.000445</td>\n",
       "    </tr>\n",
       "    <tr>\n",
       "      <th>10</th>\n",
       "      <td>0.728852</td>\n",
       "      <td>0.002198</td>\n",
       "      <td>0.727966</td>\n",
       "      <td>0.000480</td>\n",
       "      <td>0.495547</td>\n",
       "      <td>0.001058</td>\n",
       "      <td>0.495888</td>\n",
       "      <td>0.000313</td>\n",
       "    </tr>\n",
       "    <tr>\n",
       "      <th>11</th>\n",
       "      <td>0.729682</td>\n",
       "      <td>0.001854</td>\n",
       "      <td>0.728751</td>\n",
       "      <td>0.000688</td>\n",
       "      <td>0.494917</td>\n",
       "      <td>0.000974</td>\n",
       "      <td>0.495295</td>\n",
       "      <td>0.000276</td>\n",
       "    </tr>\n",
       "    <tr>\n",
       "      <th>12</th>\n",
       "      <td>0.730314</td>\n",
       "      <td>0.001684</td>\n",
       "      <td>0.729414</td>\n",
       "      <td>0.000963</td>\n",
       "      <td>0.494356</td>\n",
       "      <td>0.000867</td>\n",
       "      <td>0.494740</td>\n",
       "      <td>0.000505</td>\n",
       "    </tr>\n",
       "    <tr>\n",
       "      <th>13</th>\n",
       "      <td>0.730834</td>\n",
       "      <td>0.001725</td>\n",
       "      <td>0.729970</td>\n",
       "      <td>0.000850</td>\n",
       "      <td>0.493906</td>\n",
       "      <td>0.000854</td>\n",
       "      <td>0.494282</td>\n",
       "      <td>0.000388</td>\n",
       "    </tr>\n",
       "    <tr>\n",
       "      <th>14</th>\n",
       "      <td>0.731621</td>\n",
       "      <td>0.002016</td>\n",
       "      <td>0.730582</td>\n",
       "      <td>0.000871</td>\n",
       "      <td>0.493388</td>\n",
       "      <td>0.001036</td>\n",
       "      <td>0.493859</td>\n",
       "      <td>0.000433</td>\n",
       "    </tr>\n",
       "    <tr>\n",
       "      <th>15</th>\n",
       "      <td>0.732065</td>\n",
       "      <td>0.001982</td>\n",
       "      <td>0.731017</td>\n",
       "      <td>0.000832</td>\n",
       "      <td>0.493006</td>\n",
       "      <td>0.001040</td>\n",
       "      <td>0.493489</td>\n",
       "      <td>0.000344</td>\n",
       "    </tr>\n",
       "    <tr>\n",
       "      <th>16</th>\n",
       "      <td>0.732405</td>\n",
       "      <td>0.001629</td>\n",
       "      <td>0.731366</td>\n",
       "      <td>0.000920</td>\n",
       "      <td>0.492755</td>\n",
       "      <td>0.000850</td>\n",
       "      <td>0.493247</td>\n",
       "      <td>0.000390</td>\n",
       "    </tr>\n",
       "    <tr>\n",
       "      <th>17</th>\n",
       "      <td>0.732575</td>\n",
       "      <td>0.001643</td>\n",
       "      <td>0.731648</td>\n",
       "      <td>0.000931</td>\n",
       "      <td>0.492605</td>\n",
       "      <td>0.000860</td>\n",
       "      <td>0.493045</td>\n",
       "      <td>0.000408</td>\n",
       "    </tr>\n",
       "    <tr>\n",
       "      <th>18</th>\n",
       "      <td>0.733388</td>\n",
       "      <td>0.001702</td>\n",
       "      <td>0.732274</td>\n",
       "      <td>0.000781</td>\n",
       "      <td>0.492109</td>\n",
       "      <td>0.000919</td>\n",
       "      <td>0.492641</td>\n",
       "      <td>0.000357</td>\n",
       "    </tr>\n",
       "    <tr>\n",
       "      <th>19</th>\n",
       "      <td>0.733610</td>\n",
       "      <td>0.001667</td>\n",
       "      <td>0.732540</td>\n",
       "      <td>0.000766</td>\n",
       "      <td>0.491930</td>\n",
       "      <td>0.000868</td>\n",
       "      <td>0.492442</td>\n",
       "      <td>0.000363</td>\n",
       "    </tr>\n",
       "    <tr>\n",
       "      <th>20</th>\n",
       "      <td>0.734169</td>\n",
       "      <td>0.001992</td>\n",
       "      <td>0.732986</td>\n",
       "      <td>0.000693</td>\n",
       "      <td>0.491532</td>\n",
       "      <td>0.001104</td>\n",
       "      <td>0.492130</td>\n",
       "      <td>0.000301</td>\n",
       "    </tr>\n",
       "    <tr>\n",
       "      <th>21</th>\n",
       "      <td>0.734537</td>\n",
       "      <td>0.001995</td>\n",
       "      <td>0.733368</td>\n",
       "      <td>0.000803</td>\n",
       "      <td>0.491260</td>\n",
       "      <td>0.001145</td>\n",
       "      <td>0.491853</td>\n",
       "      <td>0.000373</td>\n",
       "    </tr>\n",
       "    <tr>\n",
       "      <th>22</th>\n",
       "      <td>0.734786</td>\n",
       "      <td>0.001892</td>\n",
       "      <td>0.733614</td>\n",
       "      <td>0.000776</td>\n",
       "      <td>0.491098</td>\n",
       "      <td>0.001086</td>\n",
       "      <td>0.491686</td>\n",
       "      <td>0.000381</td>\n",
       "    </tr>\n",
       "    <tr>\n",
       "      <th>23</th>\n",
       "      <td>0.735174</td>\n",
       "      <td>0.002210</td>\n",
       "      <td>0.733943</td>\n",
       "      <td>0.000774</td>\n",
       "      <td>0.490843</td>\n",
       "      <td>0.001283</td>\n",
       "      <td>0.491467</td>\n",
       "      <td>0.000396</td>\n",
       "    </tr>\n",
       "    <tr>\n",
       "      <th>24</th>\n",
       "      <td>0.735302</td>\n",
       "      <td>0.002257</td>\n",
       "      <td>0.734138</td>\n",
       "      <td>0.000767</td>\n",
       "      <td>0.490757</td>\n",
       "      <td>0.001319</td>\n",
       "      <td>0.491348</td>\n",
       "      <td>0.000402</td>\n",
       "    </tr>\n",
       "    <tr>\n",
       "      <th>25</th>\n",
       "      <td>0.735589</td>\n",
       "      <td>0.002023</td>\n",
       "      <td>0.734389</td>\n",
       "      <td>0.000934</td>\n",
       "      <td>0.490552</td>\n",
       "      <td>0.001202</td>\n",
       "      <td>0.491166</td>\n",
       "      <td>0.000518</td>\n",
       "    </tr>\n",
       "    <tr>\n",
       "      <th>26</th>\n",
       "      <td>0.735767</td>\n",
       "      <td>0.002089</td>\n",
       "      <td>0.734571</td>\n",
       "      <td>0.000905</td>\n",
       "      <td>0.490391</td>\n",
       "      <td>0.001201</td>\n",
       "      <td>0.491004</td>\n",
       "      <td>0.000504</td>\n",
       "    </tr>\n",
       "    <tr>\n",
       "      <th>27</th>\n",
       "      <td>0.736021</td>\n",
       "      <td>0.001994</td>\n",
       "      <td>0.734805</td>\n",
       "      <td>0.000746</td>\n",
       "      <td>0.490236</td>\n",
       "      <td>0.001126</td>\n",
       "      <td>0.490859</td>\n",
       "      <td>0.000393</td>\n",
       "    </tr>\n",
       "    <tr>\n",
       "      <th>28</th>\n",
       "      <td>0.736269</td>\n",
       "      <td>0.001880</td>\n",
       "      <td>0.735042</td>\n",
       "      <td>0.000724</td>\n",
       "      <td>0.490075</td>\n",
       "      <td>0.001055</td>\n",
       "      <td>0.490698</td>\n",
       "      <td>0.000395</td>\n",
       "    </tr>\n",
       "    <tr>\n",
       "      <th>29</th>\n",
       "      <td>0.736403</td>\n",
       "      <td>0.001948</td>\n",
       "      <td>0.735217</td>\n",
       "      <td>0.000774</td>\n",
       "      <td>0.489969</td>\n",
       "      <td>0.001119</td>\n",
       "      <td>0.490571</td>\n",
       "      <td>0.000437</td>\n",
       "    </tr>\n",
       "  </tbody>\n",
       "</table>\n",
       "</div>"
      ],
      "text/plain": [
       "    test-AUC-mean  test-AUC-std  train-AUC-mean  train-AUC-std  \\\n",
       "0        0.704139      0.002146        0.704450       0.001620   \n",
       "1        0.709642      0.002370        0.709935       0.000398   \n",
       "2        0.712888      0.002192        0.713245       0.000706   \n",
       "3        0.716069      0.001659        0.716394       0.000788   \n",
       "4        0.718382      0.001644        0.718716       0.000822   \n",
       "5        0.720034      0.001725        0.720378       0.000431   \n",
       "6        0.721949      0.002057        0.722158       0.000854   \n",
       "7        0.723579      0.002796        0.723641       0.000934   \n",
       "8        0.726776      0.002031        0.726137       0.001059   \n",
       "9        0.727863      0.001740        0.727151       0.000782   \n",
       "10       0.728852      0.002198        0.727966       0.000480   \n",
       "11       0.729682      0.001854        0.728751       0.000688   \n",
       "12       0.730314      0.001684        0.729414       0.000963   \n",
       "13       0.730834      0.001725        0.729970       0.000850   \n",
       "14       0.731621      0.002016        0.730582       0.000871   \n",
       "15       0.732065      0.001982        0.731017       0.000832   \n",
       "16       0.732405      0.001629        0.731366       0.000920   \n",
       "17       0.732575      0.001643        0.731648       0.000931   \n",
       "18       0.733388      0.001702        0.732274       0.000781   \n",
       "19       0.733610      0.001667        0.732540       0.000766   \n",
       "20       0.734169      0.001992        0.732986       0.000693   \n",
       "21       0.734537      0.001995        0.733368       0.000803   \n",
       "22       0.734786      0.001892        0.733614       0.000776   \n",
       "23       0.735174      0.002210        0.733943       0.000774   \n",
       "24       0.735302      0.002257        0.734138       0.000767   \n",
       "25       0.735589      0.002023        0.734389       0.000934   \n",
       "26       0.735767      0.002089        0.734571       0.000905   \n",
       "27       0.736021      0.001994        0.734805       0.000746   \n",
       "28       0.736269      0.001880        0.735042       0.000724   \n",
       "29       0.736403      0.001948        0.735217       0.000774   \n",
       "\n",
       "    test-Logloss-mean  test-Logloss-std  train-Logloss-mean  train-Logloss-std  \n",
       "0            0.579722          0.001166            0.579642           0.000906  \n",
       "1            0.536618          0.000763            0.536492           0.000288  \n",
       "2            0.518551          0.000737            0.518393           0.000258  \n",
       "3            0.509873          0.000774            0.509709           0.000143  \n",
       "4            0.505179          0.000760            0.505014           0.000245  \n",
       "5            0.502617          0.000806            0.502444           0.000236  \n",
       "6            0.500601          0.000830            0.500468           0.000399  \n",
       "7            0.499046          0.001156            0.498964           0.000280  \n",
       "8            0.497175          0.001079            0.497375           0.000516  \n",
       "9            0.496326          0.000791            0.496567           0.000445  \n",
       "10           0.495547          0.001058            0.495888           0.000313  \n",
       "11           0.494917          0.000974            0.495295           0.000276  \n",
       "12           0.494356          0.000867            0.494740           0.000505  \n",
       "13           0.493906          0.000854            0.494282           0.000388  \n",
       "14           0.493388          0.001036            0.493859           0.000433  \n",
       "15           0.493006          0.001040            0.493489           0.000344  \n",
       "16           0.492755          0.000850            0.493247           0.000390  \n",
       "17           0.492605          0.000860            0.493045           0.000408  \n",
       "18           0.492109          0.000919            0.492641           0.000357  \n",
       "19           0.491930          0.000868            0.492442           0.000363  \n",
       "20           0.491532          0.001104            0.492130           0.000301  \n",
       "21           0.491260          0.001145            0.491853           0.000373  \n",
       "22           0.491098          0.001086            0.491686           0.000381  \n",
       "23           0.490843          0.001283            0.491467           0.000396  \n",
       "24           0.490757          0.001319            0.491348           0.000402  \n",
       "25           0.490552          0.001202            0.491166           0.000518  \n",
       "26           0.490391          0.001201            0.491004           0.000504  \n",
       "27           0.490236          0.001126            0.490859           0.000393  \n",
       "28           0.490075          0.001055            0.490698           0.000395  \n",
       "29           0.489969          0.001119            0.490571           0.000437  "
      ]
     },
     "execution_count": 105,
     "metadata": {},
     "output_type": "execute_result"
    }
   ],
   "source": [
    "cv_data"
   ]
  },
  {
   "cell_type": "code",
   "execution_count": 103,
   "metadata": {},
   "outputs": [
    {
     "data": {
      "text/plain": [
       "<matplotlib.axes._subplots.AxesSubplot at 0x116e4acf8>"
      ]
     },
     "execution_count": 103,
     "metadata": {},
     "output_type": "execute_result"
    },
    {
     "data": {
      "image/png": "[encoded data removed]",
      "text/plain": [
       "<Figure size 432x288 with 1 Axes>"
      ]
     },
     "metadata": {},
     "output_type": "display_data"
    }
   ],
   "source": [
    "cv_data.plot(y=['test-AUC-mean', 'train-AUC-mean'])"
   ]
  },
  {
   "cell_type": "code",
   "execution_count": 104,
   "metadata": {},
   "outputs": [
    {
     "data": {
      "text/plain": [
       "<matplotlib.axes._subplots.AxesSubplot at 0x144e1f550>"
      ]
     },
     "execution_count": 104,
     "metadata": {},
     "output_type": "execute_result"
    },
    {
     "data": {
      "image/png": "[encoded data removed]",
      "text/plain": [
       "<Figure size 432x288 with 1 Axes>"
      ]
     },
     "metadata": {},
     "output_type": "display_data"
    }
   ],
   "source": [
    "cv_data.plot(y=['test-Logloss-mean', 'train-Logloss-mean'])"
   ]
  },
  {
   "cell_type": "markdown",
   "metadata": {},
   "source": [
    "### train with some randomly added na for contract variables\n",
    "must be done before all feature engineering ? --> not necessarily (if variable identification is possible)"
   ]
  },
  {
   "cell_type": "code",
   "execution_count": 193,
   "metadata": {},
   "outputs": [],
   "source": [
    "train.drop('target', axis=1, inplace=True)"
   ]
  },
  {
   "cell_type": "code",
   "execution_count": 194,
   "metadata": {},
   "outputs": [],
   "source": [
    "var_with_new_categ_not_in_contract = [var for var in var_with_new_categ if var not in categ_contract]"
   ]
  },
  {
   "cell_type": "code",
   "execution_count": 195,
   "metadata": {},
   "outputs": [],
   "source": [
    "quanti_contract = ['PRIX_FACTURE', \n",
    "                   'CONTRAT_TARIF',\n",
    "                   'temps_depuis_debut_contrat',\n",
    "                   'temps_jusqua_fin_contrat', \n",
    "                   'temps_depuis_maj_contrat']"
   ]
  },
  {
   "cell_type": "code",
   "execution_count": 196,
   "metadata": {},
   "outputs": [],
   "source": [
    "variables = categ_contract + var_with_new_categ_not_in_contract\n",
    "train = add_categories_in_columns(train, variables, ['NAN'])\n",
    "test = add_categories_in_columns(test, variables, ['NAN'])"
   ]
  },
  {
   "cell_type": "code",
   "execution_count": 197,
   "metadata": {},
   "outputs": [],
   "source": [
    "categoricals = train.select_dtypes(include=['category', 'bool', 'object']).columns\n",
    "categorical_features_indices = [train.columns.get_loc(cat) for cat in categoricals]"
   ]
  },
  {
   "cell_type": "code",
   "execution_count": 198,
   "metadata": {},
   "outputs": [
    {
     "data": {
      "application/vnd.jupyter.widget-view+json": {
       "model_id": "a79597875f49435e9ecd8807404cdb8d",
       "version_major": 2,
       "version_minor": 0
      },
      "text/plain": [
       "HBox(children=(IntProgress(value=0, max=10), HTML(value='')))"
      ]
     },
     "metadata": {},
     "output_type": "display_data"
    }
   ],
   "source": [
    "models = []\n",
    "\n",
    "params = {'iterations': 30,\n",
    "          'border_count': 64,\n",
    "          'learning_rate':0.30\n",
    "}\n",
    "\n",
    "for i in tqdm.tqdm_notebook(range(10)):\n",
    "    _train = train.copy()\n",
    "    \n",
    "    _train = randomly_alter_modalities_on_same_line(_train, categ_contract, quanti_contract, 0.2)\n",
    "    _train = randomly_alter_modalities(_train, var_with_new_categ_not_in_contract, 0.2)\n",
    "\n",
    "    model = CatBoostClassifier(\n",
    "        **params,\n",
    "        verbose=False\n",
    "    )\n",
    "    \n",
    "    model.fit(_train, y, cat_features=categorical_features_indices)\n",
    "    models.append(model.copy())"
   ]
  },
  {
   "cell_type": "code",
   "execution_count": 199,
   "metadata": {},
   "outputs": [
    {
     "data": {
      "application/vnd.jupyter.widget-view+json": {
       "model_id": "298fcc937b1c4146a30e732ec7c7cfc7",
       "version_major": 2,
       "version_minor": 0
      },
      "text/plain": [
       "HBox(children=(IntProgress(value=0, max=10), HTML(value='')))"
      ]
     },
     "metadata": {},
     "output_type": "display_data"
    }
   ],
   "source": [
    "predictions = []\n",
    "for _model in tqdm.tqdm_notebook(models):\n",
    "    predictions.append(_model.predict_proba(test)[:,1])\n",
    "    \n",
    "submission = np.vstack(predictions).T.mean(axis=1)\n",
    "create_submission_file(submission, \"catboost_rdmNA\", params)"
   ]
  },
  {
   "cell_type": "code",
   "execution_count": 43,
   "metadata": {},
   "outputs": [],
   "source": [
    "#prediction if multiple models\n",
    "#prediction = np.hstack([predictions, predictions2]).mean(axis=1)"
   ]
  },
  {
   "cell_type": "markdown",
   "metadata": {},
   "source": [
    "## LightGBM"
   ]
  },
  {
   "cell_type": "code",
   "execution_count": 106,
   "metadata": {},
   "outputs": [
    {
     "name": "stderr",
     "output_type": "stream",
     "text": [
      "/Users/WM1158/anaconda2/envs/dsc_hs/lib/python3.6/site-packages/lightgbm/basic.py:1042: UserWarning: categorical_feature in Dataset is overridden. New categorical_feature is [0, 1, 3, 4, 5, 6, 7, 8, 9, 10, 11, 12, 13, 14, 15, 16, 18, 19, 20, 21, 22, 23, 24, 25, 26, 27, 28, 29, 36, 37, 38, 39, 40, 42, 43, 44, 45, 46, 47, 54, 55, 56, 57, 58, 59, 60, 61, 62, 63, 64, 65, 66, 67, 68, 69, 70, 71, 72, 73, 74, 75, 76, 77, 78, 79]\n",
      "  warnings.warn('categorical_feature in Dataset is overridden. New categorical_feature is {}'.format(sorted(list(categorical_feature))))\n"
     ]
    },
    {
     "name": "stdout",
     "output_type": "stream",
     "text": [
      "[1]\tvalid_0's auc: 0.710839\n",
      "[2]\tvalid_0's auc: 0.71554\n",
      "[3]\tvalid_0's auc: 0.717831\n",
      "[4]\tvalid_0's auc: 0.719205\n",
      "[5]\tvalid_0's auc: 0.720907\n",
      "[6]\tvalid_0's auc: 0.721476\n",
      "[7]\tvalid_0's auc: 0.721819\n",
      "[8]\tvalid_0's auc: 0.722246\n",
      "[9]\tvalid_0's auc: 0.722731\n",
      "[10]\tvalid_0's auc: 0.723095\n",
      "[11]\tvalid_0's auc: 0.723503\n",
      "[12]\tvalid_0's auc: 0.723551\n",
      "[13]\tvalid_0's auc: 0.723741\n",
      "[14]\tvalid_0's auc: 0.723942\n",
      "[15]\tvalid_0's auc: 0.7239\n",
      "[16]\tvalid_0's auc: 0.724123\n",
      "[17]\tvalid_0's auc: 0.72433\n",
      "[18]\tvalid_0's auc: 0.724458\n",
      "[19]\tvalid_0's auc: 0.724714\n",
      "[20]\tvalid_0's auc: 0.724784\n",
      "[21]\tvalid_0's auc: 0.725117\n",
      "[22]\tvalid_0's auc: 0.725347\n",
      "[23]\tvalid_0's auc: 0.725492\n",
      "[24]\tvalid_0's auc: 0.72563\n",
      "[25]\tvalid_0's auc: 0.725893\n",
      "[26]\tvalid_0's auc: 0.72617\n",
      "[27]\tvalid_0's auc: 0.7263\n",
      "[28]\tvalid_0's auc: 0.726396\n",
      "[29]\tvalid_0's auc: 0.726535\n",
      "[30]\tvalid_0's auc: 0.726579\n",
      "[31]\tvalid_0's auc: 0.726779\n",
      "[32]\tvalid_0's auc: 0.726998\n",
      "[33]\tvalid_0's auc: 0.727111\n",
      "[34]\tvalid_0's auc: 0.727201\n",
      "[35]\tvalid_0's auc: 0.727339\n",
      "[36]\tvalid_0's auc: 0.727384\n",
      "[37]\tvalid_0's auc: 0.727462\n",
      "[38]\tvalid_0's auc: 0.727484\n",
      "[39]\tvalid_0's auc: 0.72753\n",
      "[40]\tvalid_0's auc: 0.727632\n",
      "[41]\tvalid_0's auc: 0.727684\n",
      "[42]\tvalid_0's auc: 0.727749\n",
      "[43]\tvalid_0's auc: 0.727778\n",
      "[44]\tvalid_0's auc: 0.727797\n",
      "[45]\tvalid_0's auc: 0.727816\n",
      "[46]\tvalid_0's auc: 0.727849\n",
      "[47]\tvalid_0's auc: 0.727913\n",
      "[48]\tvalid_0's auc: 0.727928\n",
      "[49]\tvalid_0's auc: 0.727923\n",
      "[50]\tvalid_0's auc: 0.727883\n",
      "[51]\tvalid_0's auc: 0.727872\n",
      "[52]\tvalid_0's auc: 0.727942\n",
      "[53]\tvalid_0's auc: 0.727999\n",
      "[54]\tvalid_0's auc: 0.727921\n",
      "[55]\tvalid_0's auc: 0.727912\n",
      "[56]\tvalid_0's auc: 0.727879\n",
      "[57]\tvalid_0's auc: 0.727853\n",
      "[58]\tvalid_0's auc: 0.727842\n",
      "[59]\tvalid_0's auc: 0.72781\n",
      "[60]\tvalid_0's auc: 0.727768\n",
      "[61]\tvalid_0's auc: 0.727743\n",
      "[62]\tvalid_0's auc: 0.727702\n",
      "[63]\tvalid_0's auc: 0.727706\n",
      "[64]\tvalid_0's auc: 0.727778\n",
      "[65]\tvalid_0's auc: 0.727788\n",
      "[66]\tvalid_0's auc: 0.727784\n",
      "[67]\tvalid_0's auc: 0.727753\n",
      "[68]\tvalid_0's auc: 0.727757\n",
      "[69]\tvalid_0's auc: 0.727788\n",
      "[70]\tvalid_0's auc: 0.727861\n"
     ]
    },
    {
     "data": {
      "text/plain": [
       "LGBMClassifier(boosting_type='gbdt', class_weight=None, colsample_bytree=0.8,\n",
       "        is_unbalance=True, learning_rate=0.1, max_depth=10,\n",
       "        min_child_samples=20, min_child_weight=0.001, min_data_in_leaf=100,\n",
       "        min_split_gain=0.0, n_estimators=70, n_jobs=-1, num_leaves=200,\n",
       "        objective='binary', random_state=None, reg_alpha=0.0,\n",
       "        reg_lambda=0.0, seed=1704567630, silent=True, subsample=0.8,\n",
       "        subsample_for_bin=200000, subsample_freq=0)"
      ]
     },
     "execution_count": 106,
     "metadata": {},
     "output_type": "execute_result"
    }
   ],
   "source": [
    "import lightgbm\n",
    "\n",
    "model_gbm = lightgbm.LGBMClassifier(\n",
    "    seed=np.random.randint(10**10),\n",
    "    n_estimators=70,\n",
    "    max_depth=20,\n",
    "    num_leaves=200,\n",
    "    min_data_in_leaf=100,\n",
    "    subsample=0.8,\n",
    "    colsample_bytree=0.8,\n",
    "    is_unbalance=True,\n",
    "    objective='binary'\n",
    ")\n",
    "\n",
    "model_gbm.fit(X_train_train, y_train_train, \n",
    "              eval_set=[(X_train_val, y_train_val)], \n",
    "              eval_metric='auc', \n",
    "              categorical_feature=categorical_features_indices)"
   ]
  },
  {
   "cell_type": "markdown",
   "metadata": {},
   "source": [
    "## H2O random forest\n",
    "http://docs.h2o.ai/h2o/latest-stable/h2o-docs/grid-search.html#grid-search-in-python"
   ]
  },
  {
   "cell_type": "markdown",
   "metadata": {},
   "source": [
    "TODO: assembling categorical features (see stacknet tutorial)\n",
    "TODO: compare LB to val score\n",
    "TODO: hyper parameter optimization"
   ]
  },
  {
   "cell_type": "code",
   "execution_count": 8,
   "metadata": {},
   "outputs": [],
   "source": [
    "import h2o"
   ]
  },
  {
   "cell_type": "code",
   "execution_count": 9,
   "metadata": {},
   "outputs": [
    {
     "name": "stdout",
     "output_type": "stream",
     "text": [
      "Checking whether there is an H2O instance running at http://localhost:54321..... not found.\n",
      "Attempting to start a local H2O server...\n",
      "  Java Version: java version \"1.8.0_181\"; Java(TM) SE Runtime Environment (build 1.8.0_181-b13); Java HotSpot(TM) 64-Bit Server VM (build 25.181-b13, mixed mode)\n",
      "  Starting server from /Users/WM1158/anaconda2/envs/dsc_hs/lib/python3.6/site-packages/h2o/backend/bin/h2o.jar\n",
      "  Ice root: /var/folders/cn/_vkc1v4550g_s2ck0c34d7zr0000gp/T/tmp4vby9s28\n",
      "  JVM stdout: /var/folders/cn/_vkc1v4550g_s2ck0c34d7zr0000gp/T/tmp4vby9s28/h2o_WM1158_started_from_python.out\n",
      "  JVM stderr: /var/folders/cn/_vkc1v4550g_s2ck0c34d7zr0000gp/T/tmp4vby9s28/h2o_WM1158_started_from_python.err\n",
      "  Server is running at http://127.0.0.1:54321\n",
      "Connecting to H2O server at http://127.0.0.1:54321... successful.\n"
     ]
    },
    {
     "data": {
      "text/html": [
       "<div style=\"overflow:auto\"><table style=\"width:50%\"><tr><td>H2O cluster uptime:</td>\n",
       "<td>01 secs</td></tr>\n",
       "<tr><td>H2O cluster timezone:</td>\n",
       "<td>Europe/Paris</td></tr>\n",
       "<tr><td>H2O data parsing timezone:</td>\n",
       "<td>UTC</td></tr>\n",
       "<tr><td>H2O cluster version:</td>\n",
       "<td>3.20.0.7</td></tr>\n",
       "<tr><td>H2O cluster version age:</td>\n",
       "<td>9 days </td></tr>\n",
       "<tr><td>H2O cluster name:</td>\n",
       "<td>H2O_from_python_WM1158_n5dzt5</td></tr>\n",
       "<tr><td>H2O cluster total nodes:</td>\n",
       "<td>1</td></tr>\n",
       "<tr><td>H2O cluster free memory:</td>\n",
       "<td>7.111 Gb</td></tr>\n",
       "<tr><td>H2O cluster total cores:</td>\n",
       "<td>4</td></tr>\n",
       "<tr><td>H2O cluster allowed cores:</td>\n",
       "<td>2</td></tr>\n",
       "<tr><td>H2O cluster status:</td>\n",
       "<td>accepting new members, healthy</td></tr>\n",
       "<tr><td>H2O connection url:</td>\n",
       "<td>http://127.0.0.1:54321</td></tr>\n",
       "<tr><td>H2O connection proxy:</td>\n",
       "<td>None</td></tr>\n",
       "<tr><td>H2O internal security:</td>\n",
       "<td>False</td></tr>\n",
       "<tr><td>H2O API Extensions:</td>\n",
       "<td>XGBoost, Algos, AutoML, Core V3, Core V4</td></tr>\n",
       "<tr><td>Python version:</td>\n",
       "<td>3.6.6 final</td></tr></table></div>"
      ],
      "text/plain": [
       "--------------------------  ----------------------------------------\n",
       "H2O cluster uptime:         01 secs\n",
       "H2O cluster timezone:       Europe/Paris\n",
       "H2O data parsing timezone:  UTC\n",
       "H2O cluster version:        3.20.0.7\n",
       "H2O cluster version age:    9 days\n",
       "H2O cluster name:           H2O_from_python_WM1158_n5dzt5\n",
       "H2O cluster total nodes:    1\n",
       "H2O cluster free memory:    7.111 Gb\n",
       "H2O cluster total cores:    4\n",
       "H2O cluster allowed cores:  2\n",
       "H2O cluster status:         accepting new members, healthy\n",
       "H2O connection url:         http://127.0.0.1:54321\n",
       "H2O connection proxy:\n",
       "H2O internal security:      False\n",
       "H2O API Extensions:         XGBoost, Algos, AutoML, Core V3, Core V4\n",
       "Python version:             3.6.6 final\n",
       "--------------------------  ----------------------------------------"
      ]
     },
     "metadata": {},
     "output_type": "display_data"
    }
   ],
   "source": [
    "h2o.init(nthreads=2, max_mem_size = \"8G\")             #specify max number of bytes. uses all cores by default.\n",
    "h2o.remove_all() #clean slate, in case cluster was already running"
   ]
  },
  {
   "cell_type": "code",
   "execution_count": 138,
   "metadata": {},
   "outputs": [],
   "source": [
    "from h2o.estimators.gbm import H2OGradientBoostingEstimator\n",
    "from h2o.estimators.random_forest import H2ORandomForestEstimator\n",
    "from h2o.grid import H2OGridSearch"
   ]
  },
  {
   "cell_type": "code",
   "execution_count": 152,
   "metadata": {},
   "outputs": [],
   "source": [
    "train['target'] = y"
   ]
  },
  {
   "cell_type": "code",
   "execution_count": 18,
   "metadata": {},
   "outputs": [],
   "source": [
    "categoricals = train.select_dtypes(include=['int8', 'int16', 'int32', 'int64']).columns\n",
    "#categorical_features_indices = [X_train_train.columns.get_loc(cat) for cat in categoricals]\n",
    "train.loc[:, categoricals] = train.loc[:, categoricals].astype('category')\n",
    "\n",
    "test.loc[:, categoricals] = test.loc[:, categoricals].astype('category')\n",
    "\n",
    "cd = CategoriesDroper(categoricals)\n",
    "cd.fit(train)\n",
    "test = cd.transform(test)"
   ]
  },
  {
   "cell_type": "code",
   "execution_count": 141,
   "metadata": {},
   "outputs": [
    {
     "name": "stderr",
     "output_type": "stream",
     "text": [
      "/Users/WM1158/anaconda2/envs/dsc_hs/lib/python3.6/site-packages/h2o/utils/shared_utils.py:177: FutureWarning: Method .as_matrix will be removed in a future version. Use .values instead.\n",
      "  data = _handle_python_lists(python_obj.as_matrix().tolist(), -1)[1]\n"
     ]
    },
    {
     "name": "stdout",
     "output_type": "stream",
     "text": [
      "Parse progress: |█████████████████████████████████████████████████████████| 100%\n",
      "Parse progress: |█████████████████████████████████████████████████████████| 100%\n"
     ]
    }
   ],
   "source": [
    "#covtype_df = h2o.import_file(os.path.realpath(\"../data/covtype.full.csv\"))\n",
    "#convert df to H2O df type\n",
    "train_H2O = h2o.H2OFrame(train)\n",
    "test_h2O = h2o.H2OFrame(test)"
   ]
  },
  {
   "cell_type": "code",
   "execution_count": 142,
   "metadata": {},
   "outputs": [],
   "source": [
    "#split the data as described above\n",
    "#X_train, X_valid, X_test = train_H2O.split_frame([0.60, 0.20], seed=1234)\n",
    "X_train, X_valid = train_H2O.split_frame([0.75], seed=1234)"
   ]
  },
  {
   "cell_type": "code",
   "execution_count": 144,
   "metadata": {},
   "outputs": [],
   "source": [
    "#Prepare predictors and response columns\n",
    "X = train_H2O.col_names     #last column is Cover_Type, our desired response variable \n",
    "X.remove('target')\n",
    "y = 'target'"
   ]
  },
  {
   "cell_type": "code",
   "execution_count": 24,
   "metadata": {},
   "outputs": [],
   "source": [
    "params = {}\n",
    "\n",
    "rf_v1 = H2ORandomForestEstimator(\n",
    "    model_id=\"rf_v1\",\n",
    "    ntrees=100,\n",
    "    stopping_rounds=2,\n",
    "    score_each_iteration=False,\n",
    "    seed=1000000)"
   ]
  },
  {
   "cell_type": "code",
   "execution_count": 25,
   "metadata": {},
   "outputs": [
    {
     "name": "stdout",
     "output_type": "stream",
     "text": [
      "drf Model Build progress: |███████████████████████████████████████████████| 100%\n"
     ]
    }
   ],
   "source": [
    "rf_v1.train(X, y, training_frame=X_train, validation_frame=X_valid)"
   ]
  },
  {
   "cell_type": "code",
   "execution_count": 28,
   "metadata": {},
   "outputs": [
    {
     "name": "stdout",
     "output_type": "stream",
     "text": [
      "drf prediction progress: |████████████████████████████████████████████████| 100%\n"
     ]
    },
    {
     "data": {
      "text/plain": [
       "0.7235783516874486"
      ]
     },
     "execution_count": 28,
     "metadata": {},
     "output_type": "execute_result"
    }
   ],
   "source": [
    "sklearn.metrics.roc_auc_score(X_valid['target'].as_data_frame(), rf_v1.predict(X_valid[X])[2].as_data_frame())"
   ]
  },
  {
   "cell_type": "code",
   "execution_count": 33,
   "metadata": {},
   "outputs": [
    {
     "data": {
      "image/png": "[encoded data removed]",
      "text/plain": [
       "<Figure size 640x480 with 1 Axes>"
      ]
     },
     "metadata": {},
     "output_type": "display_data"
    }
   ],
   "source": [
    "import matplotlib.pyplot as plt\n",
    "plt.rcdefaults()\n",
    "fig, ax = plt.subplots()\n",
    "variables = rf_v1._model_json['output']['variable_importances']['variable']\n",
    "y_pos = np.arange(len(variables))\n",
    "scaled_importance = rf_v1._model_json['output']['variable_importances']['scaled_importance']\n",
    "ax.barh(y_pos, scaled_importance, align='center', color='green', ecolor='black')\n",
    "ax.set_yticks(y_pos)\n",
    "ax.set_yticklabels(variables)\n",
    "ax.invert_yaxis()\n",
    "ax.set_xlabel('Scaled Importance')\n",
    "ax.set_title('Variable Importance')\n",
    "plt.show()"
   ]
  },
  {
   "cell_type": "code",
   "execution_count": 35,
   "metadata": {},
   "outputs": [
    {
     "name": "stdout",
     "output_type": "stream",
     "text": [
      "Variable Importances: \n"
     ]
    },
    {
     "data": {
      "text/html": [
       "<div style=\"overflow:auto\"><table style=\"width:50%\"><tr><td><b>variable</b></td>\n",
       "<td><b>relative_importance</b></td>\n",
       "<td><b>scaled_importance</b></td>\n",
       "<td><b>percentage</b></td></tr>\n",
       "<tr><td>INCIDENT_TYPE_ID_plus_NATURE_CODE</td>\n",
       "<td>158667.0</td>\n",
       "<td>1.0</td>\n",
       "<td>0.0557487</td></tr>\n",
       "<tr><td>INCIDENT_TYPE_ID_plus_L2_ORGANISATION_ID</td>\n",
       "<td>131864.2812500</td>\n",
       "<td>0.8310757</td>\n",
       "<td>0.0463314</td></tr>\n",
       "<tr><td>canceled_proba_pred</td>\n",
       "<td>129055.3437500</td>\n",
       "<td>0.8133723</td>\n",
       "<td>0.0453444</td></tr>\n",
       "<tr><td>INCIDENT_TYPE_ID_plus_mois_appel</td>\n",
       "<td>121480.6796875</td>\n",
       "<td>0.7656329</td>\n",
       "<td>0.0426830</td></tr>\n",
       "<tr><td>INCIDENT_TYPE_ID</td>\n",
       "<td>118892.3046875</td>\n",
       "<td>0.7493197</td>\n",
       "<td>0.0417736</td></tr>\n",
       "<tr><td>---</td>\n",
       "<td>---</td>\n",
       "<td>---</td>\n",
       "<td>---</td></tr>\n",
       "<tr><td>NB_PASSAGE</td>\n",
       "<td>4729.4462891</td>\n",
       "<td>0.0298074</td>\n",
       "<td>0.0016617</td></tr>\n",
       "<tr><td>USAGE_LOCAL</td>\n",
       "<td>2970.4482422</td>\n",
       "<td>0.0187213</td>\n",
       "<td>0.0010437</td></tr>\n",
       "<tr><td>PROBLEM_CODE</td>\n",
       "<td>2183.8430176</td>\n",
       "<td>0.0137637</td>\n",
       "<td>0.0007673</td></tr>\n",
       "<tr><td>duree_prevue</td>\n",
       "<td>41.9812012</td>\n",
       "<td>0.0002646</td>\n",
       "<td>0.0000148</td></tr>\n",
       "<tr><td>PAYS</td>\n",
       "<td>1.5233314</td>\n",
       "<td>0.0000096</td>\n",
       "<td>0.0000005</td></tr></table></div>"
      ],
      "text/plain": [
       "variable                                  relative_importance    scaled_importance      percentage\n",
       "----------------------------------------  ---------------------  ---------------------  ----------------------\n",
       "INCIDENT_TYPE_ID_plus_NATURE_CODE         158667.0               1.0                    0.0557486956752407\n",
       "INCIDENT_TYPE_ID_plus_L2_ORGANISATION_ID  131864.28125           0.8310756568788721     0.046331383878441\n",
       "canceled_proba_pred                       129055.34375           0.8133723064657428     0.0453444451838273\n",
       "INCIDENT_TYPE_ID_plus_mois_appel          121480.6796875         0.7656329273730518     0.042683037067063924\n",
       "INCIDENT_TYPE_ID                          118892.3046875         0.7493196738294667     0.04177359445978956\n",
       "---                                       ---                    ---                    ---\n",
       "NB_PASSAGE                                4729.4462890625        0.029807371974402364   0.0016617221090796557\n",
       "USAGE_LOCAL                               2970.4482421875        0.01872127312035584    0.0010436865578397814\n",
       "PROBLEM_CODE                              2183.843017578125      0.013763687582031078   0.00076730763037974\n",
       "duree_prevue                              41.981201171875        0.0002645868464890305  1.4750371584588587e-05\n",
       "PAYS                                      1.5233314037322998     9.600808005018685e-06  5.352325237082015e-07"
      ]
     },
     "metadata": {},
     "output_type": "display_data"
    },
    {
     "name": "stdout",
     "output_type": "stream",
     "text": [
      "\n",
      "See the whole table with table.as_data_frame()\n"
     ]
    },
    {
     "data": {
      "text/plain": []
     },
     "execution_count": 35,
     "metadata": {},
     "output_type": "execute_result"
    }
   ],
   "source": [
    "rf_v1._model_json['output']['variable_importances']"
   ]
  },
  {
   "cell_type": "markdown",
   "metadata": {},
   "source": [
    "#### hyperopt h2o\n",
    "https://github.com/h2oai/h2o-tutorials/blob/master/h2o-open-tour-2016/chicago/grid-search-model-selection.ipynb"
   ]
  },
  {
   "cell_type": "code",
   "execution_count": 146,
   "metadata": {},
   "outputs": [],
   "source": [
    "# GBM hyperparameters\n",
    "gbm_params2 = {'learn_rate': [i * 0.01 for i in range(1, 11)], \n",
    "                'max_depth': list(range(2, 11)),\n",
    "                'sample_rate': [i * 0.1 for i in range(5, 11)],\n",
    "                'col_sample_rate': [i * 0.1 for i in range(1, 11)]}\n",
    "\n",
    "# Search criteria\n",
    "search_criteria2 = {'strategy': 'RandomDiscrete', 'max_models': 36}"
   ]
  },
  {
   "cell_type": "code",
   "execution_count": 153,
   "metadata": {},
   "outputs": [
    {
     "ename": "TypeError",
     "evalue": "'Series' objects are mutable, thus they cannot be hashed",
     "output_type": "error",
     "traceback": [
      "\u001b[0;31m---------------------------------------------------------------------------\u001b[0m",
      "\u001b[0;31mTypeError\u001b[0m                                 Traceback (most recent call last)",
      "\u001b[0;32m<ipython-input-153-796d226b2f36>\u001b[0m in \u001b[0;36m<module>\u001b[0;34m()\u001b[0m\n\u001b[1;32m     11\u001b[0m                 \u001b[0mstopping_metric\u001b[0m\u001b[0;34m=\u001b[0m\u001b[0;34m'AUC'\u001b[0m\u001b[0;34m,\u001b[0m\u001b[0;34m\u001b[0m\u001b[0m\n\u001b[1;32m     12\u001b[0m                 \u001b[0mstopping_rounds\u001b[0m\u001b[0;34m=\u001b[0m\u001b[0;36m5\u001b[0m\u001b[0;34m,\u001b[0m\u001b[0;34m\u001b[0m\u001b[0m\n\u001b[0;32m---> 13\u001b[0;31m                 seed=1)\n\u001b[0m",
      "\u001b[0;32m~/anaconda2/envs/dsc_hs/lib/python3.6/site-packages/h2o/grid/grid_search.py\u001b[0m in \u001b[0;36mtrain\u001b[0;34m(self, x, y, training_frame, offset_column, fold_column, weights_column, validation_frame, **params)\u001b[0m\n\u001b[1;32m    206\u001b[0m         \u001b[0mx\u001b[0m \u001b[0;34m=\u001b[0m \u001b[0mlist\u001b[0m\u001b[0;34m(\u001b[0m\u001b[0mxset\u001b[0m\u001b[0;34m)\u001b[0m\u001b[0;34m\u001b[0m\u001b[0m\n\u001b[1;32m    207\u001b[0m         \u001b[0mparms\u001b[0m\u001b[0;34m[\u001b[0m\u001b[0;34m\"x\"\u001b[0m\u001b[0;34m]\u001b[0m \u001b[0;34m=\u001b[0m \u001b[0mx\u001b[0m\u001b[0;34m\u001b[0m\u001b[0m\n\u001b[0;32m--> 208\u001b[0;31m         \u001b[0mself\u001b[0m\u001b[0;34m.\u001b[0m\u001b[0mbuild_model\u001b[0m\u001b[0;34m(\u001b[0m\u001b[0mparms\u001b[0m\u001b[0;34m)\u001b[0m\u001b[0;34m\u001b[0m\u001b[0m\n\u001b[0m\u001b[1;32m    209\u001b[0m \u001b[0;34m\u001b[0m\u001b[0m\n\u001b[1;32m    210\u001b[0m \u001b[0;34m\u001b[0m\u001b[0m\n",
      "\u001b[0;32m~/anaconda2/envs/dsc_hs/lib/python3.6/site-packages/h2o/grid/grid_search.py\u001b[0m in \u001b[0;36mbuild_model\u001b[0;34m(self, algo_params)\u001b[0m\n\u001b[1;32m    221\u001b[0m         \u001b[0;32mif\u001b[0m \u001b[0mis_auto_encoder\u001b[0m \u001b[0;32mand\u001b[0m \u001b[0my\u001b[0m \u001b[0;32mis\u001b[0m \u001b[0;32mnot\u001b[0m \u001b[0;32mNone\u001b[0m\u001b[0;34m:\u001b[0m \u001b[0;32mraise\u001b[0m \u001b[0mValueError\u001b[0m\u001b[0;34m(\u001b[0m\u001b[0;34m\"y should not be specified for autoencoder.\"\u001b[0m\u001b[0;34m)\u001b[0m\u001b[0;34m\u001b[0m\u001b[0m\n\u001b[1;32m    222\u001b[0m         \u001b[0;32mif\u001b[0m \u001b[0;32mnot\u001b[0m \u001b[0mis_unsupervised\u001b[0m \u001b[0;32mand\u001b[0m \u001b[0my\u001b[0m \u001b[0;32mis\u001b[0m \u001b[0;32mNone\u001b[0m\u001b[0;34m:\u001b[0m \u001b[0;32mraise\u001b[0m \u001b[0mValueError\u001b[0m\u001b[0;34m(\u001b[0m\u001b[0;34m\"Missing response\"\u001b[0m\u001b[0;34m)\u001b[0m\u001b[0;34m\u001b[0m\u001b[0m\n\u001b[0;32m--> 223\u001b[0;31m         \u001b[0mself\u001b[0m\u001b[0;34m.\u001b[0m\u001b[0m_model_build\u001b[0m\u001b[0;34m(\u001b[0m\u001b[0mx\u001b[0m\u001b[0;34m,\u001b[0m \u001b[0my\u001b[0m\u001b[0;34m,\u001b[0m \u001b[0mtraining_frame\u001b[0m\u001b[0;34m,\u001b[0m \u001b[0mvalidation_frame\u001b[0m\u001b[0;34m,\u001b[0m \u001b[0malgo_params\u001b[0m\u001b[0;34m)\u001b[0m\u001b[0;34m\u001b[0m\u001b[0m\n\u001b[0m\u001b[1;32m    224\u001b[0m \u001b[0;34m\u001b[0m\u001b[0m\n\u001b[1;32m    225\u001b[0m \u001b[0;34m\u001b[0m\u001b[0m\n",
      "\u001b[0;32m~/anaconda2/envs/dsc_hs/lib/python3.6/site-packages/h2o/grid/grid_search.py\u001b[0m in \u001b[0;36m_model_build\u001b[0;34m(self, x, y, tframe, vframe, kwargs)\u001b[0m\n\u001b[1;32m    235\u001b[0m         \u001b[0mfolds\u001b[0m \u001b[0;34m=\u001b[0m \u001b[0mkwargs\u001b[0m\u001b[0;34m[\u001b[0m\u001b[0;34m\"fold_column\"\u001b[0m\u001b[0;34m]\u001b[0m\u001b[0;34m\u001b[0m\u001b[0m\n\u001b[1;32m    236\u001b[0m         \u001b[0mweights\u001b[0m \u001b[0;34m=\u001b[0m \u001b[0mkwargs\u001b[0m\u001b[0;34m[\u001b[0m\u001b[0;34m\"weights_column\"\u001b[0m\u001b[0;34m]\u001b[0m\u001b[0;34m\u001b[0m\u001b[0m\n\u001b[0;32m--> 237\u001b[0;31m         \u001b[0mignored_columns\u001b[0m \u001b[0;34m=\u001b[0m \u001b[0mlist\u001b[0m\u001b[0;34m(\u001b[0m\u001b[0mset\u001b[0m\u001b[0;34m(\u001b[0m\u001b[0mtframe\u001b[0m\u001b[0;34m.\u001b[0m\u001b[0mnames\u001b[0m\u001b[0;34m)\u001b[0m \u001b[0;34m-\u001b[0m \u001b[0mset\u001b[0m\u001b[0;34m(\u001b[0m\u001b[0mx\u001b[0m \u001b[0;34m+\u001b[0m \u001b[0;34m[\u001b[0m\u001b[0my\u001b[0m\u001b[0;34m,\u001b[0m \u001b[0moffset\u001b[0m\u001b[0;34m,\u001b[0m \u001b[0mfolds\u001b[0m\u001b[0;34m,\u001b[0m \u001b[0mweights\u001b[0m\u001b[0;34m]\u001b[0m\u001b[0;34m)\u001b[0m\u001b[0;34m)\u001b[0m\u001b[0;34m\u001b[0m\u001b[0m\n\u001b[0m\u001b[1;32m    238\u001b[0m         \u001b[0mkwargs\u001b[0m\u001b[0;34m[\u001b[0m\u001b[0;34m\"ignored_columns\"\u001b[0m\u001b[0;34m]\u001b[0m \u001b[0;34m=\u001b[0m \u001b[0;32mNone\u001b[0m \u001b[0;32mif\u001b[0m \u001b[0;32mnot\u001b[0m \u001b[0mignored_columns\u001b[0m \u001b[0;32melse\u001b[0m \u001b[0;34m[\u001b[0m\u001b[0mquoted\u001b[0m\u001b[0;34m(\u001b[0m\u001b[0mcol\u001b[0m\u001b[0;34m)\u001b[0m \u001b[0;32mfor\u001b[0m \u001b[0mcol\u001b[0m \u001b[0;32min\u001b[0m \u001b[0mignored_columns\u001b[0m\u001b[0;34m]\u001b[0m\u001b[0;34m\u001b[0m\u001b[0m\n\u001b[1;32m    239\u001b[0m         kwargs = dict([(k, kwargs[k].frame_id if isinstance(kwargs[k], H2OFrame) else kwargs[k]) for k in kwargs if\n",
      "\u001b[0;32m~/anaconda2/envs/dsc_hs/lib/python3.6/site-packages/pandas/core/generic.py\u001b[0m in \u001b[0;36m__hash__\u001b[0;34m(self)\u001b[0m\n\u001b[1;32m   1490\u001b[0m     \u001b[0;32mdef\u001b[0m \u001b[0m__hash__\u001b[0m\u001b[0;34m(\u001b[0m\u001b[0mself\u001b[0m\u001b[0;34m)\u001b[0m\u001b[0;34m:\u001b[0m\u001b[0;34m\u001b[0m\u001b[0m\n\u001b[1;32m   1491\u001b[0m         raise TypeError('{0!r} objects are mutable, thus they cannot be'\n\u001b[0;32m-> 1492\u001b[0;31m                         ' hashed'.format(self.__class__.__name__))\n\u001b[0m\u001b[1;32m   1493\u001b[0m \u001b[0;34m\u001b[0m\u001b[0m\n\u001b[1;32m   1494\u001b[0m     \u001b[0;32mdef\u001b[0m \u001b[0m__iter__\u001b[0m\u001b[0;34m(\u001b[0m\u001b[0mself\u001b[0m\u001b[0;34m)\u001b[0m\u001b[0;34m:\u001b[0m\u001b[0;34m\u001b[0m\u001b[0m\n",
      "\u001b[0;31mTypeError\u001b[0m: 'Series' objects are mutable, thus they cannot be hashed"
     ]
    }
   ],
   "source": [
    "gbm_grid2  = H2OGridSearch(model=H2OGradientBoostingEstimator,\n",
    "                          grid_id='gbm_grid2',\n",
    "                          hyper_params=gbm_params2,\n",
    "                          search_criteria=search_criteria2)\n",
    "\n",
    "gbm_grid2.train(x=X, y=y, \n",
    "                training_frame=X_train,\n",
    "                validation_frame=X_valid, \n",
    "                ntrees=100,\n",
    "                balance_classes=True,\n",
    "                stopping_metric='AUC',\n",
    "                stopping_rounds=5,\n",
    "                seed=1)"
   ]
  },
  {
   "cell_type": "code",
   "execution_count": null,
   "metadata": {},
   "outputs": [],
   "source": [
    "gbm_gridperf2 = gbm_grid2.get_grid(sort_by='auc', decreasing=True)"
   ]
  },
  {
   "cell_type": "code",
   "execution_count": null,
   "metadata": {},
   "outputs": [],
   "source": [
    "print gbm_gridperf2"
   ]
  },
  {
   "cell_type": "markdown",
   "metadata": {},
   "source": [
    "### submission"
   ]
  },
  {
   "cell_type": "code",
   "execution_count": 34,
   "metadata": {},
   "outputs": [],
   "source": [
    "params = {'ntrees':24}\n",
    "\n",
    "rf = H2ORandomForestEstimator(\n",
    "    model_id=\"rf\",\n",
    "    seed=1000000)"
   ]
  },
  {
   "cell_type": "code",
   "execution_count": 38,
   "metadata": {},
   "outputs": [
    {
     "name": "stdout",
     "output_type": "stream",
     "text": [
      "drf Model Build progress: |███████████████████████████████████████████████| 100%\n"
     ]
    }
   ],
   "source": [
    "rf.train(covtype_X, covtype_y, training_frame=train_H2O)"
   ]
  },
  {
   "cell_type": "code",
   "execution_count": 51,
   "metadata": {},
   "outputs": [
    {
     "name": "stdout",
     "output_type": "stream",
     "text": [
      "drf prediction progress: |████████████████████████████████████████████████| 100%\n"
     ]
    },
    {
     "name": "stderr",
     "output_type": "stream",
     "text": [
      "/home/julien/anaconda3/lib/python3.6/site-packages/h2o/job.py:69: UserWarning: Test/Validation dataset column 'RACHAT_CODE' has levels not trained on: [NAN]\n",
      "  warnings.warn(w)\n",
      "/home/julien/anaconda3/lib/python3.6/site-packages/h2o/job.py:69: UserWarning: Test/Validation dataset column 'NATURE_CODE' has levels not trained on: [NAN]\n",
      "  warnings.warn(w)\n",
      "/home/julien/anaconda3/lib/python3.6/site-packages/h2o/job.py:69: UserWarning: Test/Validation dataset column 'MODELE_CODE' has levels not trained on: [NAN]\n",
      "  warnings.warn(w)\n",
      "/home/julien/anaconda3/lib/python3.6/site-packages/h2o/job.py:69: UserWarning: Test/Validation dataset column 'CODE_GEN_EQUIPEMENT' has levels not trained on: [NAN]\n",
      "  warnings.warn(w)\n",
      "/home/julien/anaconda3/lib/python3.6/site-packages/h2o/job.py:69: UserWarning: Test/Validation dataset column 'CODE_FONCTION' has levels not trained on: [NAN]\n",
      "  warnings.warn(w)\n",
      "/home/julien/anaconda3/lib/python3.6/site-packages/h2o/job.py:69: UserWarning: Test/Validation dataset column 'FORMULE' has levels not trained on: [NAN]\n",
      "  warnings.warn(w)\n",
      "/home/julien/anaconda3/lib/python3.6/site-packages/h2o/job.py:69: UserWarning: Test/Validation dataset column 'OPTION' has levels not trained on: [NAN]\n",
      "  warnings.warn(w)\n",
      "/home/julien/anaconda3/lib/python3.6/site-packages/h2o/job.py:69: UserWarning: Test/Validation dataset column 'nc_1' has levels not trained on: [XX]\n",
      "  warnings.warn(w)\n"
     ]
    }
   ],
   "source": [
    "submission = rf.predict(test_h2O).as_data_frame()"
   ]
  },
  {
   "cell_type": "code",
   "execution_count": null,
   "metadata": {},
   "outputs": [],
   "source": [
    "create_submission_file(submission, \"H2O_RF\", params)"
   ]
  },
  {
   "cell_type": "code",
   "execution_count": null,
   "metadata": {},
   "outputs": [],
   "source": []
  },
  {
   "cell_type": "code",
   "execution_count": null,
   "metadata": {},
   "outputs": [],
   "source": []
  },
  {
   "cell_type": "code",
   "execution_count": null,
   "metadata": {},
   "outputs": [],
   "source": []
  },
  {
   "cell_type": "markdown",
   "metadata": {},
   "source": [
    "## LR\n",
    "\n",
    "0.71"
   ]
  },
  {
   "cell_type": "code",
   "execution_count": 119,
   "metadata": {},
   "outputs": [],
   "source": [
    "from sklearn.preprocessing import OneHotEncoder\n",
    "#from scipy.sparse import csr_matrix,csc_matrix\n",
    "from sklearn.cross_validation import StratifiedKFold\n",
    "#from sklearn.preprocessing import StandardScaler\n",
    "from sklearn.linear_model import SGDClassifier, LogisticRegressionCV\n",
    "from sklearn.metrics import roc_auc_score\n",
    "#from sklearn.preprocessing import LabelEncoder"
   ]
  },
  {
   "cell_type": "code",
   "execution_count": 112,
   "metadata": {},
   "outputs": [],
   "source": [
    "categoricals = train.select_dtypes(include=['category']).columns\n",
    "categorical_features_indices = [train.columns.get_loc(cat) for cat in categoricals]"
   ]
  },
  {
   "cell_type": "code",
   "execution_count": 113,
   "metadata": {},
   "outputs": [],
   "source": [
    "for item in train.select_dtypes(include=['category']).columns:\n",
    "    train[item] = train[item].cat.codes\n",
    "    test[item] = test[item].cat.codes"
   ]
  },
  {
   "cell_type": "code",
   "execution_count": 117,
   "metadata": {},
   "outputs": [
    {
     "ename": "AttributeError",
     "evalue": "probability estimates are not available for loss='hinge'",
     "output_type": "error",
     "traceback": [
      "\u001b[0;31m---------------------------------------------------------------------------\u001b[0m",
      "\u001b[0;31mAttributeError\u001b[0m                            Traceback (most recent call last)",
      "\u001b[0;32m<ipython-input-117-5544343b9f4a>\u001b[0m in \u001b[0;36m<module>\u001b[0;34m()\u001b[0m\n\u001b[1;32m     15\u001b[0m         \u001b[0mX_cv\u001b[0m\u001b[0;34m=\u001b[0m\u001b[0mone\u001b[0m\u001b[0;34m.\u001b[0m\u001b[0mtransform\u001b[0m\u001b[0;34m(\u001b[0m\u001b[0mX_cv\u001b[0m\u001b[0;34m)\u001b[0m\u001b[0;34m\u001b[0m\u001b[0m\n\u001b[1;32m     16\u001b[0m         \u001b[0mmodel\u001b[0m\u001b[0;34m.\u001b[0m\u001b[0mfit\u001b[0m\u001b[0;34m(\u001b[0m\u001b[0mX_train\u001b[0m\u001b[0;34m,\u001b[0m\u001b[0my_train\u001b[0m\u001b[0;34m)\u001b[0m\u001b[0;34m\u001b[0m\u001b[0m\n\u001b[0;32m---> 17\u001b[0;31m         \u001b[0mpreds\u001b[0m\u001b[0;34m=\u001b[0m\u001b[0mmodel\u001b[0m\u001b[0;34m.\u001b[0m\u001b[0mpredict_proba\u001b[0m\u001b[0;34m(\u001b[0m\u001b[0mX_cv\u001b[0m\u001b[0;34m)\u001b[0m\u001b[0;34m[\u001b[0m\u001b[0;34m:\u001b[0m\u001b[0;34m,\u001b[0m\u001b[0;36m1\u001b[0m\u001b[0;34m]\u001b[0m\u001b[0;34m\u001b[0m\u001b[0m\n\u001b[0m\u001b[1;32m     18\u001b[0m         \u001b[0mauc\u001b[0m\u001b[0;34m=\u001b[0m\u001b[0mroc_auc_score\u001b[0m\u001b[0;34m(\u001b[0m\u001b[0my_cv\u001b[0m\u001b[0;34m,\u001b[0m\u001b[0mpreds\u001b[0m\u001b[0;34m)\u001b[0m\u001b[0;34m\u001b[0m\u001b[0m\n\u001b[1;32m     19\u001b[0m         \u001b[0mprint\u001b[0m \u001b[0;34m(\u001b[0m\u001b[0;34m\" fold %d/%d auc %f \"\u001b[0m \u001b[0;34m%\u001b[0m \u001b[0;34m(\u001b[0m\u001b[0mi\u001b[0m\u001b[0;34m+\u001b[0m\u001b[0;36m1\u001b[0m\u001b[0;34m,\u001b[0m \u001b[0;36m5\u001b[0m\u001b[0;34m,\u001b[0m \u001b[0mauc\u001b[0m\u001b[0;34m)\u001b[0m\u001b[0;34m)\u001b[0m\u001b[0;34m\u001b[0m\u001b[0m\n",
      "\u001b[0;32m~/anaconda2/envs/dsc_hs/lib/python3.6/site-packages/sklearn/linear_model/stochastic_gradient.py\u001b[0m in \u001b[0;36mpredict_proba\u001b[0;34m(self)\u001b[0m\n\u001b[1;32m    832\u001b[0m         \u001b[0mhttp\u001b[0m\u001b[0;34m:\u001b[0m\u001b[0;34m//\u001b[0m\u001b[0mjmlr\u001b[0m\u001b[0;34m.\u001b[0m\u001b[0mcsail\u001b[0m\u001b[0;34m.\u001b[0m\u001b[0mmit\u001b[0m\u001b[0;34m.\u001b[0m\u001b[0medu\u001b[0m\u001b[0;34m/\u001b[0m\u001b[0mpapers\u001b[0m\u001b[0;34m/\u001b[0m\u001b[0mvolume2\u001b[0m\u001b[0;34m/\u001b[0m\u001b[0mzhang02c\u001b[0m\u001b[0;34m/\u001b[0m\u001b[0mzhang02c\u001b[0m\u001b[0;34m.\u001b[0m\u001b[0mpdf\u001b[0m\u001b[0;34m\u001b[0m\u001b[0m\n\u001b[1;32m    833\u001b[0m         \"\"\"\n\u001b[0;32m--> 834\u001b[0;31m         \u001b[0mself\u001b[0m\u001b[0;34m.\u001b[0m\u001b[0m_check_proba\u001b[0m\u001b[0;34m(\u001b[0m\u001b[0;34m)\u001b[0m\u001b[0;34m\u001b[0m\u001b[0m\n\u001b[0m\u001b[1;32m    835\u001b[0m         \u001b[0;32mreturn\u001b[0m \u001b[0mself\u001b[0m\u001b[0;34m.\u001b[0m\u001b[0m_predict_proba\u001b[0m\u001b[0;34m\u001b[0m\u001b[0m\n\u001b[1;32m    836\u001b[0m \u001b[0;34m\u001b[0m\u001b[0m\n",
      "\u001b[0;32m~/anaconda2/envs/dsc_hs/lib/python3.6/site-packages/sklearn/linear_model/stochastic_gradient.py\u001b[0m in \u001b[0;36m_check_proba\u001b[0;34m(self)\u001b[0m\n\u001b[1;32m    794\u001b[0m         \u001b[0;32mif\u001b[0m \u001b[0mself\u001b[0m\u001b[0;34m.\u001b[0m\u001b[0mloss\u001b[0m \u001b[0;32mnot\u001b[0m \u001b[0;32min\u001b[0m \u001b[0;34m(\u001b[0m\u001b[0;34m\"log\"\u001b[0m\u001b[0;34m,\u001b[0m \u001b[0;34m\"modified_huber\"\u001b[0m\u001b[0;34m)\u001b[0m\u001b[0;34m:\u001b[0m\u001b[0;34m\u001b[0m\u001b[0m\n\u001b[1;32m    795\u001b[0m             raise AttributeError(\"probability estimates are not available for\"\n\u001b[0;32m--> 796\u001b[0;31m                                  \" loss=%r\" % self.loss)\n\u001b[0m\u001b[1;32m    797\u001b[0m \u001b[0;34m\u001b[0m\u001b[0m\n\u001b[1;32m    798\u001b[0m     \u001b[0;34m@\u001b[0m\u001b[0mproperty\u001b[0m\u001b[0;34m\u001b[0m\u001b[0m\n",
      "\u001b[0;31mAttributeError\u001b[0m: probability estimates are not available for loss='hinge'"
     ]
    }
   ],
   "source": [
    "kfolder = StratifiedKFold(y, n_folds=5, shuffle=True, random_state=1)\n",
    "grand_auc = 0\n",
    "\n",
    "X = np.array(train)\n",
    "i=0 # iterator counter\n",
    "#model = SGDClassifier(loss='log', penalty='l2', alpha=0.0030, max_iter=30, random_state=1)\n",
    "#model = SGDClassifier(loss=\"hinge\", alpha=0.01, max_iter=30)\n",
    "\n",
    "for train_index, test_index in kfolder:\n",
    "        X_train, X_cv = np.array(X)[train_index], np.array(X)[test_index]\n",
    "        y_train, y_cv = np.array(y)[train_index], np.array(y)[test_index]\n",
    "        one=OneHotEncoder(handle_unknown='ignore', categorical_features=categorical_features_indices)\n",
    "        one.fit(X_train)\n",
    "        X_train=one.transform(X_train)\n",
    "        X_cv=one.transform(X_cv)\n",
    "        model.fit(X_train,y_train)\n",
    "        preds=model.predict_proba(X_cv)[:,1]\n",
    "        auc=roc_auc_score(y_cv,preds)\n",
    "        print (\" fold %d/%d auc %f \" % (i+1, 5, auc))\n",
    "        grand_auc+=auc\n",
    "        i+=1\n",
    "grand_auc/=5\n",
    "print (\"grand AUC is %f \" % (grand_auc))"
   ]
  },
  {
   "cell_type": "code",
   "execution_count": 122,
   "metadata": {},
   "outputs": [
    {
     "data": {
      "text/plain": [
       "LogisticRegressionCV(Cs=10, class_weight=None, cv=None, dual=False,\n",
       "           fit_intercept=True, intercept_scaling=1.0, max_iter=100,\n",
       "           multi_class='ovr', n_jobs=1, penalty='l2', random_state=None,\n",
       "           refit=True, scoring='roc_auc', solver='lbfgs', tol=0.0001,\n",
       "           verbose=0)"
      ]
     },
     "execution_count": 122,
     "metadata": {},
     "output_type": "execute_result"
    }
   ],
   "source": [
    "model = LogisticRegressionCV(scoring='roc_auc')\n",
    "#one=OneHotEncoder(handle_unknown='ignore', categorical_features=categorical_features_indices)\n",
    "#one.fit(X)\n",
    "#X=one.transform(X)\n",
    "#X_cv=one.transform(X_cv)\n",
    "model.fit(X, y)\n",
    "#preds=model.predict_proba(X_cv)[:,1]\n",
    "#auc=roc_auc_score(y_cv,preds)\n",
    "#print (\" fold %d/%d auc %f \" % (i+1, 5, auc))\n"
   ]
  },
  {
   "cell_type": "code",
   "execution_count": 125,
   "metadata": {},
   "outputs": [
    {
     "data": {
      "text/plain": [
       "array([0.00599484])"
      ]
     },
     "execution_count": 125,
     "metadata": {},
     "output_type": "execute_result"
    }
   ],
   "source": [
    "model.C_"
   ]
  },
  {
   "cell_type": "code",
   "execution_count": 127,
   "metadata": {},
   "outputs": [
    {
     "data": {
      "text/plain": [
       "array([0.39875361, 0.16195149, 0.08336156, ..., 0.21348615, 0.08730254,\n",
       "       0.24835877])"
      ]
     },
     "execution_count": 127,
     "metadata": {},
     "output_type": "execute_result"
    }
   ],
   "source": [
    "one=OneHotEncoder(handle_unknown='ignore', categorical_features=categorical_features_indices)\n",
    "one.fit(train)\n",
    "test_ohe=one.transform(test)\n",
    "submission = model.predict_proba(test_ohe)[:,1]"
   ]
  },
  {
   "cell_type": "code",
   "execution_count": 128,
   "metadata": {},
   "outputs": [],
   "source": [
    "submission = model.predict_proba(test_ohe)[:,1]"
   ]
  },
  {
   "cell_type": "code",
   "execution_count": 129,
   "metadata": {},
   "outputs": [],
   "source": [
    "create_submission_file(submission, \"LR_l2_\", {'C': 0.00599484})"
   ]
  },
  {
   "cell_type": "code",
   "execution_count": null,
   "metadata": {},
   "outputs": [],
   "source": []
  }
 ],
 "metadata": {
  "kernelspec": {
   "display_name": "Python [conda env:dsc_hs]",
   "language": "python",
   "name": "conda-env-dsc_hs-py"
  },
  "language_info": {
   "codemirror_mode": {
    "name": "ipython",
    "version": 3
   },
   "file_extension": ".py",
   "mimetype": "text/x-python",
   "name": "python",
   "nbconvert_exporter": "python",
   "pygments_lexer": "ipython3",
   "version": "3.6.6"
  }
 },
 "nbformat": 4,
 "nbformat_minor": 2
}
