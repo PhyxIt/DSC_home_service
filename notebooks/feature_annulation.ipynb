{
 "cells": [
  {
   "cell_type": "code",
   "execution_count": 1,
   "metadata": {},
   "outputs": [],
   "source": [
    "import datetime\n",
    "import pandas as pd\n",
    "import numpy as np\n",
    "import datetime\n",
    "\n",
    "import sklearn\n",
    "from catboost import CatBoostClassifier, Pool, cv\n",
    "from sklearn import model_selection , metrics   #Additional scklearn functions\n",
    "from sklearn.preprocessing import StandardScaler"
   ]
  },
  {
   "cell_type": "code",
   "execution_count": 2,
   "metadata": {},
   "outputs": [],
   "source": [
    "import os\n",
    "import sys\n",
    "\n",
    "module_path = os.path.abspath(os.path.join('..'))\n",
    "\n",
    "if module_path not in sys.path:\n",
    "    sys.path.append(module_path)"
   ]
  },
  {
   "cell_type": "code",
   "execution_count": 3,
   "metadata": {},
   "outputs": [],
   "source": [
    "from importlib import reload\n",
    "import src.home_service\n",
    "reload(src.home_service)\n",
    "from src.home_service import *"
   ]
  },
  {
   "cell_type": "code",
   "execution_count": 4,
   "metadata": {},
   "outputs": [],
   "source": [
    "train = pd.read_pickle('../data/merged_data/train.pkl')\n",
    "train = train.iloc[0:5,:]\n",
    "history = pd.read_pickle('../data/merged_data/history.pkl')"
   ]
  },
  {
   "cell_type": "code",
   "execution_count": 5,
   "metadata": {},
   "outputs": [],
   "source": [
    "history = history.loc[~history.MILLESIME.isin(['2012.0', '2013.0', '2014.0']), :]"
   ]
  },
  {
   "cell_type": "code",
   "execution_count": 6,
   "metadata": {},
   "outputs": [],
   "source": [
    "def drop_variables(df):\n",
    "    drop = ['INSTANCE_ID',\n",
    "    'INCIDENT_NUMBER',\n",
    "#       'AUTEUR_INCIDENT', # 2088 modalities\n",
    "        'TYPE_VOIE',\n",
    "        'NATURE_CODE', # 313 modalities, need to be splitted in 5 modalities\n",
    "#            'MARQUE_LIB', # 167 modalities\n",
    "#            'OPTION', # 80 modalities, extract options\n",
    "        'MODELE_CODE', # 10k modalities\n",
    "#            'COMMENTAIRE_BI', # NLP 400k modalities\n",
    "#             'RESOURCE_ID', # 4033 modalities\n",
    "        'CODE_POSTAL', # 5800 modalities (only get first 2 numbers ?)\n",
    "        'L2_ORGA_CODE_POSTAL', # 147 modalities (might be redondent with L2_ORGANISATION_ID)\n",
    "#            'L2_ORGANISATION_ID' #151 modalities\n",
    "        'L2_ORGA_VILLE', # 146, might be redondent with other organisation variables\n",
    "        'RACHAT_CODE' # 312 modalities (try binarising ?)         \n",
    "#            'CODE_INSTALLATION' # 17 modalities\n",
    "       ]\n",
    "    return df.drop(drop, axis=1)"
   ]
  },
  {
   "cell_type": "code",
   "execution_count": 7,
   "metadata": {},
   "outputs": [],
   "source": [
    "categoricals = list(train.columns[train.dtypes == 'category'])\n",
    "categoricals = list(set(categoricals).intersection(set(history.columns)))\n",
    "quantitative = ['NB_PASSAGE', 'POINTS_FIDEL', 'CONTRAT_TARIF', 'PRIX_FACTURE']\n",
    "dates = list(train.columns[train.dtypes == 'datetime64[ns]'])\n",
    "dates = list(set(dates).intersection(set(history.columns)))"
   ]
  },
  {
   "cell_type": "code",
   "execution_count": 8,
   "metadata": {},
   "outputs": [],
   "source": [
    "contract_variables = [ 'UPD_DATE', 'DATE_DEBUT', 'DATE_FIN', 'STS_CODE', 'OPTION', 'FORMULE', 'CONTRAT_TARIF', 'PRIX_FACTURE']"
   ]
  },
  {
   "cell_type": "code",
   "execution_count": 9,
   "metadata": {},
   "outputs": [],
   "source": [
    "#impute without contract\n",
    "categ_to_impute = list(set(categoricals) - set(contract_variables))\n",
    "quanti_to_impute = list(set(quantitative) - set(contract_variables))\n",
    "date_to_impute = list(set(dates) - set(contract_variables))\n",
    "\n",
    "#impute contract\n",
    "categ_contract = list(set(categoricals).intersection(set(contract_variables)))\n",
    "quanti_contract = list(set(quantitative).intersection(set(contract_variables)))\n",
    "date_contract = list(set(dates).intersection(set(contract_variables)))\n",
    "\n",
    "\n",
    "#train and test are filled with values taken from train\n",
    "#contract and other variables are imputed separatly (need to import some NAN in train set)\n",
    "history, _ = impute_selected_variables(history, None, categ_to_impute, quanti_to_impute, date_to_impute)\n",
    "history = impute_contract_variables(history, categ_contract, quanti_contract, date_contract)"
   ]
  },
  {
   "cell_type": "code",
   "execution_count": 10,
   "metadata": {},
   "outputs": [],
   "source": [
    "def keep_train_features(history, train):\n",
    "    canceled = ~history['MOTIF_ANNULATION_CODE'].isnull()\n",
    "    cols_to_keep = list(set(train.columns) - set(['target']))\n",
    "    history_light = history[cols_to_keep].copy()\n",
    "    history_light['canceled'] = canceled\n",
    "    \n",
    "    return history_light"
   ]
  },
  {
   "cell_type": "code",
   "execution_count": 11,
   "metadata": {},
   "outputs": [],
   "source": [
    "history = keep_train_features(history, train)\n",
    "history = drop_variables(history)\n",
    "history = commentaire_bi(history)\n",
    "\n",
    "rmg = RareModalitiesGrouper(['COMMENTAIRE_BI'], 200)\n",
    "rmg.fit(train)\n",
    "\n",
    "history = rmg.transform(history)\n",
    "#history = nature_code_split(history)\n",
    "history = add_dates_features(history)\n",
    "#history.dropna()"
   ]
  },
  {
   "cell_type": "code",
   "execution_count": 12,
   "metadata": {},
   "outputs": [],
   "source": [
    "sc = StandardScaler()\n",
    "\n",
    "nums = history.select_dtypes(include=['number']).columns\n",
    "history.loc[:, nums] = sc.fit_transform(history[nums])"
   ]
  },
  {
   "cell_type": "code",
   "execution_count": 13,
   "metadata": {},
   "outputs": [],
   "source": [
    "y = history['canceled']\n",
    "X = history.drop('canceled', axis=1)"
   ]
  },
  {
   "cell_type": "code",
   "execution_count": 14,
   "metadata": {},
   "outputs": [],
   "source": [
    "del history"
   ]
  },
  {
   "cell_type": "markdown",
   "metadata": {},
   "source": [
    "## predict on train and test"
   ]
  },
  {
   "cell_type": "code",
   "execution_count": 15,
   "metadata": {},
   "outputs": [],
   "source": [
    "pos_neg_ratio = sum(y==False) / sum(y==True)"
   ]
  },
  {
   "cell_type": "code",
   "execution_count": 16,
   "metadata": {},
   "outputs": [],
   "source": [
    "categoricals = X.select_dtypes(include=['category', 'bool', 'object']).columns\n",
    "categorical_features_indices = [X.columns.get_loc(cat) for cat in categoricals]"
   ]
  },
  {
   "cell_type": "code",
   "execution_count": 17,
   "metadata": {},
   "outputs": [],
   "source": [
    "model = CatBoostClassifier(\n",
    "    iterations=50,\n",
    "    eval_metric=\"AUC\",\n",
    "    scale_pos_weight=pos_neg_ratio,\n",
    "    learning_rate=0.5\n",
    ")"
   ]
  },
  {
   "cell_type": "code",
   "execution_count": 18,
   "metadata": {},
   "outputs": [
    {
     "name": "stdout",
     "output_type": "stream",
     "text": [
      "0:\ttotal: 17.3s\tremaining: 14m 8s\n",
      "1:\ttotal: 34.8s\tremaining: 13m 55s\n",
      "2:\ttotal: 49.7s\tremaining: 12m 58s\n",
      "3:\ttotal: 1m 9s\tremaining: 13m 24s\n",
      "4:\ttotal: 1m 27s\tremaining: 13m 11s\n",
      "5:\ttotal: 1m 46s\tremaining: 13m 1s\n",
      "6:\ttotal: 2m 2s\tremaining: 12m 34s\n",
      "7:\ttotal: 2m 23s\tremaining: 12m 30s\n",
      "8:\ttotal: 2m 38s\tremaining: 12m 1s\n",
      "9:\ttotal: 2m 57s\tremaining: 11m 48s\n",
      "10:\ttotal: 3m 11s\tremaining: 11m 19s\n",
      "11:\ttotal: 3m 29s\tremaining: 11m 4s\n",
      "12:\ttotal: 3m 47s\tremaining: 10m 47s\n",
      "13:\ttotal: 4m 3s\tremaining: 10m 26s\n",
      "14:\ttotal: 4m 20s\tremaining: 10m 7s\n",
      "15:\ttotal: 4m 37s\tremaining: 9m 49s\n",
      "16:\ttotal: 4m 55s\tremaining: 9m 33s\n",
      "17:\ttotal: 5m 13s\tremaining: 9m 17s\n",
      "18:\ttotal: 5m 36s\tremaining: 9m 8s\n",
      "19:\ttotal: 5m 50s\tremaining: 8m 46s\n",
      "20:\ttotal: 6m 6s\tremaining: 8m 26s\n",
      "21:\ttotal: 6m 24s\tremaining: 8m 9s\n",
      "22:\ttotal: 6m 43s\tremaining: 7m 54s\n",
      "23:\ttotal: 7m 2s\tremaining: 7m 37s\n",
      "24:\ttotal: 7m 23s\tremaining: 7m 23s\n",
      "25:\ttotal: 7m 44s\tremaining: 7m 8s\n",
      "26:\ttotal: 8m 8s\tremaining: 6m 56s\n",
      "27:\ttotal: 8m 27s\tremaining: 6m 38s\n",
      "28:\ttotal: 8m 47s\tremaining: 6m 22s\n",
      "29:\ttotal: 9m 10s\tremaining: 6m 6s\n",
      "30:\ttotal: 9m 33s\tremaining: 5m 51s\n",
      "31:\ttotal: 9m 51s\tremaining: 5m 32s\n",
      "32:\ttotal: 10m 10s\tremaining: 5m 14s\n",
      "33:\ttotal: 10m 32s\tremaining: 4m 57s\n",
      "34:\ttotal: 10m 56s\tremaining: 4m 41s\n",
      "35:\ttotal: 11m 17s\tremaining: 4m 23s\n",
      "36:\ttotal: 11m 37s\tremaining: 4m 5s\n",
      "37:\ttotal: 11m 58s\tremaining: 3m 46s\n",
      "38:\ttotal: 12m 15s\tremaining: 3m 27s\n",
      "39:\ttotal: 12m 33s\tremaining: 3m 8s\n",
      "40:\ttotal: 12m 55s\tremaining: 2m 50s\n",
      "41:\ttotal: 13m 12s\tremaining: 2m 31s\n",
      "42:\ttotal: 13m 33s\tremaining: 2m 12s\n",
      "43:\ttotal: 13m 51s\tremaining: 1m 53s\n",
      "44:\ttotal: 14m 11s\tremaining: 1m 34s\n",
      "45:\ttotal: 14m 32s\tremaining: 1m 15s\n",
      "46:\ttotal: 14m 54s\tremaining: 57.1s\n",
      "47:\ttotal: 15m 13s\tremaining: 38s\n",
      "48:\ttotal: 15m 31s\tremaining: 19s\n",
      "49:\ttotal: 15m 52s\tremaining: 0us\n"
     ]
    },
    {
     "data": {
      "text/plain": [
       "<catboost.core.CatBoostClassifier at 0x7f3802533e48>"
      ]
     },
     "execution_count": 18,
     "metadata": {},
     "output_type": "execute_result"
    }
   ],
   "source": [
    "model.fit(\n",
    "    X, y,\n",
    "    cat_features=categorical_features_indices,\n",
    "    logging_level='Verbose'  # you can uncomment this for text output\n",
    ")"
   ]
  },
  {
   "cell_type": "code",
   "execution_count": 19,
   "metadata": {},
   "outputs": [],
   "source": [
    "cols_order = X.columns"
   ]
  },
  {
   "cell_type": "code",
   "execution_count": 20,
   "metadata": {},
   "outputs": [],
   "source": [
    "del X, y"
   ]
  },
  {
   "cell_type": "code",
   "execution_count": 21,
   "metadata": {},
   "outputs": [],
   "source": [
    "train = pd.read_pickle('../data/merged_data/train_preproc_.pickle')\n",
    "train = train.drop('target', axis=1)\n",
    "\n",
    "#train, _ = impute_selected_variables(train, None, categ_to_impute, quanti_to_impute, date_to_impute)\n",
    "#train = impute_contract_variables(train)\n",
    "\n",
    "#train = drop_variables(train)\n",
    "#train = commentaire_bi(train)\n",
    "#train = add_dates_features(train)\n",
    "train = train[cols_order]"
   ]
  },
  {
   "cell_type": "code",
   "execution_count": 22,
   "metadata": {},
   "outputs": [],
   "source": [
    "canceled_pred = model.predict(train)\n",
    "canceled_proba_pred = model.predict_proba(train)[:, 1]"
   ]
  },
  {
   "cell_type": "code",
   "execution_count": 23,
   "metadata": {},
   "outputs": [],
   "source": [
    "features_canceled = pd.DataFrame({'canceled_pred': canceled_pred,\n",
    "                                 'canceled_proba_pred': canceled_proba_pred})\n",
    "features_canceled.to_csv('features_canceled_train.csv', index=False, header=True)"
   ]
  },
  {
   "cell_type": "code",
   "execution_count": 24,
   "metadata": {},
   "outputs": [],
   "source": [
    "test = pd.read_pickle('../data/merged_data/test_preproc_.pickle')\n",
    "test.drop('canceled_proba_pred', axis=1, inplace=True)\n",
    "\n",
    "#test, _ = impute_selected_variables(test, None, categ_to_impute, quanti_to_impute, date_to_impute)\n",
    "#test = impute_contract_variables(test)\n",
    "\n",
    "#test = drop_variables(test)\n",
    "#test = commentaire_bi(test)\n",
    "#test = add_dates_features(test)\n",
    "test = test[cols_order]"
   ]
  },
  {
   "cell_type": "code",
   "execution_count": 25,
   "metadata": {},
   "outputs": [],
   "source": [
    "canceled_pred = model.predict(test)\n",
    "canceled_proba_pred = model.predict_proba(test)[:, 1]"
   ]
  },
  {
   "cell_type": "code",
   "execution_count": 26,
   "metadata": {},
   "outputs": [],
   "source": [
    "features_canceled = pd.DataFrame({'canceled_pred': canceled_pred,\n",
    "                                 'canceled_proba_pred': canceled_proba_pred})\n",
    "features_canceled.to_csv('features_canceled_test.csv', index=False, header=True)"
   ]
  },
  {
   "cell_type": "code",
   "execution_count": null,
   "metadata": {},
   "outputs": [],
   "source": []
  },
  {
   "cell_type": "markdown",
   "metadata": {},
   "source": [
    "## train and validate"
   ]
  },
  {
   "cell_type": "code",
   "execution_count": null,
   "metadata": {},
   "outputs": [],
   "source": [
    "X_train_train, X_train_val, y_train_train, y_train_val = sklearn.model_selection.train_test_split(X, y, random_state=101)"
   ]
  },
  {
   "cell_type": "code",
   "execution_count": null,
   "metadata": {},
   "outputs": [],
   "source": [
    "del X, y"
   ]
  },
  {
   "cell_type": "code",
   "execution_count": null,
   "metadata": {},
   "outputs": [],
   "source": [
    "pos_neg_ratio =  sum(y_train_train==False) / sum(y_train_train==True)"
   ]
  },
  {
   "cell_type": "code",
   "execution_count": null,
   "metadata": {},
   "outputs": [],
   "source": [
    "pos_neg_ratio"
   ]
  },
  {
   "cell_type": "code",
   "execution_count": null,
   "metadata": {},
   "outputs": [],
   "source": [
    "categoricals = X_train_train.select_dtypes(include=['category', 'bool', 'object']).columns\n",
    "categorical_features_indices = [X_train_train.columns.get_loc(cat) for cat in categoricals]"
   ]
  },
  {
   "cell_type": "code",
   "execution_count": null,
   "metadata": {},
   "outputs": [],
   "source": [
    "model = CatBoostClassifier(\n",
    "    iterations=50,\n",
    "    eval_metric=\"AUC\",\n",
    "    random_seed=42,\n",
    "    od_type='Iter',\n",
    "    od_wait=40,\n",
    "    use_best_model=True,\n",
    "    scale_pos_weight=pos_neg_ratio\n",
    ")"
   ]
  },
  {
   "cell_type": "code",
   "execution_count": null,
   "metadata": {},
   "outputs": [],
   "source": [
    "model.fit(\n",
    "    X_train_train, y_train_train,\n",
    "    cat_features=categorical_features_indices,\n",
    "    eval_set=(X_train_val, y_train_val),\n",
    "    logging_level='Verbose'  # you can uncomment this for text output\n",
    ")"
   ]
  },
  {
   "cell_type": "code",
   "execution_count": null,
   "metadata": {},
   "outputs": [],
   "source": []
  }
 ],
 "metadata": {
  "kernelspec": {
   "display_name": "Python 3",
   "language": "python",
   "name": "python3"
  },
  "language_info": {
   "codemirror_mode": {
    "name": "ipython",
    "version": 3
   },
   "file_extension": ".py",
   "mimetype": "text/x-python",
   "name": "python",
   "nbconvert_exporter": "python",
   "pygments_lexer": "ipython3",
   "version": "3.6.6"
  }
 },
 "nbformat": 4,
 "nbformat_minor": 2
}
