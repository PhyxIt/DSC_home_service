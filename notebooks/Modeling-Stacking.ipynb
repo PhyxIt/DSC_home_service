{
 "cells": [
  {
   "cell_type": "code",
   "execution_count": 1,
   "metadata": {},
   "outputs": [],
   "source": [
    "%matplotlib inline"
   ]
  },
  {
   "cell_type": "code",
   "execution_count": 2,
   "metadata": {},
   "outputs": [],
   "source": [
    "import datetime\n",
    "import pandas as pd\n",
    "import numpy as np\n",
    "import datetime"
   ]
  },
  {
   "cell_type": "code",
   "execution_count": 3,
   "metadata": {},
   "outputs": [],
   "source": [
    "import catboost\n",
    "from catboost import CatBoostClassifier, Pool, cv\n",
    "from lightgbm import LGBMClassifier\n",
    "import hyperopt"
   ]
  },
  {
   "cell_type": "code",
   "execution_count": 4,
   "metadata": {},
   "outputs": [],
   "source": [
    "import tqdm"
   ]
  },
  {
   "cell_type": "code",
   "execution_count": 5,
   "metadata": {},
   "outputs": [],
   "source": [
    "import sklearn.model_selection\n",
    "from sklearn import model_selection , metrics   #Additional scklearn functions"
   ]
  },
  {
   "cell_type": "code",
   "execution_count": 6,
   "metadata": {},
   "outputs": [],
   "source": [
    "import os\n",
    "import sys\n",
    "\n",
    "module_path = os.path.abspath(os.path.join('..'))\n",
    "\n",
    "if module_path not in sys.path:\n",
    "    sys.path.append(module_path)"
   ]
  },
  {
   "cell_type": "code",
   "execution_count": 7,
   "metadata": {},
   "outputs": [],
   "source": [
    "from importlib import reload\n",
    "import src.home_service\n",
    "reload(src.home_service)\n",
    "from src.home_service import *"
   ]
  },
  {
   "cell_type": "markdown",
   "metadata": {},
   "source": [
    "## import and parameters"
   ]
  },
  {
   "cell_type": "code",
   "execution_count": 17,
   "metadata": {},
   "outputs": [],
   "source": [
    "# methode 4 is the best impute strategy (+1.5 AUC better than methode 3)\n",
    "imput_strategy = 4"
   ]
  },
  {
   "cell_type": "code",
   "execution_count": 25,
   "metadata": {},
   "outputs": [],
   "source": [
    "train = pd.read_pickle('../data/merged_data/train.pkl')\n",
    "test = pd.read_pickle('../data/merged_data/test.pkl')"
   ]
  },
  {
   "cell_type": "code",
   "execution_count": 16,
   "metadata": {},
   "outputs": [],
   "source": [
    "#train = train.sample(frac=0.1)"
   ]
  },
  {
   "cell_type": "code",
   "execution_count": 17,
   "metadata": {},
   "outputs": [],
   "source": [
    "# preprocess\n",
    "y = train['target'].astype(bool)\n",
    "train['target'] = train['target'].astype(bool)"
   ]
  },
  {
   "cell_type": "code",
   "execution_count": 18,
   "metadata": {},
   "outputs": [],
   "source": [
    "#y.to_pickle('target.pickle')"
   ]
  },
  {
   "cell_type": "markdown",
   "metadata": {},
   "source": [
    "## Features : \n",
    "* NLP on COMMENTAIRE_BI\n",
    "* Extract options from OPTION (pas sur que ce soit util, peut être juste check la qualité)\n",
    "* features from history\n",
    "\n",
    "* add combinations of categorical features (see paribas example on catboost site)"
   ]
  },
  {
   "cell_type": "code",
   "execution_count": 21,
   "metadata": {},
   "outputs": [],
   "source": [
    "drop = ['INSTANCE_ID', #460k modalities, not usable as a feature\n",
    "        'INCIDENT_NUMBER']\n",
    "drop_atm = [#'AUTEUR_INCIDENT', # 2088 modalities\n",
    "            'TYPE_VOIE',\n",
    "#            'NATURE_CODE', # 313 modalities, need to be splitted in 5 modalities\n",
    "#            'MARQUE_LIB', # 167 modalities\n",
    "#            'OPTION', # 80 modalities, extract options\n",
    "            #'MODELE_CODE', # 10k modalities\n",
    "#            'COMMENTAIRE_BI', # NLP 400k modalities\n",
    "             #'RESOURCE_ID', # 4033 modalities\n",
    "            'CODE_POSTAL', # 5800 modalities (only get first 2 numbers ?)\n",
    "            'L2_ORGA_CODE_POSTAL', # 147 modalities (might be redondent with L2_ORGANISATION_ID)\n",
    "#            'L2_ORGANISATION_ID' #151 modalities\n",
    "            'L2_ORGA_VILLE', # 146, might be redondent with other organisation variables\n",
    "#            'RACHAT_CODE' # 312 modalities (try binarising ?)         \n",
    "#            'CODE_INSTALLATION' # 17 modalities\n",
    "           ]"
   ]
  },
  {
   "cell_type": "code",
   "execution_count": 22,
   "metadata": {},
   "outputs": [],
   "source": [
    "#train.drop(drop + drop_atm + ['target'], axis=1, inplace=True)\n",
    "train.drop(drop + drop_atm , axis=1, inplace=True)\n",
    "test.drop(drop + drop_atm, axis=1, inplace=True)"
   ]
  },
  {
   "cell_type": "code",
   "execution_count": 23,
   "metadata": {},
   "outputs": [],
   "source": [
    "categoricals = list(train.columns[train.dtypes == 'category'])"
   ]
  },
  {
   "cell_type": "code",
   "execution_count": 24,
   "metadata": {},
   "outputs": [],
   "source": [
    "for cat in categoricals:\n",
    "    train[cat] = train[cat].cat.remove_unused_categories()"
   ]
  },
  {
   "cell_type": "markdown",
   "metadata": {
    "collapsed": true
   },
   "source": [
    "### imputation of missing data\n",
    "\n",
    "TODO: try imputing test based on test values, not train <br>\n",
    "TODO: try diffrent strategy on imputing datas from contract since missing are present only in test set<BR>\n",
    "TODO: try creating data with missing contract in train sample and do not fill the missing in test<br>\n",
    "TODO: try imputing specific na value for categorical variables"
   ]
  },
  {
   "cell_type": "code",
   "execution_count": 25,
   "metadata": {},
   "outputs": [],
   "source": [
    "categoricals = list(train.columns[train.dtypes == 'category'])\n",
    "quantitative = ['NB_PASSAGE', 'POINTS_FIDEL', 'CONTRAT_TARIF', 'PRIX_FACTURE']\n",
    "dates = list(train.columns[train.dtypes == 'datetime64[ns]'])"
   ]
  },
  {
   "cell_type": "code",
   "execution_count": 26,
   "metadata": {},
   "outputs": [],
   "source": [
    "contract_variables = ['UPD_DATE', 'DATE_DEBUT', 'DATE_FIN', 'STS_CODE', 'OPTION', 'FORMULE', 'CONTRAT_TARIF', 'PRIX_FACTURE']"
   ]
  },
  {
   "cell_type": "code",
   "execution_count": 27,
   "metadata": {},
   "outputs": [],
   "source": [
    "#impute without contract\n",
    "categ_to_impute = list(set(categoricals) - set(contract_variables))\n",
    "quanti_to_impute = list(set(quantitative) - set(contract_variables))\n",
    "date_to_impute = list(set(dates) - set(contract_variables))\n",
    "\n",
    "#impute contract\n",
    "categ_contract = list(set(categoricals).intersection(set(contract_variables)))\n",
    "quanti_contract = list(set(quantitative).intersection(set(contract_variables)))\n",
    "date_contract = list(set(dates).intersection(set(contract_variables)))\n",
    "\n",
    "#train and test are filled with values taken from train\n",
    "#contract and other variables are imputed together\n",
    "if imput_strategy == 1:\n",
    "    train, test = impute_selected_variables(train, test, categoricals, quantitative, dates)\n",
    "\n",
    "#train and test are filled with values taken on their own values\n",
    "#contract and other variables are imputed together\n",
    "if imput_strategy == 2:\n",
    "    train, _ = impute_selected_variables(train, None, categoricals, quantitative, dates)\n",
    "    test, _ = impute_selected_variables(test, None, categoricals, quantitative, dates)\n",
    "\n",
    "#train and test are filled with values taken from train\n",
    "#contract and other variables are imputed separatly (need to import some NAN in train set)\n",
    "if imput_strategy == 3:\n",
    "    train, test = impute_selected_variables(train, test, categ_to_impute, quanti_to_impute, date_to_impute)\n",
    "    train = impute_contract_variables(train, categ_contract, quanti_contract, date_contract)\n",
    "    test = impute_contract_variables(test, categ_contract, quanti_contract, date_contract)\n",
    "\n",
    "# train and test are filled on their own values\n",
    "# contract and other variables are imputed separatly (need to import some NAN in train set)\n",
    "if imput_strategy == 4:\n",
    "    train, _ = impute_selected_variables(train, None, categ_to_impute, quanti_to_impute, date_to_impute)\n",
    "    test, _ = impute_selected_variables(test, None, categ_to_impute, quanti_to_impute, date_to_impute)\n",
    "    train = impute_contract_variables(train, categ_contract, quanti_contract, date_contract)\n",
    "    test = impute_contract_variables(test, categ_contract, quanti_contract, date_contract)"
   ]
  },
  {
   "cell_type": "markdown",
   "metadata": {
    "collapsed": true
   },
   "source": [
    "### Feature ingineering"
   ]
  },
  {
   "cell_type": "code",
   "execution_count": 29,
   "metadata": {},
   "outputs": [
    {
     "data": {
      "text/plain": [
       "RareModalitiesGrouper(columns=['INCIDENT_TYPE_ID', 'TYPE_BI', 'MILLESIME', 'PROBLEM_CODE', 'AUTEUR_INCIDENT', 'ORIGINE_INCIDENT', 'GRAVITE', 'RESOURCE_ID', 'TYPE_OCC', 'RACHAT_CODE', 'NATURE_CODE', 'MARQUE_LIB', 'MODELE_CODE', 'USAGE_LOCAL', 'PAYS', 'STOP_PHONING', 'CODE_GEN_EQUIPEMENT', 'CODE_FONCTION', 'CODE_ENERGIE', 'CODE_INSTALLATION', 'CODE_SPECIFICATION', 'CODE_EAU_CHAUDE', 'L1_ORGANISATION_ID', 'L2_ORGANISATION_ID', 'STS_CODE', 'FORMULE', 'OPTION', 'COMMENTAIRE_BI'],\n",
       "           min_occurences=200)"
      ]
     },
     "execution_count": 29,
     "metadata": {},
     "output_type": "execute_result"
    }
   ],
   "source": [
    "rmg = RareModalitiesGrouper(categoricals + ['COMMENTAIRE_BI'], 200) #uncomment this line to group on more variables\"\n",
    "#rmg = RareModalitiesGrouper(['COMMENTAIRE_BI'], 200)\n",
    "rmg.fit(train)"
   ]
  },
  {
   "cell_type": "code",
   "execution_count": 30,
   "metadata": {},
   "outputs": [],
   "source": [
    "train = commentaire_bi(train)\n",
    "train = rmg.transform(train)\n",
    "train = nature_code_split(train)\n",
    "train = add_dates_features(train)\n",
    "train = add_features_from_file(train, 'features_canceled_train.csv')"
   ]
  },
  {
   "cell_type": "code",
   "execution_count": 31,
   "metadata": {},
   "outputs": [],
   "source": [
    "test = commentaire_bi(test)\n",
    "test = rmg.transform(test)\n",
    "test = nature_code_split(test)\n",
    "test = add_dates_features(test)\n",
    "test = add_features_from_file(test, 'features_canceled_test.csv')"
   ]
  },
  {
   "cell_type": "code",
   "execution_count": 32,
   "metadata": {},
   "outputs": [],
   "source": [
    "#drop variables\n",
    "#drop = ['joursemaine_appel', 'USAGE_LOCAL', 'nc_4', 'is_empty_commentaire', 'duree_prevue', 'nc_1']\n",
    "\n",
    "#train.drop(drop, axis=1,inplace=True)\n",
    "#test.drop(drop, axis=1,inplace=True)"
   ]
  },
  {
   "cell_type": "markdown",
   "metadata": {},
   "source": [
    "### standard scale numeric variables"
   ]
  },
  {
   "cell_type": "code",
   "execution_count": 33,
   "metadata": {},
   "outputs": [],
   "source": [
    "from sklearn.preprocessing import StandardScaler"
   ]
  },
  {
   "cell_type": "code",
   "execution_count": 34,
   "metadata": {},
   "outputs": [],
   "source": [
    "sc = StandardScaler()\n",
    "\n",
    "nums = train.select_dtypes(include=['number']).columns\n",
    "train.loc[:, nums] = sc.fit_transform(train[nums])\n",
    "test.loc[:, nums] = sc.transform(test[nums])"
   ]
  },
  {
   "cell_type": "markdown",
   "metadata": {},
   "source": [
    "## Get variables where test set has modalities which are not in train set"
   ]
  },
  {
   "cell_type": "code",
   "execution_count": 35,
   "metadata": {},
   "outputs": [],
   "source": [
    "categoricals = list(train.columns[train.dtypes == 'category'])\n",
    "var_with_new_categ = []\n",
    "for cat in categoricals:\n",
    "    if len(set(test[cat]) - set(train[cat])) > 0:\n",
    "        var_with_new_categ.append(cat)"
   ]
  },
  {
   "cell_type": "markdown",
   "metadata": {},
   "source": [
    "# drop categories in test which are not in train"
   ]
  },
  {
   "cell_type": "code",
   "execution_count": 36,
   "metadata": {},
   "outputs": [],
   "source": [
    "cd = CategoriesDroper(categoricals)\n",
    "cd.fit(train)\n",
    "test = cd.transform(test)"
   ]
  },
  {
   "cell_type": "markdown",
   "metadata": {},
   "source": [
    "## save preprocessed file"
   ]
  },
  {
   "cell_type": "code",
   "execution_count": 37,
   "metadata": {},
   "outputs": [],
   "source": [
    "for item in train.select_dtypes(include=['category']).columns:\n",
    "    train[item] = train[item].cat.codes\n",
    "    test[item] = test[item].cat.codes"
   ]
  },
  {
   "cell_type": "code",
   "execution_count": 38,
   "metadata": {},
   "outputs": [],
   "source": [
    "train.to_pickle('train_preproc_rare.pickle')\n",
    "test.to_pickle('test_preproc_rare.pickle')\n",
    "#train = pd.read_pickle('train_preproc_1_.pickle')\n",
    "#test = pd.read_pickle('test_preproc_1_.pickle')"
   ]
  },
  {
   "cell_type": "markdown",
   "metadata": {},
   "source": [
    "### load reworked data"
   ]
  },
  {
   "cell_type": "code",
   "execution_count": 10,
   "metadata": {},
   "outputs": [],
   "source": [
    "train = pd.read_pickle('../data/preproc/trainid.pickle')\n",
    "test = pd.read_pickle('../data/preproc/testid.pickle')\n",
    "y = pd.read_pickle('target.pickle')"
   ]
  },
  {
   "cell_type": "code",
   "execution_count": 11,
   "metadata": {},
   "outputs": [],
   "source": [
    "# variables to drop\n",
    "to_drop = [\"USAGE_LOCAL\",\n",
    "            \"PAYS\",\n",
    "            \"is_empty_commentaire\",\n",
    "            \"duree_prevue\"]\n",
    "\n",
    "train = train.drop(to_drop, axis=1)\n",
    "test = test.drop(to_drop, axis=1)"
   ]
  },
  {
   "cell_type": "code",
   "execution_count": 12,
   "metadata": {},
   "outputs": [],
   "source": [
    "categoricals = train.select_dtypes(include=['int8', 'int16', 'int32', 'int64']).columns\n",
    "categorical_features_indices = [train.columns.get_loc(cat) for cat in categoricals]\n",
    "train.loc[:, categoricals] = train.loc[:, categoricals].astype('category')\n",
    "test.loc[:, categoricals] = test.loc[:, categoricals].astype('category')\n",
    "\n",
    "rmg = RareModalitiesGrouper(categoricals, 200) #uncomment this line to group on more variables\"\n",
    "rmg.fit(train)\n",
    "\n",
    "train = rmg.transform(train)\n",
    "test = rmg.transform(test)\n",
    "\n",
    "cd = CategoriesDroper(categoricals)\n",
    "cd.fit(train)\n",
    "test = cd.transform(test)"
   ]
  },
  {
   "cell_type": "markdown",
   "metadata": {},
   "source": [
    "# Modelisation"
   ]
  },
  {
   "cell_type": "markdown",
   "metadata": {},
   "source": [
    "### split train / val"
   ]
  },
  {
   "cell_type": "code",
   "execution_count": 85,
   "metadata": {},
   "outputs": [],
   "source": [
    "#for item in categoricals:\n",
    "#    train[item] = train[item].cat.codes +1"
   ]
  },
  {
   "cell_type": "code",
   "execution_count": 11,
   "metadata": {},
   "outputs": [],
   "source": [
    "# split train in train, cv (will be replaced by cross validation for parameters tuning)\n",
    "# stratify ?\n",
    "X_train_train, X_train_val, y_train_train, y_train_val = sklearn.model_selection.train_test_split(train, y, random_state=42, shuffle=True, stratify=y)"
   ]
  },
  {
   "cell_type": "code",
   "execution_count": 31,
   "metadata": {},
   "outputs": [],
   "source": [
    "pos_neg_ratio =  sum(y==False) / sum(y==True)"
   ]
  },
  {
   "cell_type": "code",
   "execution_count": 32,
   "metadata": {},
   "outputs": [],
   "source": [
    "#combinations_ctr for list of variables ?\n",
    "model = CatBoostClassifier(\n",
    "    iterations=3,\n",
    "#    one_hot_max_size=3,\n",
    "    learning_rate=0.30,\n",
    "#    depth=8,\n",
    "    eval_metric=\"AUC\",\n",
    "    random_seed=42,\n",
    "    od_type='Iter',\n",
    "    od_wait=40,\n",
    "    use_best_model=True,\n",
    "    metric_period=10\n",
    "#    scale_pos_weight=pos_neg_ratio\n",
    ")"
   ]
  },
  {
   "cell_type": "code",
   "execution_count": 33,
   "metadata": {},
   "outputs": [
    {
     "name": "stdout",
     "output_type": "stream",
     "text": [
      "Warning: Parameter 'use_best_model' is true, thus evaluation metric iscalculated on every iteration. 'metric_period' is ignored for evaluation metric.\n",
      "0:\ttest: 0.7066825\tbest: 0.7066825 (0)\ttotal: 7.01s\tremaining: 14s\n",
      "2:\ttest: 0.7183199\tbest: 0.7183199 (2)\ttotal: 20.9s\tremaining: 0us\n",
      "\n",
      "bestTest = 0.7183198746\n",
      "bestIteration = 2\n",
      "\n",
      "Shrink model to first 3 iterations.\n"
     ]
    },
    {
     "data": {
      "text/plain": [
       "<catboost.core.CatBoostClassifier at 0x7f101bbe9550>"
      ]
     },
     "execution_count": 33,
     "metadata": {},
     "output_type": "execute_result"
    }
   ],
   "source": [
    "model.fit(\n",
    "    X_train_train, y_train_train,\n",
    "    cat_features=categorical_features_indices,\n",
    "    eval_set=(X_train_val, y_train_val),\n",
    "    logging_level='Verbose'  # you can uncomment this for text output\n",
    ")"
   ]
  },
  {
   "cell_type": "code",
   "execution_count": 39,
   "metadata": {},
   "outputs": [
    {
     "data": {
      "text/plain": [
       "0.5170385994730214"
      ]
     },
     "execution_count": 39,
     "metadata": {},
     "output_type": "execute_result"
    }
   ],
   "source": [
    "from sklearn.metrics import roc_auc_score\n"
   ]
  },
  {
   "cell_type": "markdown",
   "metadata": {},
   "source": [
    "### Hyperparameter tunning"
   ]
  },
  {
   "cell_type": "code",
   "execution_count": 23,
   "metadata": {},
   "outputs": [],
   "source": [
    "X_train_train, X_train_val, y_train_train, y_train_val = sklearn.model_selection.train_test_split(train, y, random_state=42, shuffle=True, stratify=y)"
   ]
  },
  {
   "cell_type": "code",
   "execution_count": 24,
   "metadata": {},
   "outputs": [],
   "source": [
    "categoricals = train.select_dtypes(include=['category', 'bool', 'object']).columns\n",
    "categorical_features_indices = [train.columns.get_loc(cat) for cat in categoricals]"
   ]
  },
  {
   "cell_type": "markdown",
   "metadata": {},
   "source": [
    "#### hyperopt"
   ]
  },
  {
   "cell_type": "code",
   "execution_count": 42,
   "metadata": {},
   "outputs": [],
   "source": [
    "def hyperopt_objective(params):\n",
    "    model = CatBoostClassifier(\n",
    "        l2_leaf_reg=params['l2_leaf_reg'],\n",
    "        learning_rate=params['learning_rate'],\n",
    "        iterations=int(params['iterations']),\n",
    "        border_count=int(params['border_count']),\n",
    "        depth=int(params['depth']),\n",
    "        eval_metric='AUC',\n",
    "        random_seed=42,\n",
    "        logging_level='Silent',\n",
    "        od_type='Iter',\n",
    "        od_wait=40\n",
    "    )\n",
    "    \n",
    "    \n",
    "    model.fit(\n",
    "    X_train_train, y_train_train,\n",
    "    cat_features=categorical_features_indices,\n",
    "    eval_set=(X_train_val, y_train_val))\n",
    "    \n",
    "    \n",
    "    print(params)\n",
    "    auc = roc_auc_score(y_train_val, model.predict(X_train_val))\n",
    "    print('AUC : ', auc)\n",
    "    \n",
    "    #best_AUC = np.max(cv_data['test-AUC-mean']) # why best ? mean is better\n",
    "    #print(params, 'best_AUC: ', best_AUC)\n",
    "    \n",
    "    return 1 - auc # as hyperopt minimises"
   ]
  },
  {
   "cell_type": "code",
   "execution_count": null,
   "metadata": {},
   "outputs": [],
   "source": [
    "def hyperopt_objective(params):\n",
    "    model = CatBoostClassifier(\n",
    "        l2_leaf_reg=params['l2_leaf_reg'],\n",
    "        learning_rate=params['learning_rate'],\n",
    "        iterations=int(params['iterations']),\n",
    "        border_count=int(params['border_count']),\n",
    "        depth=int(params['depth']),\n",
    "        eval_metric='AUC',\n",
    "        random_seed=42,\n",
    "        logging_level='Silent'\n",
    "        #od_type='Iter',\n",
    "        #od_wait=40\n",
    "    )\n",
    "    \n",
    "    cv_data = cv(\n",
    "        Pool(train, y_train, cat_features=categorical_features_indices),\n",
    "        model.get_params(),\n",
    "        stratified=True,\n",
    "        fold_count=3\n",
    "    )\n",
    "    \n",
    "    \n",
    "    print(params)\n",
    "    print('AUC : ', cv_data['test-AUC-mean'])\n",
    "    \n",
    "    best_AUC = np.max(cv_data['test-AUC-mean'])\n",
    "    print(params, 'best_AUC: ', best_AUC)\n",
    "    \n",
    "    return 1 - best_AUC # as hyperopt minimises"
   ]
  },
  {
   "cell_type": "code",
   "execution_count": 10,
   "metadata": {},
   "outputs": [],
   "source": [
    "#param space example for xgboost\n",
    "#    space = {\n",
    "#             'n_estimators' : hp.quniform('n_estimators', 100, 1000, 1),\n",
    "#             'eta' : hp.quniform('eta', 0.025, 0.5, 0.025),\n",
    "#             'max_depth' : hp.quniform('max_depth', 1, 13, 1),\n",
    "#             'min_child_weight' : hp.quniform('min_child_weight', 1, 6, 1),\n",
    "#             'subsample' : hp.quniform('subsample', 0.5, 1, 0.05),\n",
    "#             'gamma' : hp.quniform('gamma', 0.5, 1, 0.05),\n",
    "#             'colsample_bytree' : hp.quniform('colsample_bytree', 0.5, 1, 0.05),\n",
    "#             'num_class' : 9,\n",
    "#             'eval_metric': 'mlogloss',\n",
    "#             'objective': 'multi:softprob',\n",
    "#             'nthread' : 6,\n",
    "#             'silent' : 1\n",
    "#}"
   ]
  },
  {
   "cell_type": "code",
   "execution_count": null,
   "metadata": {
    "scrolled": true
   },
   "outputs": [],
   "source": [
    "from numpy.random import RandomState\n",
    "\n",
    "params_space = {\n",
    "    'l2_leaf_reg': hyperopt.hp.loguniform('l2_leaf_reg', -1, np.log(50)),\n",
    "    #'l2_leaf_reg': hyperopt.hp.choice('l2_leaf_reg', [11.47871028241772]),\n",
    "    'learning_rate': hyperopt.hp.choice('learning_rate', [0.05]),\n",
    "     #'learning_rate': hyperopt.hp.choice('learning_rat e', [0.31]),\n",
    "    #'iterations': hyperopt.hp.quniform('iterations', 500, 1000, 1),\n",
    "    'iterations': hyperopt.hp.choice('iterations', [500]),\n",
    "    'depth': hyperopt.hp.quniform('depth', 3, 10, 1),\n",
    "    #'depth': hyperopt.hp.choice('depth', [7]),\n",
    "    'border_count': hyperopt.hp.quniform('border_count', 16, 128, 1)\n",
    "    #'border_count': hyperopt.hp.choice('border_count', [213])\n",
    "}\n",
    "\n",
    "trials = hyperopt.Trials()\n",
    "\n",
    "best = hyperopt.fmin(\n",
    "    hyperopt_objective,\n",
    "    space=params_space,\n",
    "    algo=hyperopt.tpe.suggest,\n",
    "    max_evals=15,\n",
    "    trials=trials,\n",
    "    rstate=RandomState(123)\n",
    "    \n",
    ")\n",
    "\n",
    "print(best)"
   ]
  },
  {
   "cell_type": "code",
   "execution_count": null,
   "metadata": {},
   "outputs": [],
   "source": [
    "#check quality to expect\n",
    "model = CatBoostClassifier(\n",
    "    l2_leaf_reg=int(best['l2_leaf_reg']),\n",
    "    learning_rate=best['learning_rate'],\n",
    "    iterations=500,\n",
    "    \n",
    "    eval_metric='AUC',\n",
    "    random_seed=42,\n",
    "    logging_level='Silent'\n",
    ")\n",
    "cv_data = cv(Pool(X, y, cat_features=categorical_features_indices), model.get_params())"
   ]
  },
  {
   "cell_type": "code",
   "execution_count": null,
   "metadata": {},
   "outputs": [],
   "source": [
    "print('Precise validation AUC score: {}'.format(np.max(cv_data['test-AUC-mean'])))"
   ]
  },
  {
   "cell_type": "markdown",
   "metadata": {},
   "source": [
    "#### GridSearch"
   ]
  },
  {
   "cell_type": "code",
   "execution_count": null,
   "metadata": {},
   "outputs": [],
   "source": [
    "from sklearn.grid_search import GridSearchCV"
   ]
  },
  {
   "cell_type": "code",
   "execution_count": null,
   "metadata": {},
   "outputs": [],
   "source": [
    "#what to do with cat features\n",
    "params = {'depth': [4, 7, 10],\n",
    "          'learning_rate' : [0.20, 0.31, 0.40],\n",
    "         'l2_leaf_reg': [1, 4, 9],\n",
    "         'iterations': [300]}\n",
    "cb = CatBoostClassifier()\n",
    "cb_model = GridSearchCV(cb, params, scoring=\"roc_auc\")\n",
    "cb_model.fit(train, y_train, cb__cat_features=categorical_features_indices)"
   ]
  },
  {
   "cell_type": "markdown",
   "metadata": {},
   "source": [
    "### Make submission"
   ]
  },
  {
   "cell_type": "code",
   "execution_count": 20,
   "metadata": {},
   "outputs": [],
   "source": [
    "categoricals = train.select_dtypes(include=['category', 'bool', 'object']).columns\n",
    "categorical_features_indices = [train.columns.get_loc(cat) for cat in categoricals]"
   ]
  },
  {
   "cell_type": "code",
   "execution_count": 21,
   "metadata": {},
   "outputs": [],
   "source": [
    "pos_neg_ratio = sum(y==False) / sum(y==True)"
   ]
  },
  {
   "cell_type": "code",
   "execution_count": 17,
   "metadata": {},
   "outputs": [
    {
     "name": "stdout",
     "output_type": "stream",
     "text": [
      "0:\ttotal: 8.72s\tremaining: 28m 54s\n",
      "10:\ttotal: 1m 32s\tremaining: 26m 31s\n",
      "20:\ttotal: 2m 52s\tremaining: 24m 29s\n",
      "30:\ttotal: 4m 4s\tremaining: 22m 13s\n",
      "40:\ttotal: 5m 25s\tremaining: 21m\n",
      "50:\ttotal: 6m 42s\tremaining: 19m 36s\n",
      "60:\ttotal: 7m 57s\tremaining: 18m 8s\n",
      "70:\ttotal: 9m 22s\tremaining: 17m 2s\n",
      "80:\ttotal: 10m 33s\tremaining: 15m 31s\n",
      "90:\ttotal: 11m 47s\tremaining: 14m 7s\n",
      "100:\ttotal: 13m 10s\tremaining: 12m 55s\n",
      "110:\ttotal: 14m 33s\tremaining: 11m 40s\n",
      "120:\ttotal: 16m 7s\tremaining: 10m 31s\n",
      "130:\ttotal: 17m 34s\tremaining: 9m 15s\n",
      "140:\ttotal: 19m 3s\tremaining: 7m 58s\n",
      "150:\ttotal: 20m 50s\tremaining: 6m 45s\n",
      "160:\ttotal: 22m 23s\tremaining: 5m 25s\n",
      "170:\ttotal: 23m 54s\tremaining: 4m 3s\n",
      "180:\ttotal: 25m 37s\tremaining: 2m 41s\n",
      "190:\ttotal: 27m 16s\tremaining: 1m 17s\n",
      "199:\ttotal: 28m 46s\tremaining: 0us\n"
     ]
    },
    {
     "data": {
      "text/plain": [
       "<catboost.core.CatBoostClassifier at 0x13cfd12e8>"
      ]
     },
     "execution_count": 17,
     "metadata": {},
     "output_type": "execute_result"
    }
   ],
   "source": [
    "params = {\n",
    "#          'border_count': 64, \n",
    "#          'one_hot_max_size': 5,\n",
    "#          'depth': 7,\n",
    "#          'depth': 5,\n",
    "          'iterations': 200.0,\n",
    "#          'l2_leaf_reg': 11.47871028241772, \n",
    "          'learning_rate': 0.30,\n",
    "#          'scale_pos_weight': pos_neg_ratio\n",
    "          'thread_count': None\n",
    "    \n",
    "         }\n",
    "\n",
    "#random_strength (default 1)\n",
    "\n",
    "model = CatBoostClassifier(\n",
    "    **params,\n",
    "    eval_metric=\"AUC\",\n",
    "    od_type='Iter',\n",
    "    od_wait=40,\n",
    "    metric_period=10\n",
    ")\n",
    "\n",
    "model.fit(train, y, cat_features=categorical_features_indices)"
   ]
  },
  {
   "cell_type": "code",
   "execution_count": 18,
   "metadata": {},
   "outputs": [],
   "source": [
    "#save model to disk\n",
    "#model.save_model('catboost_model.dump')\n",
    "#load\n",
    "#model = CatBoostClassifier()\n",
    "#model.load_model('catboost_model.dump')"
   ]
  },
  {
   "cell_type": "code",
   "execution_count": 19,
   "metadata": {},
   "outputs": [],
   "source": [
    "submission = model.predict_proba(test)[:, 1]\n",
    "create_submission_file(submission, \"catboost_\", params)"
   ]
  },
  {
   "cell_type": "markdown",
   "metadata": {},
   "source": [
    "30 iteration et tout libre (peut être pas canceled_proba): 0.7267220863\n",
    "30 iterations et 2000 rare: 0.7238\n",
    "500 iterations learning_rate: 0.05 border_count: 64 : 0.731"
   ]
  },
  {
   "cell_type": "markdown",
   "metadata": {},
   "source": [
    "### tests on cross validation"
   ]
  },
  {
   "cell_type": "code",
   "execution_count": 18,
   "metadata": {},
   "outputs": [],
   "source": [
    "pos_neg_ratio =  sum(y==False) / sum(y==True)\n",
    "\n",
    "categorical_features_indices = [train.columns.get_loc(cat) for cat in categoricals]\n",
    "\n",
    "params = {\n",
    "          'border_count': 64, \n",
    "#          'one_hot_max_size': 5,\n",
    "#          'depth': 7,\n",
    "#          'depth': 5,\n",
    "          'iterations': 180.0,\n",
    "#          'l2_leaf_reg': 11.47871028241772, \n",
    "          'learning_rate': 0.05,\n",
    "#          'scale_pos_weight': pos_neg_ratio\n",
    "          'thread_count': 3\n",
    "         }\n",
    "\n",
    "model = CatBoostClassifier(\n",
    "    **params,\n",
    "    eval_metric=\"AUC\",\n",
    "    od_type='Iter',\n",
    "    od_wait=10\n",
    ")"
   ]
  },
  {
   "cell_type": "code",
   "execution_count": 19,
   "metadata": {
    "collapsed": true
   },
   "outputs": [
    {
     "name": "stdout",
     "output_type": "stream",
     "text": [
      "0:\tlearn: 0.7050691\ttest: 0.7048845\tbest: 0.7048845 (0)\ttotal: 36s\tremaining: 1h 47m 32s\n",
      "1:\tlearn: 0.7072614\ttest: 0.7070250\tbest: 0.7070250 (1)\ttotal: 1m 7s\tremaining: 1h 40m 35s\n",
      "2:\tlearn: 0.7089469\ttest: 0.7086572\tbest: 0.7086572 (2)\ttotal: 1m 38s\tremaining: 1h 36m 22s\n",
      "3:\tlearn: 0.7106581\ttest: 0.7103272\tbest: 0.7103272 (3)\ttotal: 2m 15s\tremaining: 1h 39m 26s\n",
      "4:\tlearn: 0.7113936\ttest: 0.7111209\tbest: 0.7111209 (4)\ttotal: 2m 50s\tremaining: 1h 39m 19s\n",
      "5:\tlearn: 0.7116210\ttest: 0.7113535\tbest: 0.7113535 (5)\ttotal: 3m 23s\tremaining: 1h 38m 21s\n",
      "6:\tlearn: 0.7124132\ttest: 0.7121678\tbest: 0.7121678 (6)\ttotal: 3m 59s\tremaining: 1h 38m 41s\n",
      "7:\tlearn: 0.7131385\ttest: 0.7128823\tbest: 0.7128823 (7)\ttotal: 4m 34s\tremaining: 1h 38m 16s\n",
      "8:\tlearn: 0.7135220\ttest: 0.7133084\tbest: 0.7133084 (8)\ttotal: 5m 4s\tremaining: 1h 36m 32s\n",
      "9:\tlearn: 0.7140582\ttest: 0.7138303\tbest: 0.7138303 (9)\ttotal: 5m 35s\tremaining: 1h 35m 10s\n",
      "10:\tlearn: 0.7143695\ttest: 0.7141742\tbest: 0.7141742 (10)\ttotal: 6m 9s\tremaining: 1h 34m 30s\n",
      "11:\tlearn: 0.7148216\ttest: 0.7146003\tbest: 0.7146003 (11)\ttotal: 6m 42s\tremaining: 1h 33m 54s\n",
      "12:\tlearn: 0.7151324\ttest: 0.7148991\tbest: 0.7148991 (12)\ttotal: 7m 15s\tremaining: 1h 33m 13s\n",
      "13:\tlearn: 0.7157623\ttest: 0.7155061\tbest: 0.7155061 (13)\ttotal: 7m 45s\tremaining: 1h 31m 59s\n",
      "14:\tlearn: 0.7166140\ttest: 0.7163953\tbest: 0.7163953 (14)\ttotal: 8m 21s\tremaining: 1h 31m 59s\n",
      "15:\tlearn: 0.7173525\ttest: 0.7171638\tbest: 0.7171638 (15)\ttotal: 8m 55s\tremaining: 1h 31m 32s\n",
      "16:\tlearn: 0.7180093\ttest: 0.7178636\tbest: 0.7178636 (16)\ttotal: 9m 30s\tremaining: 1h 31m 11s\n",
      "17:\tlearn: 0.7186192\ttest: 0.7185191\tbest: 0.7185191 (17)\ttotal: 10m 8s\tremaining: 1h 31m 12s\n",
      "18:\tlearn: 0.7191534\ttest: 0.7191176\tbest: 0.7191176 (18)\ttotal: 10m 43s\tremaining: 1h 30m 53s\n",
      "19:\tlearn: 0.7195439\ttest: 0.7195353\tbest: 0.7195353 (19)\ttotal: 11m 19s\tremaining: 1h 30m 35s\n",
      "20:\tlearn: 0.7198760\ttest: 0.7198796\tbest: 0.7198796 (20)\ttotal: 11m 53s\tremaining: 1h 30m 3s\n",
      "21:\tlearn: 0.7203156\ttest: 0.7203562\tbest: 0.7203562 (21)\ttotal: 12m 27s\tremaining: 1h 29m 28s\n",
      "22:\tlearn: 0.7206981\ttest: 0.7207642\tbest: 0.7207642 (22)\ttotal: 13m 1s\tremaining: 1h 28m 51s\n",
      "23:\tlearn: 0.7209606\ttest: 0.7210522\tbest: 0.7210522 (23)\ttotal: 13m 33s\tremaining: 1h 28m 10s\n",
      "24:\tlearn: 0.7212253\ttest: 0.7213526\tbest: 0.7213526 (24)\ttotal: 14m 7s\tremaining: 1h 27m 34s\n",
      "25:\tlearn: 0.7214695\ttest: 0.7216266\tbest: 0.7216266 (25)\ttotal: 14m 40s\tremaining: 1h 26m 58s\n",
      "26:\tlearn: 0.7216747\ttest: 0.7218427\tbest: 0.7218427 (26)\ttotal: 15m 14s\tremaining: 1h 26m 20s\n",
      "27:\tlearn: 0.7218615\ttest: 0.7220591\tbest: 0.7220591 (27)\ttotal: 15m 47s\tremaining: 1h 25m 43s\n",
      "28:\tlearn: 0.7223550\ttest: 0.7226254\tbest: 0.7226254 (28)\ttotal: 16m 20s\tremaining: 1h 25m 4s\n",
      "29:\tlearn: 0.7229855\ttest: 0.7234555\tbest: 0.7234555 (29)\ttotal: 16m 56s\tremaining: 1h 24m 41s\n",
      "30:\tlearn: 0.7233632\ttest: 0.7239420\tbest: 0.7239420 (30)\ttotal: 17m 29s\tremaining: 1h 24m 5s\n",
      "31:\tlearn: 0.7238844\ttest: 0.7245966\tbest: 0.7245966 (31)\ttotal: 18m 3s\tremaining: 1h 23m 31s\n",
      "32:\tlearn: 0.7243071\ttest: 0.7251278\tbest: 0.7251278 (32)\ttotal: 18m 36s\tremaining: 1h 22m 54s\n",
      "33:\tlearn: 0.7247815\ttest: 0.7256724\tbest: 0.7256724 (33)\ttotal: 19m 9s\tremaining: 1h 22m 17s\n",
      "34:\tlearn: 0.7251449\ttest: 0.7260972\tbest: 0.7260972 (34)\ttotal: 19m 44s\tremaining: 1h 21m 46s\n",
      "35:\tlearn: 0.7253793\ttest: 0.7263370\tbest: 0.7263370 (35)\ttotal: 20m 16s\tremaining: 1h 21m 7s\n",
      "36:\tlearn: 0.7258545\ttest: 0.7269448\tbest: 0.7269448 (36)\ttotal: 20m 51s\tremaining: 1h 20m 38s\n",
      "37:\tlearn: 0.7262762\ttest: 0.7274967\tbest: 0.7274967 (37)\ttotal: 21m 26s\tremaining: 1h 20m 7s\n",
      "38:\tlearn: 0.7265911\ttest: 0.7278902\tbest: 0.7278902 (38)\ttotal: 21m 58s\tremaining: 1h 19m 26s\n",
      "39:\tlearn: 0.7269089\ttest: 0.7282426\tbest: 0.7282426 (39)\ttotal: 22m 30s\tremaining: 1h 18m 47s\n",
      "40:\tlearn: 0.7273351\ttest: 0.7288246\tbest: 0.7288246 (40)\ttotal: 23m 4s\tremaining: 1h 18m 15s\n",
      "41:\tlearn: 0.7276231\ttest: 0.7291782\tbest: 0.7291782 (41)\ttotal: 23m 37s\tremaining: 1h 17m 38s\n",
      "42:\tlearn: 0.7278684\ttest: 0.7294689\tbest: 0.7294689 (42)\ttotal: 24m 8s\tremaining: 1h 16m 54s\n",
      "43:\tlearn: 0.7281016\ttest: 0.7297455\tbest: 0.7297455 (43)\ttotal: 24m 49s\tremaining: 1h 16m 43s\n",
      "44:\tlearn: 0.7283635\ttest: 0.7299855\tbest: 0.7299855 (44)\ttotal: 25m 22s\tremaining: 1h 16m 6s\n",
      "45:\tlearn: 0.7285674\ttest: 0.7301994\tbest: 0.7301994 (45)\ttotal: 25m 58s\tremaining: 1h 15m 39s\n",
      "46:\tlearn: 0.7289031\ttest: 0.7306152\tbest: 0.7306152 (46)\ttotal: 26m 34s\tremaining: 1h 15m 11s\n",
      "47:\tlearn: 0.7290266\ttest: 0.7307390\tbest: 0.7307390 (47)\ttotal: 27m 8s\tremaining: 1h 14m 37s\n",
      "48:\tlearn: 0.7292185\ttest: 0.7309922\tbest: 0.7309922 (48)\ttotal: 27m 44s\tremaining: 1h 14m 10s\n",
      "49:\tlearn: 0.7293559\ttest: 0.7310959\tbest: 0.7310959 (49)\ttotal: 28m 17s\tremaining: 1h 13m 32s\n",
      "50:\tlearn: 0.7296627\ttest: 0.7314930\tbest: 0.7314930 (50)\ttotal: 28m 52s\tremaining: 1h 13m 1s\n",
      "51:\tlearn: 0.7298461\ttest: 0.7316924\tbest: 0.7316924 (51)\ttotal: 29m 25s\tremaining: 1h 12m 25s\n",
      "52:\tlearn: 0.7300946\ttest: 0.7320161\tbest: 0.7320161 (52)\ttotal: 30m 1s\tremaining: 1h 11m 55s\n",
      "53:\tlearn: 0.7303907\ttest: 0.7324511\tbest: 0.7324511 (53)\ttotal: 30m 37s\tremaining: 1h 11m 27s\n",
      "54:\tlearn: 0.7307099\ttest: 0.7328932\tbest: 0.7328932 (54)\ttotal: 31m 18s\tremaining: 1h 11m 8s\n",
      "55:\tlearn: 0.7309035\ttest: 0.7331135\tbest: 0.7331135 (55)\ttotal: 31m 53s\tremaining: 1h 10m 37s\n",
      "56:\tlearn: 0.7311426\ttest: 0.7334305\tbest: 0.7334305 (56)\ttotal: 32m 29s\tremaining: 1h 10m 7s\n",
      "57:\tlearn: 0.7315843\ttest: 0.7341063\tbest: 0.7341063 (57)\ttotal: 33m 6s\tremaining: 1h 9m 38s\n",
      "58:\tlearn: 0.7318522\ttest: 0.7344608\tbest: 0.7344608 (58)\ttotal: 33m 43s\tremaining: 1h 9m 10s\n",
      "59:\tlearn: 0.7320439\ttest: 0.7346766\tbest: 0.7346766 (59)\ttotal: 34m 22s\tremaining: 1h 8m 45s\n",
      "60:\tlearn: 0.7322689\ttest: 0.7349625\tbest: 0.7349625 (60)\ttotal: 34m 59s\tremaining: 1h 8m 14s\n",
      "61:\tlearn: 0.7325580\ttest: 0.7353590\tbest: 0.7353590 (61)\ttotal: 35m 34s\tremaining: 1h 7m 42s\n",
      "62:\tlearn: 0.7327436\ttest: 0.7355868\tbest: 0.7355868 (62)\ttotal: 36m 8s\tremaining: 1h 7m 8s\n",
      "63:\tlearn: 0.7330522\ttest: 0.7360734\tbest: 0.7360734 (63)\ttotal: 36m 42s\tremaining: 1h 6m 32s\n",
      "64:\tlearn: 0.7333017\ttest: 0.7363924\tbest: 0.7363924 (64)\ttotal: 37m 19s\tremaining: 1h 6m 1s\n",
      "65:\tlearn: 0.7334949\ttest: 0.7366382\tbest: 0.7366382 (65)\ttotal: 37m 58s\tremaining: 1h 5m 35s\n",
      "66:\tlearn: 0.7336641\ttest: 0.7368883\tbest: 0.7368883 (66)\ttotal: 38m 40s\tremaining: 1h 5m 14s\n",
      "67:\tlearn: 0.7339148\ttest: 0.7372542\tbest: 0.7372542 (67)\ttotal: 39m 16s\tremaining: 1h 4m 40s\n",
      "68:\tlearn: 0.7340208\ttest: 0.7373658\tbest: 0.7373658 (68)\ttotal: 39m 50s\tremaining: 1h 4m 5s\n",
      "69:\tlearn: 0.7342608\ttest: 0.7377322\tbest: 0.7377322 (69)\ttotal: 40m 30s\tremaining: 1h 3m 39s\n",
      "70:\tlearn: 0.7344506\ttest: 0.7380026\tbest: 0.7380026 (70)\ttotal: 41m 5s\tremaining: 1h 3m 4s\n",
      "71:\tlearn: 0.7346475\ttest: 0.7383011\tbest: 0.7383011 (71)\ttotal: 41m 37s\tremaining: 1h 2m 25s\n",
      "72:\tlearn: 0.7347703\ttest: 0.7384320\tbest: 0.7384320 (72)\ttotal: 42m 6s\tremaining: 1h 1m 43s\n",
      "73:\tlearn: 0.7349733\ttest: 0.7387329\tbest: 0.7387329 (73)\ttotal: 42m 42s\tremaining: 1h 1m 10s\n",
      "74:\tlearn: 0.7350490\ttest: 0.7387964\tbest: 0.7387964 (74)\ttotal: 43m 14s\tremaining: 1h 31s\n",
      "75:\tlearn: 0.7351787\ttest: 0.7389466\tbest: 0.7389466 (75)\ttotal: 43m 48s\tremaining: 59m 56s\n",
      "76:\tlearn: 0.7353228\ttest: 0.7391277\tbest: 0.7391277 (76)\ttotal: 44m 22s\tremaining: 59m 21s\n",
      "77:\tlearn: 0.7354741\ttest: 0.7393349\tbest: 0.7393349 (77)\ttotal: 44m 55s\tremaining: 58m 44s\n",
      "78:\tlearn: 0.7356579\ttest: 0.7396129\tbest: 0.7396129 (78)\ttotal: 45m 28s\tremaining: 58m 8s\n",
      "79:\tlearn: 0.7357882\ttest: 0.7397739\tbest: 0.7397739 (79)\ttotal: 46m\tremaining: 57m 30s\n",
      "80:\tlearn: 0.7359343\ttest: 0.7399776\tbest: 0.7399776 (80)\ttotal: 46m 32s\tremaining: 56m 53s\n",
      "81:\tlearn: 0.7360204\ttest: 0.7400501\tbest: 0.7400501 (81)\ttotal: 47m 3s\tremaining: 56m 14s\n",
      "82:\tlearn: 0.7361769\ttest: 0.7402740\tbest: 0.7402740 (82)\ttotal: 47m 36s\tremaining: 55m 38s\n",
      "83:\tlearn: 0.7363689\ttest: 0.7405626\tbest: 0.7405626 (83)\ttotal: 48m 13s\tremaining: 55m 6s\n",
      "84:\tlearn: 0.7365057\ttest: 0.7407544\tbest: 0.7407544 (84)\ttotal: 48m 45s\tremaining: 54m 29s\n",
      "85:\tlearn: 0.7365851\ttest: 0.7408349\tbest: 0.7408349 (85)\ttotal: 49m 20s\tremaining: 53m 56s\n",
      "86:\tlearn: 0.7367288\ttest: 0.7410374\tbest: 0.7410374 (86)\ttotal: 49m 56s\tremaining: 53m 23s\n",
      "87:\tlearn: 0.7368317\ttest: 0.7411669\tbest: 0.7411669 (87)\ttotal: 50m 29s\tremaining: 52m 46s\n"
     ]
    },
    {
     "name": "stdout",
     "output_type": "stream",
     "text": [
      "88:\tlearn: 0.7369329\ttest: 0.7412969\tbest: 0.7412969 (88)\ttotal: 51m 1s\tremaining: 52m 9s\n",
      "89:\tlearn: 0.7369897\ttest: 0.7413388\tbest: 0.7413388 (89)\ttotal: 51m 33s\tremaining: 51m 33s\n",
      "90:\tlearn: 0.7371482\ttest: 0.7415745\tbest: 0.7415745 (90)\ttotal: 52m 8s\tremaining: 50m 59s\n",
      "91:\tlearn: 0.7372032\ttest: 0.7416148\tbest: 0.7416148 (91)\ttotal: 52m 40s\tremaining: 50m 23s\n",
      "92:\tlearn: 0.7372769\ttest: 0.7416976\tbest: 0.7416976 (92)\ttotal: 53m 15s\tremaining: 49m 49s\n",
      "93:\tlearn: 0.7373527\ttest: 0.7417915\tbest: 0.7417915 (93)\ttotal: 53m 48s\tremaining: 49m 13s\n",
      "94:\tlearn: 0.7375134\ttest: 0.7420525\tbest: 0.7420525 (94)\ttotal: 54m 23s\tremaining: 48m 40s\n",
      "95:\tlearn: 0.7375942\ttest: 0.7421346\tbest: 0.7421346 (95)\ttotal: 54m 59s\tremaining: 48m 6s\n",
      "96:\tlearn: 0.7377604\ttest: 0.7423852\tbest: 0.7423852 (96)\ttotal: 55m 35s\tremaining: 47m 33s\n",
      "97:\tlearn: 0.7378521\ttest: 0.7425073\tbest: 0.7425073 (97)\ttotal: 56m 9s\tremaining: 46m 59s\n",
      "98:\tlearn: 0.7379216\ttest: 0.7425746\tbest: 0.7425746 (98)\ttotal: 56m 41s\tremaining: 46m 23s\n",
      "99:\tlearn: 0.7380589\ttest: 0.7427795\tbest: 0.7427795 (99)\ttotal: 57m 16s\tremaining: 45m 49s\n",
      "100:\tlearn: 0.7381291\ttest: 0.7428623\tbest: 0.7428623 (100)\ttotal: 57m 51s\tremaining: 45m 15s\n",
      "101:\tlearn: 0.7381862\ttest: 0.7429196\tbest: 0.7429196 (101)\ttotal: 58m 25s\tremaining: 44m 40s\n",
      "102:\tlearn: 0.7382520\ttest: 0.7429969\tbest: 0.7429969 (102)\ttotal: 59m 5s\tremaining: 44m 10s\n",
      "103:\tlearn: 0.7383096\ttest: 0.7430428\tbest: 0.7430428 (103)\ttotal: 59m 41s\tremaining: 43m 37s\n",
      "104:\tlearn: 0.7383563\ttest: 0.7430709\tbest: 0.7430709 (104)\ttotal: 1h 20s\tremaining: 43m 5s\n",
      "105:\tlearn: 0.7384458\ttest: 0.7432054\tbest: 0.7432054 (105)\ttotal: 1h 1m 3s\tremaining: 42m 37s\n",
      "106:\tlearn: 0.7385014\ttest: 0.7432538\tbest: 0.7432538 (106)\ttotal: 1h 1m 46s\tremaining: 42m 8s\n",
      "107:\tlearn: 0.7385839\ttest: 0.7433668\tbest: 0.7433668 (107)\ttotal: 1h 2m 23s\tremaining: 41m 35s\n",
      "108:\tlearn: 0.7386908\ttest: 0.7435333\tbest: 0.7435333 (108)\ttotal: 1h 3m 5s\tremaining: 41m 6s\n",
      "109:\tlearn: 0.7387448\ttest: 0.7436037\tbest: 0.7436037 (109)\ttotal: 1h 3m 45s\tremaining: 40m 34s\n",
      "110:\tlearn: 0.7388245\ttest: 0.7436935\tbest: 0.7436935 (110)\ttotal: 1h 4m 20s\tremaining: 39m 59s\n",
      "111:\tlearn: 0.7388958\ttest: 0.7437938\tbest: 0.7437938 (111)\ttotal: 1h 5m 8s\tremaining: 39m 32s\n",
      "112:\tlearn: 0.7389930\ttest: 0.7439130\tbest: 0.7439130 (112)\ttotal: 1h 5m 51s\tremaining: 39m 2s\n",
      "113:\tlearn: 0.7390835\ttest: 0.7440223\tbest: 0.7440223 (113)\ttotal: 1h 6m 28s\tremaining: 38m 29s\n",
      "114:\tlearn: 0.7391706\ttest: 0.7441352\tbest: 0.7441352 (114)\ttotal: 1h 6m 57s\tremaining: 37m 51s\n",
      "115:\tlearn: 0.7392797\ttest: 0.7443121\tbest: 0.7443121 (115)\ttotal: 1h 7m 36s\tremaining: 37m 18s\n",
      "116:\tlearn: 0.7393546\ttest: 0.7444019\tbest: 0.7444019 (116)\ttotal: 1h 8m 12s\tremaining: 36m 43s\n",
      "117:\tlearn: 0.7394574\ttest: 0.7445678\tbest: 0.7445678 (117)\ttotal: 1h 8m 46s\tremaining: 36m 8s\n",
      "118:\tlearn: 0.7395099\ttest: 0.7446099\tbest: 0.7446099 (118)\ttotal: 1h 9m 19s\tremaining: 35m 32s\n",
      "119:\tlearn: 0.7395900\ttest: 0.7447253\tbest: 0.7447253 (119)\ttotal: 1h 9m 54s\tremaining: 34m 57s\n",
      "120:\tlearn: 0.7396474\ttest: 0.7447916\tbest: 0.7447916 (120)\ttotal: 1h 10m 28s\tremaining: 34m 21s\n",
      "121:\tlearn: 0.7396975\ttest: 0.7448260\tbest: 0.7448260 (121)\ttotal: 1h 11m 1s\tremaining: 33m 46s\n",
      "122:\tlearn: 0.7397485\ttest: 0.7448616\tbest: 0.7448616 (122)\ttotal: 1h 11m 34s\tremaining: 33m 10s\n",
      "123:\tlearn: 0.7398112\ttest: 0.7449286\tbest: 0.7449286 (123)\ttotal: 1h 12m 4s\tremaining: 32m 33s\n",
      "124:\tlearn: 0.7398889\ttest: 0.7450436\tbest: 0.7450436 (124)\ttotal: 1h 12m 38s\tremaining: 31m 57s\n",
      "125:\tlearn: 0.7399508\ttest: 0.7451133\tbest: 0.7451133 (125)\ttotal: 1h 13m 12s\tremaining: 31m 22s\n",
      "126:\tlearn: 0.7399915\ttest: 0.7451543\tbest: 0.7451543 (126)\ttotal: 1h 13m 51s\tremaining: 30m 49s\n",
      "127:\tlearn: 0.7400572\ttest: 0.7452334\tbest: 0.7452334 (127)\ttotal: 1h 14m 24s\tremaining: 30m 13s\n",
      "128:\tlearn: 0.7401294\ttest: 0.7453241\tbest: 0.7453241 (128)\ttotal: 1h 15m 1s\tremaining: 29m 39s\n",
      "129:\tlearn: 0.7402004\ttest: 0.7454312\tbest: 0.7454312 (129)\ttotal: 1h 15m 49s\tremaining: 29m 9s\n",
      "130:\tlearn: 0.7403187\ttest: 0.7455936\tbest: 0.7455936 (130)\ttotal: 1h 16m 31s\tremaining: 28m 37s\n",
      "131:\tlearn: 0.7403621\ttest: 0.7456407\tbest: 0.7456407 (131)\ttotal: 1h 17m 12s\tremaining: 28m 4s\n",
      "132:\tlearn: 0.7404262\ttest: 0.7457185\tbest: 0.7457185 (132)\ttotal: 1h 17m 53s\tremaining: 27m 31s\n",
      "133:\tlearn: 0.7405296\ttest: 0.7458715\tbest: 0.7458715 (133)\ttotal: 1h 18m 29s\tremaining: 26m 56s\n",
      "134:\tlearn: 0.7405937\ttest: 0.7459492\tbest: 0.7459492 (134)\ttotal: 1h 19m 10s\tremaining: 26m 23s\n",
      "135:\tlearn: 0.7406648\ttest: 0.7460296\tbest: 0.7460296 (135)\ttotal: 1h 19m 47s\tremaining: 25m 48s\n",
      "136:\tlearn: 0.7407226\ttest: 0.7460959\tbest: 0.7460959 (136)\ttotal: 1h 20m 24s\tremaining: 25m 14s\n",
      "137:\tlearn: 0.7407983\ttest: 0.7461982\tbest: 0.7461982 (137)\ttotal: 1h 21m 1s\tremaining: 24m 39s\n",
      "138:\tlearn: 0.7408686\ttest: 0.7463117\tbest: 0.7463117 (138)\ttotal: 1h 21m 36s\tremaining: 24m 4s\n",
      "139:\tlearn: 0.7409343\ttest: 0.7463969\tbest: 0.7463969 (139)\ttotal: 1h 22m 12s\tremaining: 23m 29s\n",
      "140:\tlearn: 0.7409878\ttest: 0.7464674\tbest: 0.7464674 (140)\ttotal: 1h 22m 53s\tremaining: 22m 55s\n",
      "141:\tlearn: 0.7410456\ttest: 0.7465410\tbest: 0.7465410 (141)\ttotal: 1h 23m 37s\tremaining: 22m 22s\n",
      "142:\tlearn: 0.7411120\ttest: 0.7466365\tbest: 0.7466365 (142)\ttotal: 1h 24m 18s\tremaining: 21m 48s\n",
      "143:\tlearn: 0.7411549\ttest: 0.7466679\tbest: 0.7466679 (143)\ttotal: 1h 24m 56s\tremaining: 21m 14s\n"
     ]
    },
    {
     "ename": "KeyboardInterrupt",
     "evalue": "",
     "output_type": "error",
     "traceback": [
      "\u001b[0;31m---------------------------------------------------------------------------\u001b[0m",
      "\u001b[0;31mKeyboardInterrupt\u001b[0m                         Traceback (most recent call last)",
      "\u001b[0;32m<ipython-input-19-bdf7e359cad7>\u001b[0m in \u001b[0;36m<module>\u001b[0;34m()\u001b[0m\n\u001b[1;32m      3\u001b[0m     \u001b[0mmodel\u001b[0m\u001b[0;34m.\u001b[0m\u001b[0mget_params\u001b[0m\u001b[0;34m(\u001b[0m\u001b[0;34m)\u001b[0m\u001b[0;34m,\u001b[0m\u001b[0;34m\u001b[0m\u001b[0m\n\u001b[1;32m      4\u001b[0m     \u001b[0mstratified\u001b[0m\u001b[0;34m=\u001b[0m\u001b[0;32mTrue\u001b[0m\u001b[0;34m,\u001b[0m\u001b[0;34m\u001b[0m\u001b[0m\n\u001b[0;32m----> 5\u001b[0;31m     \u001b[0mfold_count\u001b[0m\u001b[0;34m=\u001b[0m\u001b[0;36m5\u001b[0m\u001b[0;34m\u001b[0m\u001b[0m\n\u001b[0m\u001b[1;32m      6\u001b[0m )\n\u001b[1;32m      7\u001b[0m \u001b[0;34m\u001b[0m\u001b[0m\n",
      "\u001b[0;32m~/anaconda2/envs/dsc_hs/lib/python3.6/site-packages/catboost/core.py\u001b[0m in \u001b[0;36mcv\u001b[0;34m(pool, params, dtrain, iterations, num_boost_round, fold_count, nfold, inverted, partition_random_seed, seed, shuffle, logging_level, stratified, as_pandas, metric_period, verbose, verbose_eval, plot, early_stopping_rounds)\u001b[0m\n\u001b[1;32m   2733\u001b[0m \u001b[0;34m\u001b[0m\u001b[0m\n\u001b[1;32m   2734\u001b[0m     \u001b[0;32mwith\u001b[0m \u001b[0mlog_fixup\u001b[0m\u001b[0;34m(\u001b[0m\u001b[0;34m)\u001b[0m\u001b[0;34m:\u001b[0m\u001b[0;34m\u001b[0m\u001b[0m\n\u001b[0;32m-> 2735\u001b[0;31m         \u001b[0;32mreturn\u001b[0m \u001b[0m_cv\u001b[0m\u001b[0;34m(\u001b[0m\u001b[0mparams\u001b[0m\u001b[0;34m,\u001b[0m \u001b[0mpool\u001b[0m\u001b[0;34m,\u001b[0m \u001b[0mfold_count\u001b[0m\u001b[0;34m,\u001b[0m \u001b[0minverted\u001b[0m\u001b[0;34m,\u001b[0m \u001b[0mpartition_random_seed\u001b[0m\u001b[0;34m,\u001b[0m \u001b[0mshuffle\u001b[0m\u001b[0;34m,\u001b[0m \u001b[0mstratified\u001b[0m\u001b[0;34m,\u001b[0m \u001b[0mas_pandas\u001b[0m\u001b[0;34m)\u001b[0m\u001b[0;34m\u001b[0m\u001b[0m\n\u001b[0m\u001b[1;32m   2736\u001b[0m \u001b[0;34m\u001b[0m\u001b[0m\n\u001b[1;32m   2737\u001b[0m \u001b[0;34m\u001b[0m\u001b[0m\n",
      "\u001b[0;32m_catboost.pyx\u001b[0m in \u001b[0;36m_catboost._cv\u001b[0;34m()\u001b[0m\n",
      "\u001b[0;32m_catboost.pyx\u001b[0m in \u001b[0;36m_catboost._cv\u001b[0;34m()\u001b[0m\n",
      "\u001b[0;31mKeyboardInterrupt\u001b[0m: "
     ]
    }
   ],
   "source": [
    "cv_data = cv(\n",
    "    Pool(train, y, cat_features=categorical_features_indices),\n",
    "    model.get_params(),\n",
    "    stratified=True,\n",
    "    fold_count=5\n",
    ")\n",
    "\n",
    "#0.707 on test set"
   ]
  },
  {
   "cell_type": "markdown",
   "metadata": {},
   "source": [
    "30 iterations, lr 0.31, borders:64 --> 0.735"
   ]
  },
  {
   "cell_type": "code",
   "execution_count": 103,
   "metadata": {},
   "outputs": [
    {
     "data": {
      "text/plain": [
       "<matplotlib.axes._subplots.AxesSubplot at 0x116e4acf8>"
      ]
     },
     "execution_count": 103,
     "metadata": {},
     "output_type": "execute_result"
    },
    {
     "data": {
      "image/png": "[encoded data removed]",
      "text/plain": [
       "<Figure size 432x288 with 1 Axes>"
      ]
     },
     "metadata": {},
     "output_type": "display_data"
    }
   ],
   "source": [
    "cv_data.plot(y=['test-AUC-mean', 'train-AUC-mean'])"
   ]
  },
  {
   "cell_type": "code",
   "execution_count": 104,
   "metadata": {},
   "outputs": [
    {
     "data": {
      "text/plain": [
       "<matplotlib.axes._subplots.AxesSubplot at 0x144e1f550>"
      ]
     },
     "execution_count": 104,
     "metadata": {},
     "output_type": "execute_result"
    },
    {
     "data": {
      "image/png": "[encoded data removed]",
      "text/plain": [
       "<Figure size 432x288 with 1 Axes>"
      ]
     },
     "metadata": {},
     "output_type": "display_data"
    }
   ],
   "source": [
    "cv_data.plot(y=['test-Logloss-mean', 'train-Logloss-mean'])"
   ]
  },
  {
   "cell_type": "markdown",
   "metadata": {},
   "source": [
    "### train with some randomly added na for contract variables\n",
    "must be done before all feature engineering ? --> not necessarily (if variable identification is possible)"
   ]
  },
  {
   "cell_type": "code",
   "execution_count": 193,
   "metadata": {},
   "outputs": [],
   "source": [
    "train.drop('target', axis=1, inplace=True)"
   ]
  },
  {
   "cell_type": "code",
   "execution_count": 194,
   "metadata": {},
   "outputs": [],
   "source": [
    "var_with_new_categ_not_in_contract = [var for var in var_with_new_categ if var not in categ_contract]"
   ]
  },
  {
   "cell_type": "code",
   "execution_count": 195,
   "metadata": {},
   "outputs": [],
   "source": [
    "quanti_contract = ['PRIX_FACTURE', \n",
    "                   'CONTRAT_TARIF',\n",
    "                   'temps_depuis_debut_contrat',\n",
    "                   'temps_jusqua_fin_contrat', \n",
    "                   'temps_depuis_maj_contrat']"
   ]
  },
  {
   "cell_type": "code",
   "execution_count": 196,
   "metadata": {},
   "outputs": [],
   "source": [
    "variables = categ_contract + var_with_new_categ_not_in_contract\n",
    "train = add_categories_in_columns(train, variables, ['NAN'])\n",
    "test = add_categories_in_columns(test, variables, ['NAN'])"
   ]
  },
  {
   "cell_type": "code",
   "execution_count": 197,
   "metadata": {},
   "outputs": [],
   "source": [
    "categoricals = train.select_dtypes(include=['category', 'bool', 'object']).columns\n",
    "categorical_features_indices = [train.columns.get_loc(cat) for cat in categoricals]"
   ]
  },
  {
   "cell_type": "code",
   "execution_count": 198,
   "metadata": {},
   "outputs": [
    {
     "data": {
      "application/vnd.jupyter.widget-view+json": {
       "model_id": "a79597875f49435e9ecd8807404cdb8d",
       "version_major": 2,
       "version_minor": 0
      },
      "text/plain": [
       "HBox(children=(IntProgress(value=0, max=10), HTML(value='')))"
      ]
     },
     "metadata": {},
     "output_type": "display_data"
    }
   ],
   "source": [
    "models = []\n",
    "\n",
    "params = {'iterations': 30,\n",
    "          'border_count': 64,\n",
    "          'learning_rate':0.30\n",
    "}\n",
    "\n",
    "for i in tqdm.tqdm_notebook(range(10)):\n",
    "    _train = train.copy()\n",
    "    \n",
    "    _train = randomly_alter_modalities_on_same_line(_train, categ_contract, quanti_contract, 0.2)\n",
    "    _train = randomly_alter_modalities(_train, var_with_new_categ_not_in_contract, 0.2)\n",
    "\n",
    "    model = CatBoostClassifier(\n",
    "        **params,\n",
    "        verbose=False\n",
    "    )\n",
    "    \n",
    "    model.fit(_train, y, cat_features=categorical_features_indices)\n",
    "    models.append(model.copy())"
   ]
  },
  {
   "cell_type": "code",
   "execution_count": 199,
   "metadata": {},
   "outputs": [
    {
     "data": {
      "application/vnd.jupyter.widget-view+json": {
       "model_id": "298fcc937b1c4146a30e732ec7c7cfc7",
       "version_major": 2,
       "version_minor": 0
      },
      "text/plain": [
       "HBox(children=(IntProgress(value=0, max=10), HTML(value='')))"
      ]
     },
     "metadata": {},
     "output_type": "display_data"
    }
   ],
   "source": [
    "predictions = []\n",
    "for _model in tqdm.tqdm_notebook(models):\n",
    "    predictions.append(_model.predict_proba(test)[:,1])\n",
    "    \n",
    "submission = np.vstack(predictions).T.mean(axis=1)\n",
    "create_submission_file(submission, \"catboost_rdmNA\", params)"
   ]
  },
  {
   "cell_type": "code",
   "execution_count": 43,
   "metadata": {},
   "outputs": [],
   "source": [
    "#prediction if multiple models\n",
    "#prediction = np.hstack([predictions, predictions2]).mean(axis=1)"
   ]
  },
  {
   "cell_type": "markdown",
   "metadata": {},
   "source": [
    "## LightGBM"
   ]
  },
  {
   "cell_type": "code",
   "execution_count": 11,
   "metadata": {},
   "outputs": [],
   "source": [
    "import lightgbm"
   ]
  },
  {
   "cell_type": "code",
   "execution_count": 12,
   "metadata": {},
   "outputs": [],
   "source": [
    "X_train_train, X_train_val, y_train_train, y_train_val = sklearn.model_selection.train_test_split(train, y, random_state=42, shuffle=True, stratify=y)"
   ]
  },
  {
   "cell_type": "code",
   "execution_count": 62,
   "metadata": {},
   "outputs": [],
   "source": [
    "def learning_rate_010_decay_power_099(current_iter):\n",
    "    base_learning_rate = 0.1\n",
    "    lr = base_learning_rate  * np.power(.99, current_iter)\n",
    "    return lr if lr > 1e-3 else 1e-3\n",
    "\n",
    "def learning_rate_010_decay_power_0995(current_iter):\n",
    "    base_learning_rate = 0.05\n",
    "    lr = base_learning_rate  * np.power(.995, current_iter)\n",
    "    return lr if lr > 1e-3 else 1e-3\n",
    "\n",
    "def learning_rate_005_decay_power_099(current_iter):\n",
    "    base_learning_rate = 0.05\n",
    "    lr = base_learning_rate  * np.power(.99, current_iter)\n",
    "    return lr if lr > 1e-3 else 1e-3"
   ]
  },
  {
   "cell_type": "code",
   "execution_count": 17,
   "metadata": {},
   "outputs": [],
   "source": [
    "fit_params={\"early_stopping_rounds\":30, \n",
    "            \"eval_metric\" : 'auc', \n",
    "            \"eval_set\" : [(X_train_val, y_train_val)],\n",
    "            'eval_names': ['valid'],\n",
    "#            'callbacks': [lightgbm.reset_parameter(learning_rate=learning_rate_010_decay_power_0995)],\n",
    "#            'callbacks': [lightgbm.reset_parameter(learning_rate=[0.01]*500 + [0.001]*500)],\n",
    "            'verbose': 100,\n",
    "            'categorical_feature': categorical_features_indices}"
   ]
  },
  {
   "cell_type": "code",
   "execution_count": 14,
   "metadata": {},
   "outputs": [],
   "source": [
    "from scipy.stats import randint as sp_randint\n",
    "from scipy.stats import uniform as sp_uniform\n",
    "param_test ={'num_leaves': sp_randint(50, 500), \n",
    "             'min_data_in_leaf': sp_randint(50, 500), \n",
    "             'min_child_weight': [1e-5, 1e-3, 1e-2, 1e-1, 1, 1e1, 1e2, 1e3, 1e4],\n",
    "             'subsample': sp_uniform(loc=0.2, scale=0.8), \n",
    "             'colsample_bytree': sp_uniform(loc=0.4, scale=0.6),\n",
    "             'reg_alpha': [0, 1e-1, 1, 2, 5, 7, 10, 50, 100],\n",
    "             'reg_lambda': [0, 1e-1, 1, 5, 10, 20, 50, 100],\n",
    "             'learning_rate' : [0.01]}\n",
    "\n",
    "# 'cat_l2', 'max_cat_to_onehot'"
   ]
  },
  {
   "cell_type": "code",
   "execution_count": 20,
   "metadata": {},
   "outputs": [],
   "source": [
    "#This parameter defines the number of HP points to be tested\n",
    "n_HP_points_to_test = 10\n",
    "\n",
    "import lightgbm as lgb\n",
    "from sklearn.model_selection import RandomizedSearchCV, GridSearchCV\n",
    "\n",
    "#n_estimators is set to a \"large value\". The actual number of trees build will depend on early stopping and 5000 define only the absolute maximum\n",
    "clf = lgb.LGBMClassifier(max_depth=-1, random_state=314, silent=True, metric='None', n_jobs=4, n_estimators=5000)\n",
    "\n",
    "gs = RandomizedSearchCV(\n",
    "    estimator=clf, \n",
    "    param_distributions=param_test, \n",
    "    n_iter=n_HP_points_to_test,\n",
    "    scoring='roc_auc',\n",
    "    cv=3,\n",
    "    refit=True,\n",
    "    random_state=314,\n",
    "    verbose=10)"
   ]
  },
  {
   "cell_type": "code",
   "execution_count": 21,
   "metadata": {},
   "outputs": [
    {
     "name": "stdout",
     "output_type": "stream",
     "text": [
      "Fitting 3 folds for each of 10 candidates, totalling 30 fits\n",
      "[CV] colsample_bytree=0.9501241488957805, learning_rate=0.01, min_child_weight=0.1, min_data_in_leaf=392, num_leaves=92, reg_alpha=0, reg_lambda=100, subsample=0.9326466073236168 \n"
     ]
    },
    {
     "name": "stderr",
     "output_type": "stream",
     "text": [
      "/Users/WM1158/anaconda2/envs/dsc_hs/lib/python3.6/site-packages/lightgbm/basic.py:1042: UserWarning: categorical_feature in Dataset is overridden. New categorical_feature is [0, 1, 3, 4, 5, 6, 7, 8, 9, 10, 11, 12, 13, 14, 16, 17, 18, 19, 20, 21, 22, 23, 24, 25, 26, 27, 33, 34, 35, 36, 37, 39, 40, 41, 42, 43, 44, 50, 51, 52, 53, 54, 55, 56, 57, 58, 59, 60, 61, 62, 63, 64, 65, 66, 67, 68, 69, 70, 71, 72, 73, 74, 75]\n",
      "  warnings.warn('categorical_feature in Dataset is overridden. New categorical_feature is {}'.format(sorted(list(categorical_feature))))\n"
     ]
    },
    {
     "name": "stdout",
     "output_type": "stream",
     "text": [
      "Training until validation scores don't improve for 30 rounds.\n",
      "[100]\tvalid's auc: 0.725566\n",
      "[200]\tvalid's auc: 0.729107\n",
      "[300]\tvalid's auc: 0.730321\n",
      "[400]\tvalid's auc: 0.73097\n",
      "Early stopping, best iteration is:\n",
      "[449]\tvalid's auc: 0.731018\n",
      "[CV]  colsample_bytree=0.9501241488957805, learning_rate=0.01, min_child_weight=0.1, min_data_in_leaf=392, num_leaves=92, reg_alpha=0, reg_lambda=100, subsample=0.9326466073236168, score=0.7286637027466945, total= 1.9min\n",
      "[CV] colsample_bytree=0.9501241488957805, learning_rate=0.01, min_child_weight=0.1, min_data_in_leaf=392, num_leaves=92, reg_alpha=0, reg_lambda=100, subsample=0.9326466073236168 \n"
     ]
    },
    {
     "name": "stderr",
     "output_type": "stream",
     "text": [
      "[Parallel(n_jobs=1)]: Done   1 out of   1 | elapsed:  2.5min remaining:    0.0s\n",
      "/Users/WM1158/anaconda2/envs/dsc_hs/lib/python3.6/site-packages/lightgbm/basic.py:1042: UserWarning: categorical_feature in Dataset is overridden. New categorical_feature is [0, 1, 3, 4, 5, 6, 7, 8, 9, 10, 11, 12, 13, 14, 16, 17, 18, 19, 20, 21, 22, 23, 24, 25, 26, 27, 33, 34, 35, 36, 37, 39, 40, 41, 42, 43, 44, 50, 51, 52, 53, 54, 55, 56, 57, 58, 59, 60, 61, 62, 63, 64, 65, 66, 67, 68, 69, 70, 71, 72, 73, 74, 75]\n",
      "  warnings.warn('categorical_feature in Dataset is overridden. New categorical_feature is {}'.format(sorted(list(categorical_feature))))\n"
     ]
    },
    {
     "name": "stdout",
     "output_type": "stream",
     "text": [
      "Training until validation scores don't improve for 30 rounds.\n",
      "[100]\tvalid's auc: 0.725937\n",
      "[200]\tvalid's auc: 0.729032\n",
      "[300]\tvalid's auc: 0.730337\n",
      "[400]\tvalid's auc: 0.730906\n",
      "Early stopping, best iteration is:\n",
      "[436]\tvalid's auc: 0.730963\n",
      "[CV]  colsample_bytree=0.9501241488957805, learning_rate=0.01, min_child_weight=0.1, min_data_in_leaf=392, num_leaves=92, reg_alpha=0, reg_lambda=100, subsample=0.9326466073236168, score=0.7283079544940149, total= 1.9min\n",
      "[CV] colsample_bytree=0.9501241488957805, learning_rate=0.01, min_child_weight=0.1, min_data_in_leaf=392, num_leaves=92, reg_alpha=0, reg_lambda=100, subsample=0.9326466073236168 \n"
     ]
    },
    {
     "name": "stderr",
     "output_type": "stream",
     "text": [
      "[Parallel(n_jobs=1)]: Done   2 out of   2 | elapsed:  4.8min remaining:    0.0s\n",
      "/Users/WM1158/anaconda2/envs/dsc_hs/lib/python3.6/site-packages/lightgbm/basic.py:1042: UserWarning: categorical_feature in Dataset is overridden. New categorical_feature is [0, 1, 3, 4, 5, 6, 7, 8, 9, 10, 11, 12, 13, 14, 16, 17, 18, 19, 20, 21, 22, 23, 24, 25, 26, 27, 33, 34, 35, 36, 37, 39, 40, 41, 42, 43, 44, 50, 51, 52, 53, 54, 55, 56, 57, 58, 59, 60, 61, 62, 63, 64, 65, 66, 67, 68, 69, 70, 71, 72, 73, 74, 75]\n",
      "  warnings.warn('categorical_feature in Dataset is overridden. New categorical_feature is {}'.format(sorted(list(categorical_feature))))\n"
     ]
    },
    {
     "name": "stdout",
     "output_type": "stream",
     "text": [
      "Training until validation scores don't improve for 30 rounds.\n",
      "[100]\tvalid's auc: 0.725956\n",
      "[200]\tvalid's auc: 0.729156\n",
      "[300]\tvalid's auc: 0.73006\n",
      "[400]\tvalid's auc: 0.730685\n",
      "Early stopping, best iteration is:\n",
      "[436]\tvalid's auc: 0.730723\n",
      "[CV]  colsample_bytree=0.9501241488957805, learning_rate=0.01, min_child_weight=0.1, min_data_in_leaf=392, num_leaves=92, reg_alpha=0, reg_lambda=100, subsample=0.9326466073236168, score=0.7281171773032348, total= 1.8min\n",
      "[CV] colsample_bytree=0.9731668400523877, learning_rate=0.01, min_child_weight=1000.0, min_data_in_leaf=130, num_leaves=469, reg_alpha=10, reg_lambda=100, subsample=0.5575732396028996 \n"
     ]
    },
    {
     "name": "stderr",
     "output_type": "stream",
     "text": [
      "[Parallel(n_jobs=1)]: Done   3 out of   3 | elapsed:  7.0min remaining:    0.0s\n",
      "/Users/WM1158/anaconda2/envs/dsc_hs/lib/python3.6/site-packages/lightgbm/basic.py:1042: UserWarning: categorical_feature in Dataset is overridden. New categorical_feature is [0, 1, 3, 4, 5, 6, 7, 8, 9, 10, 11, 12, 13, 14, 16, 17, 18, 19, 20, 21, 22, 23, 24, 25, 26, 27, 33, 34, 35, 36, 37, 39, 40, 41, 42, 43, 44, 50, 51, 52, 53, 54, 55, 56, 57, 58, 59, 60, 61, 62, 63, 64, 65, 66, 67, 68, 69, 70, 71, 72, 73, 74, 75]\n",
      "  warnings.warn('categorical_feature in Dataset is overridden. New categorical_feature is {}'.format(sorted(list(categorical_feature))))\n"
     ]
    },
    {
     "name": "stdout",
     "output_type": "stream",
     "text": [
      "Training until validation scores don't improve for 30 rounds.\n",
      "[100]\tvalid's auc: 0.724089\n",
      "[200]\tvalid's auc: 0.727725\n",
      "[300]\tvalid's auc: 0.729792\n",
      "[400]\tvalid's auc: 0.731617\n",
      "[500]\tvalid's auc: 0.73243\n",
      "[600]\tvalid's auc: 0.732756\n",
      "[700]\tvalid's auc: 0.732829\n",
      "Early stopping, best iteration is:\n",
      "[736]\tvalid's auc: 0.732856\n",
      "[CV]  colsample_bytree=0.9731668400523877, learning_rate=0.01, min_child_weight=1000.0, min_data_in_leaf=130, num_leaves=469, reg_alpha=10, reg_lambda=100, subsample=0.5575732396028996, score=0.7303327333691594, total= 2.4min\n",
      "[CV] colsample_bytree=0.9731668400523877, learning_rate=0.01, min_child_weight=1000.0, min_data_in_leaf=130, num_leaves=469, reg_alpha=10, reg_lambda=100, subsample=0.5575732396028996 \n"
     ]
    },
    {
     "name": "stderr",
     "output_type": "stream",
     "text": [
      "[Parallel(n_jobs=1)]: Done   4 out of   4 | elapsed:  9.8min remaining:    0.0s\n",
      "/Users/WM1158/anaconda2/envs/dsc_hs/lib/python3.6/site-packages/lightgbm/basic.py:1042: UserWarning: categorical_feature in Dataset is overridden. New categorical_feature is [0, 1, 3, 4, 5, 6, 7, 8, 9, 10, 11, 12, 13, 14, 16, 17, 18, 19, 20, 21, 22, 23, 24, 25, 26, 27, 33, 34, 35, 36, 37, 39, 40, 41, 42, 43, 44, 50, 51, 52, 53, 54, 55, 56, 57, 58, 59, 60, 61, 62, 63, 64, 65, 66, 67, 68, 69, 70, 71, 72, 73, 74, 75]\n",
      "  warnings.warn('categorical_feature in Dataset is overridden. New categorical_feature is {}'.format(sorted(list(categorical_feature))))\n"
     ]
    },
    {
     "name": "stdout",
     "output_type": "stream",
     "text": [
      "Training until validation scores don't improve for 30 rounds.\n",
      "[100]\tvalid's auc: 0.724423\n",
      "[200]\tvalid's auc: 0.727681\n",
      "[300]\tvalid's auc: 0.729873\n",
      "[400]\tvalid's auc: 0.731528\n",
      "[500]\tvalid's auc: 0.732279\n",
      "[600]\tvalid's auc: 0.732559\n",
      "Early stopping, best iteration is:\n",
      "[660]\tvalid's auc: 0.732651\n",
      "[CV]  colsample_bytree=0.9731668400523877, learning_rate=0.01, min_child_weight=1000.0, min_data_in_leaf=130, num_leaves=469, reg_alpha=10, reg_lambda=100, subsample=0.5575732396028996, score=0.7299694006382137, total= 2.0min\n",
      "[CV] colsample_bytree=0.9731668400523877, learning_rate=0.01, min_child_weight=1000.0, min_data_in_leaf=130, num_leaves=469, reg_alpha=10, reg_lambda=100, subsample=0.5575732396028996 \n"
     ]
    },
    {
     "name": "stderr",
     "output_type": "stream",
     "text": [
      "[Parallel(n_jobs=1)]: Done   5 out of   5 | elapsed: 12.2min remaining:    0.0s\n",
      "/Users/WM1158/anaconda2/envs/dsc_hs/lib/python3.6/site-packages/lightgbm/basic.py:1042: UserWarning: categorical_feature in Dataset is overridden. New categorical_feature is [0, 1, 3, 4, 5, 6, 7, 8, 9, 10, 11, 12, 13, 14, 16, 17, 18, 19, 20, 21, 22, 23, 24, 25, 26, 27, 33, 34, 35, 36, 37, 39, 40, 41, 42, 43, 44, 50, 51, 52, 53, 54, 55, 56, 57, 58, 59, 60, 61, 62, 63, 64, 65, 66, 67, 68, 69, 70, 71, 72, 73, 74, 75]\n",
      "  warnings.warn('categorical_feature in Dataset is overridden. New categorical_feature is {}'.format(sorted(list(categorical_feature))))\n"
     ]
    },
    {
     "name": "stdout",
     "output_type": "stream",
     "text": [
      "Training until validation scores don't improve for 30 rounds.\n",
      "[100]\tvalid's auc: 0.723862\n",
      "[200]\tvalid's auc: 0.727496\n",
      "[300]\tvalid's auc: 0.729585\n",
      "[400]\tvalid's auc: 0.731373\n",
      "[500]\tvalid's auc: 0.732079\n",
      "[600]\tvalid's auc: 0.732375\n",
      "[700]\tvalid's auc: 0.73254\n",
      "Early stopping, best iteration is:\n",
      "[763]\tvalid's auc: 0.732576\n",
      "[CV]  colsample_bytree=0.9731668400523877, learning_rate=0.01, min_child_weight=1000.0, min_data_in_leaf=130, num_leaves=469, reg_alpha=10, reg_lambda=100, subsample=0.5575732396028996, score=0.7296141018783997, total= 2.4min\n",
      "[CV] colsample_bytree=0.7756038066515227, learning_rate=0.01, min_child_weight=1, min_data_in_leaf=223, num_leaves=154, reg_alpha=100, reg_lambda=0, subsample=0.8720649952803985 \n"
     ]
    },
    {
     "name": "stderr",
     "output_type": "stream",
     "text": [
      "[Parallel(n_jobs=1)]: Done   6 out of   6 | elapsed: 15.0min remaining:    0.0s\n",
      "/Users/WM1158/anaconda2/envs/dsc_hs/lib/python3.6/site-packages/lightgbm/basic.py:1042: UserWarning: categorical_feature in Dataset is overridden. New categorical_feature is [0, 1, 3, 4, 5, 6, 7, 8, 9, 10, 11, 12, 13, 14, 16, 17, 18, 19, 20, 21, 22, 23, 24, 25, 26, 27, 33, 34, 35, 36, 37, 39, 40, 41, 42, 43, 44, 50, 51, 52, 53, 54, 55, 56, 57, 58, 59, 60, 61, 62, 63, 64, 65, 66, 67, 68, 69, 70, 71, 72, 73, 74, 75]\n",
      "  warnings.warn('categorical_feature in Dataset is overridden. New categorical_feature is {}'.format(sorted(list(categorical_feature))))\n"
     ]
    },
    {
     "name": "stdout",
     "output_type": "stream",
     "text": [
      "Training until validation scores don't improve for 30 rounds.\n",
      "[100]\tvalid's auc: 0.725623\n",
      "[200]\tvalid's auc: 0.729204\n",
      "[300]\tvalid's auc: 0.731429\n",
      "[400]\tvalid's auc: 0.732564\n",
      "[500]\tvalid's auc: 0.732965\n",
      "[600]\tvalid's auc: 0.733082\n",
      "Early stopping, best iteration is:\n",
      "[633]\tvalid's auc: 0.733146\n",
      "[CV]  colsample_bytree=0.7756038066515227, learning_rate=0.01, min_child_weight=1, min_data_in_leaf=223, num_leaves=154, reg_alpha=100, reg_lambda=0, subsample=0.8720649952803985, score=0.7306635418949364, total= 2.8min\n",
      "[CV] colsample_bytree=0.7756038066515227, learning_rate=0.01, min_child_weight=1, min_data_in_leaf=223, num_leaves=154, reg_alpha=100, reg_lambda=0, subsample=0.8720649952803985 \n"
     ]
    },
    {
     "name": "stderr",
     "output_type": "stream",
     "text": [
      "[Parallel(n_jobs=1)]: Done   7 out of   7 | elapsed: 18.6min remaining:    0.0s\n",
      "/Users/WM1158/anaconda2/envs/dsc_hs/lib/python3.6/site-packages/lightgbm/basic.py:1042: UserWarning: categorical_feature in Dataset is overridden. New categorical_feature is [0, 1, 3, 4, 5, 6, 7, 8, 9, 10, 11, 12, 13, 14, 16, 17, 18, 19, 20, 21, 22, 23, 24, 25, 26, 27, 33, 34, 35, 36, 37, 39, 40, 41, 42, 43, 44, 50, 51, 52, 53, 54, 55, 56, 57, 58, 59, 60, 61, 62, 63, 64, 65, 66, 67, 68, 69, 70, 71, 72, 73, 74, 75]\n",
      "  warnings.warn('categorical_feature in Dataset is overridden. New categorical_feature is {}'.format(sorted(list(categorical_feature))))\n"
     ]
    },
    {
     "name": "stdout",
     "output_type": "stream",
     "text": [
      "Training until validation scores don't improve for 30 rounds.\n",
      "[100]\tvalid's auc: 0.72594\n",
      "[200]\tvalid's auc: 0.729238\n",
      "[300]\tvalid's auc: 0.731497\n",
      "[400]\tvalid's auc: 0.732676\n",
      "[500]\tvalid's auc: 0.733214\n",
      "Early stopping, best iteration is:\n",
      "[556]\tvalid's auc: 0.733321\n",
      "[CV]  colsample_bytree=0.7756038066515227, learning_rate=0.01, min_child_weight=1, min_data_in_leaf=223, num_leaves=154, reg_alpha=100, reg_lambda=0, subsample=0.8720649952803985, score=0.7307666422449306, total= 2.3min\n",
      "[CV] colsample_bytree=0.7756038066515227, learning_rate=0.01, min_child_weight=1, min_data_in_leaf=223, num_leaves=154, reg_alpha=100, reg_lambda=0, subsample=0.8720649952803985 \n"
     ]
    },
    {
     "name": "stderr",
     "output_type": "stream",
     "text": [
      "[Parallel(n_jobs=1)]: Done   8 out of   8 | elapsed: 21.6min remaining:    0.0s\n",
      "/Users/WM1158/anaconda2/envs/dsc_hs/lib/python3.6/site-packages/lightgbm/basic.py:1042: UserWarning: categorical_feature in Dataset is overridden. New categorical_feature is [0, 1, 3, 4, 5, 6, 7, 8, 9, 10, 11, 12, 13, 14, 16, 17, 18, 19, 20, 21, 22, 23, 24, 25, 26, 27, 33, 34, 35, 36, 37, 39, 40, 41, 42, 43, 44, 50, 51, 52, 53, 54, 55, 56, 57, 58, 59, 60, 61, 62, 63, 64, 65, 66, 67, 68, 69, 70, 71, 72, 73, 74, 75]\n",
      "  warnings.warn('categorical_feature in Dataset is overridden. New categorical_feature is {}'.format(sorted(list(categorical_feature))))\n"
     ]
    },
    {
     "name": "stdout",
     "output_type": "stream",
     "text": [
      "Training until validation scores don't improve for 30 rounds.\n",
      "[100]\tvalid's auc: 0.725488\n",
      "[200]\tvalid's auc: 0.729088\n",
      "[300]\tvalid's auc: 0.731221\n",
      "[400]\tvalid's auc: 0.732392\n",
      "[500]\tvalid's auc: 0.732883\n",
      "[600]\tvalid's auc: 0.732972\n",
      "Early stopping, best iteration is:\n",
      "[585]\tvalid's auc: 0.732984\n",
      "[CV]  colsample_bytree=0.7756038066515227, learning_rate=0.01, min_child_weight=1, min_data_in_leaf=223, num_leaves=154, reg_alpha=100, reg_lambda=0, subsample=0.8720649952803985, score=0.7304872286562645, total= 2.6min\n",
      "[CV] colsample_bytree=0.566907616105705, learning_rate=0.01, min_child_weight=0.01, min_data_in_leaf=377, num_leaves=392, reg_alpha=2, reg_lambda=5, subsample=0.6649855489918759 \n"
     ]
    },
    {
     "name": "stderr",
     "output_type": "stream",
     "text": [
      "[Parallel(n_jobs=1)]: Done   9 out of   9 | elapsed: 24.9min remaining:    0.0s\n",
      "/Users/WM1158/anaconda2/envs/dsc_hs/lib/python3.6/site-packages/lightgbm/basic.py:1042: UserWarning: categorical_feature in Dataset is overridden. New categorical_feature is [0, 1, 3, 4, 5, 6, 7, 8, 9, 10, 11, 12, 13, 14, 16, 17, 18, 19, 20, 21, 22, 23, 24, 25, 26, 27, 33, 34, 35, 36, 37, 39, 40, 41, 42, 43, 44, 50, 51, 52, 53, 54, 55, 56, 57, 58, 59, 60, 61, 62, 63, 64, 65, 66, 67, 68, 69, 70, 71, 72, 73, 74, 75]\n",
      "  warnings.warn('categorical_feature in Dataset is overridden. New categorical_feature is {}'.format(sorted(list(categorical_feature))))\n"
     ]
    },
    {
     "name": "stdout",
     "output_type": "stream",
     "text": [
      "Training until validation scores don't improve for 30 rounds.\n",
      "[100]\tvalid's auc: 0.726011\n",
      "[200]\tvalid's auc: 0.727591\n",
      "Early stopping, best iteration is:\n",
      "[220]\tvalid's auc: 0.727863\n",
      "[CV]  colsample_bytree=0.566907616105705, learning_rate=0.01, min_child_weight=0.01, min_data_in_leaf=377, num_leaves=392, reg_alpha=2, reg_lambda=5, subsample=0.6649855489918759, score=0.7255311938408704, total= 1.4min\n",
      "[CV] colsample_bytree=0.566907616105705, learning_rate=0.01, min_child_weight=0.01, min_data_in_leaf=377, num_leaves=392, reg_alpha=2, reg_lambda=5, subsample=0.6649855489918759 \n"
     ]
    },
    {
     "name": "stderr",
     "output_type": "stream",
     "text": [
      "/Users/WM1158/anaconda2/envs/dsc_hs/lib/python3.6/site-packages/lightgbm/basic.py:1042: UserWarning: categorical_feature in Dataset is overridden. New categorical_feature is [0, 1, 3, 4, 5, 6, 7, 8, 9, 10, 11, 12, 13, 14, 16, 17, 18, 19, 20, 21, 22, 23, 24, 25, 26, 27, 33, 34, 35, 36, 37, 39, 40, 41, 42, 43, 44, 50, 51, 52, 53, 54, 55, 56, 57, 58, 59, 60, 61, 62, 63, 64, 65, 66, 67, 68, 69, 70, 71, 72, 73, 74, 75]\n",
      "  warnings.warn('categorical_feature in Dataset is overridden. New categorical_feature is {}'.format(sorted(list(categorical_feature))))\n"
     ]
    },
    {
     "name": "stdout",
     "output_type": "stream",
     "text": [
      "Training until validation scores don't improve for 30 rounds.\n",
      "[100]\tvalid's auc: 0.726664\n",
      "[200]\tvalid's auc: 0.728284\n",
      "Early stopping, best iteration is:\n",
      "[256]\tvalid's auc: 0.728609\n",
      "[CV]  colsample_bytree=0.566907616105705, learning_rate=0.01, min_child_weight=0.01, min_data_in_leaf=377, num_leaves=392, reg_alpha=2, reg_lambda=5, subsample=0.6649855489918759, score=0.7251097484996816, total= 1.7min\n",
      "[CV] colsample_bytree=0.566907616105705, learning_rate=0.01, min_child_weight=0.01, min_data_in_leaf=377, num_leaves=392, reg_alpha=2, reg_lambda=5, subsample=0.6649855489918759 \n"
     ]
    },
    {
     "name": "stderr",
     "output_type": "stream",
     "text": [
      "/Users/WM1158/anaconda2/envs/dsc_hs/lib/python3.6/site-packages/lightgbm/basic.py:1042: UserWarning: categorical_feature in Dataset is overridden. New categorical_feature is [0, 1, 3, 4, 5, 6, 7, 8, 9, 10, 11, 12, 13, 14, 16, 17, 18, 19, 20, 21, 22, 23, 24, 25, 26, 27, 33, 34, 35, 36, 37, 39, 40, 41, 42, 43, 44, 50, 51, 52, 53, 54, 55, 56, 57, 58, 59, 60, 61, 62, 63, 64, 65, 66, 67, 68, 69, 70, 71, 72, 73, 74, 75]\n",
      "  warnings.warn('categorical_feature in Dataset is overridden. New categorical_feature is {}'.format(sorted(list(categorical_feature))))\n"
     ]
    },
    {
     "name": "stdout",
     "output_type": "stream",
     "text": [
      "Training until validation scores don't improve for 30 rounds.\n",
      "[100]\tvalid's auc: 0.725587\n",
      "[200]\tvalid's auc: 0.727461\n",
      "Early stopping, best iteration is:\n",
      "[248]\tvalid's auc: 0.727761\n",
      "[CV]  colsample_bytree=0.566907616105705, learning_rate=0.01, min_child_weight=0.01, min_data_in_leaf=377, num_leaves=392, reg_alpha=2, reg_lambda=5, subsample=0.6649855489918759, score=0.7250524823515283, total= 1.6min\n",
      "[CV] colsample_bytree=0.8063232376017694, learning_rate=0.01, min_child_weight=1000.0, min_data_in_leaf=277, num_leaves=388, reg_alpha=100, reg_lambda=20, subsample=0.6564417745729645 \n"
     ]
    },
    {
     "name": "stderr",
     "output_type": "stream",
     "text": [
      "/Users/WM1158/anaconda2/envs/dsc_hs/lib/python3.6/site-packages/lightgbm/basic.py:1042: UserWarning: categorical_feature in Dataset is overridden. New categorical_feature is [0, 1, 3, 4, 5, 6, 7, 8, 9, 10, 11, 12, 13, 14, 16, 17, 18, 19, 20, 21, 22, 23, 24, 25, 26, 27, 33, 34, 35, 36, 37, 39, 40, 41, 42, 43, 44, 50, 51, 52, 53, 54, 55, 56, 57, 58, 59, 60, 61, 62, 63, 64, 65, 66, 67, 68, 69, 70, 71, 72, 73, 74, 75]\n",
      "  warnings.warn('categorical_feature in Dataset is overridden. New categorical_feature is {}'.format(sorted(list(categorical_feature))))\n"
     ]
    },
    {
     "name": "stdout",
     "output_type": "stream",
     "text": [
      "Training until validation scores don't improve for 30 rounds.\n",
      "[100]\tvalid's auc: 0.723038\n",
      "[200]\tvalid's auc: 0.726607\n",
      "[300]\tvalid's auc: 0.728863\n",
      "[400]\tvalid's auc: 0.730622\n",
      "[500]\tvalid's auc: 0.731807\n",
      "[600]\tvalid's auc: 0.732505\n",
      "[700]\tvalid's auc: 0.732902\n",
      "[800]\tvalid's auc: 0.733199\n",
      "[900]\tvalid's auc: 0.733392\n",
      "[1000]\tvalid's auc: 0.733542\n",
      "[1100]\tvalid's auc: 0.733638\n",
      "[1200]\tvalid's auc: 0.733691\n",
      "[1300]\tvalid's auc: 0.733717\n",
      "Early stopping, best iteration is:\n",
      "[1315]\tvalid's auc: 0.733729\n",
      "[CV]  colsample_bytree=0.8063232376017694, learning_rate=0.01, min_child_weight=1000.0, min_data_in_leaf=277, num_leaves=388, reg_alpha=100, reg_lambda=20, subsample=0.6564417745729645, score=0.7313502776494698, total= 2.9min\n",
      "[CV] colsample_bytree=0.8063232376017694, learning_rate=0.01, min_child_weight=1000.0, min_data_in_leaf=277, num_leaves=388, reg_alpha=100, reg_lambda=20, subsample=0.6564417745729645 \n"
     ]
    },
    {
     "name": "stderr",
     "output_type": "stream",
     "text": [
      "/Users/WM1158/anaconda2/envs/dsc_hs/lib/python3.6/site-packages/lightgbm/basic.py:1042: UserWarning: categorical_feature in Dataset is overridden. New categorical_feature is [0, 1, 3, 4, 5, 6, 7, 8, 9, 10, 11, 12, 13, 14, 16, 17, 18, 19, 20, 21, 22, 23, 24, 25, 26, 27, 33, 34, 35, 36, 37, 39, 40, 41, 42, 43, 44, 50, 51, 52, 53, 54, 55, 56, 57, 58, 59, 60, 61, 62, 63, 64, 65, 66, 67, 68, 69, 70, 71, 72, 73, 74, 75]\n",
      "  warnings.warn('categorical_feature in Dataset is overridden. New categorical_feature is {}'.format(sorted(list(categorical_feature))))\n"
     ]
    },
    {
     "name": "stdout",
     "output_type": "stream",
     "text": [
      "Training until validation scores don't improve for 30 rounds.\n",
      "[100]\tvalid's auc: 0.723093\n",
      "[200]\tvalid's auc: 0.72646\n",
      "[300]\tvalid's auc: 0.728807\n",
      "[400]\tvalid's auc: 0.730584\n",
      "[500]\tvalid's auc: 0.73185\n",
      "[600]\tvalid's auc: 0.732489\n",
      "[700]\tvalid's auc: 0.732866\n",
      "[800]\tvalid's auc: 0.733105\n",
      "[900]\tvalid's auc: 0.733296\n",
      "[1000]\tvalid's auc: 0.733398\n",
      "[1100]\tvalid's auc: 0.733504\n",
      "[1200]\tvalid's auc: 0.733579\n",
      "Early stopping, best iteration is:\n",
      "[1245]\tvalid's auc: 0.733598\n",
      "[CV]  colsample_bytree=0.8063232376017694, learning_rate=0.01, min_child_weight=1000.0, min_data_in_leaf=277, num_leaves=388, reg_alpha=100, reg_lambda=20, subsample=0.6564417745729645, score=0.7310578363231441, total= 2.6min\n",
      "[CV] colsample_bytree=0.8063232376017694, learning_rate=0.01, min_child_weight=1000.0, min_data_in_leaf=277, num_leaves=388, reg_alpha=100, reg_lambda=20, subsample=0.6564417745729645 \n"
     ]
    },
    {
     "name": "stderr",
     "output_type": "stream",
     "text": [
      "/Users/WM1158/anaconda2/envs/dsc_hs/lib/python3.6/site-packages/lightgbm/basic.py:1042: UserWarning: categorical_feature in Dataset is overridden. New categorical_feature is [0, 1, 3, 4, 5, 6, 7, 8, 9, 10, 11, 12, 13, 14, 16, 17, 18, 19, 20, 21, 22, 23, 24, 25, 26, 27, 33, 34, 35, 36, 37, 39, 40, 41, 42, 43, 44, 50, 51, 52, 53, 54, 55, 56, 57, 58, 59, 60, 61, 62, 63, 64, 65, 66, 67, 68, 69, 70, 71, 72, 73, 74, 75]\n",
      "  warnings.warn('categorical_feature in Dataset is overridden. New categorical_feature is {}'.format(sorted(list(categorical_feature))))\n"
     ]
    },
    {
     "name": "stdout",
     "output_type": "stream",
     "text": [
      "Training until validation scores don't improve for 30 rounds.\n",
      "[100]\tvalid's auc: 0.722741\n",
      "[200]\tvalid's auc: 0.726435\n",
      "[300]\tvalid's auc: 0.72856\n",
      "[400]\tvalid's auc: 0.730461\n",
      "[500]\tvalid's auc: 0.731678\n",
      "[600]\tvalid's auc: 0.732329\n",
      "[700]\tvalid's auc: 0.732745\n",
      "[800]\tvalid's auc: 0.733006\n",
      "[900]\tvalid's auc: 0.733173\n",
      "[1000]\tvalid's auc: 0.733306\n",
      "[1100]\tvalid's auc: 0.733378\n",
      "[1200]\tvalid's auc: 0.733428\n",
      "Early stopping, best iteration is:\n",
      "[1257]\tvalid's auc: 0.733451\n",
      "[CV]  colsample_bytree=0.8063232376017694, learning_rate=0.01, min_child_weight=1000.0, min_data_in_leaf=277, num_leaves=388, reg_alpha=100, reg_lambda=20, subsample=0.6564417745729645, score=0.7306444899566948, total= 2.7min\n",
      "[CV] colsample_bytree=0.6879091728281055, learning_rate=0.01, min_child_weight=10.0, min_data_in_leaf=438, num_leaves=228, reg_alpha=10, reg_lambda=5, subsample=0.5065412058017 \n"
     ]
    },
    {
     "name": "stderr",
     "output_type": "stream",
     "text": [
      "/Users/WM1158/anaconda2/envs/dsc_hs/lib/python3.6/site-packages/lightgbm/basic.py:1042: UserWarning: categorical_feature in Dataset is overridden. New categorical_feature is [0, 1, 3, 4, 5, 6, 7, 8, 9, 10, 11, 12, 13, 14, 16, 17, 18, 19, 20, 21, 22, 23, 24, 25, 26, 27, 33, 34, 35, 36, 37, 39, 40, 41, 42, 43, 44, 50, 51, 52, 53, 54, 55, 56, 57, 58, 59, 60, 61, 62, 63, 64, 65, 66, 67, 68, 69, 70, 71, 72, 73, 74, 75]\n",
      "  warnings.warn('categorical_feature in Dataset is overridden. New categorical_feature is {}'.format(sorted(list(categorical_feature))))\n"
     ]
    },
    {
     "name": "stdout",
     "output_type": "stream",
     "text": [
      "Training until validation scores don't improve for 30 rounds.\n",
      "[100]\tvalid's auc: 0.72633\n",
      "[200]\tvalid's auc: 0.728396\n",
      "Early stopping, best iteration is:\n",
      "[256]\tvalid's auc: 0.728586\n",
      "[CV]  colsample_bytree=0.6879091728281055, learning_rate=0.01, min_child_weight=10.0, min_data_in_leaf=438, num_leaves=228, reg_alpha=10, reg_lambda=5, subsample=0.5065412058017, score=0.7262845001268944, total= 1.6min\n",
      "[CV] colsample_bytree=0.6879091728281055, learning_rate=0.01, min_child_weight=10.0, min_data_in_leaf=438, num_leaves=228, reg_alpha=10, reg_lambda=5, subsample=0.5065412058017 \n"
     ]
    },
    {
     "name": "stderr",
     "output_type": "stream",
     "text": [
      "/Users/WM1158/anaconda2/envs/dsc_hs/lib/python3.6/site-packages/lightgbm/basic.py:1042: UserWarning: categorical_feature in Dataset is overridden. New categorical_feature is [0, 1, 3, 4, 5, 6, 7, 8, 9, 10, 11, 12, 13, 14, 16, 17, 18, 19, 20, 21, 22, 23, 24, 25, 26, 27, 33, 34, 35, 36, 37, 39, 40, 41, 42, 43, 44, 50, 51, 52, 53, 54, 55, 56, 57, 58, 59, 60, 61, 62, 63, 64, 65, 66, 67, 68, 69, 70, 71, 72, 73, 74, 75]\n",
      "  warnings.warn('categorical_feature in Dataset is overridden. New categorical_feature is {}'.format(sorted(list(categorical_feature))))\n"
     ]
    },
    {
     "name": "stdout",
     "output_type": "stream",
     "text": [
      "Training until validation scores don't improve for 30 rounds.\n",
      "[100]\tvalid's auc: 0.726841\n",
      "[200]\tvalid's auc: 0.728833\n",
      "Early stopping, best iteration is:\n",
      "[248]\tvalid's auc: 0.729077\n",
      "[CV]  colsample_bytree=0.6879091728281055, learning_rate=0.01, min_child_weight=10.0, min_data_in_leaf=438, num_leaves=228, reg_alpha=10, reg_lambda=5, subsample=0.5065412058017, score=0.725765783501029, total= 1.5min\n",
      "[CV] colsample_bytree=0.6879091728281055, learning_rate=0.01, min_child_weight=10.0, min_data_in_leaf=438, num_leaves=228, reg_alpha=10, reg_lambda=5, subsample=0.5065412058017 \n"
     ]
    },
    {
     "name": "stderr",
     "output_type": "stream",
     "text": [
      "/Users/WM1158/anaconda2/envs/dsc_hs/lib/python3.6/site-packages/lightgbm/basic.py:1042: UserWarning: categorical_feature in Dataset is overridden. New categorical_feature is [0, 1, 3, 4, 5, 6, 7, 8, 9, 10, 11, 12, 13, 14, 16, 17, 18, 19, 20, 21, 22, 23, 24, 25, 26, 27, 33, 34, 35, 36, 37, 39, 40, 41, 42, 43, 44, 50, 51, 52, 53, 54, 55, 56, 57, 58, 59, 60, 61, 62, 63, 64, 65, 66, 67, 68, 69, 70, 71, 72, 73, 74, 75]\n",
      "  warnings.warn('categorical_feature in Dataset is overridden. New categorical_feature is {}'.format(sorted(list(categorical_feature))))\n"
     ]
    },
    {
     "name": "stdout",
     "output_type": "stream",
     "text": [
      "Training until validation scores don't improve for 30 rounds.\n",
      "[100]\tvalid's auc: 0.72611\n",
      "[200]\tvalid's auc: 0.728146\n",
      "Early stopping, best iteration is:\n",
      "[234]\tvalid's auc: 0.72839\n",
      "[CV]  colsample_bytree=0.6879091728281055, learning_rate=0.01, min_child_weight=10.0, min_data_in_leaf=438, num_leaves=228, reg_alpha=10, reg_lambda=5, subsample=0.5065412058017, score=0.7258665020465196, total= 1.4min\n",
      "[CV] colsample_bytree=0.7442526692235505, learning_rate=0.01, min_child_weight=0.01, min_data_in_leaf=434, num_leaves=258, reg_alpha=0.1, reg_lambda=50, subsample=0.5673489081424845 \n"
     ]
    },
    {
     "name": "stderr",
     "output_type": "stream",
     "text": [
      "/Users/WM1158/anaconda2/envs/dsc_hs/lib/python3.6/site-packages/lightgbm/basic.py:1042: UserWarning: categorical_feature in Dataset is overridden. New categorical_feature is [0, 1, 3, 4, 5, 6, 7, 8, 9, 10, 11, 12, 13, 14, 16, 17, 18, 19, 20, 21, 22, 23, 24, 25, 26, 27, 33, 34, 35, 36, 37, 39, 40, 41, 42, 43, 44, 50, 51, 52, 53, 54, 55, 56, 57, 58, 59, 60, 61, 62, 63, 64, 65, 66, 67, 68, 69, 70, 71, 72, 73, 74, 75]\n",
      "  warnings.warn('categorical_feature in Dataset is overridden. New categorical_feature is {}'.format(sorted(list(categorical_feature))))\n"
     ]
    },
    {
     "name": "stdout",
     "output_type": "stream",
     "text": [
      "Training until validation scores don't improve for 30 rounds.\n",
      "[100]\tvalid's auc: 0.72541\n",
      "[200]\tvalid's auc: 0.727879\n",
      "[300]\tvalid's auc: 0.728287\n",
      "Early stopping, best iteration is:\n",
      "[291]\tvalid's auc: 0.7283\n",
      "[CV]  colsample_bytree=0.7442526692235505, learning_rate=0.01, min_child_weight=0.01, min_data_in_leaf=434, num_leaves=258, reg_alpha=0.1, reg_lambda=50, subsample=0.5673489081424845, score=0.7258789855318358, total= 1.8min\n",
      "[CV] colsample_bytree=0.7442526692235505, learning_rate=0.01, min_child_weight=0.01, min_data_in_leaf=434, num_leaves=258, reg_alpha=0.1, reg_lambda=50, subsample=0.5673489081424845 \n"
     ]
    },
    {
     "name": "stderr",
     "output_type": "stream",
     "text": [
      "/Users/WM1158/anaconda2/envs/dsc_hs/lib/python3.6/site-packages/lightgbm/basic.py:1042: UserWarning: categorical_feature in Dataset is overridden. New categorical_feature is [0, 1, 3, 4, 5, 6, 7, 8, 9, 10, 11, 12, 13, 14, 16, 17, 18, 19, 20, 21, 22, 23, 24, 25, 26, 27, 33, 34, 35, 36, 37, 39, 40, 41, 42, 43, 44, 50, 51, 52, 53, 54, 55, 56, 57, 58, 59, 60, 61, 62, 63, 64, 65, 66, 67, 68, 69, 70, 71, 72, 73, 74, 75]\n",
      "  warnings.warn('categorical_feature in Dataset is overridden. New categorical_feature is {}'.format(sorted(list(categorical_feature))))\n"
     ]
    },
    {
     "name": "stdout",
     "output_type": "stream",
     "text": [
      "Training until validation scores don't improve for 30 rounds.\n",
      "[100]\tvalid's auc: 0.726237\n",
      "[200]\tvalid's auc: 0.72838\n",
      "Early stopping, best iteration is:\n",
      "[261]\tvalid's auc: 0.728755\n",
      "[CV]  colsample_bytree=0.7442526692235505, learning_rate=0.01, min_child_weight=0.01, min_data_in_leaf=434, num_leaves=258, reg_alpha=0.1, reg_lambda=50, subsample=0.5673489081424845, score=0.7254046004162854, total= 1.8min\n",
      "[CV] colsample_bytree=0.7442526692235505, learning_rate=0.01, min_child_weight=0.01, min_data_in_leaf=434, num_leaves=258, reg_alpha=0.1, reg_lambda=50, subsample=0.5673489081424845 \n"
     ]
    },
    {
     "name": "stderr",
     "output_type": "stream",
     "text": [
      "/Users/WM1158/anaconda2/envs/dsc_hs/lib/python3.6/site-packages/lightgbm/basic.py:1042: UserWarning: categorical_feature in Dataset is overridden. New categorical_feature is [0, 1, 3, 4, 5, 6, 7, 8, 9, 10, 11, 12, 13, 14, 16, 17, 18, 19, 20, 21, 22, 23, 24, 25, 26, 27, 33, 34, 35, 36, 37, 39, 40, 41, 42, 43, 44, 50, 51, 52, 53, 54, 55, 56, 57, 58, 59, 60, 61, 62, 63, 64, 65, 66, 67, 68, 69, 70, 71, 72, 73, 74, 75]\n",
      "  warnings.warn('categorical_feature in Dataset is overridden. New categorical_feature is {}'.format(sorted(list(categorical_feature))))\n"
     ]
    },
    {
     "name": "stdout",
     "output_type": "stream",
     "text": [
      "Training until validation scores don't improve for 30 rounds.\n",
      "[100]\tvalid's auc: 0.725532\n",
      "[200]\tvalid's auc: 0.727621\n",
      "Early stopping, best iteration is:\n",
      "[248]\tvalid's auc: 0.727962\n",
      "[CV]  colsample_bytree=0.7442526692235505, learning_rate=0.01, min_child_weight=0.01, min_data_in_leaf=434, num_leaves=258, reg_alpha=0.1, reg_lambda=50, subsample=0.5673489081424845, score=0.7255012191865173, total= 1.9min\n",
      "[CV] colsample_bytree=0.46175306323300236, learning_rate=0.01, min_child_weight=0.01, min_data_in_leaf=493, num_leaves=239, reg_alpha=0, reg_lambda=1, subsample=0.7749764742347831 \n"
     ]
    },
    {
     "name": "stderr",
     "output_type": "stream",
     "text": [
      "/Users/WM1158/anaconda2/envs/dsc_hs/lib/python3.6/site-packages/lightgbm/basic.py:1042: UserWarning: categorical_feature in Dataset is overridden. New categorical_feature is [0, 1, 3, 4, 5, 6, 7, 8, 9, 10, 11, 12, 13, 14, 16, 17, 18, 19, 20, 21, 22, 23, 24, 25, 26, 27, 33, 34, 35, 36, 37, 39, 40, 41, 42, 43, 44, 50, 51, 52, 53, 54, 55, 56, 57, 58, 59, 60, 61, 62, 63, 64, 65, 66, 67, 68, 69, 70, 71, 72, 73, 74, 75]\n",
      "  warnings.warn('categorical_feature in Dataset is overridden. New categorical_feature is {}'.format(sorted(list(categorical_feature))))\n"
     ]
    },
    {
     "name": "stdout",
     "output_type": "stream",
     "text": [
      "Training until validation scores don't improve for 30 rounds.\n",
      "[100]\tvalid's auc: 0.726756\n",
      "[200]\tvalid's auc: 0.728733\n",
      "[300]\tvalid's auc: 0.729186\n",
      "[400]\tvalid's auc: 0.729293\n",
      "Early stopping, best iteration is:\n",
      "[370]\tvalid's auc: 0.729371\n",
      "[CV]  colsample_bytree=0.46175306323300236, learning_rate=0.01, min_child_weight=0.01, min_data_in_leaf=493, num_leaves=239, reg_alpha=0, reg_lambda=1, subsample=0.7749764742347831, score=0.7271353235756597, total= 1.9min\n",
      "[CV] colsample_bytree=0.46175306323300236, learning_rate=0.01, min_child_weight=0.01, min_data_in_leaf=493, num_leaves=239, reg_alpha=0, reg_lambda=1, subsample=0.7749764742347831 \n"
     ]
    },
    {
     "name": "stderr",
     "output_type": "stream",
     "text": [
      "/Users/WM1158/anaconda2/envs/dsc_hs/lib/python3.6/site-packages/lightgbm/basic.py:1042: UserWarning: categorical_feature in Dataset is overridden. New categorical_feature is [0, 1, 3, 4, 5, 6, 7, 8, 9, 10, 11, 12, 13, 14, 16, 17, 18, 19, 20, 21, 22, 23, 24, 25, 26, 27, 33, 34, 35, 36, 37, 39, 40, 41, 42, 43, 44, 50, 51, 52, 53, 54, 55, 56, 57, 58, 59, 60, 61, 62, 63, 64, 65, 66, 67, 68, 69, 70, 71, 72, 73, 74, 75]\n",
      "  warnings.warn('categorical_feature in Dataset is overridden. New categorical_feature is {}'.format(sorted(list(categorical_feature))))\n"
     ]
    },
    {
     "name": "stdout",
     "output_type": "stream",
     "text": [
      "Training until validation scores don't improve for 30 rounds.\n",
      "[100]\tvalid's auc: 0.727247\n",
      "[200]\tvalid's auc: 0.729057\n",
      "[300]\tvalid's auc: 0.729762\n",
      "[400]\tvalid's auc: 0.729837\n",
      "Early stopping, best iteration is:\n",
      "[377]\tvalid's auc: 0.729871\n",
      "[CV]  colsample_bytree=0.46175306323300236, learning_rate=0.01, min_child_weight=0.01, min_data_in_leaf=493, num_leaves=239, reg_alpha=0, reg_lambda=1, subsample=0.7749764742347831, score=0.726759851363141, total= 2.1min\n",
      "[CV] colsample_bytree=0.46175306323300236, learning_rate=0.01, min_child_weight=0.01, min_data_in_leaf=493, num_leaves=239, reg_alpha=0, reg_lambda=1, subsample=0.7749764742347831 \n"
     ]
    },
    {
     "name": "stderr",
     "output_type": "stream",
     "text": [
      "/Users/WM1158/anaconda2/envs/dsc_hs/lib/python3.6/site-packages/lightgbm/basic.py:1042: UserWarning: categorical_feature in Dataset is overridden. New categorical_feature is [0, 1, 3, 4, 5, 6, 7, 8, 9, 10, 11, 12, 13, 14, 16, 17, 18, 19, 20, 21, 22, 23, 24, 25, 26, 27, 33, 34, 35, 36, 37, 39, 40, 41, 42, 43, 44, 50, 51, 52, 53, 54, 55, 56, 57, 58, 59, 60, 61, 62, 63, 64, 65, 66, 67, 68, 69, 70, 71, 72, 73, 74, 75]\n",
      "  warnings.warn('categorical_feature in Dataset is overridden. New categorical_feature is {}'.format(sorted(list(categorical_feature))))\n"
     ]
    },
    {
     "name": "stdout",
     "output_type": "stream",
     "text": [
      "Training until validation scores don't improve for 30 rounds.\n",
      "[100]\tvalid's auc: 0.726296\n",
      "[200]\tvalid's auc: 0.728349\n",
      "[300]\tvalid's auc: 0.728856\n",
      "Early stopping, best iteration is:\n",
      "[365]\tvalid's auc: 0.728988\n",
      "[CV]  colsample_bytree=0.46175306323300236, learning_rate=0.01, min_child_weight=0.01, min_data_in_leaf=493, num_leaves=239, reg_alpha=0, reg_lambda=1, subsample=0.7749764742347831, score=0.7262872249684087, total= 2.0min\n",
      "[CV] colsample_bytree=0.9870576100176972, learning_rate=0.01, min_child_weight=1e-05, min_data_in_leaf=406, num_leaves=141, reg_alpha=50, reg_lambda=20, subsample=0.31177597327519274 \n"
     ]
    },
    {
     "name": "stderr",
     "output_type": "stream",
     "text": [
      "/Users/WM1158/anaconda2/envs/dsc_hs/lib/python3.6/site-packages/lightgbm/basic.py:1042: UserWarning: categorical_feature in Dataset is overridden. New categorical_feature is [0, 1, 3, 4, 5, 6, 7, 8, 9, 10, 11, 12, 13, 14, 16, 17, 18, 19, 20, 21, 22, 23, 24, 25, 26, 27, 33, 34, 35, 36, 37, 39, 40, 41, 42, 43, 44, 50, 51, 52, 53, 54, 55, 56, 57, 58, 59, 60, 61, 62, 63, 64, 65, 66, 67, 68, 69, 70, 71, 72, 73, 74, 75]\n",
      "  warnings.warn('categorical_feature in Dataset is overridden. New categorical_feature is {}'.format(sorted(list(categorical_feature))))\n"
     ]
    },
    {
     "name": "stdout",
     "output_type": "stream",
     "text": [
      "Training until validation scores don't improve for 30 rounds.\n",
      "[100]\tvalid's auc: 0.725301\n",
      "[200]\tvalid's auc: 0.729259\n",
      "[300]\tvalid's auc: 0.730873\n",
      "[400]\tvalid's auc: 0.731482\n",
      "Early stopping, best iteration is:\n",
      "[417]\tvalid's auc: 0.731523\n",
      "[CV]  colsample_bytree=0.9870576100176972, learning_rate=0.01, min_child_weight=1e-05, min_data_in_leaf=406, num_leaves=141, reg_alpha=50, reg_lambda=20, subsample=0.31177597327519274, score=0.7290275047315236, total= 2.1min\n",
      "[CV] colsample_bytree=0.9870576100176972, learning_rate=0.01, min_child_weight=1e-05, min_data_in_leaf=406, num_leaves=141, reg_alpha=50, reg_lambda=20, subsample=0.31177597327519274 \n"
     ]
    },
    {
     "name": "stderr",
     "output_type": "stream",
     "text": [
      "/Users/WM1158/anaconda2/envs/dsc_hs/lib/python3.6/site-packages/lightgbm/basic.py:1042: UserWarning: categorical_feature in Dataset is overridden. New categorical_feature is [0, 1, 3, 4, 5, 6, 7, 8, 9, 10, 11, 12, 13, 14, 16, 17, 18, 19, 20, 21, 22, 23, 24, 25, 26, 27, 33, 34, 35, 36, 37, 39, 40, 41, 42, 43, 44, 50, 51, 52, 53, 54, 55, 56, 57, 58, 59, 60, 61, 62, 63, 64, 65, 66, 67, 68, 69, 70, 71, 72, 73, 74, 75]\n",
      "  warnings.warn('categorical_feature in Dataset is overridden. New categorical_feature is {}'.format(sorted(list(categorical_feature))))\n"
     ]
    },
    {
     "name": "stdout",
     "output_type": "stream",
     "text": [
      "Training until validation scores don't improve for 30 rounds.\n",
      "[100]\tvalid's auc: 0.725948\n",
      "[200]\tvalid's auc: 0.729117\n",
      "[300]\tvalid's auc: 0.730676\n",
      "[400]\tvalid's auc: 0.731418\n",
      "Early stopping, best iteration is:\n",
      "[452]\tvalid's auc: 0.731532\n",
      "[CV]  colsample_bytree=0.9870576100176972, learning_rate=0.01, min_child_weight=1e-05, min_data_in_leaf=406, num_leaves=141, reg_alpha=50, reg_lambda=20, subsample=0.31177597327519274, score=0.7288087174188136, total= 2.3min\n",
      "[CV] colsample_bytree=0.9870576100176972, learning_rate=0.01, min_child_weight=1e-05, min_data_in_leaf=406, num_leaves=141, reg_alpha=50, reg_lambda=20, subsample=0.31177597327519274 \n"
     ]
    },
    {
     "name": "stderr",
     "output_type": "stream",
     "text": [
      "/Users/WM1158/anaconda2/envs/dsc_hs/lib/python3.6/site-packages/lightgbm/basic.py:1042: UserWarning: categorical_feature in Dataset is overridden. New categorical_feature is [0, 1, 3, 4, 5, 6, 7, 8, 9, 10, 11, 12, 13, 14, 16, 17, 18, 19, 20, 21, 22, 23, 24, 25, 26, 27, 33, 34, 35, 36, 37, 39, 40, 41, 42, 43, 44, 50, 51, 52, 53, 54, 55, 56, 57, 58, 59, 60, 61, 62, 63, 64, 65, 66, 67, 68, 69, 70, 71, 72, 73, 74, 75]\n",
      "  warnings.warn('categorical_feature in Dataset is overridden. New categorical_feature is {}'.format(sorted(list(categorical_feature))))\n"
     ]
    },
    {
     "name": "stdout",
     "output_type": "stream",
     "text": [
      "Training until validation scores don't improve for 30 rounds.\n",
      "[100]\tvalid's auc: 0.72576\n",
      "[200]\tvalid's auc: 0.729276\n",
      "[300]\tvalid's auc: 0.730708\n",
      "[400]\tvalid's auc: 0.731381\n",
      "Early stopping, best iteration is:\n",
      "[446]\tvalid's auc: 0.731458\n",
      "[CV]  colsample_bytree=0.9870576100176972, learning_rate=0.01, min_child_weight=1e-05, min_data_in_leaf=406, num_leaves=141, reg_alpha=50, reg_lambda=20, subsample=0.31177597327519274, score=0.7288234459125204, total= 2.3min\n",
      "[CV] colsample_bytree=0.45023302669289644, learning_rate=0.01, min_child_weight=1e-05, min_data_in_leaf=373, num_leaves=92, reg_alpha=0, reg_lambda=50, subsample=0.3191480164925895 \n"
     ]
    },
    {
     "name": "stderr",
     "output_type": "stream",
     "text": [
      "/Users/WM1158/anaconda2/envs/dsc_hs/lib/python3.6/site-packages/lightgbm/basic.py:1042: UserWarning: categorical_feature in Dataset is overridden. New categorical_feature is [0, 1, 3, 4, 5, 6, 7, 8, 9, 10, 11, 12, 13, 14, 16, 17, 18, 19, 20, 21, 22, 23, 24, 25, 26, 27, 33, 34, 35, 36, 37, 39, 40, 41, 42, 43, 44, 50, 51, 52, 53, 54, 55, 56, 57, 58, 59, 60, 61, 62, 63, 64, 65, 66, 67, 68, 69, 70, 71, 72, 73, 74, 75]\n",
      "  warnings.warn('categorical_feature in Dataset is overridden. New categorical_feature is {}'.format(sorted(list(categorical_feature))))\n"
     ]
    },
    {
     "name": "stdout",
     "output_type": "stream",
     "text": [
      "Training until validation scores don't improve for 30 rounds.\n",
      "[100]\tvalid's auc: 0.726551\n",
      "[200]\tvalid's auc: 0.729745\n",
      "[300]\tvalid's auc: 0.731095\n",
      "[400]\tvalid's auc: 0.731905\n",
      "[500]\tvalid's auc: 0.732085\n",
      "Early stopping, best iteration is:\n",
      "[483]\tvalid's auc: 0.732122\n",
      "[CV]  colsample_bytree=0.45023302669289644, learning_rate=0.01, min_child_weight=1e-05, min_data_in_leaf=373, num_leaves=92, reg_alpha=0, reg_lambda=50, subsample=0.3191480164925895, score=0.7297744184269135, total= 1.5min\n",
      "[CV] colsample_bytree=0.45023302669289644, learning_rate=0.01, min_child_weight=1e-05, min_data_in_leaf=373, num_leaves=92, reg_alpha=0, reg_lambda=50, subsample=0.3191480164925895 \n"
     ]
    },
    {
     "name": "stderr",
     "output_type": "stream",
     "text": [
      "/Users/WM1158/anaconda2/envs/dsc_hs/lib/python3.6/site-packages/lightgbm/basic.py:1042: UserWarning: categorical_feature in Dataset is overridden. New categorical_feature is [0, 1, 3, 4, 5, 6, 7, 8, 9, 10, 11, 12, 13, 14, 16, 17, 18, 19, 20, 21, 22, 23, 24, 25, 26, 27, 33, 34, 35, 36, 37, 39, 40, 41, 42, 43, 44, 50, 51, 52, 53, 54, 55, 56, 57, 58, 59, 60, 61, 62, 63, 64, 65, 66, 67, 68, 69, 70, 71, 72, 73, 74, 75]\n",
      "  warnings.warn('categorical_feature in Dataset is overridden. New categorical_feature is {}'.format(sorted(list(categorical_feature))))\n"
     ]
    },
    {
     "name": "stdout",
     "output_type": "stream",
     "text": [
      "Training until validation scores don't improve for 30 rounds.\n",
      "[100]\tvalid's auc: 0.726777\n",
      "[200]\tvalid's auc: 0.72971\n",
      "[300]\tvalid's auc: 0.731181\n",
      "[400]\tvalid's auc: 0.731893\n",
      "[500]\tvalid's auc: 0.732078\n",
      "Early stopping, best iteration is:\n",
      "[483]\tvalid's auc: 0.732129\n",
      "[CV]  colsample_bytree=0.45023302669289644, learning_rate=0.01, min_child_weight=1e-05, min_data_in_leaf=373, num_leaves=92, reg_alpha=0, reg_lambda=50, subsample=0.3191480164925895, score=0.729455634766314, total= 1.4min\n",
      "[CV] colsample_bytree=0.45023302669289644, learning_rate=0.01, min_child_weight=1e-05, min_data_in_leaf=373, num_leaves=92, reg_alpha=0, reg_lambda=50, subsample=0.3191480164925895 \n"
     ]
    },
    {
     "name": "stderr",
     "output_type": "stream",
     "text": [
      "/Users/WM1158/anaconda2/envs/dsc_hs/lib/python3.6/site-packages/lightgbm/basic.py:1042: UserWarning: categorical_feature in Dataset is overridden. New categorical_feature is [0, 1, 3, 4, 5, 6, 7, 8, 9, 10, 11, 12, 13, 14, 16, 17, 18, 19, 20, 21, 22, 23, 24, 25, 26, 27, 33, 34, 35, 36, 37, 39, 40, 41, 42, 43, 44, 50, 51, 52, 53, 54, 55, 56, 57, 58, 59, 60, 61, 62, 63, 64, 65, 66, 67, 68, 69, 70, 71, 72, 73, 74, 75]\n",
      "  warnings.warn('categorical_feature in Dataset is overridden. New categorical_feature is {}'.format(sorted(list(categorical_feature))))\n"
     ]
    },
    {
     "name": "stdout",
     "output_type": "stream",
     "text": [
      "Training until validation scores don't improve for 30 rounds.\n",
      "[100]\tvalid's auc: 0.72636\n",
      "[200]\tvalid's auc: 0.729395\n",
      "[300]\tvalid's auc: 0.730806\n",
      "[400]\tvalid's auc: 0.73155\n",
      "Early stopping, best iteration is:\n",
      "[458]\tvalid's auc: 0.731709\n",
      "[CV]  colsample_bytree=0.45023302669289644, learning_rate=0.01, min_child_weight=1e-05, min_data_in_leaf=373, num_leaves=92, reg_alpha=0, reg_lambda=50, subsample=0.3191480164925895, score=0.7290573947085652, total= 1.3min\n"
     ]
    },
    {
     "name": "stderr",
     "output_type": "stream",
     "text": [
      "[Parallel(n_jobs=1)]: Done  30 out of  30 | elapsed: 75.9min finished\n",
      "/Users/WM1158/anaconda2/envs/dsc_hs/lib/python3.6/site-packages/lightgbm/basic.py:1042: UserWarning: categorical_feature in Dataset is overridden. New categorical_feature is [0, 1, 3, 4, 5, 6, 7, 8, 9, 10, 11, 12, 13, 14, 16, 17, 18, 19, 20, 21, 22, 23, 24, 25, 26, 27, 33, 34, 35, 36, 37, 39, 40, 41, 42, 43, 44, 50, 51, 52, 53, 54, 55, 56, 57, 58, 59, 60, 61, 62, 63, 64, 65, 66, 67, 68, 69, 70, 71, 72, 73, 74, 75]\n",
      "  warnings.warn('categorical_feature in Dataset is overridden. New categorical_feature is {}'.format(sorted(list(categorical_feature))))\n"
     ]
    },
    {
     "name": "stdout",
     "output_type": "stream",
     "text": [
      "Training until validation scores don't improve for 30 rounds.\n",
      "[100]\tvalid's auc: 0.724846\n",
      "[200]\tvalid's auc: 0.728537\n",
      "[300]\tvalid's auc: 0.731036\n",
      "[400]\tvalid's auc: 0.732775\n",
      "[500]\tvalid's auc: 0.734098\n",
      "[600]\tvalid's auc: 0.734797\n",
      "[700]\tvalid's auc: 0.735229\n",
      "[800]\tvalid's auc: 0.735494\n",
      "[900]\tvalid's auc: 0.735669\n",
      "[1000]\tvalid's auc: 0.735778\n",
      "[1100]\tvalid's auc: 0.735862\n",
      "[1200]\tvalid's auc: 0.735942\n",
      "[1300]\tvalid's auc: 0.735995\n",
      "Early stopping, best iteration is:\n",
      "[1285]\tvalid's auc: 0.736003\n",
      "Best score reached: 0.7310175350664282 with params: {'colsample_bytree': 0.8063232376017694, 'learning_rate': 0.01, 'min_child_weight': 1000.0, 'min_data_in_leaf': 277, 'num_leaves': 388, 'reg_alpha': 100, 'reg_lambda': 20, 'subsample': 0.6564417745729645} \n"
     ]
    }
   ],
   "source": [
    "gs.fit(X_train_train, y_train_train, **fit_params)\n",
    "print('Best score reached: {} with params: {} '.format(gs.best_score_, gs.best_params_))"
   ]
  },
  {
   "cell_type": "code",
   "execution_count": 38,
   "metadata": {},
   "outputs": [
    {
     "name": "stderr",
     "output_type": "stream",
     "text": [
      "/Users/WM1158/anaconda2/envs/dsc_hs/lib/python3.6/site-packages/sklearn/utils/deprecation.py:122: FutureWarning: You are accessing a training score ('split0_train_score'), which will not be available by default any more in 0.21. If you need training scores, please set return_train_score=True\n",
      "  warnings.warn(*warn_args, **warn_kwargs)\n",
      "/Users/WM1158/anaconda2/envs/dsc_hs/lib/python3.6/site-packages/sklearn/utils/deprecation.py:122: FutureWarning: You are accessing a training score ('split1_train_score'), which will not be available by default any more in 0.21. If you need training scores, please set return_train_score=True\n",
      "  warnings.warn(*warn_args, **warn_kwargs)\n",
      "/Users/WM1158/anaconda2/envs/dsc_hs/lib/python3.6/site-packages/sklearn/utils/deprecation.py:122: FutureWarning: You are accessing a training score ('split2_train_score'), which will not be available by default any more in 0.21. If you need training scores, please set return_train_score=True\n",
      "  warnings.warn(*warn_args, **warn_kwargs)\n",
      "/Users/WM1158/anaconda2/envs/dsc_hs/lib/python3.6/site-packages/sklearn/utils/deprecation.py:122: FutureWarning: You are accessing a training score ('mean_train_score'), which will not be available by default any more in 0.21. If you need training scores, please set return_train_score=True\n",
      "  warnings.warn(*warn_args, **warn_kwargs)\n",
      "/Users/WM1158/anaconda2/envs/dsc_hs/lib/python3.6/site-packages/sklearn/utils/deprecation.py:122: FutureWarning: You are accessing a training score ('std_train_score'), which will not be available by default any more in 0.21. If you need training scores, please set return_train_score=True\n",
      "  warnings.warn(*warn_args, **warn_kwargs)\n"
     ]
    },
    {
     "data": {
      "text/plain": [
       "{'mean_fit_time': array([101.40153567, 122.36728565, 125.87989823,  82.2564702 ,\n",
       "        143.13933539,  76.45728501,  94.99013996,  99.48873472,\n",
       "        117.74867002,  71.9784468 ]),\n",
       " 'std_fit_time': array([ 3.11539729, 10.7419779 ,  7.93682453,  5.80741981,  4.00824345,\n",
       "         3.01826232,  2.34458758,  4.06866339,  3.54841394,  2.19106088]),\n",
       " 'mean_score_time': array([11.90414604, 11.57656447, 26.5632604 , 13.8254234 , 21.69088006,\n",
       "        11.45818726, 13.06167761, 18.92411963, 17.74678731, 13.4035577 ]),\n",
       " 'std_score_time': array([1.11722103, 0.54884254, 3.78958372, 2.00309469, 3.78529372,\n",
       "        2.67494313, 1.08908811, 0.92413033, 1.74856265, 1.54942533]),\n",
       " 'param_colsample_bytree': masked_array(data=[0.9501241488957805, 0.9731668400523877,\n",
       "                    0.7756038066515227, 0.566907616105705,\n",
       "                    0.8063232376017694, 0.6879091728281055,\n",
       "                    0.7442526692235505, 0.46175306323300236,\n",
       "                    0.9870576100176972, 0.45023302669289644],\n",
       "              mask=[False, False, False, False, False, False, False, False,\n",
       "                    False, False],\n",
       "        fill_value='?',\n",
       "             dtype=object),\n",
       " 'param_learning_rate': masked_array(data=[0.01, 0.01, 0.01, 0.01, 0.01, 0.01, 0.01, 0.01, 0.01,\n",
       "                    0.01],\n",
       "              mask=[False, False, False, False, False, False, False, False,\n",
       "                    False, False],\n",
       "        fill_value='?',\n",
       "             dtype=object),\n",
       " 'param_min_child_weight': masked_array(data=[0.1, 1000.0, 1, 0.01, 1000.0, 10.0, 0.01, 0.01, 1e-05,\n",
       "                    1e-05],\n",
       "              mask=[False, False, False, False, False, False, False, False,\n",
       "                    False, False],\n",
       "        fill_value='?',\n",
       "             dtype=object),\n",
       " 'param_min_data_in_leaf': masked_array(data=[392, 130, 223, 377, 277, 438, 434, 493, 406, 373],\n",
       "              mask=[False, False, False, False, False, False, False, False,\n",
       "                    False, False],\n",
       "        fill_value='?',\n",
       "             dtype=object),\n",
       " 'param_num_leaves': masked_array(data=[92, 469, 154, 392, 388, 228, 258, 239, 141, 92],\n",
       "              mask=[False, False, False, False, False, False, False, False,\n",
       "                    False, False],\n",
       "        fill_value='?',\n",
       "             dtype=object),\n",
       " 'param_reg_alpha': masked_array(data=[0, 10, 100, 2, 100, 10, 0.1, 0, 50, 0],\n",
       "              mask=[False, False, False, False, False, False, False, False,\n",
       "                    False, False],\n",
       "        fill_value='?',\n",
       "             dtype=object),\n",
       " 'param_reg_lambda': masked_array(data=[100, 100, 0, 5, 20, 5, 50, 1, 20, 50],\n",
       "              mask=[False, False, False, False, False, False, False, False,\n",
       "                    False, False],\n",
       "        fill_value='?',\n",
       "             dtype=object),\n",
       " 'param_subsample': masked_array(data=[0.9326466073236168, 0.5575732396028996,\n",
       "                    0.8720649952803985, 0.6649855489918759,\n",
       "                    0.6564417745729645, 0.5065412058017,\n",
       "                    0.5673489081424845, 0.7749764742347831,\n",
       "                    0.31177597327519274, 0.3191480164925895],\n",
       "              mask=[False, False, False, False, False, False, False, False,\n",
       "                    False, False],\n",
       "        fill_value='?',\n",
       "             dtype=object),\n",
       " 'params': [{'colsample_bytree': 0.9501241488957805,\n",
       "   'learning_rate': 0.01,\n",
       "   'min_child_weight': 0.1,\n",
       "   'min_data_in_leaf': 392,\n",
       "   'num_leaves': 92,\n",
       "   'reg_alpha': 0,\n",
       "   'reg_lambda': 100,\n",
       "   'subsample': 0.9326466073236168},\n",
       "  {'colsample_bytree': 0.9731668400523877,\n",
       "   'learning_rate': 0.01,\n",
       "   'min_child_weight': 1000.0,\n",
       "   'min_data_in_leaf': 130,\n",
       "   'num_leaves': 469,\n",
       "   'reg_alpha': 10,\n",
       "   'reg_lambda': 100,\n",
       "   'subsample': 0.5575732396028996},\n",
       "  {'colsample_bytree': 0.7756038066515227,\n",
       "   'learning_rate': 0.01,\n",
       "   'min_child_weight': 1,\n",
       "   'min_data_in_leaf': 223,\n",
       "   'num_leaves': 154,\n",
       "   'reg_alpha': 100,\n",
       "   'reg_lambda': 0,\n",
       "   'subsample': 0.8720649952803985},\n",
       "  {'colsample_bytree': 0.566907616105705,\n",
       "   'learning_rate': 0.01,\n",
       "   'min_child_weight': 0.01,\n",
       "   'min_data_in_leaf': 377,\n",
       "   'num_leaves': 392,\n",
       "   'reg_alpha': 2,\n",
       "   'reg_lambda': 5,\n",
       "   'subsample': 0.6649855489918759},\n",
       "  {'colsample_bytree': 0.8063232376017694,\n",
       "   'learning_rate': 0.01,\n",
       "   'min_child_weight': 1000.0,\n",
       "   'min_data_in_leaf': 277,\n",
       "   'num_leaves': 388,\n",
       "   'reg_alpha': 100,\n",
       "   'reg_lambda': 20,\n",
       "   'subsample': 0.6564417745729645},\n",
       "  {'colsample_bytree': 0.6879091728281055,\n",
       "   'learning_rate': 0.01,\n",
       "   'min_child_weight': 10.0,\n",
       "   'min_data_in_leaf': 438,\n",
       "   'num_leaves': 228,\n",
       "   'reg_alpha': 10,\n",
       "   'reg_lambda': 5,\n",
       "   'subsample': 0.5065412058017},\n",
       "  {'colsample_bytree': 0.7442526692235505,\n",
       "   'learning_rate': 0.01,\n",
       "   'min_child_weight': 0.01,\n",
       "   'min_data_in_leaf': 434,\n",
       "   'num_leaves': 258,\n",
       "   'reg_alpha': 0.1,\n",
       "   'reg_lambda': 50,\n",
       "   'subsample': 0.5673489081424845},\n",
       "  {'colsample_bytree': 0.46175306323300236,\n",
       "   'learning_rate': 0.01,\n",
       "   'min_child_weight': 0.01,\n",
       "   'min_data_in_leaf': 493,\n",
       "   'num_leaves': 239,\n",
       "   'reg_alpha': 0,\n",
       "   'reg_lambda': 1,\n",
       "   'subsample': 0.7749764742347831},\n",
       "  {'colsample_bytree': 0.9870576100176972,\n",
       "   'learning_rate': 0.01,\n",
       "   'min_child_weight': 1e-05,\n",
       "   'min_data_in_leaf': 406,\n",
       "   'num_leaves': 141,\n",
       "   'reg_alpha': 50,\n",
       "   'reg_lambda': 20,\n",
       "   'subsample': 0.31177597327519274},\n",
       "  {'colsample_bytree': 0.45023302669289644,\n",
       "   'learning_rate': 0.01,\n",
       "   'min_child_weight': 1e-05,\n",
       "   'min_data_in_leaf': 373,\n",
       "   'num_leaves': 92,\n",
       "   'reg_alpha': 0,\n",
       "   'reg_lambda': 50,\n",
       "   'subsample': 0.3191480164925895}],\n",
       " 'split0_test_score': array([0.7286637 , 0.73033273, 0.73066354, 0.72553119, 0.73135028,\n",
       "        0.7262845 , 0.72587899, 0.72713532, 0.7290275 , 0.72977442]),\n",
       " 'split1_test_score': array([0.72830795, 0.7299694 , 0.73076664, 0.72510975, 0.73105784,\n",
       "        0.72576578, 0.7254046 , 0.72675985, 0.72880872, 0.72945563]),\n",
       " 'split2_test_score': array([0.72811718, 0.7296141 , 0.73048723, 0.72505248, 0.73064449,\n",
       "        0.7258665 , 0.72550122, 0.72628722, 0.72882345, 0.72905739]),\n",
       " 'mean_test_score': array([0.72836295, 0.72997208, 0.73063914, 0.72523114, 0.73101754,\n",
       "        0.72597226, 0.72559494, 0.72672747, 0.72888656, 0.72942915]),\n",
       " 'std_test_score': array([2.26481116e-04, 2.93386284e-04, 1.15367937e-04, 2.13453296e-04,\n",
       "        2.89542498e-04, 2.24582105e-04, 2.04690628e-04, 3.46991333e-04,\n",
       "        9.98470673e-05, 2.93322265e-04]),\n",
       " 'rank_test_score': array([ 6,  3,  2, 10,  1,  8,  9,  7,  5,  4], dtype=int32),\n",
       " 'split0_train_score': array([0.8170554 , 0.78058274, 0.84267394, 0.86895747, 0.78447977,\n",
       "        0.84492042, 0.8594889 , 0.87358346, 0.82779985, 0.81817402]),\n",
       " 'split1_train_score': array([0.81501284, 0.77579142, 0.83380032, 0.88095552, 0.78137749,\n",
       "        0.84260348, 0.85164232, 0.87482112, 0.83251631, 0.81780515]),\n",
       " 'split2_train_score': array([0.81518479, 0.78183386, 0.83722762, 0.87847749, 0.78251387,\n",
       "        0.83930034, 0.84819167, 0.87193743, 0.83185277, 0.8151506 ]),\n",
       " 'mean_train_score': array([0.81575101, 0.77940267, 0.83790063, 0.87613016, 0.78279038,\n",
       "        0.84227475, 0.85310763, 0.87344734, 0.83072298, 0.81704326]),\n",
       " 'std_train_score': array([0.00092501, 0.00260412, 0.00365376, 0.00517177, 0.0012815 ,\n",
       "        0.00230613, 0.00472703, 0.00118119, 0.00208464, 0.00134675])}"
      ]
     },
     "execution_count": 38,
     "metadata": {},
     "output_type": "execute_result"
    }
   ],
   "source": [
    "gs.cv_results_"
   ]
  },
  {
   "cell_type": "code",
   "execution_count": 36,
   "metadata": {},
   "outputs": [
    {
     "data": {
      "text/plain": [
       "{'colsample_bytree': 0.7756038066515227,\n",
       " 'learning_rate': 0.01,\n",
       " 'min_child_weight': 1,\n",
       " 'min_data_in_leaf': 223,\n",
       " 'num_leaves': 154,\n",
       " 'reg_alpha': 100,\n",
       " 'reg_lambda': 0,\n",
       " 'subsample': 0.8720649952803985}"
      ]
     },
     "execution_count": 36,
     "metadata": {},
     "output_type": "execute_result"
    }
   ],
   "source": [
    "#second best (550 iterations)\n",
    "gs.cv_results_['params'][2]"
   ]
  },
  {
   "cell_type": "markdown",
   "metadata": {},
   "source": [
    "{'colsample_bytree': 0.7756038066515227,\n",
    " 'learning_rate': 0.01,\n",
    " 'min_child_weight': 1,\n",
    " 'min_data_in_leaf': 223,\n",
    " 'num_leaves': 154,\n",
    " 'reg_alpha': 100,\n",
    " 'reg_lambda': 0,\n",
    " 'subsample': 0.8720649952803985,\n",
    " 'n_estimators': 550}\n",
    "\n",
    "\n",
    "{'colsample_bytree': 0.8063232376017694, \n",
    "          'learning_rate': 0.01, \n",
    "          'min_child_weight': 1000.0, \n",
    "          'min_data_in_leaf': 277, \n",
    "          'num_leaves': 388, \n",
    "          'reg_alpha': 100, \n",
    "          'reg_lambda': 20, \n",
    "          'subsample': 0.6564417745729645,\n",
    "          'n_estimators': 1200} \n"
   ]
  },
  {
   "cell_type": "code",
   "execution_count": 42,
   "metadata": {},
   "outputs": [
    {
     "name": "stderr",
     "output_type": "stream",
     "text": [
      "/Users/WM1158/anaconda2/envs/dsc_hs/lib/python3.6/site-packages/lightgbm/basic.py:1042: UserWarning: categorical_feature in Dataset is overridden. New categorical_feature is [0, 1, 3, 4, 5, 6, 7, 8, 9, 10, 11, 12, 13, 14, 16, 17, 18, 19, 20, 21, 22, 23, 24, 25, 26, 27, 33, 34, 35, 36, 37, 39, 40, 41, 42, 43, 44, 50, 51, 52, 53, 54, 55, 56, 57, 58, 59, 60, 61, 62, 63, 64, 65, 66, 67, 68, 69, 70, 71, 72, 73, 74, 75]\n",
      "  warnings.warn('categorical_feature in Dataset is overridden. New categorical_feature is {}'.format(sorted(list(categorical_feature))))\n"
     ]
    },
    {
     "data": {
      "text/plain": [
       "LGBMClassifier(boosting_type='gbdt', class_weight=None,\n",
       "        colsample_bytree=0.7756038066515227, is_unbalance=True,\n",
       "        learning_rate=0.01, max_depth=-1, min_child_samples=20,\n",
       "        min_child_weight=1, min_data_in_leaf=223, min_split_gain=0.0,\n",
       "        n_estimators=550, n_jobs=-1, num_leaves=154, objective='binary',\n",
       "        random_state=None, reg_alpha=100, reg_lambda=0, seed=7908093457,\n",
       "        silent=True, subsample=0.8720649952803985,\n",
       "        subsample_for_bin=200000, subsample_freq=0)"
      ]
     },
     "execution_count": 42,
     "metadata": {},
     "output_type": "execute_result"
    }
   ],
   "source": [
    "params = {'colsample_bytree': 0.7756038066515227,\n",
    " 'learning_rate': 0.01,\n",
    " 'min_child_weight': 1,\n",
    " 'min_data_in_leaf': 223,\n",
    " 'num_leaves': 154,\n",
    " 'reg_alpha': 100,\n",
    " 'reg_lambda': 0,\n",
    " 'subsample': 0.8720649952803985,\n",
    " 'n_estimators': 550}\n",
    "\n",
    "model_gbm = lightgbm.LGBMClassifier(\n",
    "    **params,\n",
    "    seed=np.random.randint(10**10),\n",
    "    is_unbalance=True,\n",
    "    objective='binary'\n",
    ")\n",
    "\n",
    "model_gbm.fit(train, y, categorical_feature=categorical_features_indices)"
   ]
  },
  {
   "cell_type": "code",
   "execution_count": 43,
   "metadata": {},
   "outputs": [],
   "source": [
    "submission = model_gbm.predict_proba(test)[:, 1]\n",
    "create_submission_file(submission, \"lightgbm_\", params)"
   ]
  },
  {
   "cell_type": "markdown",
   "metadata": {},
   "source": [
    "## LR\n",
    "\n",
    "0.71"
   ]
  },
  {
   "cell_type": "code",
   "execution_count": 119,
   "metadata": {},
   "outputs": [],
   "source": [
    "from sklearn.preprocessing import OneHotEncoder\n",
    "#from scipy.sparse import csr_matrix,csc_matrix\n",
    "from sklearn.cross_validation import StratifiedKFold\n",
    "#from sklearn.preprocessing import StandardScaler\n",
    "from sklearn.linear_model import SGDClassifier, LogisticRegressionCV\n",
    "from sklearn.metrics import roc_auc_score\n",
    "#from sklearn.preprocessing import LabelEncoder"
   ]
  },
  {
   "cell_type": "code",
   "execution_count": 112,
   "metadata": {},
   "outputs": [],
   "source": [
    "categoricals = train.select_dtypes(include=['category']).columns\n",
    "categorical_features_indices = [train.columns.get_loc(cat) for cat in categoricals]"
   ]
  },
  {
   "cell_type": "code",
   "execution_count": 113,
   "metadata": {},
   "outputs": [],
   "source": [
    "for item in train.select_dtypes(include=['category']).columns:\n",
    "    train[item] = train[item].cat.codes\n",
    "    test[item] = test[item].cat.codes"
   ]
  },
  {
   "cell_type": "code",
   "execution_count": 117,
   "metadata": {},
   "outputs": [
    {
     "ename": "AttributeError",
     "evalue": "probability estimates are not available for loss='hinge'",
     "output_type": "error",
     "traceback": [
      "\u001b[0;31m---------------------------------------------------------------------------\u001b[0m",
      "\u001b[0;31mAttributeError\u001b[0m                            Traceback (most recent call last)",
      "\u001b[0;32m<ipython-input-117-5544343b9f4a>\u001b[0m in \u001b[0;36m<module>\u001b[0;34m()\u001b[0m\n\u001b[1;32m     15\u001b[0m         \u001b[0mX_cv\u001b[0m\u001b[0;34m=\u001b[0m\u001b[0mone\u001b[0m\u001b[0;34m.\u001b[0m\u001b[0mtransform\u001b[0m\u001b[0;34m(\u001b[0m\u001b[0mX_cv\u001b[0m\u001b[0;34m)\u001b[0m\u001b[0;34m\u001b[0m\u001b[0m\n\u001b[1;32m     16\u001b[0m         \u001b[0mmodel\u001b[0m\u001b[0;34m.\u001b[0m\u001b[0mfit\u001b[0m\u001b[0;34m(\u001b[0m\u001b[0mX_train\u001b[0m\u001b[0;34m,\u001b[0m\u001b[0my_train\u001b[0m\u001b[0;34m)\u001b[0m\u001b[0;34m\u001b[0m\u001b[0m\n\u001b[0;32m---> 17\u001b[0;31m         \u001b[0mpreds\u001b[0m\u001b[0;34m=\u001b[0m\u001b[0mmodel\u001b[0m\u001b[0;34m.\u001b[0m\u001b[0mpredict_proba\u001b[0m\u001b[0;34m(\u001b[0m\u001b[0mX_cv\u001b[0m\u001b[0;34m)\u001b[0m\u001b[0;34m[\u001b[0m\u001b[0;34m:\u001b[0m\u001b[0;34m,\u001b[0m\u001b[0;36m1\u001b[0m\u001b[0;34m]\u001b[0m\u001b[0;34m\u001b[0m\u001b[0m\n\u001b[0m\u001b[1;32m     18\u001b[0m         \u001b[0mauc\u001b[0m\u001b[0;34m=\u001b[0m\u001b[0mroc_auc_score\u001b[0m\u001b[0;34m(\u001b[0m\u001b[0my_cv\u001b[0m\u001b[0;34m,\u001b[0m\u001b[0mpreds\u001b[0m\u001b[0;34m)\u001b[0m\u001b[0;34m\u001b[0m\u001b[0m\n\u001b[1;32m     19\u001b[0m         \u001b[0mprint\u001b[0m \u001b[0;34m(\u001b[0m\u001b[0;34m\" fold %d/%d auc %f \"\u001b[0m \u001b[0;34m%\u001b[0m \u001b[0;34m(\u001b[0m\u001b[0mi\u001b[0m\u001b[0;34m+\u001b[0m\u001b[0;36m1\u001b[0m\u001b[0;34m,\u001b[0m \u001b[0;36m5\u001b[0m\u001b[0;34m,\u001b[0m \u001b[0mauc\u001b[0m\u001b[0;34m)\u001b[0m\u001b[0;34m)\u001b[0m\u001b[0;34m\u001b[0m\u001b[0m\n",
      "\u001b[0;32m~/anaconda2/envs/dsc_hs/lib/python3.6/site-packages/sklearn/linear_model/stochastic_gradient.py\u001b[0m in \u001b[0;36mpredict_proba\u001b[0;34m(self)\u001b[0m\n\u001b[1;32m    832\u001b[0m         \u001b[0mhttp\u001b[0m\u001b[0;34m:\u001b[0m\u001b[0;34m//\u001b[0m\u001b[0mjmlr\u001b[0m\u001b[0;34m.\u001b[0m\u001b[0mcsail\u001b[0m\u001b[0;34m.\u001b[0m\u001b[0mmit\u001b[0m\u001b[0;34m.\u001b[0m\u001b[0medu\u001b[0m\u001b[0;34m/\u001b[0m\u001b[0mpapers\u001b[0m\u001b[0;34m/\u001b[0m\u001b[0mvolume2\u001b[0m\u001b[0;34m/\u001b[0m\u001b[0mzhang02c\u001b[0m\u001b[0;34m/\u001b[0m\u001b[0mzhang02c\u001b[0m\u001b[0;34m.\u001b[0m\u001b[0mpdf\u001b[0m\u001b[0;34m\u001b[0m\u001b[0m\n\u001b[1;32m    833\u001b[0m         \"\"\"\n\u001b[0;32m--> 834\u001b[0;31m         \u001b[0mself\u001b[0m\u001b[0;34m.\u001b[0m\u001b[0m_check_proba\u001b[0m\u001b[0;34m(\u001b[0m\u001b[0;34m)\u001b[0m\u001b[0;34m\u001b[0m\u001b[0m\n\u001b[0m\u001b[1;32m    835\u001b[0m         \u001b[0;32mreturn\u001b[0m \u001b[0mself\u001b[0m\u001b[0;34m.\u001b[0m\u001b[0m_predict_proba\u001b[0m\u001b[0;34m\u001b[0m\u001b[0m\n\u001b[1;32m    836\u001b[0m \u001b[0;34m\u001b[0m\u001b[0m\n",
      "\u001b[0;32m~/anaconda2/envs/dsc_hs/lib/python3.6/site-packages/sklearn/linear_model/stochastic_gradient.py\u001b[0m in \u001b[0;36m_check_proba\u001b[0;34m(self)\u001b[0m\n\u001b[1;32m    794\u001b[0m         \u001b[0;32mif\u001b[0m \u001b[0mself\u001b[0m\u001b[0;34m.\u001b[0m\u001b[0mloss\u001b[0m \u001b[0;32mnot\u001b[0m \u001b[0;32min\u001b[0m \u001b[0;34m(\u001b[0m\u001b[0;34m\"log\"\u001b[0m\u001b[0;34m,\u001b[0m \u001b[0;34m\"modified_huber\"\u001b[0m\u001b[0;34m)\u001b[0m\u001b[0;34m:\u001b[0m\u001b[0;34m\u001b[0m\u001b[0m\n\u001b[1;32m    795\u001b[0m             raise AttributeError(\"probability estimates are not available for\"\n\u001b[0;32m--> 796\u001b[0;31m                                  \" loss=%r\" % self.loss)\n\u001b[0m\u001b[1;32m    797\u001b[0m \u001b[0;34m\u001b[0m\u001b[0m\n\u001b[1;32m    798\u001b[0m     \u001b[0;34m@\u001b[0m\u001b[0mproperty\u001b[0m\u001b[0;34m\u001b[0m\u001b[0m\n",
      "\u001b[0;31mAttributeError\u001b[0m: probability estimates are not available for loss='hinge'"
     ]
    }
   ],
   "source": [
    "kfolder = StratifiedKFold(y, n_folds=5, shuffle=True, random_state=1)\n",
    "grand_auc = 0\n",
    "\n",
    "X = np.array(train)\n",
    "i=0 # iterator counter\n",
    "#model = SGDClassifier(loss='log', penalty='l2', alpha=0.0030, max_iter=30, random_state=1)\n",
    "#model = SGDClassifier(loss=\"hinge\", alpha=0.01, max_iter=30)\n",
    "\n",
    "for train_index, test_index in kfolder:\n",
    "        X_train, X_cv = np.array(X)[train_index], np.array(X)[test_index]\n",
    "        y_train, y_cv = np.array(y)[train_index], np.array(y)[test_index]\n",
    "        one=OneHotEncoder(handle_unknown='ignore', categorical_features=categorical_features_indices)\n",
    "        one.fit(X_train)\n",
    "        X_train=one.transform(X_train)\n",
    "        X_cv=one.transform(X_cv)\n",
    "        model.fit(X_train,y_train)\n",
    "        preds=model.predict_proba(X_cv)[:,1]\n",
    "        auc=roc_auc_score(y_cv,preds)\n",
    "        print (\" fold %d/%d auc %f \" % (i+1, 5, auc))\n",
    "        grand_auc+=auc\n",
    "        i+=1\n",
    "grand_auc/=5\n",
    "print (\"grand AUC is %f \" % (grand_auc))"
   ]
  },
  {
   "cell_type": "code",
   "execution_count": 122,
   "metadata": {},
   "outputs": [
    {
     "data": {
      "text/plain": [
       "LogisticRegressionCV(Cs=10, class_weight=None, cv=None, dual=False,\n",
       "           fit_intercept=True, intercept_scaling=1.0, max_iter=100,\n",
       "           multi_class='ovr', n_jobs=1, penalty='l2', random_state=None,\n",
       "           refit=True, scoring='roc_auc', solver='lbfgs', tol=0.0001,\n",
       "           verbose=0)"
      ]
     },
     "execution_count": 122,
     "metadata": {},
     "output_type": "execute_result"
    }
   ],
   "source": [
    "model = LogisticRegressionCV(scoring='roc_auc')\n",
    "#one=OneHotEncoder(handle_unknown='ignore', categorical_features=categorical_features_indices)\n",
    "#one.fit(X)\n",
    "#X=one.transform(X)\n",
    "#X_cv=one.transform(X_cv)\n",
    "model.fit(X, y)\n",
    "#preds=model.predict_proba(X_cv)[:,1]\n",
    "#auc=roc_auc_score(y_cv,preds)\n",
    "#print (\" fold %d/%d auc %f \" % (i+1, 5, auc))\n"
   ]
  },
  {
   "cell_type": "code",
   "execution_count": 125,
   "metadata": {},
   "outputs": [
    {
     "data": {
      "text/plain": [
       "array([0.00599484])"
      ]
     },
     "execution_count": 125,
     "metadata": {},
     "output_type": "execute_result"
    }
   ],
   "source": [
    "model.C_"
   ]
  },
  {
   "cell_type": "code",
   "execution_count": 127,
   "metadata": {},
   "outputs": [
    {
     "data": {
      "text/plain": [
       "array([0.39875361, 0.16195149, 0.08336156, ..., 0.21348615, 0.08730254,\n",
       "       0.24835877])"
      ]
     },
     "execution_count": 127,
     "metadata": {},
     "output_type": "execute_result"
    }
   ],
   "source": [
    "one=OneHotEncoder(handle_unknown='ignore', categorical_features=categorical_features_indices)\n",
    "one.fit(train)\n",
    "test_ohe=one.transform(test)\n",
    "submission = model.predict_proba(test_ohe)[:,1]"
   ]
  },
  {
   "cell_type": "code",
   "execution_count": 128,
   "metadata": {},
   "outputs": [],
   "source": [
    "submission = model.predict_proba(test_ohe)[:,1]"
   ]
  },
  {
   "cell_type": "code",
   "execution_count": 129,
   "metadata": {},
   "outputs": [],
   "source": [
    "create_submission_file(submission, \"LR_l2_\", {'C': 0.00599484})"
   ]
  },
  {
   "cell_type": "code",
   "execution_count": null,
   "metadata": {},
   "outputs": [],
   "source": []
  },
  {
   "cell_type": "code",
   "execution_count": null,
   "metadata": {},
   "outputs": [],
   "source": []
  },
  {
   "cell_type": "code",
   "execution_count": null,
   "metadata": {},
   "outputs": [],
   "source": []
  },
  {
   "cell_type": "code",
   "execution_count": null,
   "metadata": {},
   "outputs": [],
   "source": []
  },
  {
   "cell_type": "markdown",
   "metadata": {},
   "source": [
    "# Stacking"
   ]
  },
  {
   "cell_type": "code",
   "execution_count": null,
   "metadata": {},
   "outputs": [],
   "source": [
    "from sklearn.model_selection import StratifiedKFold\n",
    "from sklearn.linear_model import LogisticRegression\n",
    "from sklearn.preprocessing import OneHotEncoder\n",
    "from sklearn.svm import LinearSVC"
   ]
  },
  {
   "cell_type": "code",
   "execution_count": 14,
   "metadata": {},
   "outputs": [],
   "source": [
    "ntrain = train.shape[0]\n",
    "ntest = test.shape[0]\n",
    "SEED = 0 # for reproducibility\n",
    "NFOLDS = 5 # set folds for out-of-fold prediction"
   ]
  },
  {
   "cell_type": "code",
   "execution_count": 15,
   "metadata": {},
   "outputs": [],
   "source": [
    "# Kfold\n",
    "kf = StratifiedKFold(n_splits=NFOLDS, random_state=SEED, shuffle=True)\n",
    "#kf_splits = kf.split(train, y)"
   ]
  },
  {
   "cell_type": "code",
   "execution_count": 16,
   "metadata": {},
   "outputs": [],
   "source": [
    "pos_neg_ratio =  sum(y==False) / sum(y==True)"
   ]
  },
  {
   "cell_type": "code",
   "execution_count": 30,
   "metadata": {},
   "outputs": [],
   "source": [
    "class SklearnHelper(object):\n",
    "    def __init__(self, clf, seed=0, params=None):\n",
    "        params['random_state'] = seed\n",
    "        self.clf = clf(**params)\n",
    "\n",
    "    def train(self, x_train, y_train, cats=None, model=None):\n",
    "        if (cats is not None) & (model=='catboost'):\n",
    "            self.clf.fit(x_train, y_train, cat_features=cats)\n",
    "        elif (cats is not None) & (model=='lightgbm'):\n",
    "            self.clf.fit(x_train, y_train, categorical_feature=cats)\n",
    "        else:\n",
    "            self.clf.fit(x_train, y_train)\n",
    "\n",
    "    def predict(self, x):\n",
    "        return self.clf.predict_proba(x)[:,1]\n",
    "    \n",
    "    def fit(self,x,y):\n",
    "        return self.clf.fit(x,y)\n",
    "    \n",
    "    def feature_importances(self,x,y):\n",
    "        print(self.clf.fit(x,y).feature_importances_)\n"
   ]
  },
  {
   "cell_type": "code",
   "execution_count": 31,
   "metadata": {},
   "outputs": [],
   "source": [
    "def get_oof(clf, x_train, y_train, x_test, cats=None, model=None):\n",
    "    oof_train = np.zeros((ntrain,))\n",
    "    oof_test = np.zeros((ntest,))\n",
    "    oof_test_skf = np.empty((NFOLDS, ntest))\n",
    "\n",
    "\n",
    "    for i, (train_index, test_index) in enumerate(kf.split(x_train, y_train)):\n",
    "        x_tr = x_train[train_index]\n",
    "        y_tr = y_train[train_index]\n",
    "        x_te = x_train[test_index]\n",
    "\n",
    "        #randomly add nans for contract variables\n",
    "        #\n",
    "        #\n",
    "        #\n",
    "        clf.train(x_tr, y_tr, cats, model)\n",
    "\n",
    "        oof_train[test_index] = clf.predict(x_te)\n",
    "        oof_test_skf[i, :] = clf.predict(x_test)\n",
    "\n",
    "    oof_test[:] = oof_test_skf.mean(axis=0)\n",
    "    return oof_train.reshape(-1, 1), oof_test.reshape(-1, 1)"
   ]
  },
  {
   "cell_type": "code",
   "execution_count": 19,
   "metadata": {},
   "outputs": [],
   "source": [
    "catboost_1_params = {\n",
    "                      'border_count': 64, \n",
    "                      'iterations': 5, #500.0,\n",
    "                      'learning_rate': 0.05,\n",
    "                      'scale_pos_weight': pos_neg_ratio,\n",
    "                      'eval_metric': \"AUC\"\n",
    "                     }\n",
    "\n",
    "\n",
    "lightgbm_1_params = {'colsample_bytree': 0.7756038066515227,\n",
    "                     'learning_rate': 0.01,\n",
    "                     'min_child_weight': 1,\n",
    "                     'min_data_in_leaf': 223,\n",
    "                     'num_leaves': 154,\n",
    "                     'reg_alpha': 100,\n",
    "                     'reg_lambda': 0,\n",
    "                     'subsample': 0.8720649952803985,\n",
    "                     'n_estimators': 5,\n",
    "                     'scoring': 'roc_auc'} #550\n",
    "\n",
    "lightgbm_2_params = {'colsample_bytree': 0.8063232376017694, \n",
    "                      'learning_rate': 0.01, \n",
    "                      'min_child_weight': 1000.0, \n",
    "                      'min_data_in_leaf': 277, \n",
    "                      'num_leaves': 388, \n",
    "                      'reg_alpha': 100, \n",
    "                      'reg_lambda': 20, \n",
    "                      'subsample': 0.6564417745729645,\n",
    "                      'n_estimators': 5,\n",
    "                      'scoring': 'roc_auc'} #1200 \n",
    "\n",
    "SVC_params = {'C': 0.01}\n",
    "\n",
    "LR_params = {'C': 0.00599484}"
   ]
  },
  {
   "cell_type": "code",
   "execution_count": 32,
   "metadata": {},
   "outputs": [],
   "source": [
    "# Create 5 objects that represent our 4 models\n",
    "catboost_1 = SklearnHelper(clf=CatBoostClassifier, seed=SEED, params=catboost_1_params)\n",
    "lightgbm_1 = SklearnHelper(clf=LGBMClassifier, seed=SEED, params=lightgbm_1_params)\n",
    "lightgbm_2 = SklearnHelper(clf=LGBMClassifier, seed=SEED, params=lightgbm_2_params)\n",
    "svc = SklearnHelper(clf=LinearSVC, seed=SEED, params=SVC_params)\n",
    "LR = SklearnHelper(clf=LogisticRegression, seed=SEED, params=LR_params)"
   ]
  },
  {
   "cell_type": "code",
   "execution_count": 21,
   "metadata": {},
   "outputs": [],
   "source": [
    "for item in train.select_dtypes(include=['category']).columns:\n",
    "    train[item] = train[item].cat.codes\n",
    "    test[item] = test[item].cat.codes\n",
    "\n",
    "x_train = train.values\n",
    "y_train = y.values\n",
    "x_test = test.values\n",
    "\n",
    "del train, y, test"
   ]
  },
  {
   "cell_type": "code",
   "execution_count": 88,
   "metadata": {},
   "outputs": [
    {
     "name": "stdout",
     "output_type": "stream",
     "text": [
      "Training catboost1\n",
      "0:\ttotal: 6.11s\tremaining: 24.4s\n",
      "1:\ttotal: 11.3s\tremaining: 16.9s\n",
      "2:\ttotal: 16.2s\tremaining: 10.8s\n",
      "3:\ttotal: 21.9s\tremaining: 5.47s\n",
      "4:\ttotal: 27.8s\tremaining: 0us\n",
      "0:\ttotal: 5.5s\tremaining: 22s\n",
      "1:\ttotal: 11.4s\tremaining: 17s\n",
      "2:\ttotal: 16.6s\tremaining: 11.1s\n",
      "3:\ttotal: 22.8s\tremaining: 5.71s\n",
      "4:\ttotal: 28.4s\tremaining: 0us\n",
      "0:\ttotal: 5.36s\tremaining: 21.4s\n",
      "1:\ttotal: 10.7s\tremaining: 16s\n",
      "2:\ttotal: 15.7s\tremaining: 10.4s\n",
      "3:\ttotal: 21s\tremaining: 5.25s\n",
      "4:\ttotal: 26.7s\tremaining: 0us\n",
      "0:\ttotal: 6.58s\tremaining: 26.3s\n",
      "1:\ttotal: 12.2s\tremaining: 18.2s\n",
      "2:\ttotal: 18.1s\tremaining: 12.1s\n",
      "3:\ttotal: 25.1s\tremaining: 6.28s\n",
      "4:\ttotal: 30.8s\tremaining: 0us\n",
      "0:\ttotal: 5.52s\tremaining: 22.1s\n",
      "1:\ttotal: 10.8s\tremaining: 16.2s\n",
      "2:\ttotal: 17s\tremaining: 11.4s\n",
      "3:\ttotal: 23.4s\tremaining: 5.84s\n",
      "4:\ttotal: 29.2s\tremaining: 0us\n"
     ]
    }
   ],
   "source": [
    "# Create our OOF train and test predictions. These base results will be used as new features\n",
    "print(\"Training catboost1\")\n",
    "catboost_1_oof_train, catboost_1_oof_test = get_oof(catboost_1, x_train, y_train, x_test, cats=categorical_features_indices, model='catboost') "
   ]
  },
  {
   "cell_type": "code",
   "execution_count": 106,
   "metadata": {},
   "outputs": [
    {
     "name": "stdout",
     "output_type": "stream",
     "text": [
      "Training lightgbm_1\n"
     ]
    },
    {
     "name": "stderr",
     "output_type": "stream",
     "text": [
      "/Users/WM1158/anaconda2/envs/dsc_hs/lib/python3.6/site-packages/lightgbm/basic.py:1042: UserWarning: categorical_feature in Dataset is overridden. New categorical_feature is [0, 1, 3, 4, 5, 6, 7, 8, 9, 10, 11, 12, 13, 14, 16, 17, 18, 19, 20, 21, 22, 23, 24, 25, 26, 27, 33, 34, 35, 36, 37, 39, 40, 41, 42, 43, 44, 50, 51, 52, 53, 54, 55, 56, 57, 58, 59, 60, 61, 62, 63, 64, 65, 66, 67, 68, 69, 70, 71, 72, 73, 74, 75]\n",
      "  warnings.warn('categorical_feature in Dataset is overridden. New categorical_feature is {}'.format(sorted(list(categorical_feature))))\n",
      "/Users/WM1158/anaconda2/envs/dsc_hs/lib/python3.6/site-packages/sklearn/preprocessing/label.py:151: DeprecationWarning: The truth value of an empty array is ambiguous. Returning False, but in future this will result in an error. Use `array.size > 0` to check that an array is not empty.\n",
      "  if diff:\n",
      "/Users/WM1158/anaconda2/envs/dsc_hs/lib/python3.6/site-packages/sklearn/preprocessing/label.py:151: DeprecationWarning: The truth value of an empty array is ambiguous. Returning False, but in future this will result in an error. Use `array.size > 0` to check that an array is not empty.\n",
      "  if diff:\n",
      "/Users/WM1158/anaconda2/envs/dsc_hs/lib/python3.6/site-packages/lightgbm/basic.py:1042: UserWarning: categorical_feature in Dataset is overridden. New categorical_feature is [0, 1, 3, 4, 5, 6, 7, 8, 9, 10, 11, 12, 13, 14, 16, 17, 18, 19, 20, 21, 22, 23, 24, 25, 26, 27, 33, 34, 35, 36, 37, 39, 40, 41, 42, 43, 44, 50, 51, 52, 53, 54, 55, 56, 57, 58, 59, 60, 61, 62, 63, 64, 65, 66, 67, 68, 69, 70, 71, 72, 73, 74, 75]\n",
      "  warnings.warn('categorical_feature in Dataset is overridden. New categorical_feature is {}'.format(sorted(list(categorical_feature))))\n",
      "/Users/WM1158/anaconda2/envs/dsc_hs/lib/python3.6/site-packages/sklearn/preprocessing/label.py:151: DeprecationWarning: The truth value of an empty array is ambiguous. Returning False, but in future this will result in an error. Use `array.size > 0` to check that an array is not empty.\n",
      "  if diff:\n",
      "/Users/WM1158/anaconda2/envs/dsc_hs/lib/python3.6/site-packages/sklearn/preprocessing/label.py:151: DeprecationWarning: The truth value of an empty array is ambiguous. Returning False, but in future this will result in an error. Use `array.size > 0` to check that an array is not empty.\n",
      "  if diff:\n",
      "/Users/WM1158/anaconda2/envs/dsc_hs/lib/python3.6/site-packages/lightgbm/basic.py:1042: UserWarning: categorical_feature in Dataset is overridden. New categorical_feature is [0, 1, 3, 4, 5, 6, 7, 8, 9, 10, 11, 12, 13, 14, 16, 17, 18, 19, 20, 21, 22, 23, 24, 25, 26, 27, 33, 34, 35, 36, 37, 39, 40, 41, 42, 43, 44, 50, 51, 52, 53, 54, 55, 56, 57, 58, 59, 60, 61, 62, 63, 64, 65, 66, 67, 68, 69, 70, 71, 72, 73, 74, 75]\n",
      "  warnings.warn('categorical_feature in Dataset is overridden. New categorical_feature is {}'.format(sorted(list(categorical_feature))))\n",
      "/Users/WM1158/anaconda2/envs/dsc_hs/lib/python3.6/site-packages/sklearn/preprocessing/label.py:151: DeprecationWarning: The truth value of an empty array is ambiguous. Returning False, but in future this will result in an error. Use `array.size > 0` to check that an array is not empty.\n",
      "  if diff:\n",
      "/Users/WM1158/anaconda2/envs/dsc_hs/lib/python3.6/site-packages/sklearn/preprocessing/label.py:151: DeprecationWarning: The truth value of an empty array is ambiguous. Returning False, but in future this will result in an error. Use `array.size > 0` to check that an array is not empty.\n",
      "  if diff:\n",
      "/Users/WM1158/anaconda2/envs/dsc_hs/lib/python3.6/site-packages/lightgbm/basic.py:1042: UserWarning: categorical_feature in Dataset is overridden. New categorical_feature is [0, 1, 3, 4, 5, 6, 7, 8, 9, 10, 11, 12, 13, 14, 16, 17, 18, 19, 20, 21, 22, 23, 24, 25, 26, 27, 33, 34, 35, 36, 37, 39, 40, 41, 42, 43, 44, 50, 51, 52, 53, 54, 55, 56, 57, 58, 59, 60, 61, 62, 63, 64, 65, 66, 67, 68, 69, 70, 71, 72, 73, 74, 75]\n",
      "  warnings.warn('categorical_feature in Dataset is overridden. New categorical_feature is {}'.format(sorted(list(categorical_feature))))\n",
      "/Users/WM1158/anaconda2/envs/dsc_hs/lib/python3.6/site-packages/sklearn/preprocessing/label.py:151: DeprecationWarning: The truth value of an empty array is ambiguous. Returning False, but in future this will result in an error. Use `array.size > 0` to check that an array is not empty.\n",
      "  if diff:\n",
      "/Users/WM1158/anaconda2/envs/dsc_hs/lib/python3.6/site-packages/sklearn/preprocessing/label.py:151: DeprecationWarning: The truth value of an empty array is ambiguous. Returning False, but in future this will result in an error. Use `array.size > 0` to check that an array is not empty.\n",
      "  if diff:\n",
      "/Users/WM1158/anaconda2/envs/dsc_hs/lib/python3.6/site-packages/lightgbm/basic.py:1042: UserWarning: categorical_feature in Dataset is overridden. New categorical_feature is [0, 1, 3, 4, 5, 6, 7, 8, 9, 10, 11, 12, 13, 14, 16, 17, 18, 19, 20, 21, 22, 23, 24, 25, 26, 27, 33, 34, 35, 36, 37, 39, 40, 41, 42, 43, 44, 50, 51, 52, 53, 54, 55, 56, 57, 58, 59, 60, 61, 62, 63, 64, 65, 66, 67, 68, 69, 70, 71, 72, 73, 74, 75]\n",
      "  warnings.warn('categorical_feature in Dataset is overridden. New categorical_feature is {}'.format(sorted(list(categorical_feature))))\n",
      "/Users/WM1158/anaconda2/envs/dsc_hs/lib/python3.6/site-packages/sklearn/preprocessing/label.py:151: DeprecationWarning: The truth value of an empty array is ambiguous. Returning False, but in future this will result in an error. Use `array.size > 0` to check that an array is not empty.\n",
      "  if diff:\n",
      "/Users/WM1158/anaconda2/envs/dsc_hs/lib/python3.6/site-packages/sklearn/preprocessing/label.py:151: DeprecationWarning: The truth value of an empty array is ambiguous. Returning False, but in future this will result in an error. Use `array.size > 0` to check that an array is not empty.\n",
      "  if diff:\n"
     ]
    }
   ],
   "source": [
    "print(\"Training lightgbm_1\")\n",
    "lightgbm_1_oof_train, lightgbm_1_oof_test = get_oof(lightgbm_1, x_train, y_train, x_test, cats=categorical_features_indices, model='catboost') "
   ]
  },
  {
   "cell_type": "code",
   "execution_count": 107,
   "metadata": {},
   "outputs": [
    {
     "name": "stdout",
     "output_type": "stream",
     "text": [
      "Training lightgbm_2\n"
     ]
    },
    {
     "name": "stderr",
     "output_type": "stream",
     "text": [
      "/Users/WM1158/anaconda2/envs/dsc_hs/lib/python3.6/site-packages/lightgbm/basic.py:1042: UserWarning: categorical_feature in Dataset is overridden. New categorical_feature is [0, 1, 3, 4, 5, 6, 7, 8, 9, 10, 11, 12, 13, 14, 16, 17, 18, 19, 20, 21, 22, 23, 24, 25, 26, 27, 33, 34, 35, 36, 37, 39, 40, 41, 42, 43, 44, 50, 51, 52, 53, 54, 55, 56, 57, 58, 59, 60, 61, 62, 63, 64, 65, 66, 67, 68, 69, 70, 71, 72, 73, 74, 75]\n",
      "  warnings.warn('categorical_feature in Dataset is overridden. New categorical_feature is {}'.format(sorted(list(categorical_feature))))\n",
      "/Users/WM1158/anaconda2/envs/dsc_hs/lib/python3.6/site-packages/sklearn/preprocessing/label.py:151: DeprecationWarning: The truth value of an empty array is ambiguous. Returning False, but in future this will result in an error. Use `array.size > 0` to check that an array is not empty.\n",
      "  if diff:\n",
      "/Users/WM1158/anaconda2/envs/dsc_hs/lib/python3.6/site-packages/sklearn/preprocessing/label.py:151: DeprecationWarning: The truth value of an empty array is ambiguous. Returning False, but in future this will result in an error. Use `array.size > 0` to check that an array is not empty.\n",
      "  if diff:\n",
      "/Users/WM1158/anaconda2/envs/dsc_hs/lib/python3.6/site-packages/lightgbm/basic.py:1042: UserWarning: categorical_feature in Dataset is overridden. New categorical_feature is [0, 1, 3, 4, 5, 6, 7, 8, 9, 10, 11, 12, 13, 14, 16, 17, 18, 19, 20, 21, 22, 23, 24, 25, 26, 27, 33, 34, 35, 36, 37, 39, 40, 41, 42, 43, 44, 50, 51, 52, 53, 54, 55, 56, 57, 58, 59, 60, 61, 62, 63, 64, 65, 66, 67, 68, 69, 70, 71, 72, 73, 74, 75]\n",
      "  warnings.warn('categorical_feature in Dataset is overridden. New categorical_feature is {}'.format(sorted(list(categorical_feature))))\n",
      "/Users/WM1158/anaconda2/envs/dsc_hs/lib/python3.6/site-packages/sklearn/preprocessing/label.py:151: DeprecationWarning: The truth value of an empty array is ambiguous. Returning False, but in future this will result in an error. Use `array.size > 0` to check that an array is not empty.\n",
      "  if diff:\n",
      "/Users/WM1158/anaconda2/envs/dsc_hs/lib/python3.6/site-packages/sklearn/preprocessing/label.py:151: DeprecationWarning: The truth value of an empty array is ambiguous. Returning False, but in future this will result in an error. Use `array.size > 0` to check that an array is not empty.\n",
      "  if diff:\n",
      "/Users/WM1158/anaconda2/envs/dsc_hs/lib/python3.6/site-packages/lightgbm/basic.py:1042: UserWarning: categorical_feature in Dataset is overridden. New categorical_feature is [0, 1, 3, 4, 5, 6, 7, 8, 9, 10, 11, 12, 13, 14, 16, 17, 18, 19, 20, 21, 22, 23, 24, 25, 26, 27, 33, 34, 35, 36, 37, 39, 40, 41, 42, 43, 44, 50, 51, 52, 53, 54, 55, 56, 57, 58, 59, 60, 61, 62, 63, 64, 65, 66, 67, 68, 69, 70, 71, 72, 73, 74, 75]\n",
      "  warnings.warn('categorical_feature in Dataset is overridden. New categorical_feature is {}'.format(sorted(list(categorical_feature))))\n",
      "/Users/WM1158/anaconda2/envs/dsc_hs/lib/python3.6/site-packages/sklearn/preprocessing/label.py:151: DeprecationWarning: The truth value of an empty array is ambiguous. Returning False, but in future this will result in an error. Use `array.size > 0` to check that an array is not empty.\n",
      "  if diff:\n",
      "/Users/WM1158/anaconda2/envs/dsc_hs/lib/python3.6/site-packages/sklearn/preprocessing/label.py:151: DeprecationWarning: The truth value of an empty array is ambiguous. Returning False, but in future this will result in an error. Use `array.size > 0` to check that an array is not empty.\n",
      "  if diff:\n",
      "/Users/WM1158/anaconda2/envs/dsc_hs/lib/python3.6/site-packages/lightgbm/basic.py:1042: UserWarning: categorical_feature in Dataset is overridden. New categorical_feature is [0, 1, 3, 4, 5, 6, 7, 8, 9, 10, 11, 12, 13, 14, 16, 17, 18, 19, 20, 21, 22, 23, 24, 25, 26, 27, 33, 34, 35, 36, 37, 39, 40, 41, 42, 43, 44, 50, 51, 52, 53, 54, 55, 56, 57, 58, 59, 60, 61, 62, 63, 64, 65, 66, 67, 68, 69, 70, 71, 72, 73, 74, 75]\n",
      "  warnings.warn('categorical_feature in Dataset is overridden. New categorical_feature is {}'.format(sorted(list(categorical_feature))))\n",
      "/Users/WM1158/anaconda2/envs/dsc_hs/lib/python3.6/site-packages/sklearn/preprocessing/label.py:151: DeprecationWarning: The truth value of an empty array is ambiguous. Returning False, but in future this will result in an error. Use `array.size > 0` to check that an array is not empty.\n",
      "  if diff:\n",
      "/Users/WM1158/anaconda2/envs/dsc_hs/lib/python3.6/site-packages/sklearn/preprocessing/label.py:151: DeprecationWarning: The truth value of an empty array is ambiguous. Returning False, but in future this will result in an error. Use `array.size > 0` to check that an array is not empty.\n",
      "  if diff:\n",
      "/Users/WM1158/anaconda2/envs/dsc_hs/lib/python3.6/site-packages/lightgbm/basic.py:1042: UserWarning: categorical_feature in Dataset is overridden. New categorical_feature is [0, 1, 3, 4, 5, 6, 7, 8, 9, 10, 11, 12, 13, 14, 16, 17, 18, 19, 20, 21, 22, 23, 24, 25, 26, 27, 33, 34, 35, 36, 37, 39, 40, 41, 42, 43, 44, 50, 51, 52, 53, 54, 55, 56, 57, 58, 59, 60, 61, 62, 63, 64, 65, 66, 67, 68, 69, 70, 71, 72, 73, 74, 75]\n",
      "  warnings.warn('categorical_feature in Dataset is overridden. New categorical_feature is {}'.format(sorted(list(categorical_feature))))\n",
      "/Users/WM1158/anaconda2/envs/dsc_hs/lib/python3.6/site-packages/sklearn/preprocessing/label.py:151: DeprecationWarning: The truth value of an empty array is ambiguous. Returning False, but in future this will result in an error. Use `array.size > 0` to check that an array is not empty.\n",
      "  if diff:\n",
      "/Users/WM1158/anaconda2/envs/dsc_hs/lib/python3.6/site-packages/sklearn/preprocessing/label.py:151: DeprecationWarning: The truth value of an empty array is ambiguous. Returning False, but in future this will result in an error. Use `array.size > 0` to check that an array is not empty.\n",
      "  if diff:\n"
     ]
    }
   ],
   "source": [
    "print(\"Training lightgbm_2\")\n",
    "lightgbm_2_oof_train, lightgbm_2_oof_test = get_oof(lightgbm_2, x_train, y_train, x_test, cats=categorical_features_indices, model='lightgbm')"
   ]
  },
  {
   "cell_type": "code",
   "execution_count": 36,
   "metadata": {},
   "outputs": [
    {
     "name": "stdout",
     "output_type": "stream",
     "text": [
      "Training LR\n"
     ]
    }
   ],
   "source": [
    "print(\"Training LR\")\n",
    "x_train_onehot = x_train.copy()\n",
    "x_test_onehot = x_test.copy()\n",
    "    \n",
    "one=OneHotEncoder(handle_unknown='ignore', categorical_features=categorical_features_indices)\n",
    "x_train_onehot = one.fit_transform(x_train_onehot).tocsr()\n",
    "x_test_onehot = one.transform(x_test_onehot).tocsr()"
   ]
  },
  {
   "cell_type": "code",
   "execution_count": 89,
   "metadata": {},
   "outputs": [
    {
     "name": "stdout",
     "output_type": "stream",
     "text": [
      "Training catboost2\n",
      "0:\ttotal: 3.29s\tremaining: 13.2s\n",
      "1:\ttotal: 6.55s\tremaining: 9.82s\n",
      "2:\ttotal: 9.91s\tremaining: 6.61s\n",
      "3:\ttotal: 12.8s\tremaining: 3.21s\n",
      "4:\ttotal: 15.6s\tremaining: 0us\n",
      "0:\ttotal: 3.27s\tremaining: 13.1s\n",
      "1:\ttotal: 6.35s\tremaining: 9.52s\n",
      "2:\ttotal: 9.87s\tremaining: 6.58s\n",
      "3:\ttotal: 15.4s\tremaining: 3.85s\n",
      "4:\ttotal: 19.4s\tremaining: 0us\n",
      "0:\ttotal: 3.33s\tremaining: 13.3s\n",
      "1:\ttotal: 6.39s\tremaining: 9.59s\n",
      "2:\ttotal: 9.68s\tremaining: 6.45s\n",
      "3:\ttotal: 12.7s\tremaining: 3.17s\n",
      "4:\ttotal: 15.7s\tremaining: 0us\n",
      "0:\ttotal: 3.9s\tremaining: 15.6s\n",
      "1:\ttotal: 7.48s\tremaining: 11.2s\n",
      "2:\ttotal: 10.8s\tremaining: 7.19s\n",
      "3:\ttotal: 13.8s\tremaining: 3.44s\n",
      "4:\ttotal: 16.9s\tremaining: 0us\n",
      "0:\ttotal: 3.21s\tremaining: 12.9s\n",
      "1:\ttotal: 6.6s\tremaining: 9.89s\n",
      "2:\ttotal: 10s\tremaining: 6.68s\n",
      "3:\ttotal: 12.8s\tremaining: 3.2s\n",
      "4:\ttotal: 15.8s\tremaining: 0us\n"
     ]
    }
   ],
   "source": [
    "print(\"Training SVC\")\n",
    "SVC_oof_train, SVC_oof_test = get_oof(svc, x_train_onehot, y_train, x_test_onehot) "
   ]
  },
  {
   "cell_type": "code",
   "execution_count": 33,
   "metadata": {},
   "outputs": [
    {
     "name": "stdout",
     "output_type": "stream",
     "text": [
      "Training is complete\n"
     ]
    }
   ],
   "source": [
    "LR_oof_train, LR_oof_test = get_oof(LR, x_train_onehot, y_train, x_test_onehot)\n",
    "print(\"Training is complete\")"
   ]
  },
  {
   "cell_type": "code",
   "execution_count": null,
   "metadata": {},
   "outputs": [],
   "source": [
    "#second model\n",
    "base_predictions_train = pd.DataFrame( {'catboost1': catboost_1_oof_train.ravel(),\n",
    "                                         'lightgbm_1': lightgbm_1_oof_train.ravel(),\n",
    "                                         'lightgbm_2': lightgbm_2_oof_train.ravel(),\n",
    "                                        'svc': SVC_oof_train.ravel(),\n",
    "                                        'LR' : LR_oof_train.ravel()\n",
    "                                        })\n",
    "base_predictions_train.head()"
   ]
  },
  {
   "cell_type": "code",
   "execution_count": null,
   "metadata": {},
   "outputs": [],
   "source": [
    "data = [\n",
    "    go.Heatmap(\n",
    "        z= base_predictions_train.astype(float).corr().values ,\n",
    "        x=base_predictions_train.columns.values,\n",
    "        y= base_predictions_train.columns.values,\n",
    "          colorscale='Viridis',\n",
    "            showscale=True,\n",
    "            reversescale = True\n",
    "    )\n",
    "]\n",
    "py.iplot(data, filename='labelled-heatmap')"
   ]
  },
  {
   "cell_type": "code",
   "execution_count": null,
   "metadata": {},
   "outputs": [],
   "source": [
    "x_train = np.concatenate((catboost_1_oof_train, \n",
    "                          lightgbm_1_oof_train, \n",
    "                          lightgbm_2_oof_train,\n",
    "                          SVC_oof_train, \n",
    "                          LR_oof_train),\n",
    "                          axis=1)\n",
    "\n",
    "x_test = np.concatenate((catboost_1_oof_test,\n",
    "                        lightgbm_1_oof_test,\n",
    "                        lightgbm_2_oof_test,\n",
    "                        SVC_oof_test\n",
    "                        LR_oof_test, \n",
    "                        axis=1)"
   ]
  },
  {
   "cell_type": "code",
   "execution_count": null,
   "metadata": {},
   "outputs": [],
   "source": [
    "#ranks ?\n",
    "#from scipy.stats import rankdata\n",
    "\n",
    "#linear_preds=rankdata(linear_preds, method='min') \n",
    "#count_preds=rankdata(count_preds, method='min') \n",
    "\n",
    "#linear_preds=linear_preds/float(len(linear_preds))\n",
    "#count_preds=count_preds/float(len(count_preds))"
   ]
  },
  {
   "cell_type": "code",
   "execution_count": null,
   "metadata": {},
   "outputs": [],
   "source": [
    "gbm = xgb.XGBClassifier(\n",
    "                    #learning_rate = 0.02,\n",
    "                 n_estimators= 2000,\n",
    "                 max_depth= 4,\n",
    "                 min_child_weight= 2,\n",
    "                 #gamma=1,\n",
    "                 gamma=0.9,                        \n",
    "                 subsample=0.8,\n",
    "                 colsample_bytree=0.8,\n",
    "                 objective= 'binary:logistic',\n",
    "                 nthread= -1,\n",
    "                 scale_pos_weight=1).fit(x_train, y_train)\n",
    "                predictions = gbm.predict(x_test)"
   ]
  },
  {
   "cell_type": "code",
   "execution_count": null,
   "metadata": {},
   "outputs": [],
   "source": [
    "# Generate Submission File \n",
    "create_submission_file(submission, \"Stacking_1\", {})"
   ]
  },
  {
   "cell_type": "code",
   "execution_count": null,
   "metadata": {},
   "outputs": [],
   "source": []
  },
  {
   "cell_type": "markdown",
   "metadata": {},
   "source": [
    "# SVM"
   ]
  },
  {
   "cell_type": "code",
   "execution_count": null,
   "metadata": {},
   "outputs": [],
   "source": [
    "from sklearn import svm, model_selection\n",
    "\n",
    "def svc_param_selection(X, y, nfolds):\n",
    "    Cs = [0.001, 0.01, 0.1, 1, 10]\n",
    "    param_grid = {'C': Cs}\n",
    "    grid_search = model_selection.GridSearchCV(svm.LinearSVC(), param_grid, cv=nfolds)\n",
    "    grid_search.fit(X, y)\n",
    "    grid_search.best_params_\n",
    "    return grid_search.best_params_"
   ]
  },
  {
   "cell_type": "code",
   "execution_count": null,
   "metadata": {},
   "outputs": [],
   "source": [
    "svc_param_selection(x_train_onehot, y_train, 3)"
   ]
  },
  {
   "cell_type": "code",
   "execution_count": null,
   "metadata": {},
   "outputs": [],
   "source": []
  }
 ],
 "metadata": {
  "kernelspec": {
   "display_name": "Python [conda env:dsc_hs]",
   "language": "python",
   "name": "conda-env-dsc_hs-py"
  },
  "language_info": {
   "codemirror_mode": {
    "name": "ipython",
    "version": 3
   },
   "file_extension": ".py",
   "mimetype": "text/x-python",
   "name": "python",
   "nbconvert_exporter": "python",
   "pygments_lexer": "ipython3",
   "version": "3.6.6"
  }
 },
 "nbformat": 4,
 "nbformat_minor": 2
}
