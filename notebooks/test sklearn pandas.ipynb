{
 "cells": [
  {
   "cell_type": "code",
   "execution_count": 2,
   "metadata": {
    "collapsed": true
   },
   "outputs": [],
   "source": [
    ">>> from sklearn_pandas import DataFrameMapper, cross_val_score"
   ]
  },
  {
   "cell_type": "code",
   "execution_count": 3,
   "metadata": {
    "collapsed": true
   },
   "outputs": [],
   "source": [
    ">>> import pandas as pd\n",
    ">>> import numpy as np\n",
    ">>> import sklearn.preprocessing, sklearn.decomposition, \\\n",
    "...     sklearn.linear_model, sklearn.pipeline, sklearn.metrics\n",
    ">>> from sklearn.feature_extraction.text import CountVectorizer"
   ]
  },
  {
   "cell_type": "code",
   "execution_count": 18,
   "metadata": {
    "collapsed": true
   },
   "outputs": [],
   "source": [
    ">>> data = pd.DataFrame({'pet':      ['cat', 'dog', 'dog', 'fish', 'cat', np.nan, 'cat', 'fish'],\n",
    "...                      'children': [4., 6, 3, 3, 2, 3, 5, 4],\n",
    "...                      'salary':   [90., 24, 44, 27, 32, 59, 36, 27]})"
   ]
  },
  {
   "cell_type": "code",
   "execution_count": 19,
   "metadata": {},
   "outputs": [
    {
     "data": {
      "text/html": [
       "<div>\n",
       "<style>\n",
       "    .dataframe thead tr:only-child th {\n",
       "        text-align: right;\n",
       "    }\n",
       "\n",
       "    .dataframe thead th {\n",
       "        text-align: left;\n",
       "    }\n",
       "\n",
       "    .dataframe tbody tr th {\n",
       "        vertical-align: top;\n",
       "    }\n",
       "</style>\n",
       "<table border=\"1\" class=\"dataframe\">\n",
       "  <thead>\n",
       "    <tr style=\"text-align: right;\">\n",
       "      <th></th>\n",
       "      <th>children</th>\n",
       "      <th>pet</th>\n",
       "      <th>salary</th>\n",
       "    </tr>\n",
       "  </thead>\n",
       "  <tbody>\n",
       "    <tr>\n",
       "      <th>0</th>\n",
       "      <td>4.0</td>\n",
       "      <td>cat</td>\n",
       "      <td>90.0</td>\n",
       "    </tr>\n",
       "    <tr>\n",
       "      <th>1</th>\n",
       "      <td>6.0</td>\n",
       "      <td>dog</td>\n",
       "      <td>24.0</td>\n",
       "    </tr>\n",
       "    <tr>\n",
       "      <th>2</th>\n",
       "      <td>3.0</td>\n",
       "      <td>dog</td>\n",
       "      <td>44.0</td>\n",
       "    </tr>\n",
       "    <tr>\n",
       "      <th>3</th>\n",
       "      <td>3.0</td>\n",
       "      <td>fish</td>\n",
       "      <td>27.0</td>\n",
       "    </tr>\n",
       "    <tr>\n",
       "      <th>4</th>\n",
       "      <td>2.0</td>\n",
       "      <td>cat</td>\n",
       "      <td>32.0</td>\n",
       "    </tr>\n",
       "    <tr>\n",
       "      <th>5</th>\n",
       "      <td>3.0</td>\n",
       "      <td>NaN</td>\n",
       "      <td>59.0</td>\n",
       "    </tr>\n",
       "    <tr>\n",
       "      <th>6</th>\n",
       "      <td>5.0</td>\n",
       "      <td>cat</td>\n",
       "      <td>36.0</td>\n",
       "    </tr>\n",
       "    <tr>\n",
       "      <th>7</th>\n",
       "      <td>4.0</td>\n",
       "      <td>fish</td>\n",
       "      <td>27.0</td>\n",
       "    </tr>\n",
       "  </tbody>\n",
       "</table>\n",
       "</div>"
      ],
      "text/plain": [
       "   children   pet  salary\n",
       "0       4.0   cat    90.0\n",
       "1       6.0   dog    24.0\n",
       "2       3.0   dog    44.0\n",
       "3       3.0  fish    27.0\n",
       "4       2.0   cat    32.0\n",
       "5       3.0   NaN    59.0\n",
       "6       5.0   cat    36.0\n",
       "7       4.0  fish    27.0"
      ]
     },
     "execution_count": 19,
     "metadata": {},
     "output_type": "execute_result"
    }
   ],
   "source": [
    "data"
   ]
  },
  {
   "cell_type": "code",
   "execution_count": 12,
   "metadata": {
    "collapsed": true
   },
   "outputs": [],
   "source": [
    "from sklearn_pandas import CategoricalImputer"
   ]
  },
  {
   "cell_type": "code",
   "execution_count": 28,
   "metadata": {
    "collapsed": true
   },
   "outputs": [],
   "source": [
    ">>> mapper = DataFrameMapper([\n",
    "...     ('pet', [CategoricalImputer(), sklearn.preprocessing.LabelBinarizer()]),\n",
    "...     (['children'], sklearn.preprocessing.StandardScaler())\n",
    "... ])"
   ]
  },
  {
   "cell_type": "code",
   "execution_count": 29,
   "metadata": {},
   "outputs": [
    {
     "data": {
      "text/plain": [
       "array([[ 1.        ,  0.        ,  0.        ,  0.20851441],\n",
       "       [ 0.        ,  1.        ,  0.        ,  1.87662973],\n",
       "       [ 0.        ,  1.        ,  0.        , -0.62554324],\n",
       "       [ 0.        ,  0.        ,  1.        , -0.62554324],\n",
       "       [ 1.        ,  0.        ,  0.        , -1.4596009 ],\n",
       "       [ 1.        ,  0.        ,  0.        , -0.62554324],\n",
       "       [ 1.        ,  0.        ,  0.        ,  1.04257207],\n",
       "       [ 0.        ,  0.        ,  1.        ,  0.20851441]])"
      ]
     },
     "execution_count": 29,
     "metadata": {},
     "output_type": "execute_result"
    }
   ],
   "source": [
    "mapper.fit_transform(data)"
   ]
  },
  {
   "cell_type": "code",
   "execution_count": null,
   "metadata": {
    "collapsed": true
   },
   "outputs": [],
   "source": []
  },
  {
   "cell_type": "code",
   "execution_count": 50,
   "metadata": {
    "collapsed": true
   },
   "outputs": [],
   "source": [
    "train = pd.read_pickle('../data/merged_data/train.pkl')\n",
    "test = pd.read_pickle('../data/merged_data/test.pkl')"
   ]
  },
  {
   "cell_type": "code",
   "execution_count": 51,
   "metadata": {
    "collapsed": true
   },
   "outputs": [],
   "source": [
    "categoricals = ['INCIDENT_TYPE_ID',\n",
    " 'TYPE_BI',\n",
    " 'MILLESIME',\n",
    " 'PROBLEM_CODE',\n",
    " 'ORIGINE_INCIDENT',\n",
    " 'GRAVITE',\n",
    " 'ORGANISATION_ID',\n",
    " 'TYPE_OCC',\n",
    " 'RACHAT_CODE',\n",
    " 'NATURE_CODE',\n",
    " 'USAGE_LOCAL',\n",
    " 'PAYS',\n",
    " 'TYPE_VOIE',\n",
    " 'STOP_PHONING',\n",
    " 'CODE_GEN_EQUIPEMENT',\n",
    " 'CODE_FONCTION',\n",
    " 'CODE_INSTALLATION',\n",
    " 'CODE_SPECIFICATION',\n",
    " 'CODE_EAU_CHAUDE',\n",
    " 'L1_ORGANISATION_ID',\n",
    " 'L2_ORGANISATION_ID',\n",
    " 'STS_CODE',\n",
    " 'FORMULE']"
   ]
  },
  {
   "cell_type": "code",
   "execution_count": 52,
   "metadata": {},
   "outputs": [
    {
     "data": {
      "text/plain": [
       "[('INCIDENT_TYPE_ID',\n",
       "  [CategoricalImputer(copy=True, missing_values='NaN'),\n",
       "   LabelBinarizer(neg_label=0, pos_label=1, sparse_output=False)]),\n",
       " ('TYPE_BI',\n",
       "  [CategoricalImputer(copy=True, missing_values='NaN'),\n",
       "   LabelBinarizer(neg_label=0, pos_label=1, sparse_output=False)]),\n",
       " ('MILLESIME',\n",
       "  [CategoricalImputer(copy=True, missing_values='NaN'),\n",
       "   LabelBinarizer(neg_label=0, pos_label=1, sparse_output=False)]),\n",
       " ('PROBLEM_CODE',\n",
       "  [CategoricalImputer(copy=True, missing_values='NaN'),\n",
       "   LabelBinarizer(neg_label=0, pos_label=1, sparse_output=False)]),\n",
       " ('ORIGINE_INCIDENT',\n",
       "  [CategoricalImputer(copy=True, missing_values='NaN'),\n",
       "   LabelBinarizer(neg_label=0, pos_label=1, sparse_output=False)]),\n",
       " ('GRAVITE',\n",
       "  [CategoricalImputer(copy=True, missing_values='NaN'),\n",
       "   LabelBinarizer(neg_label=0, pos_label=1, sparse_output=False)]),\n",
       " ('ORGANISATION_ID',\n",
       "  [CategoricalImputer(copy=True, missing_values='NaN'),\n",
       "   LabelBinarizer(neg_label=0, pos_label=1, sparse_output=False)]),\n",
       " ('TYPE_OCC',\n",
       "  [CategoricalImputer(copy=True, missing_values='NaN'),\n",
       "   LabelBinarizer(neg_label=0, pos_label=1, sparse_output=False)]),\n",
       " ('RACHAT_CODE',\n",
       "  [CategoricalImputer(copy=True, missing_values='NaN'),\n",
       "   LabelBinarizer(neg_label=0, pos_label=1, sparse_output=False)]),\n",
       " ('NATURE_CODE',\n",
       "  [CategoricalImputer(copy=True, missing_values='NaN'),\n",
       "   LabelBinarizer(neg_label=0, pos_label=1, sparse_output=False)]),\n",
       " ('USAGE_LOCAL',\n",
       "  [CategoricalImputer(copy=True, missing_values='NaN'),\n",
       "   LabelBinarizer(neg_label=0, pos_label=1, sparse_output=False)]),\n",
       " ('PAYS',\n",
       "  [CategoricalImputer(copy=True, missing_values='NaN'),\n",
       "   LabelBinarizer(neg_label=0, pos_label=1, sparse_output=False)]),\n",
       " ('TYPE_VOIE',\n",
       "  [CategoricalImputer(copy=True, missing_values='NaN'),\n",
       "   LabelBinarizer(neg_label=0, pos_label=1, sparse_output=False)]),\n",
       " ('STOP_PHONING',\n",
       "  [CategoricalImputer(copy=True, missing_values='NaN'),\n",
       "   LabelBinarizer(neg_label=0, pos_label=1, sparse_output=False)]),\n",
       " ('CODE_GEN_EQUIPEMENT',\n",
       "  [CategoricalImputer(copy=True, missing_values='NaN'),\n",
       "   LabelBinarizer(neg_label=0, pos_label=1, sparse_output=False)]),\n",
       " ('CODE_FONCTION',\n",
       "  [CategoricalImputer(copy=True, missing_values='NaN'),\n",
       "   LabelBinarizer(neg_label=0, pos_label=1, sparse_output=False)]),\n",
       " ('CODE_INSTALLATION',\n",
       "  [CategoricalImputer(copy=True, missing_values='NaN'),\n",
       "   LabelBinarizer(neg_label=0, pos_label=1, sparse_output=False)]),\n",
       " ('CODE_SPECIFICATION',\n",
       "  [CategoricalImputer(copy=True, missing_values='NaN'),\n",
       "   LabelBinarizer(neg_label=0, pos_label=1, sparse_output=False)]),\n",
       " ('CODE_EAU_CHAUDE',\n",
       "  [CategoricalImputer(copy=True, missing_values='NaN'),\n",
       "   LabelBinarizer(neg_label=0, pos_label=1, sparse_output=False)]),\n",
       " ('L1_ORGANISATION_ID',\n",
       "  [CategoricalImputer(copy=True, missing_values='NaN'),\n",
       "   LabelBinarizer(neg_label=0, pos_label=1, sparse_output=False)]),\n",
       " ('L2_ORGANISATION_ID',\n",
       "  [CategoricalImputer(copy=True, missing_values='NaN'),\n",
       "   LabelBinarizer(neg_label=0, pos_label=1, sparse_output=False)]),\n",
       " ('STS_CODE',\n",
       "  [CategoricalImputer(copy=True, missing_values='NaN'),\n",
       "   LabelBinarizer(neg_label=0, pos_label=1, sparse_output=False)]),\n",
       " ('FORMULE',\n",
       "  [CategoricalImputer(copy=True, missing_values='NaN'),\n",
       "   LabelBinarizer(neg_label=0, pos_label=1, sparse_output=False)])]"
      ]
     },
     "execution_count": 52,
     "metadata": {},
     "output_type": "execute_result"
    }
   ],
   "source": [
    "from sklearn_pandas import gen_features\n",
    "feature_def = gen_features(\n",
    "     columns=categoricals,\n",
    "     classes=[CategoricalImputer, sklearn.preprocessing.LabelBinarizer]\n",
    " )\n",
    "\n",
    "feature_def"
   ]
  },
  {
   "cell_type": "code",
   "execution_count": 53,
   "metadata": {},
   "outputs": [],
   "source": [
    ">>> mapper = DataFrameMapper(feature_def + \n",
    "...     [(['PRIX_FACTURE'], [sklearn.preprocessing.Imputer(), sklearn.preprocessing.StandardScaler()])])"
   ]
  },
  {
   "cell_type": "code",
   "execution_count": 54,
   "metadata": {},
   "outputs": [
    {
     "data": {
      "text/plain": [
       "array([[  1.00000000e+00,   0.00000000e+00,   0.00000000e+00, ...,\n",
       "          0.00000000e+00,   0.00000000e+00,  -2.49107703e+00],\n",
       "       [  0.00000000e+00,   0.00000000e+00,   1.00000000e+00, ...,\n",
       "          0.00000000e+00,   0.00000000e+00,  -7.18367449e-01],\n",
       "       [  0.00000000e+00,   0.00000000e+00,   1.00000000e+00, ...,\n",
       "          0.00000000e+00,   0.00000000e+00,  -1.26043567e+00],\n",
       "       ..., \n",
       "       [  0.00000000e+00,   0.00000000e+00,   1.00000000e+00, ...,\n",
       "          0.00000000e+00,   0.00000000e+00,  -6.30464495e-01],\n",
       "       [  0.00000000e+00,   0.00000000e+00,   1.00000000e+00, ...,\n",
       "          0.00000000e+00,   0.00000000e+00,  -8.32784074e-16],\n",
       "       [  0.00000000e+00,   0.00000000e+00,   1.00000000e+00, ...,\n",
       "          0.00000000e+00,   0.00000000e+00,   1.30340050e+00]])"
      ]
     },
     "execution_count": 54,
     "metadata": {},
     "output_type": "execute_result"
    }
   ],
   "source": [
    "mapper.fit_transform(test)"
   ]
  },
  {
   "cell_type": "code",
   "execution_count": null,
   "metadata": {
    "collapsed": true
   },
   "outputs": [],
   "source": []
  }
 ],
 "metadata": {
  "kernelspec": {
   "display_name": "Python 3",
   "language": "python",
   "name": "python3"
  },
  "language_info": {
   "codemirror_mode": {
    "name": "ipython",
    "version": 3
   },
   "file_extension": ".py",
   "mimetype": "text/x-python",
   "name": "python",
   "nbconvert_exporter": "python",
   "pygments_lexer": "ipython3",
   "version": "3.6.2"
  }
 },
 "nbformat": 4,
 "nbformat_minor": 2
}
