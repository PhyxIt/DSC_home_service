{
 "cells": [
  {
   "cell_type": "code",
   "execution_count": 1,
   "metadata": {},
   "outputs": [],
   "source": [
    "import pandas as pd\n",
    "import numpy as np\n",
    "import matplotlib.pyplot as plt\n",
    "import seaborn as sns\n",
    "import datetime"
   ]
  },
  {
   "cell_type": "markdown",
   "metadata": {},
   "source": [
    "## Import data"
   ]
  },
  {
   "cell_type": "code",
   "execution_count": 63,
   "metadata": {},
   "outputs": [],
   "source": [
    "data_repo = \"../data/\"\n",
    "IMPORT_PARAMS = {'sep': '|', 'encoding': 'latin-1'}"
   ]
  },
  {
   "cell_type": "code",
   "execution_count": 130,
   "metadata": {},
   "outputs": [],
   "source": [
    "def import_contract_history(file):\n",
    "    date_cols = ['CRE_DATE', 'UPD_DATE', 'DATE_RESILIATION', 'DATE_DEBUT', 'DATE_FIN']\n",
    "    contract_history = pd.read_csv(file, dtype={'NUM_CAMPAGNE': object, 'INSTANCE_ID': object}, parse_dates=date_cols, **IMPORT_PARAMS)\n",
    "\n",
    "    \n",
    "    for c in ['CRE_DATE', 'UPD_DATE']:\n",
    "        contract_history['{}_date'.format(c)] = pd.to_datetime(contract_history[c].map(lambda x: datetime.datetime.date(x)))\n",
    "    \n",
    "    contract_history['NUM_CAMPAGNE'] = contract_history['NUM_CAMPAGNE'].map(lambda x: x if x not in ['N', ''] else \"NAN\")\n",
    "    contract_history.OPTION.fillna(\"NO\", inplace=True)\n",
    "    \n",
    "    useless_variables = [ 'CONTRACT_NUMBER', 'CONTRACT_MODIFICATEUR', 'CRE_DATE', \n",
    "                       'CONDITION_REGLEMENT', 'MOTIF_RESILIATION', 'RENOUVELLEMENT_AGENCE',\n",
    "                       'PRIX_FORMULE', 'PRIX_OPTION', 'NUM_CAMPAGNE', 'DATE_RESILIATION']\n",
    "    \n",
    "    contract_history.drop(useless_variables, axis=1, inplace=True)\n",
    "    \n",
    "    return contract_history\n",
    "\n",
    "def import_equipment(file):\n",
    "    equipment = pd.read_csv(file, dtype={'CODE_POSTAL': object, 'INSTANCE_ID': object, 'ORGANISATION_ID': object}, parse_dates=['INSTALL_DATE', 'RACHAT_DATE'], **IMPORT_PARAMS)\n",
    "    equipment['POINTS_FIDEL'].fillna(0, inplace=True)\n",
    "    equipment['TYPE_VOIE'].fillna('RUE', inplace=True)\n",
    "    equipment['STOP_PHONING'].fillna('N', inplace=True)\n",
    "    \n",
    "    # keep only rachat_code which appears more than 1000 times in the base. replace other by \"AUTRE\"\n",
    "    value_count = equipment.RACHAT_CODE.value_counts()\n",
    "    code_list = value_count.index[value_count.lt(1000)]\n",
    "    equipment.RACHAT_CODE.replace(code_list, \"AUTRE\")\n",
    "    equipment.RACHAT_CODE.fillna(\"NA\", inplace=True)\n",
    "    \n",
    "    equipment.drop(['RACHAT_LIB', 'ESCALIER', 'NUMERO', 'ETAGE', 'RUE', 'VILLE', 'RACHAT_DATE', 'LOCALISATION_ORGANISME', 'COMPLEMENT_RUE', 'LOCATION_ID', 'PARTY_ID_OCC', 'MODELE_LIB', 'MARQUE_CODE'], axis=1, inplace=True)\n",
    "    return equipment\n",
    "\n",
    "def import_organisation(file):\n",
    "    organisation = pd.read_csv(file, dtype={'L2_ORGANISATION_ID': object, 'L2_ORGA_CODE_POSTAL': object, 'L1_ORGANISATION_ID': object, 'CIA': object}, **IMPORT_PARAMS)\n",
    "    useless_variables = ['L1_NAME', 'L2_NAME', 'ADRESSE']\n",
    "    organisation.drop(useless_variables, axis=1, inplace=True)\n",
    "    return organisation\n",
    "\n",
    "def preproc_intervention(data):\n",
    "    data.NB_PASSAGE.fillna(1, inplace=True)\n",
    "    data.PROBLEM_CODE.fillna('NC', inplace=True)\n",
    "    data.ORIGINE_INCIDENT.fillna('NAN', inplace=True)\n",
    "    \n",
    "    origines = ['Téléphone', 'Automatique', 'Mail', 'Courrier', 'Répondeur','Venue client', 'NAN', 'Internet', 'Télé-alarme']\n",
    "    #'FAX' modality appears in test set but not in train\n",
    "    data.loc[~data[\"ORIGINE_INCIDENT\"].isin(origines), \"ORIGINE_INCIDENT\"] = \"NAN\"\n",
    "    \n",
    "    data.COMMENTAIRE_BI.fillna('.', inplace=True)\n",
    "    data.RESOURCE_ID.fillna(0, inplace=True)\n",
    "    \n",
    "    missing_millesime = data.MILLESIME.isnull()\n",
    "    data.loc[missing_millesime, 'MILLESIME'] = data.loc[missing_millesime, 'CRE_DATE_GZL'].apply(lambda x: x.year)\n",
    "    \n",
    "    data.drop(['PROBLEM_DESC', 'SS_TR_FLAG'], axis=1, inplace=True)\n",
    "    data.drop_duplicates(inplace=True)\n",
    "    \n",
    "    data['MILLESIME'] = data['MILLESIME'].astype(str)\n",
    "    data['RESOURCE_ID'] = data['RESOURCE_ID'].astype(str)\n",
    "\n",
    "def merge_data(data_, \n",
    "               equipement_df, \n",
    "               orga_df, \n",
    "               contrat_history_df, \n",
    "               nature_code_eau_chaude, \n",
    "               nature_code_energie, \n",
    "               nature_code_fonction, \n",
    "               nature_code_installation, \n",
    "               nature_code_specification):\n",
    "    \n",
    "    data = data_.merge(equipement_df, how='left', on='INSTANCE_ID').merge(orga_df, how='left', left_on='ORGANISATION_ID', right_on='L2_ORGANISATION_ID')\n",
    "    contrat_history_s = data[['INCIDENT_NUMBER', 'INSTANCE_ID','CRE_DATE_GZL']].merge(contrat_history_df).query('CRE_DATE_GZL>=UPD_DATE_date')\n",
    "    contrat_history_s = contrat_history_s.sort_values(['INCIDENT_NUMBER', 'UPD_DATE'], ascending=[True,False]).drop_duplicates(keep='first', subset=['INCIDENT_NUMBER'])\n",
    "    data = data.merge(contrat_history_s, how='left').merge(nature_code_eau_chaude, how='left')\n",
    "    data = data.merge(nature_code_energie, how='left').merge(nature_code_fonction, how='left')\n",
    "    data = data.merge(nature_code_installation, how='left').merge(nature_code_specification, how='left')\n",
    "    \n",
    "    drop_columns = ['CRE_DATE_date', 'UPD_DATE_date']\n",
    "    data.drop(drop_columns, axis=1, inplace=True)\n",
    "    \n",
    "    print(data.shape[0], data.INCIDENT_NUMBER.nunique(), data.INSTANCE_ID.nunique())\n",
    "    return data\n",
    "\n",
    "def import_all(file, history=False):\n",
    "    contract_histo = import_contract_history(data_repo + 'contract_history.csv')\n",
    "    equipment = import_equipment(data_repo + 'equipment.csv')\n",
    "    organisation = import_organisation(data_repo + 'organisation.csv')\n",
    "    \n",
    "    code_eau_chaude = pd.read_csv(data_repo + 'nature_code_eau_chaude.csv', sep='|')\n",
    "    code_energie = pd.read_csv(data_repo + 'nature_code_energie.csv', sep='|')\n",
    "    code_fonction = pd.read_csv(data_repo + 'nature_code_fonction.csv', sep='|')\n",
    "    code_installation = pd.read_csv(data_repo + 'nature_code_installation.csv', sep='|')\n",
    "    code_specification = pd.read_csv(data_repo + 'nature_code_specification.csv', sep='|')\n",
    "    \n",
    "    date_cols = ['CRE_DATE_GZL', 'SCHEDULED_START_DATE', 'SCHEDULED_END_DATE']\n",
    "    \n",
    "    if history: \n",
    "        merged_list = []\n",
    "        chunksize = 10 ** 6\n",
    "        date_cols += ['ACTUAL_START_DATE', 'ACTUAL_END_DATE']\n",
    "        \n",
    "        for chunk in pd.read_csv(file, \n",
    "                                 sep='|', \n",
    "                                 encoding='latin-1', \n",
    "                                 dtype={  'INSTANCE_ID': object, \n",
    "                                            'INCIDENT_NUMBER': object, \n",
    "                                            'INCIDENT_TYPE_ID': object, \n",
    "                                            'NUM_CAMPAGNE': object,\n",
    "                                            'MILLESIME': object,\n",
    "                                            'RESOURCE_ID': object,\n",
    "                                            'AUTEUR_INCIDENT': object}, \n",
    "                                 parse_dates=date_cols, \n",
    "                                 chunksize=chunksize):\n",
    "            preproc_intervention(chunk)\n",
    "        \n",
    "            merged_list.append(merge_data(chunk, \n",
    "                                          equipment, \n",
    "                                          organisation, \n",
    "                                          contract_histo,\n",
    "                                          code_eau_chaude,\n",
    "                                          code_energie,\n",
    "                                          code_fonction,\n",
    "                                          code_installation,\n",
    "                                          code_specification))\n",
    "    \n",
    "        return pd.concat(merged_list)\n",
    "    \n",
    "    else:    \n",
    "        intervention = pd.read_csv(file, \n",
    "                                   sep='|', \n",
    "                                   encoding='latin-1', \n",
    "                                   dtype={'INSTANCE_ID': object, \n",
    "                                        'INCIDENT_NUMBER': object, \n",
    "                                        'INCIDENT_TYPE_ID': object, \n",
    "                                        'NUM_CAMPAGNE': object,\n",
    "                                        'MILLESIME': object,\n",
    "                                        'RESOURCE_ID': object,\n",
    "                                        'AUTEUR_INCIDENT': object},\n",
    "                                   parse_dates=date_cols)\n",
    "        \n",
    "        preproc_intervention(intervention)\n",
    "\n",
    "        return merge_data(intervention, \n",
    "                          equipment, \n",
    "                          organisation, \n",
    "                          contract_histo,\n",
    "                          code_eau_chaude,\n",
    "                          code_energie,\n",
    "                          code_fonction,\n",
    "                          code_installation,\n",
    "                          code_specification)"
   ]
  },
  {
   "cell_type": "code",
   "execution_count": 131,
   "metadata": {},
   "outputs": [],
   "source": [
    "# Need to be improved to be usable\n",
    "# warning: delete created variables before using\n",
    "\n",
    "def create_target_for_history(history):\n",
    "    history.sort_values(['INSTANCE_ID', 'CRE_DATE_GZL', 'INCIDENT_NUMBER'], inplace=True)\n",
    "    groups = history.groupby('INSTANCE_ID')\n",
    "    \n",
    "    get_time_delta = lambda s: s.diff(1).shift(-1)\n",
    "    history['time_delta'] = groups.ACTUAL_START_DATE.transform(get_time_delta)\n",
    "    history['next_incident_type'] = groups.INCIDENT_TYPE_NAME.transform(lambda s: s.shift(-1))\n",
    "    history['target_test'] = history['time_delta'].between(pd.Timedelta('1 days'), pd.Timedelta('182 days')) \\\n",
    "                                        & (history['next_incident_type'] != 'Entretien') \\\n",
    "                                        & history['MOTIF_ANNULATION_CODE'].isnull()\n",
    "            \n",
    "    return history\n",
    "\n",
    "def add_train_target_value_in_history(history, train):\n",
    "    history_copy = history.copy()\n",
    "    train_copy = train.copy()\n",
    "    \n",
    "    #train_copy.reset_index(inplace=True)\n",
    "    train_copy.set_index(['INSTANCE_ID', 'CRE_DATE_GZL', 'INCIDENT_NUMBER'], inplace=True)\n",
    "\n",
    "    #history_copy.reset_index(inplace=True)\n",
    "    history_copy.set_index(['INSTANCE_ID', 'CRE_DATE_GZL', 'INCIDENT_NUMBER'], inplace=True)\n",
    "\n",
    "    train_copy.sort_index(inplace=True)\n",
    "    history_copy.sort_index(inplace=True)\n",
    "\n",
    "    history_copy = history_copy.join(train_copy['target'], how='left')\n",
    "    history_copy.reset_index(inplace=True)\n",
    "    return history_copy"
   ]
  },
  {
   "cell_type": "code",
   "execution_count": 132,
   "metadata": {},
   "outputs": [
    {
     "name": "stdout",
     "output_type": "stream",
     "text": [
      "1048030 1048030 462663\n"
     ]
    }
   ],
   "source": [
    "train = import_all(data_repo + 'intervention_train.csv')"
   ]
  },
  {
   "cell_type": "code",
   "execution_count": 133,
   "metadata": {},
   "outputs": [],
   "source": [
    "#train.to_csv('../data/merged_data/train.csv')\n",
    "train.to_pickle('../data/merged_data/train.pkl')"
   ]
  },
  {
   "cell_type": "code",
   "execution_count": 134,
   "metadata": {},
   "outputs": [
    {
     "name": "stdout",
     "output_type": "stream",
     "text": [
      "<class 'pandas.core.frame.DataFrame'>\n",
      "Int64Index: 1048030 entries, 0 to 1048029\n",
      "Data columns (total 56 columns):\n",
      "INSTANCE_ID             1048030 non-null object\n",
      "INCIDENT_NUMBER         1048030 non-null object\n",
      "INCIDENT_TYPE_ID        1048030 non-null object\n",
      "INCIDENT_TYPE_NAME      1048030 non-null object\n",
      "TYPE_BI                 1048030 non-null object\n",
      "NB_PASSAGE              1048030 non-null float64\n",
      "MILLESIME               1048030 non-null object\n",
      "PROBLEM_CODE            1048030 non-null object\n",
      "AUTEUR_INCIDENT         1048030 non-null object\n",
      "ORIGINE_INCIDENT        1048030 non-null object\n",
      "COMMENTAIRE_BI          1048030 non-null object\n",
      "TYPE_UT                 1048030 non-null object\n",
      "GRAVITE                 1048030 non-null object\n",
      "RESOURCE_ID             1048030 non-null object\n",
      "SCHEDULED_START_DATE    1048030 non-null datetime64[ns]\n",
      "SCHEDULED_END_DATE      1048030 non-null datetime64[ns]\n",
      "CRE_DATE_GZL            1048030 non-null datetime64[ns]\n",
      "target                  1048030 non-null int64\n",
      "ORGANISATION_ID         1048030 non-null object\n",
      "TYPE_OCC                1048030 non-null object\n",
      "INSTALL_DATE            1048030 non-null datetime64[ns]\n",
      "RACHAT_CODE             1048030 non-null object\n",
      "NATURE_CODE             1048030 non-null object\n",
      "MARQUE_LIB              1048025 non-null object\n",
      "MODELE_CODE             1048029 non-null object\n",
      "USAGE_LOCAL             1048023 non-null object\n",
      "CODE_POSTAL             1048030 non-null object\n",
      "PAYS                    1048030 non-null object\n",
      "TYPE_VOIE               1048030 non-null object\n",
      "POINTS_FIDEL            1048030 non-null float64\n",
      "STOP_PHONING            1048030 non-null object\n",
      "CODE_GEN_EQUIPEMENT     1048030 non-null object\n",
      "CODE_FONCTION           1048030 non-null object\n",
      "CODE_ENERGIE            1047906 non-null object\n",
      "CODE_INSTALLATION       1040489 non-null object\n",
      "CODE_SPECIFICATION      1038372 non-null object\n",
      "CODE_EAU_CHAUDE         1029332 non-null object\n",
      "L1_ORGANISATION_ID      1048025 non-null object\n",
      "L2_ORGANISATION_ID      1048025 non-null object\n",
      "L2_ORGA_CODE_POSTAL     1048025 non-null object\n",
      "L2_ORGA_VILLE           1048025 non-null object\n",
      "CIA                     1048025 non-null object\n",
      "ORGANISATION_CODE       1048025 non-null object\n",
      "STS_CODE                1048030 non-null object\n",
      "UPD_DATE                1048030 non-null datetime64[ns]\n",
      "DATE_DEBUT              1048030 non-null datetime64[ns]\n",
      "DATE_FIN                1048030 non-null datetime64[ns]\n",
      "FORMULE                 1048030 non-null object\n",
      "OPTION                  1048030 non-null object\n",
      "CONTRAT_TARIF           1048030 non-null int64\n",
      "PRIX_FACTURE            1048030 non-null int64\n",
      "EAU_CHAUDE              1029332 non-null object\n",
      "ENERGIE                 1047906 non-null object\n",
      "FONCTION                1042002 non-null object\n",
      "INSTALLATION            1040489 non-null object\n",
      "SPECIFICATION           1038372 non-null object\n",
      "dtypes: datetime64[ns](7), float64(2), int64(3), object(44)\n",
      "memory usage: 455.8+ MB\n"
     ]
    }
   ],
   "source": [
    "train.info()"
   ]
  },
  {
   "cell_type": "code",
   "execution_count": 135,
   "metadata": {},
   "outputs": [
    {
     "name": "stdout",
     "output_type": "stream",
     "text": [
      "226770 226770 226770\n"
     ]
    }
   ],
   "source": [
    "test = import_all(data_repo + 'intervention_test.csv')"
   ]
  },
  {
   "cell_type": "code",
   "execution_count": 136,
   "metadata": {},
   "outputs": [],
   "source": [
    "#test.to_csv('../data/merged_data/test.csv')\n",
    "test.to_pickle('../data/merged_data/test.pkl')"
   ]
  },
  {
   "cell_type": "code",
   "execution_count": 11,
   "metadata": {},
   "outputs": [
    {
     "name": "stdout",
     "output_type": "stream",
     "text": [
      "1000000 1000000 526538\n",
      "1000000 1000000 526139\n",
      "1000000 1000000 526484\n",
      "1000000 1000000 526741\n",
      "1000000 1000000 526670\n",
      "171308 171308 150181\n"
     ]
    }
   ],
   "source": [
    "#Memory error, try to improve code or do it in several slices\n",
    "history = import_all(data_repo + 'intervention_history.csv', history=True)"
   ]
  },
  {
   "cell_type": "code",
   "execution_count": 12,
   "metadata": {},
   "outputs": [],
   "source": [
    "history.to_csv('../data/merged_data/history.csv')"
   ]
  },
  {
   "cell_type": "markdown",
   "metadata": {},
   "source": [
    "## Recreate targetby training value when possible and computed value otherwize"
   ]
  },
  {
   "cell_type": "code",
   "execution_count": 13,
   "metadata": {},
   "outputs": [],
   "source": [
    "#history_extract = history.iloc[:100000]\n",
    "#history_extract = create_target_for_history(history_extract)\n",
    "#history_extract = add_train_target_value_in_history(history_extract, train)"
   ]
  },
  {
   "cell_type": "code",
   "execution_count": 20,
   "metadata": {},
   "outputs": [],
   "source": [
    "history = create_target_for_history(history)"
   ]
  },
  {
   "cell_type": "code",
   "execution_count": 19,
   "metadata": {},
   "outputs": [],
   "source": [
    "history = add_train_target_value_in_history(history, train)"
   ]
  },
  {
   "cell_type": "code",
   "execution_count": 22,
   "metadata": {},
   "outputs": [
    {
     "data": {
      "text/html": [
       "<div>\n",
       "<style scoped>\n",
       "    .dataframe tbody tr th:only-of-type {\n",
       "        vertical-align: middle;\n",
       "    }\n",
       "\n",
       "    .dataframe tbody tr th {\n",
       "        vertical-align: top;\n",
       "    }\n",
       "\n",
       "    .dataframe thead th {\n",
       "        text-align: right;\n",
       "    }\n",
       "</style>\n",
       "<table border=\"1\" class=\"dataframe\">\n",
       "  <thead>\n",
       "    <tr style=\"text-align: right;\">\n",
       "      <th></th>\n",
       "      <th>INSTANCE_ID</th>\n",
       "      <th>CRE_DATE_GZL</th>\n",
       "      <th>INCIDENT_NUMBER</th>\n",
       "      <th>DATE_SAISIE_RETOUR</th>\n",
       "      <th>INCIDENT_TYPE_ID</th>\n",
       "      <th>INCIDENT_TYPE_NAME</th>\n",
       "      <th>INCIDENT_STATUS_ID</th>\n",
       "      <th>INCIDENT_STATUS_NAME</th>\n",
       "      <th>INCIDENT_STATUS_CODE</th>\n",
       "      <th>INCIDENT_CLOSED_FLAG</th>\n",
       "      <th>...</th>\n",
       "      <th>UPD_DATE_date</th>\n",
       "      <th>EAU_CHAUDE</th>\n",
       "      <th>ENERGIE</th>\n",
       "      <th>FONCTION</th>\n",
       "      <th>INSTALLATION</th>\n",
       "      <th>SPECIFICATION</th>\n",
       "      <th>target</th>\n",
       "      <th>time_delta</th>\n",
       "      <th>next_incident_type</th>\n",
       "      <th>target_test</th>\n",
       "    </tr>\n",
       "  </thead>\n",
       "  <tbody>\n",
       "    <tr>\n",
       "      <th>0</th>\n",
       "      <td>10003</td>\n",
       "      <td>2014-03-10</td>\n",
       "      <td>50838796</td>\n",
       "      <td>2014-04-11</td>\n",
       "      <td>10005</td>\n",
       "      <td>Entretien</td>\n",
       "      <td>2</td>\n",
       "      <td>1-Réalisé</td>\n",
       "      <td>CLOSED</td>\n",
       "      <td>Y</td>\n",
       "      <td>...</td>\n",
       "      <td>NaT</td>\n",
       "      <td>-</td>\n",
       "      <td>FIOUL</td>\n",
       "      <td>CHAUDIERE SOL MECANIQUE</td>\n",
       "      <td>-</td>\n",
       "      <td>TIRAGE NATUREL</td>\n",
       "      <td>NaN</td>\n",
       "      <td>212 days</td>\n",
       "      <td>Dépannage</td>\n",
       "      <td>False</td>\n",
       "    </tr>\n",
       "    <tr>\n",
       "      <th>1</th>\n",
       "      <td>10003</td>\n",
       "      <td>2014-11-05</td>\n",
       "      <td>57407214</td>\n",
       "      <td>2014-11-14</td>\n",
       "      <td>10003</td>\n",
       "      <td>Dépannage</td>\n",
       "      <td>51</td>\n",
       "      <td>3-A revoir</td>\n",
       "      <td>WAITING</td>\n",
       "      <td>Y</td>\n",
       "      <td>...</td>\n",
       "      <td>NaT</td>\n",
       "      <td>-</td>\n",
       "      <td>FIOUL</td>\n",
       "      <td>CHAUDIERE SOL MECANIQUE</td>\n",
       "      <td>-</td>\n",
       "      <td>TIRAGE NATUREL</td>\n",
       "      <td>NaN</td>\n",
       "      <td>213 days</td>\n",
       "      <td>Entretien</td>\n",
       "      <td>False</td>\n",
       "    </tr>\n",
       "    <tr>\n",
       "      <th>2</th>\n",
       "      <td>10003</td>\n",
       "      <td>2015-04-22</td>\n",
       "      <td>62597704</td>\n",
       "      <td>2015-06-16</td>\n",
       "      <td>10005</td>\n",
       "      <td>Entretien</td>\n",
       "      <td>2</td>\n",
       "      <td>1-Réalisé</td>\n",
       "      <td>CLOSED</td>\n",
       "      <td>Y</td>\n",
       "      <td>...</td>\n",
       "      <td>NaT</td>\n",
       "      <td>-</td>\n",
       "      <td>FIOUL</td>\n",
       "      <td>CHAUDIERE SOL MECANIQUE</td>\n",
       "      <td>-</td>\n",
       "      <td>TIRAGE NATUREL</td>\n",
       "      <td>NaN</td>\n",
       "      <td>270 days</td>\n",
       "      <td>Dépannage+Entretien</td>\n",
       "      <td>False</td>\n",
       "    </tr>\n",
       "    <tr>\n",
       "      <th>3</th>\n",
       "      <td>10003</td>\n",
       "      <td>2016-03-03</td>\n",
       "      <td>71920326</td>\n",
       "      <td>2016-03-07</td>\n",
       "      <td>10004</td>\n",
       "      <td>Dépannage+Entretien</td>\n",
       "      <td>110</td>\n",
       "      <td>2-Absent</td>\n",
       "      <td>NaN</td>\n",
       "      <td>Y</td>\n",
       "      <td>...</td>\n",
       "      <td>NaT</td>\n",
       "      <td>-</td>\n",
       "      <td>FIOUL</td>\n",
       "      <td>CHAUDIERE SOL MECANIQUE</td>\n",
       "      <td>-</td>\n",
       "      <td>TIRAGE NATUREL</td>\n",
       "      <td>NaN</td>\n",
       "      <td>0 days</td>\n",
       "      <td>Entretien</td>\n",
       "      <td>False</td>\n",
       "    </tr>\n",
       "    <tr>\n",
       "      <th>4</th>\n",
       "      <td>10003</td>\n",
       "      <td>2016-03-04</td>\n",
       "      <td>71950200</td>\n",
       "      <td>2016-03-07</td>\n",
       "      <td>10005</td>\n",
       "      <td>Entretien</td>\n",
       "      <td>2</td>\n",
       "      <td>1-Réalisé</td>\n",
       "      <td>CLOSED</td>\n",
       "      <td>Y</td>\n",
       "      <td>...</td>\n",
       "      <td>NaT</td>\n",
       "      <td>-</td>\n",
       "      <td>FIOUL</td>\n",
       "      <td>CHAUDIERE SOL MECANIQUE</td>\n",
       "      <td>-</td>\n",
       "      <td>TIRAGE NATUREL</td>\n",
       "      <td>NaN</td>\n",
       "      <td>NaT</td>\n",
       "      <td>Entretien</td>\n",
       "      <td>False</td>\n",
       "    </tr>\n",
       "  </tbody>\n",
       "</table>\n",
       "<p>5 rows × 86 columns</p>\n",
       "</div>"
      ],
      "text/plain": [
       "   INSTANCE_ID CRE_DATE_GZL  INCIDENT_NUMBER DATE_SAISIE_RETOUR  \\\n",
       "0        10003   2014-03-10         50838796         2014-04-11   \n",
       "1        10003   2014-11-05         57407214         2014-11-14   \n",
       "2        10003   2015-04-22         62597704         2015-06-16   \n",
       "3        10003   2016-03-03         71920326         2016-03-07   \n",
       "4        10003   2016-03-04         71950200         2016-03-07   \n",
       "\n",
       "   INCIDENT_TYPE_ID   INCIDENT_TYPE_NAME  INCIDENT_STATUS_ID  \\\n",
       "0             10005            Entretien                   2   \n",
       "1             10003            Dépannage                  51   \n",
       "2             10005            Entretien                   2   \n",
       "3             10004  Dépannage+Entretien                 110   \n",
       "4             10005            Entretien                   2   \n",
       "\n",
       "  INCIDENT_STATUS_NAME INCIDENT_STATUS_CODE INCIDENT_CLOSED_FLAG     ...      \\\n",
       "0            1-Réalisé               CLOSED                    Y     ...       \n",
       "1           3-A revoir              WAITING                    Y     ...       \n",
       "2            1-Réalisé               CLOSED                    Y     ...       \n",
       "3             2-Absent                  NaN                    Y     ...       \n",
       "4            1-Réalisé               CLOSED                    Y     ...       \n",
       "\n",
       "  UPD_DATE_date  EAU_CHAUDE ENERGIE                 FONCTION  INSTALLATION  \\\n",
       "0           NaT           -   FIOUL  CHAUDIERE SOL MECANIQUE             -   \n",
       "1           NaT           -   FIOUL  CHAUDIERE SOL MECANIQUE             -   \n",
       "2           NaT           -   FIOUL  CHAUDIERE SOL MECANIQUE             -   \n",
       "3           NaT           -   FIOUL  CHAUDIERE SOL MECANIQUE             -   \n",
       "4           NaT           -   FIOUL  CHAUDIERE SOL MECANIQUE             -   \n",
       "\n",
       "    SPECIFICATION target time_delta   next_incident_type target_test  \n",
       "0  TIRAGE NATUREL    NaN   212 days            Dépannage       False  \n",
       "1  TIRAGE NATUREL    NaN   213 days            Entretien       False  \n",
       "2  TIRAGE NATUREL    NaN   270 days  Dépannage+Entretien       False  \n",
       "3  TIRAGE NATUREL    NaN     0 days            Entretien       False  \n",
       "4  TIRAGE NATUREL    NaN        NaT            Entretien       False  \n",
       "\n",
       "[5 rows x 86 columns]"
      ]
     },
     "execution_count": 22,
     "metadata": {},
     "output_type": "execute_result"
    }
   ],
   "source": [
    "history.head()"
   ]
  },
  {
   "cell_type": "code",
   "execution_count": 24,
   "metadata": {},
   "outputs": [],
   "source": [
    "target_vs_created = history.loc[~history.target.isnull(), ['target', 'target_test']]"
   ]
  },
  {
   "cell_type": "code",
   "execution_count": 25,
   "metadata": {},
   "outputs": [],
   "source": [
    "from sklearn.metrics import confusion_matrix"
   ]
  },
  {
   "cell_type": "code",
   "execution_count": 26,
   "metadata": {},
   "outputs": [
    {
     "data": {
      "text/plain": [
       "array([[765326,  22990],\n",
       "       [ 97832, 161882]])"
      ]
     },
     "execution_count": 26,
     "metadata": {},
     "output_type": "execute_result"
    }
   ],
   "source": [
    "confusion_matrix(target_vs_created['target'], target_vs_created['target_test'])"
   ]
  },
  {
   "cell_type": "markdown",
   "metadata": {
    "collapsed": true
   },
   "source": [
    "Target test is not perfect but good enough for the moment.<br>\n",
    "No need to spend more time on it as long as I am not sure I can use history (i.e. do other tables only have obs from training or the full data ?)\n",
    "\n",
    "If improvment is needed: \n",
    "- delete last obs of each instance_id\n",
    "- check for better handling of cancelled obs (mb take them out before computing time delta)"
   ]
  },
  {
   "cell_type": "markdown",
   "metadata": {},
   "source": [
    "### Equipment"
   ]
  },
  {
   "cell_type": "code",
   "execution_count": 61,
   "metadata": {},
   "outputs": [],
   "source": [
    "contract = import_contract_history('../data/contract_history.csv')"
   ]
  },
  {
   "cell_type": "code",
   "execution_count": 62,
   "metadata": {},
   "outputs": [
    {
     "name": "stdout",
     "output_type": "stream",
     "text": [
      "<class 'pandas.core.frame.DataFrame'>\n",
      "RangeIndex: 4721096 entries, 0 to 4721095\n",
      "Data columns (total 11 columns):\n",
      "STS_CODE         object\n",
      "UPD_DATE         datetime64[ns]\n",
      "DATE_DEBUT       datetime64[ns]\n",
      "DATE_FIN         datetime64[ns]\n",
      "INSTANCE_ID      int64\n",
      "FORMULE          object\n",
      "OPTION           object\n",
      "CONTRAT_TARIF    int64\n",
      "PRIX_FACTURE     int64\n",
      "CRE_DATE_date    datetime64[ns]\n",
      "UPD_DATE_date    datetime64[ns]\n",
      "dtypes: datetime64[ns](5), int64(3), object(3)\n",
      "memory usage: 396.2+ MB\n"
     ]
    }
   ],
   "source": [
    "contract.info()"
   ]
  },
  {
   "cell_type": "code",
   "execution_count": 139,
   "metadata": {},
   "outputs": [
    {
     "data": {
      "text/plain": [
       "Téléphone       673242\n",
       "Automatique     372626\n",
       "Répondeur          851\n",
       "Courrier           466\n",
       "Mail               263\n",
       "Venue client       262\n",
       "NAN                253\n",
       "Internet            57\n",
       "Télé-alarme         10\n",
       "Name: ORIGINE_INCIDENT, dtype: int64"
      ]
     },
     "execution_count": 139,
     "metadata": {},
     "output_type": "execute_result"
    }
   ],
   "source": [
    "#etage quality is not usable\n",
    "train.ORIGINE_INCIDENT.value_counts()"
   ]
  },
  {
   "cell_type": "code",
   "execution_count": 140,
   "metadata": {},
   "outputs": [
    {
     "data": {
      "text/plain": [
       "array(['Téléphone', 'Automatique', 'Mail', 'Courrier', 'Répondeur',\n",
       "       'Venue client', 'NAN', 'Internet', 'Télé-alarme'], dtype=object)"
      ]
     },
     "execution_count": 140,
     "metadata": {},
     "output_type": "execute_result"
    }
   ],
   "source": [
    "train.ORIGINE_INCIDENT.unique()"
   ]
  },
  {
   "cell_type": "code",
   "execution_count": null,
   "metadata": {},
   "outputs": [],
   "source": [
    "origines = ['Téléphone', 'Automatique', 'Mail', 'Courrier', 'Répondeur','Venue client', 'NAN', 'Internet', 'Télé-alarme']\n",
    "df.loc[~df[\"ORIGINE_INCIDENT\"].isin(origines), \"ORIGINE_INCIDENT\"] = \"NAN\""
   ]
  },
  {
   "cell_type": "code",
   "execution_count": 142,
   "metadata": {},
   "outputs": [
    {
     "ename": "SyntaxError",
     "evalue": "invalid syntax (<ipython-input-142-52551974bea0>, line 1)",
     "output_type": "error",
     "traceback": [
      "\u001b[0;36m  File \u001b[0;32m\"<ipython-input-142-52551974bea0>\"\u001b[0;36m, line \u001b[0;32m1\u001b[0m\n\u001b[0;31m    train.ORIGINE_INCIDENT = 'NAN' if train.ORIGINE_INCIDENT not in ['Téléphone', 'Automatique', 'Mail', 'Courrier', 'Répondeur','Venue client', 'NAN', 'Internet', 'Télé-alarme']\u001b[0m\n\u001b[0m                                                                                                                                                                                  ^\u001b[0m\n\u001b[0;31mSyntaxError\u001b[0m\u001b[0;31m:\u001b[0m invalid syntax\n"
     ]
    }
   ],
   "source": [
    "train. = 'NAN' if train.ORIGINE_INCIDENT not in "
   ]
  },
  {
   "cell_type": "markdown",
   "metadata": {},
   "source": [
    "# More preproc to perform\n",
    "\n",
    "equipment: all codes_* to review\n"
   ]
  },
  {
   "cell_type": "code",
   "execution_count": null,
   "metadata": {
    "collapsed": true
   },
   "outputs": [],
   "source": [
    "# feature ingeneering on contracts:\n",
    "# dates: compute timedelta between update_date and creation_date\n",
    "# computation timedelta between creation_date and incident_creation_date"
   ]
  },
  {
   "cell_type": "code",
   "execution_count": 137,
   "metadata": {},
   "outputs": [
    {
     "data": {
      "text/plain": [
       "SECURITE*                    744162\n",
       "INTEGRAL***                  238742\n",
       "SERENITE                      38567\n",
       "ESSENTIEL P2                  22400\n",
       "MULTISERVICES                  2675\n",
       "Sécurité Pack Chauffage        1231\n",
       "SECURITE* 2V                    172\n",
       "SECURITE* CLIENT                 53\n",
       "ESSENTIEL CLIENT                 11\n",
       "Sécurité Pack Chaudière           6\n",
       "TRANQUILLITE PRO PAC CLIM         6\n",
       "TRANQUILLITE PRO GAZ 6/7          4\n",
       "Sécurité Pack Adou Client         1\n",
       "Name: FORMULE, dtype: int64"
      ]
     },
     "execution_count": 137,
     "metadata": {},
     "output_type": "execute_result"
    }
   ],
   "source": [
    "# group modalities in FORMULE\n",
    "train.FORMULE.value_counts()"
   ]
  },
  {
   "cell_type": "code",
   "execution_count": 94,
   "metadata": {},
   "outputs": [
    {
     "data": {
      "text/plain": [
       "NO                                                                                                   930053\n",
       "7/7                                                                                                   41586\n",
       "RAMONAGE GAZ                                                                                          19835\n",
       "RAMONAGE FIOUL                                                                                        17742\n",
       "Garantie G5/5                                                                                         12379\n",
       "Gicleur fioul / RAMONAGE FIOUL                                                                         5741\n",
       "RAMONAGE GAZ / 7/7                                                                                     4219\n",
       "Gicleur fioul                                                                                          3868\n",
       "Solaire Sécurité                                                                                       2133\n",
       "MULTISERVICES Ass. plomberie / MULTISERVICES Ramonage Gaz / MULTISERVICES 7J/7                         1905\n",
       "Module Plancher*** Securite P2                                                                         1344\n",
       "Garantie Locataire                                                                                     1204\n",
       "MULTISERVICES Ass. plomberie / MULTISERVICES 7J/7                                                       718\n",
       "RAMONAGE FIOUL / 7/7                                                                                    672\n",
       "Location vente / 7/7                                                                                    584\n",
       "Gicleur fioul / 7/7                                                                                     456\n",
       "Module Plancher*** Intégral P2 / Module Plancher*** Intégral P3                                         433\n",
       "Gicleur fioul / RAMONAGE FIOUL / 7/7                                                                    419\n",
       "Garantie G5/5 / 7/7                                                                                     374\n",
       "RAMONAGE DIVERS                                                                                         280\n",
       "Garantie G3/3                                                                                           259\n",
       "VMC sanitaire                                                                                           209\n",
       "Garantie Locataire / RAMONAGE GAZ                                                                       197\n",
       "Garantie G5/5 / RAMONAGE GAZ                                                                            150\n",
       "Pac option ECS SECURITE                                                                                 147\n",
       "RAMONAGE DIVERS / RAMONAGE FIOUL                                                                        144\n",
       "VMC gaz                                                                                                 128\n",
       "Solaire Sécurité / 7/7                                                                                  122\n",
       "VMC sanitaire / 7/7                                                                                      80\n",
       "Module Plancher*** Securite P2 / 7/7                                                                     63\n",
       "                                                                                                      ...  \n",
       "Garantie G5/5 / Gicleur fioul                                                                             8\n",
       "MULTISERVICES Ass. plomberie                                                                              7\n",
       "MULTISERVICES 7J/7                                                                                        7\n",
       "Gicleur fioul / RAMONAGE DIVERS / RAMONAGE FIOUL                                                          7\n",
       "Solaire Sécurité / VMC sanitaire                                                                          6\n",
       "Garantie Locataire / Solaire Sécurité                                                                     5\n",
       "Module Plancher*** Securite P2 / RAMONAGE FIOUL                                                           5\n",
       "MULTISERVICES Ramonage Gaz                                                                                5\n",
       "RAMONAGE FIOUL / VMC sanitaire                                                                            5\n",
       "Module Plancher*** Securite P2 / VMC gaz                                                                  4\n",
       "RAMONAGE FIOUL / Solaire Sécurité / 7/7                                                                   4\n",
       "MULTISERVICES Ramonage Gaz / MULTISERVICES 7J/7                                                           4\n",
       "Gicleur fioul / Module Plancher*** Securite P2 / RAMONAGE FIOUL                                           4\n",
       "RAMONAGE GAZ / VMC sanitaire                                                                              4\n",
       "Garantie G5/5 / RAMONAGE DIVERS                                                                           3\n",
       "Gicleur fioul / Module Plancher*** Securite P2                                                            3\n",
       "Pac rel. chaud. ESSENTIEL                                                                                 3\n",
       "Gicleur fioul / RAMONAGE DIVERS / RAMONAGE FIOUL / 7/7                                                    2\n",
       "MULTISERVICES Ass. plomberie / MULTISERVICES Ramonage Gaz                                                 2\n",
       "Pac option ECS SECURITE / Pac rel. chaud. SECURITE                                                        2\n",
       "RAMONAGE DIVERS / RAMONAGE FIOUL / 7/7                                                                    2\n",
       "Module Plancher*** Securite P2 / MULTISERVICES Ass. plomberie / MULTISERVICES 7J/7 / RAMONAGE GAZ         1\n",
       "Garantie G5/5 / RAMONAGE FIOUL                                                                            1\n",
       "Garantie G4/4                                                                                             1\n",
       "Garantie G5/5 / Module Plancher*** Securite P2                                                            1\n",
       "MULTISERVICES Ass. plomberie / 7/7                                                                        1\n",
       "MULTISERVICES Ass. plomberie / MULTISERVICES Ramonage Gaz / MULTISERVICES 7J/7 / 7/7                      1\n",
       "SERENITE 7J/7                                                                                             1\n",
       "MULTISERVICES Ass. plomberie / MULTISERVICES 7J/7 / 7/7                                                   1\n",
       "Garantie G3/3 / 7/7                                                                                       1\n",
       "Name: OPTION, Length: 80, dtype: int64"
      ]
     },
     "execution_count": 94,
     "metadata": {},
     "output_type": "execute_result"
    }
   ],
   "source": [
    "# complete rework of option (extract real options if possible)\n",
    "train.OPTION.value_counts()"
   ]
  },
  {
   "cell_type": "code",
   "execution_count": 102,
   "metadata": {},
   "outputs": [
    {
     "data": {
      "text/plain": [
       "SDUCW73TN00                  10086\n",
       "CMA6781031                    9027\n",
       "SDU0010007670                 8823\n",
       "SDUZZTHEMAC25E                8374\n",
       "CMANECTRA223CF                8069\n",
       "SDUDM73TN00                   7936\n",
       "SDUZZTHEMA C 23/24            7194\n",
       "SDUZZTHEMAPLUS C25/30E/EV     6773\n",
       "CMA200006762037               6585\n",
       "SDUCX73TN00                   6086\n",
       "SDUVF73TN00                   5739\n",
       "SDUIR52TN00                   5501\n",
       "SDUTHEMIS23                   5497\n",
       "SDUZZTHEMAPLUS F25E/F30E      5202\n",
       "CMACALYDRA23CF                4932\n",
       "SDUTHEMAC23E                  4918\n",
       "CMA6787031                    4792\n",
       "ELM7716705002                 4717\n",
       "CMA6781037                    4717\n",
       "CMA3650193                    4625\n",
       "SDUZZTHEMA F 23/24 E          4534\n",
       "SDUQB44TN00                   4522\n",
       "SDU223C                       4382\n",
       "SDUCK70TN00                   4215\n",
       "SDUDN73TN00                   4189\n",
       "SDUZZTHEMA F25 E/ F30 E       4128\n",
       "CMA223731                     3686\n",
       "SDU0010007671                 3684\n",
       "CMANIAGARA28FFNAT             3614\n",
       "ELMGLM520NAT                  3509\n",
       "                             ...  \n",
       "VAIMAG320NAT                     1\n",
       "ACL350002                        1\n",
       "FAGFBG-300N                      1\n",
       "CMA3010469                       1\n",
       "VIEGS20477                       1\n",
       "ISTZZGAZINA 1 +BAL               1\n",
       "VIEWHKB044                       1\n",
       "SDU0010010021                    1\n",
       "BOS7738100709                    1\n",
       "CHAZZSLIM22                      1\n",
       "CMARSC220                        1\n",
       "AIRZZGENERATEUR 70 KW            1\n",
       "VIEVB2AD63                       1\n",
       "DDI100018134                     1\n",
       "CMACEL220RSC                     1\n",
       "STY3507122                       1\n",
       "CMA220                           1\n",
       "CMA6762036                       1\n",
       "CMA3070239                       1\n",
       "CMA3089056                       1\n",
       "CMA1892941                       1\n",
       "VIEGS20465                       1\n",
       "FUJZZQ5RZP                       1\n",
       "VAI001005657                     1\n",
       "CHAC1MPB08MN                     1\n",
       "TRE67000                         1\n",
       "MITMSZ-DM35VA                    1\n",
       "VAI0010008805                    1\n",
       "ACV05652301                      1\n",
       "BOS7716842195                    1\n",
       "Name: MODELE_CODE, Length: 10205, dtype: int64"
      ]
     },
     "execution_count": 102,
     "metadata": {},
     "output_type": "execute_result"
    }
   ],
   "source": [
    "# create a other modality for rare codes\n",
    "train.MODELE_CODE.value_counts()"
   ]
  },
  {
   "cell_type": "code",
   "execution_count": 104,
   "metadata": {},
   "outputs": [
    {
     "data": {
      "text/plain": [
       "SAUNIER DUVAL           247116\n",
       "CHAFFOTEAUX ET MAURY    208610\n",
       "ELM LEBLANC             122434\n",
       "DE DIETRICH              74107\n",
       "VIESSMANN                59747\n",
       "FRISQUET                 51937\n",
       "CHAPPEE                  49607\n",
       "VAILLANT                 24817\n",
       "FRANCO BELGE             18420\n",
       "IDEAL STANDARD           16926\n",
       "ATLANTIC                 14852\n",
       "GEMINOX                  14051\n",
       "FERROLI                  11941\n",
       "DEVILLE                   9157\n",
       "BUDERUS                   7268\n",
       "DAIKIN                    7197\n",
       "RIELLO                    6975\n",
       "REPRISE                   6583\n",
       "AUER                      6082\n",
       "UNICAL                    5963\n",
       "CHAUFFAGE FRANCAIS        5097\n",
       "MTS                       4450\n",
       "ACV                       4000\n",
       "MITSUBISHI                3950\n",
       "TECHNIBEL                 3466\n",
       "OERTLI                    3392\n",
       "STYX                      3208\n",
       "HITACHI                   3204\n",
       "AUTRES                    2748\n",
       "GUILLOT                   2102\n",
       "                         ...  \n",
       "SFCP                        14\n",
       "PIAZZETTO                   14\n",
       "DELEAGE                     13\n",
       "BAXI                        13\n",
       "VIESMANN                    11\n",
       "VIVRALIS                    11\n",
       "ASSISTEAUX                  11\n",
       "HELIOPAC                     9\n",
       "COMAP                        9\n",
       "EDILKAMIN                    8\n",
       "VAP                          7\n",
       "JETTO                        7\n",
       "MCZ                          6\n",
       "REXEL                        5\n",
       "FABRE                        5\n",
       "CTA                          4\n",
       "SOFINTHER                    4\n",
       "RHONELEC                     4\n",
       "NORTH STAR                   4\n",
       "ELCO                         3\n",
       "AIRELEC                      3\n",
       "STOVE ITALY                  3\n",
       "NOIROT                       2\n",
       "SALVA ECLAIR                 2\n",
       "LACAZE ENERGIE               2\n",
       "GRETEL                       2\n",
       "CYBELE MAIA NATURE           1\n",
       "DELMO                        1\n",
       "HAMMEL                       1\n",
       "CHAROT                       1\n",
       "Name: MARQUE_LIB, Length: 166, dtype: int64"
      ]
     },
     "execution_count": 104,
     "metadata": {},
     "output_type": "execute_result"
    }
   ],
   "source": [
    "# Create a modality other for brands with low occurance\n",
    "train.MARQUE_LIB.value_counts()"
   ]
  },
  {
   "cell_type": "code",
   "execution_count": 113,
   "metadata": {},
   "outputs": [
    {
     "data": {
      "text/plain": [
       "36927    41255\n",
       "1553     10473\n",
       "1903      9664\n",
       "1711      7693\n",
       "7637      6864\n",
       "8212      6712\n",
       "24876     6618\n",
       "3851      6615\n",
       "24612     6169\n",
       "1624      6123\n",
       "2175      5742\n",
       "6657      5403\n",
       "1740      5351\n",
       "4573      5248\n",
       "2402      5211\n",
       "10118     5206\n",
       "15162     5170\n",
       "2279      5099\n",
       "9821      5047\n",
       "5771      5025\n",
       "7624      5015\n",
       "2443      5014\n",
       "7897      4987\n",
       "6396      4905\n",
       "7895      4836\n",
       "6120      4725\n",
       "1738      4633\n",
       "3870      4555\n",
       "1709      4515\n",
       "10258     4483\n",
       "         ...  \n",
       "40888        1\n",
       "9148         1\n",
       "35240        1\n",
       "42925        1\n",
       "26643        1\n",
       "31665        1\n",
       "31177        1\n",
       "10188        1\n",
       "27161        1\n",
       "27167        1\n",
       "40897        1\n",
       "27168        1\n",
       "10292        1\n",
       "24632        1\n",
       "35180        1\n",
       "28014        1\n",
       "36023        1\n",
       "42079        1\n",
       "18791        1\n",
       "17487        1\n",
       "24432        1\n",
       "34900        1\n",
       "44576        1\n",
       "41877        1\n",
       "40019        1\n",
       "38292        1\n",
       "37790        1\n",
       "10120        1\n",
       "35200        1\n",
       "26637        1\n",
       "Name: AUTEUR_INCIDENT, Length: 2088, dtype: int64"
      ]
     },
     "execution_count": 113,
     "metadata": {},
     "output_type": "execute_result"
    }
   ],
   "source": [
    "#create a other category on auteur incident (feature engineering mb, like more than 1000 vs less ?)\n",
    "train.AUTEUR_INCIDENT.value_counts()\n",
    "#same on RESOURCE_ID"
   ]
  },
  {
   "cell_type": "code",
   "execution_count": null,
   "metadata": {},
   "outputs": [],
   "source": []
  }
 ],
 "metadata": {
  "kernelspec": {
   "display_name": "Python [conda env:py3]",
   "language": "python",
   "name": "conda-env-py3-py"
  },
  "language_info": {
   "codemirror_mode": {
    "name": "ipython",
    "version": 3
   },
   "file_extension": ".py",
   "mimetype": "text/x-python",
   "name": "python",
   "nbconvert_exporter": "python",
   "pygments_lexer": "ipython3",
   "version": "3.6.3"
  }
 },
 "nbformat": 4,
 "nbformat_minor": 2
}
