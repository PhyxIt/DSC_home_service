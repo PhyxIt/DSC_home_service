{
 "cells": [
  {
   "cell_type": "code",
   "execution_count": 2,
   "metadata": {},
   "outputs": [],
   "source": [
    "import pandas as pd\n",
    "import numpy as np\n",
    "import re\n",
    "import datetime\n",
    "import csv"
   ]
  },
  {
   "cell_type": "code",
   "execution_count": 3,
   "metadata": {},
   "outputs": [
    {
     "data": {
      "text/html": [
       "<style>.container { width:80% !important; }</style>"
      ],
      "text/plain": [
       "<IPython.core.display.HTML object>"
      ]
     },
     "metadata": {},
     "output_type": "execute_result"
    }
   ],
   "source": [
    "from IPython.core.display import display, HTML\n",
    "display(HTML(\"<style>.container { width:80% !important; }</style>\"))"
   ]
  },
  {
   "cell_type": "code",
   "execution_count": 4,
   "metadata": {},
   "outputs": [],
   "source": [
    "pd.set_option(\"display.max_columns\", 70)\n",
    "pd.set_option(\"display.max_rows\", 400)"
   ]
  },
  {
   "cell_type": "markdown",
   "metadata": {},
   "source": [
    "## Chargement des données"
   ]
  },
  {
   "cell_type": "code",
   "execution_count": 5,
   "metadata": {},
   "outputs": [],
   "source": [
    "orga_df = pd.read_csv('data/cleaned/organisation.csv',\n",
    "                      sep='|',\n",
    "                      encoding='Latin-1')"
   ]
  },
  {
   "cell_type": "code",
   "execution_count": 6,
   "metadata": {
    "scrolled": true
   },
   "outputs": [
    {
     "name": "stderr",
     "output_type": "stream",
     "text": [
      "/home/ubuntu/anaconda3/lib/python3.6/site-packages/IPython/core/interactiveshell.py:2785: DtypeWarning: Columns (17) have mixed types. Specify dtype option on import or set low_memory=False.\n",
      "  interactivity=interactivity, compiler=compiler, result=result)\n"
     ]
    }
   ],
   "source": [
    "equipement_df = pd.read_csv('data/cleaned/equipment.csv',\n",
    "                           sep='|',\n",
    "                           encoding='Latin-1', parse_dates=['INSTALL_DATE', 'RACHAT_DATE'])"
   ]
  },
  {
   "cell_type": "code",
   "execution_count": 9,
   "metadata": {},
   "outputs": [
    {
     "name": "stderr",
     "output_type": "stream",
     "text": [
      "/home/ubuntu/anaconda3/lib/python3.6/site-packages/IPython/core/interactiveshell.py:2785: DtypeWarning: Columns (18) have mixed types. Specify dtype option on import or set low_memory=False.\n",
      "  interactivity=interactivity, compiler=compiler, result=result)\n"
     ]
    }
   ],
   "source": [
    "contrat_history_df = pd.read_csv('data/processed/contract_history.csv',\n",
    "                           sep='|',\n",
    "                           encoding='Latin-1', parse_dates=['CRE_DATE', 'UPD_DATE', 'DATE_RESILIATION', 'DATE_DEBUT', 'DATE_FIN'])"
   ]
  },
  {
   "cell_type": "code",
   "execution_count": 10,
   "metadata": {},
   "outputs": [],
   "source": [
    "for c in ['CRE_DATE', 'UPD_DATE']:\n",
    "    contrat_history_df['{}_date'.format(c)] = pd.to_datetime(contrat_history_df[c].map(lambda x: datetime.datetime.date(x)))"
   ]
  },
  {
   "cell_type": "code",
   "execution_count": 11,
   "metadata": {},
   "outputs": [],
   "source": [
    "contrat_instance = contrat_history_df[['CONTRACT_NUMBER', 'INSTANCE_ID']].drop_duplicates()"
   ]
  },
  {
   "cell_type": "code",
   "execution_count": 12,
   "metadata": {},
   "outputs": [
    {
     "name": "stdout",
     "output_type": "stream",
     "text": [
      "(226770, 19) 226770 226770\n"
     ]
    }
   ],
   "source": [
    "intervention_test_df = pd.read_csv('data/final/intervention_test.csv',                              \n",
    "                           sep='|',\n",
    "                           encoding='Latin-1',\n",
    "                           parse_dates=['SCHEDULED_START_DATE', 'SCHEDULED_END_DATE', 'CRE_DATE_GZL'])\n",
    "print(intervention_test_df.shape, intervention_test_df.INCIDENT_NUMBER.nunique(), intervention_test_df.INSTANCE_ID.nunique())"
   ]
  },
  {
   "cell_type": "code",
   "execution_count": 13,
   "metadata": {},
   "outputs": [
    {
     "name": "stdout",
     "output_type": "stream",
     "text": [
      "(1048030, 20) 1048030 462663\n"
     ]
    }
   ],
   "source": [
    "intervention_train_df = pd.read_csv('data/final/intervention_train.csv',                              \n",
    "                           sep='|',\n",
    "                           encoding='Latin-1',\n",
    "                           parse_dates=['SCHEDULED_START_DATE', 'SCHEDULED_END_DATE', 'CRE_DATE_GZL'])\n",
    "print(intervention_train_df.shape, intervention_train_df.INCIDENT_NUMBER.nunique(), intervention_train_df.INSTANCE_ID.nunique())"
   ]
  },
  {
   "cell_type": "code",
   "execution_count": 14,
   "metadata": {},
   "outputs": [
    {
     "name": "stdout",
     "output_type": "stream",
     "text": [
      "(5171308, 30) 5171308 795394\n"
     ]
    }
   ],
   "source": [
    "intervention_history_df = pd.read_csv('data/processed/intervention_history.csv',                              \n",
    "                           sep='|',\n",
    "                           encoding='Latin-1',\n",
    "                           parse_dates=['DATE_SAISIE_RETOUR', 'SCHEDULED_START_DATE', 'SCHEDULED_END_DATE', 'ACTUAL_START_DATE', 'ACTUAL_END_DATE', 'CRE_DATE_GZL'])\n",
    "print(intervention_history_df.shape, intervention_history_df.INCIDENT_NUMBER.nunique(), intervention_history_df.INSTANCE_ID.nunique())"
   ]
  },
  {
   "cell_type": "code",
   "execution_count": 15,
   "metadata": {},
   "outputs": [],
   "source": [
    "test_target = pd.read_csv('data/final/private_test_target.csv', sep='|',  encoding='Latin-1')"
   ]
  },
  {
   "cell_type": "code",
   "execution_count": 16,
   "metadata": {},
   "outputs": [],
   "source": [
    "nature_code_eau_chaude = pd.read_csv('data/final/nature_code_eau_chaude.csv', sep='|', encoding='Latin-1')"
   ]
  },
  {
   "cell_type": "code",
   "execution_count": 17,
   "metadata": {},
   "outputs": [],
   "source": [
    "nature_code_energie = pd.read_csv('data/final/nature_code_energie.csv', sep='|', encoding='Latin-1')"
   ]
  },
  {
   "cell_type": "code",
   "execution_count": 18,
   "metadata": {},
   "outputs": [],
   "source": [
    "nature_code_fonction = pd.read_csv('data/final/nature_code_fonction.csv', sep='|', encoding='Latin-1')"
   ]
  },
  {
   "cell_type": "code",
   "execution_count": 19,
   "metadata": {},
   "outputs": [],
   "source": [
    "nature_code_installation = pd.read_csv('data/final/nature_code_installation.csv', sep='|', encoding='Latin-1')"
   ]
  },
  {
   "cell_type": "code",
   "execution_count": 20,
   "metadata": {},
   "outputs": [],
   "source": [
    "nature_code_specification = pd.read_csv('data/final/nature_code_specification.csv', sep='|', encoding='Latin-1')"
   ]
  },
  {
   "cell_type": "markdown",
   "metadata": {},
   "source": [
    "# Préparation des X_test et X_train"
   ]
  },
  {
   "cell_type": "code",
   "execution_count": 21,
   "metadata": {},
   "outputs": [],
   "source": [
    "weekf = lambda x: x.isocalendar()[1]\n",
    "dayf = lambda x: x.isocalendar()[2]"
   ]
  },
  {
   "cell_type": "code",
   "execution_count": 22,
   "metadata": {},
   "outputs": [],
   "source": [
    "from sklearn import preprocessing\n",
    "from sklearn.ensemble import RandomForestClassifier\n",
    "from sklearn.metrics import roc_auc_score\n",
    "from sklearn.model_selection import train_test_split"
   ]
  },
  {
   "cell_type": "code",
   "execution_count": 23,
   "metadata": {},
   "outputs": [],
   "source": [
    "def prepare_data(data_):\n",
    "    data = data_.merge(equipement_df, how='left', on='INSTANCE_ID').merge(orga_df, how='left', left_on='ORGANISATION_ID', right_on='L2_ORGANISATION_ID')\n",
    "    contrat_history_s = data[['INCIDENT_NUMBER', 'INSTANCE_ID','CRE_DATE_GZL']].merge(contrat_history_df).query('CRE_DATE_GZL>=UPD_DATE_date')\n",
    "    contrat_history_s = contrat_history_s.sort_values(['INCIDENT_NUMBER', 'UPD_DATE'], ascending=[True,False]).drop_duplicates(keep='first', subset=['INCIDENT_NUMBER'])\n",
    "    data = data.merge(contrat_history_s, how='left').merge(nature_code_eau_chaude, how='left')\n",
    "    data = data.merge(nature_code_energie, how='left').merge(nature_code_fonction, how='left')\n",
    "    data = data.merge(nature_code_installation, how='left').merge(nature_code_specification, how='left')\n",
    "    print(data.shape[0], data.INCIDENT_NUMBER.nunique(), data.INSTANCE_ID.nunique())\n",
    "    return data"
   ]
  },
  {
   "cell_type": "code",
   "execution_count": 24,
   "metadata": {},
   "outputs": [],
   "source": [
    "drop_columns = ['CRE_DATE_date', 'UPD_DATE_date']"
   ]
  },
  {
   "cell_type": "code",
   "execution_count": 25,
   "metadata": {},
   "outputs": [
    {
     "name": "stdout",
     "output_type": "stream",
     "text": [
      "1048030 1048030 462663\n"
     ]
    }
   ],
   "source": [
    "train_data = prepare_data(intervention_train_df).drop(drop_columns, axis=1)"
   ]
  },
  {
   "cell_type": "code",
   "execution_count": 26,
   "metadata": {},
   "outputs": [
    {
     "name": "stdout",
     "output_type": "stream",
     "text": [
      "226770 226770 226770\n"
     ]
    }
   ],
   "source": [
    "test_data = prepare_data(intervention_test_df).drop(drop_columns, axis=1)"
   ]
  },
  {
   "cell_type": "code",
   "execution_count": 27,
   "metadata": {},
   "outputs": [],
   "source": [
    "date_field = 'CRE_DATE_GZL'"
   ]
  },
  {
   "cell_type": "code",
   "execution_count": 28,
   "metadata": {},
   "outputs": [],
   "source": [
    "date_columns = ['INSTALL_DATE', 'RACHAT_DATE', 'SCHEDULED_START_DATE', 'SCHEDULED_END_DATE', 'CRE_DATE', 'UPD_DATE', 'DATE_DEBUT', 'DATE_FIN', 'DATE_RESILIATION']\n",
    "date_delta_colums = [['SCHEDULED_START_DATE', 'SCHEDULED_END_DATE'],]"
   ]
  },
  {
   "cell_type": "code",
   "execution_count": 30,
   "metadata": {
    "scrolled": true
   },
   "outputs": [],
   "source": [
    "def prepare_X(data):\n",
    "    # type: (object) -> object\n",
    "    X = data[[c for c in data.columns if 'visite' not in c]]\n",
    "\n",
    "    for i,c in enumerate(date_delta_colums):\n",
    "        X['date_delta_{}'.format(i)] = (X[c[1]] - X[c[0]]).dt.days\n",
    "\n",
    "    for c in data.columns:\n",
    "        if c != date_field and c in date_columns:\n",
    "            X[c] = (X[c] - X[date_field]).dt.days\n",
    "\n",
    "    X['WEEK'] = X[date_field].map(weekf)\n",
    "    X['DAY'] = X[date_field].map(dayf)\n",
    "    X.drop(date_field, axis=1, inplace=True)\n",
    "\n",
    "    to_label = []\n",
    "    for c in [k for k,v in X.dtypes.to_dict().items() if v=='object']:\n",
    "        try:\n",
    "            X[c] = pd.to_numeric(X[c])\n",
    "            print(c)\n",
    "        except:\n",
    "            to_label.append(c)\n",
    "\n",
    "    for c in to_label:\n",
    "        le = preprocessing.LabelEncoder()\n",
    "        X[c] = le.fit_transform(X[c].astype(str))\n",
    "\n",
    "    print(X.dtypes.unique())\n",
    "\n",
    "    return X.fillna(-1)"
   ]
  },
  {
   "cell_type": "code",
   "execution_count": 31,
   "metadata": {},
   "outputs": [
    {
     "name": "stdout",
     "output_type": "stream",
     "text": [
      "CODE_POSTAL\n",
      "CODE_ENERGIE\n",
      "ORGANIZATION_CODE\n",
      "NUM_CAMPAGNE\n",
      "[dtype('int64') dtype('float64')]\n"
     ]
    }
   ],
   "source": [
    "X_train = prepare_X(train_data.drop('target', axis=1))"
   ]
  },
  {
   "cell_type": "code",
   "execution_count": 32,
   "metadata": {},
   "outputs": [
    {
     "name": "stdout",
     "output_type": "stream",
     "text": [
      "CODE_POSTAL\n",
      "CODE_ENERGIE\n",
      "ORGANIZATION_CODE\n",
      "NUM_CAMPAGNE\n",
      "[dtype('int64') dtype('float64')]\n"
     ]
    }
   ],
   "source": [
    "X_test = prepare_X(test_data)"
   ]
  },
  {
   "cell_type": "markdown",
   "metadata": {},
   "source": [
    "# Modèle"
   ]
  },
  {
   "cell_type": "code",
   "execution_count": 33,
   "metadata": {},
   "outputs": [],
   "source": [
    "rf = RandomForestClassifier(n_estimators=100, max_depth=20, n_jobs=-1)"
   ]
  },
  {
   "cell_type": "code",
   "execution_count": 34,
   "metadata": {},
   "outputs": [
    {
     "data": {
      "text/plain": [
       "RandomForestClassifier(bootstrap=True, class_weight=None, criterion='gini',\n",
       "            max_depth=20, max_features='auto', max_leaf_nodes=None,\n",
       "            min_impurity_decrease=0.0, min_impurity_split=None,\n",
       "            min_samples_leaf=1, min_samples_split=2,\n",
       "            min_weight_fraction_leaf=0.0, n_estimators=100, n_jobs=-1,\n",
       "            oob_score=False, random_state=None, verbose=0,\n",
       "            warm_start=False)"
      ]
     },
     "execution_count": 34,
     "metadata": {},
     "output_type": "execute_result"
    }
   ],
   "source": [
    "rf.fit(X_train, train_data['target'])"
   ]
  },
  {
   "cell_type": "code",
   "execution_count": 35,
   "metadata": {},
   "outputs": [],
   "source": [
    "predictions = rf.predict_proba(X_test)[:,1]"
   ]
  },
  {
   "cell_type": "code",
   "execution_count": 36,
   "metadata": {},
   "outputs": [
    {
     "data": {
      "text/plain": [
       "0.7210125800276627"
      ]
     },
     "execution_count": 36,
     "metadata": {},
     "output_type": "execute_result"
    }
   ],
   "source": [
    "roc_auc_score(test_target, predictions)"
   ]
  },
  {
   "cell_type": "markdown",
   "metadata": {},
   "source": [
    "# Feature ranking"
   ]
  },
  {
   "cell_type": "code",
   "execution_count": 33,
   "metadata": {},
   "outputs": [
    {
     "name": "stdout",
     "output_type": "stream",
     "text": [
      "Feature ranking:\n",
      "1. feature NB_PASSAGE (0.065637)\n",
      "2. feature INCIDENT_TYPE_NAME (0.047651)\n",
      "3. feature INCIDENT_TYPE_ID (0.042017)\n",
      "4. feature COMMENTAIRE_BI (0.035492)\n",
      "5. feature SCHEDULED_END_DATE (0.033230)\n",
      "6. feature GRAVITE (0.030845)\n",
      "7. feature TYPE_BI (0.028783)\n",
      "8. feature SCHEDULED_START_DATE (0.025776)\n",
      "9. feature INSTALL_DATE (0.022583)\n",
      "10. feature INCIDENT_NUMBER (0.021888)\n",
      "11. feature TYPE_UT (0.020554)\n",
      "12. feature RUE (0.019418)\n",
      "13. feature PARTY_ID_OCC (0.019333)\n",
      "14. feature MILLESIME (0.019017)\n",
      "15. feature LOCATION_ID (0.018585)\n",
      "16. feature RESOURCE_ID (0.018558)\n",
      "17. feature CONTRACT_NUMBER (0.018429)\n",
      "18. feature PRIX_FACTURE (0.018362)\n",
      "19. feature INSTANCE_ID (0.018212)\n",
      "20. feature CRE_DATE (0.018115)\n"
     ]
    }
   ],
   "source": [
    "import numpy as np\n",
    "importances = rf.feature_importances_\n",
    "indices = np.argsort(importances)[::-1]\n",
    "# Print the feature ranking\n",
    "print(\"Feature ranking:\")\n",
    "for f in range(20):\n",
    "    print(\"%d. feature %s (%f)\" % (f + 1, X_test.columns[indices[f]], importances[indices[f]]))"
   ]
  },
  {
   "cell_type": "markdown",
   "metadata": {},
   "source": [
    "# Ecriture de la prediction benchmark"
   ]
  },
  {
   "cell_type": "code",
   "execution_count": 34,
   "metadata": {},
   "outputs": [],
   "source": [
    "#pd.DataFrame(predictions).to_csv('data/final/benchmark_submission.csv', sep=\"|\", quoting=csv.QUOTE_NONNUMERIC, encoding='latin1', index=False)"
   ]
  },
  {
   "cell_type": "markdown",
   "metadata": {},
   "source": [
    "# Modèle à l'interieur du dataset de train, pour vérifier qu'il n'y a pas de biais entre test et train"
   ]
  },
  {
   "cell_type": "code",
   "execution_count": 35,
   "metadata": {
    "collapsed": true
   },
   "outputs": [
    {
     "name": "stderr",
     "output_type": "stream",
     "text": [
      "/home/ubuntu/anaconda3/lib/python3.6/site-packages/pandas/core/frame.py:3035: SettingWithCopyWarning: \n",
      "A value is trying to be set on a copy of a slice from a DataFrame\n",
      "\n",
      "See the caveats in the documentation: http://pandas.pydata.org/pandas-docs/stable/indexing.html#indexing-view-versus-copy\n",
      "  downcast=downcast, **kwargs)\n"
     ]
    },
    {
     "data": {
      "text/plain": [
       "0.7369438332706875"
      ]
     },
     "execution_count": 35,
     "metadata": {},
     "output_type": "execute_result"
    }
   ],
   "source": [
    "X_train_, X_test_, y_train_, y_test_ = train_test_split(X_train, train_data['target'], test_size=0.33, random_state=42)\n",
    "X_train_.fillna(-1, inplace=True)\n",
    "X_test_.fillna(-1, inplace=True)\n",
    "rf.fit(X_train_, y_train_)\n",
    "predictions_ = rf.predict_proba(X_test_)[:,1]\n",
    "roc_auc_score(y_test_, predictions_)"
   ]
  },
  {
   "cell_type": "markdown",
   "metadata": {},
   "source": [
    "# FIN"
   ]
  }
 ],
 "metadata": {
  "kernelspec": {
   "display_name": "Python [conda env:anaconda3]",
   "language": "python",
   "name": "conda-env-anaconda3-py"
  },
  "language_info": {
   "codemirror_mode": {
    "name": "ipython",
    "version": 3
   },
   "file_extension": ".py",
   "mimetype": "text/x-python",
   "name": "python",
   "nbconvert_exporter": "python",
   "pygments_lexer": "ipython3",
   "version": "3.6.4"
  }
 },
 "nbformat": 4,
 "nbformat_minor": 2
}
